{
 "cells": [
  {
   "cell_type": "markdown",
   "metadata": {
    "slideshow": {
     "slide_type": "slide"
    }
   },
   "source": [
    "# 3. 간단한 그림을 그리면서 변수와 함수이해하기\n",
    "\n",
    "## 4.1 학습내용\n",
    "\n",
    "### 4.1.1 목표\n",
    "\n",
    "* 지난 학습 - 변수, 함수\n",
    "    * 변수\n",
    "        * 수첩과 같이 저장해서 다시 사용하려는 의도 (재사용)\n",
    "        * 실제 값을 사용하기 보다는 변수를 사용하는 것이 재사용을 많이 할 수 있게 한다 (일반화 또는 추상화).\n",
    "            * 조그만 사각형, 큰 사각형을 하나의 함수로 처리하려면 변수를 사용해야 한다.\n",
    "    * 함수\n",
    "        * argument(함수를 만들 때)와 parameter (함수를 호출할 때)\n",
    "        * 지역변수를 돌려주는 경우 return을 사용한다.\n",
    "    * 함수와 변수\n",
    "        * 지역변수는 함수부에서만 (들여쓰기 한 부분에서만) 의미가 있다. 함수부를 벗어나면 파괴된다.\n",
    "        * 전역변수는 어느 곳에서나 사용할 수 있다.\n",
    "    \n",
    "* 이번 학습에서는 변수에 따라 프로그래밍의 흐름을 제어하는 조건, 반복을 사용할 수 있게 함.\n",
    "    * choice 의사결정\n",
    "    * loop 반복\n",
    "\n",
    "* 제어흐름은 다이어그램으로 표현하면 이해하기 쉽다. Activity Diagram을 사용한다.\n",
    "\n",
    "### 4.1.2 문제\n",
    "\n",
    "* 제어-1 도형 그리기 (반복)\n",
    "* 제어-2 사용자 입력을 받아서 해당하는 도형을 그리기 (사용자 입력을 if문 처리)\n",
    "* 제어-3 바람개비 도형 그리기 (if문 사용)\n",
    "\n",
    "## 3.1 개요\n",
    "\n",
    "* 변수\n",
    "    * 변수는 값을 저장하여 다시 사용하게 해 준다.\n",
    "* 함수\n",
    "    * 함수는 명령어를 만드는 것이다.\n",
    "    * 함수는 중복된 문장을 제거해서 다시 사용하게 해준다.\n",
    "* 재사용과 일반화\n",
    "    * 변수와 함수의 경우와 같이 프로그래밍에 있어 '재사용'은 매우 중요하다.\n",
    "    * '재사용'할 경우, 재사용되는 경우가 많아지도록 한다. 이를 일반화(추상화)라고 한다.\n",
    "\n",
    "## 3.2 한글 자음 그려보기\n",
    "\n",
    "### 3.2.1 간단한 한글 자음 그려보기\n",
    "\n",
    "* home() 위치는 전체 화면의 중앙이다.\n",
    "* clear()는 화면에 어떤 내용이 있다면, 깨끗하게 지운다."
   ]
  },
  {
   "cell_type": "code",
   "execution_count": null,
   "metadata": {
    "collapsed": true
   },
   "outputs": [],
   "source": [
    "# 홈에서 시작\n",
    "t1.home()\n",
    "t1.clear()"
   ]
  },
  {
   "cell_type": "markdown",
   "metadata": {},
   "source": [
    "* 철자 '기역'을 그린다.\n",
    "* fd(100)은 앞으로 100만큼 선을 그린다. 100은 화면의 화소 수를 말한다.\n",
    "* right(90)은 우측으로 90도 이동한다. 거북이의 방향이 처음 0의 위치에 있었다. 변화를 살펴본다."
   ]
  },
  {
   "cell_type": "code",
   "execution_count": null,
   "metadata": {
    "collapsed": true
   },
   "outputs": [],
   "source": [
    "# ㄱ\n",
    "t1.fd(100)\n",
    "t1.right(90)\n",
    "t1.fd(100)"
   ]
  },
  {
   "cell_type": "markdown",
   "metadata": {},
   "source": [
    "* 철자 '니은'을 그린다.\n",
    "* 철자 '기역'과는 모양은 같지만, 놓여진 방향이 다르다.\n",
    "* 방향이 왼쪽으로 그린다.\n",
    "* 철자 '니은'은 철자 '기역'에 이어서 그렸다.\n",
    "* 위치를 지정해서 그리는 것은 다음에 기능을 배운다."
   ]
  },
  {
   "cell_type": "code",
   "execution_count": null,
   "metadata": {
    "collapsed": true
   },
   "outputs": [],
   "source": [
    "# ㄴ\n",
    "t1.fd(100)\n",
    "t1.left(90)\n",
    "t1.fd(100)"
   ]
  },
  {
   "cell_type": "markdown",
   "metadata": {},
   "source": [
    "* 철자 '디귿'은 이어서 그리려면 역방향으로 선을 그려야 한다.\n",
    "* 그리고 방향을 전환하고, 직진, 좌향, 직진으로 완성한다."
   ]
  },
  {
   "cell_type": "code",
   "execution_count": null,
   "metadata": {
    "collapsed": true
   },
   "outputs": [],
   "source": [
    "# ㄷ\n",
    "t1.back(100)\n",
    "t1.right(90)\n",
    "t1.fd(100)\n",
    "t1.left(90)\n",
    "t1.fd(100)"
   ]
  },
  {
   "cell_type": "code",
   "execution_count": null,
   "metadata": {
    "collapsed": true
   },
   "outputs": [],
   "source": [
    "* 철자 '리을'을 그린다."
   ]
  },
  {
   "cell_type": "code",
   "execution_count": 8,
   "metadata": {
    "collapsed": true,
    "slideshow": {
     "slide_type": "slide"
    }
   },
   "outputs": [],
   "source": [
    "# ㄹ\n",
    "t1.home()\n",
    "t1.fd(100)\n",
    "t1.right(90)\n",
    "t1.fd(50)\n",
    "t1.right(90)\n",
    "t1.fd(100)\n",
    "t1.left(90)\n",
    "t1.fd(50)\n",
    "t1.left(90)\n",
    "t1.fd(100)"
   ]
  },
  {
   "cell_type": "markdown",
   "metadata": {},
   "source": [
    "* 변수\n",
    "    * 수첩과 같이 저장해서 다시 사용하려는 의도 (재사용)\n",
    "    * 실제 값을 사용하기 보다는 변수를 사용하는 것이 재사용을 많이 할 수 있게 한다 (일반화 또는 추상화).\n",
    "        * 조그만 사각형, 큰 사각형을 하나의 함수로 처리하려면 변수를 사용해야 한다.\n",
    "* 함수\n",
    "    * argument(함수를 만들 때)와 parameter (함수를 호출할 때)\n",
    "    * 지역변수를 돌려주는 경우 return을 사용한다.\n",
    "* 함수와 변수\n",
    "    * 지역변수는 함수부에서만 (들여쓰기 한 부분에서만) 의미가 있다. 함수부를 벗어나면 파괴된다.\n",
    "    * 전역변수는 어느 곳에서나 사용할 수 있다."
   ]
  },
  {
   "cell_type": "markdown",
   "metadata": {
    "collapsed": true
   },
   "source": [
    "### 3.2.2 변수를 이용해서 크기를 변경하기\n",
    "\n",
    "* 변수에 기본 위치를 저장하고\n",
    "* 반으로 줄여보기\n",
    "* 배로 늘려보기\n",
    "\n",
    "* 변수\n",
    "    * 값을 저장하는 것에 대한 이름.\n",
    "    * 값은 숫자, 문자를 갖음\n",
    "        * 숫자는 정수, 소수\n",
    "        * 문자는 문자 하나, 문자열\n",
    "        * 그 외 여러 변수형이 있지만 다음에 배우기로 하자."
   ]
  },
  {
   "cell_type": "code",
   "execution_count": 10,
   "metadata": {
    "collapsed": true,
    "slideshow": {
     "slide_type": "slide"
    }
   },
   "outputs": [],
   "source": [
    "# 홈으로 가서 지우고\n",
    "t1.home()\n",
    "t1.clear()\n",
    "\n",
    "# ㄱ에 관해.\n",
    "# 크기를 줄여보기\n",
    "t1.fd(50)\n",
    "t1.right(90)\n",
    "t1.fd(50)\n",
    "\n",
    "# 크기를 2배\n",
    "t1.home()\n",
    "t1.clear()\n",
    "t1.fd(200)\n",
    "t1.right(90)\n",
    "t1.fd(200)\n",
    "\n",
    "# 변수를 이용해서 크기\n",
    "t1.home()\n",
    "t1.clear()\n",
    "size=100\n",
    "t1.fd(size)\n",
    "t1.right(90)\n",
    "t1.fd(size)"
   ]
  },
  {
   "cell_type": "markdown",
   "metadata": {
    "slideshow": {
     "slide_type": "slide"
    }
   },
   "source": [
    "* 변수의 데이터형을 이해해보기\n",
    "    * 왜 같은 수로 나누고 곱해도 다른 값?\n",
    "    * size=50일 경우 size/3*3은 왜 48일까?\n",
    "* 정수형의 연산은 정수형으로 결과\n",
    "* 소수와 정수가 같이 있는 경우는 큰 데이터형으로 결과\n",
    "    * 50/3 = 16\n",
    "    * 50/3. = 16.666"
   ]
  },
  {
   "cell_type": "code",
   "execution_count": 11,
   "metadata": {
    "collapsed": false
   },
   "outputs": [
    {
     "name": "stdout",
     "output_type": "stream",
     "text": [
      "25\n",
      "50\n",
      "48\n",
      "48\n"
     ]
    }
   ],
   "source": [
    "size=50\n",
    "print size/2\n",
    "print (size/2)*2\n",
    "print (size/3)*3\n",
    "print 50/3*3"
   ]
  },
  {
   "cell_type": "markdown",
   "metadata": {},
   "source": [
    "### 3.2.3 함수로 만들어 보기\n",
    "\n",
    "* 함수의 구성\n",
    "    * 함수명\n",
    "    * 함수 인자\n",
    "    * 함수 결과 값\n",
    "\n",
    "* 함수를 이해하기\n",
    "    * f(x) = x + 1에서 x=1이면 2, x=10이면 11\n",
    "    * x\n",
    "        * x는 변수라고 한다.\n",
    "        * 프로그래밍에서는 argument라고 한다.\n",
    "        * x=1이면 argument는 x, parameter는 1이다.\n",
    "        * x argument의 데이터 형은 정수 또는 소수를 가진다.\n",
    "\n",
    "* 왜 변수를 사용할까?\n",
    "     * 일반화 generalization\n",
    "     * x가 1이나 2나 어느 경우에나 적용될 수 있게 함\n",
    "\n",
    "* 매개변수 및 실인자\n",
    "    * argument는 변수와 데이터 형을 모두 포함.\n",
    "        * 변수명은 의미있게 지어줌. 변수(지역변수)는 함수 내에서만 의미가 있다.\n",
    "        * 데이터 형은 정수, 소수, 문자 (기본 적인 것만 나열하면)\n",
    "    * parameter는 argument가 가지는 실제 값\n",
    "        * 아래에서 사용되는 size의 경우, 데이터형은 정수? 소수? 문자?\n",
    "        * 실제 값은 50,100... 으로 변할 수 있다.\n",
    "    * 함수를 만들 때는 argument, 호출할 때는 parameter\n",
    "        * 함수 만들 때 argument를 이용\n",
    "            ```\n",
    "            def giyuk(size):\n",
    "               ...\n",
    "            ```\n",
    "            \n",
    "        * 함수 호출할 때 parameter를 이용\n",
    "            ```\n",
    "            giyuk(100)\n",
    "            ```\n",
    "    \n",
    "* 기계적으로 함수 만들어보기\n",
    "    * 중복을 찾는다\n",
    "    * 중복을 묶고 함수명을 준다\n",
    "    * 변경되는 것을 찾는다\n",
    "    * 인자로 빼준다"
   ]
  },
  {
   "cell_type": "markdown",
   "metadata": {},
   "source": [
    "* 함수를 프로그램할 때\n",
    "    * 함수 헤더 (function header)\n",
    "        * def\n",
    "        * 함수명 f\n",
    "        * argument x\n",
    "        ```\n",
    "        def f(x):\n",
    "        ```\n",
    "    \n",
    "    * 함수 부 (function body)\n",
    "        * python에서는 '들여쓰기'로 함수부를 구분한다 (function body)\n",
    "        * 들여쓰기는 1칸, 2칸 또는 그 이상도 사용할 수 있다. 줄 맞춤만 해주면 된다.\n",
    "    * 함수 결과 값의 반환\n",
    "        ```\n",
    "        return\n",
    "        ```"
   ]
  },
  {
   "cell_type": "code",
   "execution_count": 2,
   "metadata": {
    "collapsed": false
   },
   "outputs": [
    {
     "name": "stdout",
     "output_type": "stream",
     "text": [
      "f(2)= None\n"
     ]
    }
   ],
   "source": [
    "def f(x):\n",
    "    x+1\n",
    "\n",
    "print \"f(2)=\",f(2)"
   ]
  },
  {
   "cell_type": "code",
   "execution_count": null,
   "metadata": {
    "collapsed": true
   },
   "outputs": [],
   "source": [
    "def f(x):\n",
    "    result=x+1\n",
    "    return result\n",
    "\n",
    "y=f(2)\n",
    "print \"f(2)=\",y"
   ]
  },
  {
   "cell_type": "markdown",
   "metadata": {},
   "source": [
    "* 위에서 매우 중요한 2가지를 배워야 한다.\n",
    "    * 결과 값의 반환\n",
    "    ```\n",
    "    return result\n",
    "    ```\n",
    "    \n",
    "    * 지역변수와 전역변수\n",
    "        * 지역변수는 x, result와 같이 함수부에서 사용된 변수이다. 함수를 벗어나면 값이 파괴된다는 점에서 지역변수라고 한다.\n",
    "        * 전역변수는 프로그램 어디에서나 값을 사용할 수 있다는 점에서 그 이름이 붙여졌다. y는 함수부에서 만들어지지 않았으므로 전역변수이다.\n",
    "    * 따라서 result는 반환하지 않으면, 함수를 호출하고도 그 결과 값을 사용할 수 없게 된다.\n",
    "    ```\n",
    "    y=f(2)\n",
    "    ```"
   ]
  },
  {
   "cell_type": "markdown",
   "metadata": {},
   "source": [
    "* 함수는 IPO Input-Processing-Output. 즉 입력을 출력으로 변환하는 처리부를 말한다.\n",
    "* 따라서 프로그래밍을 할 때, 어떤 입력을 어떤 출력으로 변환하는 과정을 함수에 넣도록 한다.\n",
    "* 위 예제에서는 숫자(x)를 받아서, 단순하게 1을 더해서 x+1, 출력으로 돌려주는 처리부를 함수로 만들었다."
   ]
  },
  {
   "cell_type": "code",
   "execution_count": 5,
   "metadata": {
    "collapsed": true
   },
   "outputs": [],
   "source": [
    "def giyuk(size):\n",
    "    t1.fd(size)\n",
    "    t1.right(90)\n",
    "    t1.fd(size)\n",
    "\n",
    "t1.home()\n",
    "giyuk(100)\n",
    "\n",
    "def nieun(size):\n",
    "    t1.right(90)\n",
    "    t1.fd(size)\n",
    "    t1.left(90)\n",
    "    t1.fd(size)\n",
    "\n",
    "t1.home()\n",
    "nieun(100)"
   ]
  },
  {
   "cell_type": "code",
   "execution_count": 15,
   "metadata": {
    "collapsed": true,
    "slideshow": {
     "slide_type": "slide"
    }
   },
   "outputs": [],
   "source": [
    "# ㅁ = ㄱ + ㄴ\n",
    "# ㄹ = ㄱ + - + ㄴ\n",
    "# 크기를 변수argument로 실제 값parameter 100\n",
    "\n",
    "def mieum(size):\n",
    "    giyuk(size)\n",
    "    nieun(size)\n",
    "\n",
    "t1.home()\n",
    "t1.clear()\n",
    "mieum(100)"
   ]
  },
  {
   "cell_type": "markdown",
   "metadata": {
    "slideshow": {
     "slide_type": "slide"
    }
   },
   "source": [
    "* ㄱ + ㄴ 으로 ㅁ 을 그리려면 다음을 주의\n",
    "    * 위치를 저장하지 않으면 한 철자 끝에서부터 그려진다.\n",
    "    * 방향을 저장하지 않으면 전 철자가 끝난 방향에서 그려진다.\n",
    "    * 위치를 이동할 때도 원하지 않는 궤적이 남는다.\n",
    "* 변수를 이용한 저장\n",
    "    * 위치의 저장\n",
    "    * 방향의 저장\n",
    "* oldpos=t1.pos()에 대하여\n",
    "    * t1.pos() 함수의 결과 값을 반환받는다.\n",
    "    * 그 결과 값을 oldpos에 저장한다."
   ]
  },
  {
   "cell_type": "code",
   "execution_count": 19,
   "metadata": {
    "collapsed": false,
    "slideshow": {
     "slide_type": "slide"
    }
   },
   "outputs": [],
   "source": [
    "def mieumPos(size):\n",
    "    # 위치와 방향의 저장\n",
    "    oldpos=t1.pos()\n",
    "    oldhead=t1.heading()\n",
    "    giyuk(size)\n",
    "    # 이동 궤적 지우기\n",
    "    t1.penup()\n",
    "    # 저장한 위치와 방향을 사용하기\n",
    "    t1.setpos(oldpos)\n",
    "    t1.setheading(oldhead)\n",
    "    t1.pendown()\n",
    "    nieun(size)\n",
    "    \n",
    "t1.home()\n",
    "t1.clear()\n",
    "mieumPos(100)"
   ]
  },
  {
   "cell_type": "markdown",
   "metadata": {
    "slideshow": {
     "slide_type": "slide"
    }
   },
   "source": [
    "## 시작-3 기역자 바람개비 그리기\n",
    "\n",
    "* ㄱ자를 회전하고 난 후, ㅁ자도 한다. \n",
    "* 학습내용\n",
    "    * 변수를 사용할 수 있게 된다.\n",
    "    * 함수를 만들 수 있게 된다.\n",
    "    * 함수의 argument를 알게 된다.\n",
    "    * 중복을 식별할 수 있게 된다.\n",
    "        * 결과에서 중복이 얼마나 되는지 세어본다.\n",
    "        * 함수를 이용해 중복을 줄이는 것은 이번에 배우지만 반복문은 다음 장에서 배운다.\n",
    "* 어떻게 하나\n",
    "    * 함수 giyuk(size)를 수정해서 giyukBackHome(size)\n",
    "        * 끝나는 위치가 시작점이 아니다.\n",
    "        * 바람개비를 그리려면 시작점으로 복귀    \n",
    "    * 변수를 이용해 회전하는 모양\n",
    "        * 45도씩 증가시킴\n",
    "        ```\n",
    "        turnBy=45\n",
    "        ```\n",
    "        \n",
    "    * 8회 반복을 한다.\n",
    "        * 8개 (45 x 8 = 360도 회전)\n",
    "        * 반복을 하면, 프로그램에 중복이 존재하게 된다.\n",
    "    * ㅁ자를 회전시키려면, 함수 miumpos(size)를 수정해서 miumBackHome(size)\n",
    "        * ㄱ자와 같이 시작점으로 복귀\n",
    "\n",
    "* 절차\n",
    "    * 시작에서의 위치oldPos를 저장\n",
    "    * 시작에서의 방향oldHead을 저장\n",
    "    * ㄱ자를 그림\n",
    "    * pen들고\n",
    "    * oldPos로 이동\n",
    "    * oldHead로 방향전환\n",
    "    * pendown\n",
    "    * 회전각도turnBy 틀고\n",
    "    * ㄱ자 그림\n",
    "    * 위를 반복\n",
    "* 끝나면\n",
    "    * 더블클릭해서 완료하게 한다.\n",
    "    * 수업시간에 완료해서 확인\n"
   ]
  },
  {
   "cell_type": "code",
   "execution_count": 9,
   "metadata": {
    "collapsed": true
   },
   "outputs": [],
   "source": [
    "# ㄱ 회전 바람개비 - 위치를 원위치하지 않으면 바람개비 효과가 나지 않는다.\n",
    "t1.home()\n",
    "t1.clear()\n",
    "giyuk(size)\n",
    "giyuk(size)"
   ]
  },
  {
   "cell_type": "code",
   "execution_count": 10,
   "metadata": {
    "collapsed": true
   },
   "outputs": [],
   "source": [
    "# ㄱ 회전 바람개비 - 위치와 회전각을 변경하면 바람개비 효과가 난다.\n",
    "t1.home()\n",
    "t1.clear()\n",
    "turnBy=45\n",
    "size=100\n",
    "oldpos=t1.pos()\n",
    "oldhead=t1.heading()\n",
    "giyuk(size)\n",
    "t1.penup()\n",
    "t1.setpos(oldpos)\n",
    "t1.setheading(oldhead+turnBy)\n",
    "t1.pendown()\n",
    "giyuk(size)"
   ]
  },
  {
   "cell_type": "markdown",
   "metadata": {
    "collapsed": true
   },
   "source": [
    "### 3.2.4 위치\n",
    "\n",
    "* 위치를 사용하면서 '복잡한 변수'를 이해한다.\n",
    "    * 위치의 데이터타잎은 1개로 구성되어 있지 않다.\n",
    "    * 앞서 말했던 변수 가운데 소수이지만, 단순형이 아니고 복합형.\n",
    "* 변수를 이용해 상대위치를 사용할 수 있다.\n",
    "    * 위치 알아내기\n",
    "    ```\n",
    "    oldpos=t1.pos()\n",
    "    print oldpos\n",
    "    ```\n",
    "    \n",
    "    * 중복되는 식을 계산해서 변수에 저장해 놓기\n",
    "\n",
    "* 상대 위치\n",
    "    * 3등분해서 ㄱ자 그리기"
   ]
  },
  {
   "cell_type": "code",
   "execution_count": 11,
   "metadata": {
    "collapsed": false,
    "slideshow": {
     "slide_type": "slide"
    }
   },
   "outputs": [
    {
     "name": "stdout",
     "output_type": "stream",
     "text": [
      "(0.00,0.00)\n",
      "840 787\n"
     ]
    }
   ],
   "source": [
    "# 현재위치 구하기\n",
    "t1.home()\n",
    "print t1.pos()\n",
    "# 윈도우 높이 너비 구하기\n",
    "width=t1.window_width()\n",
    "height=t1.window_height()\n",
    "print width, height"
   ]
  },
  {
   "cell_type": "markdown",
   "metadata": {},
   "source": [
    "* 형변환\n",
    "    * 정수에서 소수로 형변환하는 경우 casting이라고 한다.\n",
    "    * 소수와 정수가 만나면 소수로 형을 변환해준다.\n",
    "    ```\n",
    "    50/3.\n",
    "    50/float(3)\n",
    "    ```"
   ]
  },
  {
   "cell_type": "code",
   "execution_count": 13,
   "metadata": {
    "collapsed": false,
    "slideshow": {
     "slide_type": "slide"
    }
   },
   "outputs": [
    {
     "name": "stdout",
     "output_type": "stream",
     "text": [
      "-266.666666667 0.0 266.666666667\n"
     ]
    }
   ],
   "source": [
    "# 변수를 이용한 상대 위치 저장하기\n",
    "# 왜 '점(.)'을 넣어줄까?\n",
    "x1=0.-(width-40.)/3\n",
    "x2=0.\n",
    "x3=0.+(width-40.)/3\n",
    "print x1,x2,x3"
   ]
  },
  {
   "cell_type": "code",
   "execution_count": 15,
   "metadata": {
    "collapsed": false,
    "slideshow": {
     "slide_type": "slide"
    }
   },
   "outputs": [
    {
     "name": "stdout",
     "output_type": "stream",
     "text": [
      "-266.666666667 0.0 266.666666667\n"
     ]
    }
   ],
   "source": [
    "# 중복되는 식을 변수화\n",
    "w3=(width-40.)/3\n",
    "x1=0.-w3\n",
    "x2=0.\n",
    "x3=0.+w3\n",
    "print x1,x2,x3"
   ]
  },
  {
   "cell_type": "markdown",
   "metadata": {},
   "source": [
    "* goto()와 setpos()와 같은 기능\n",
    "* 사용할 수 있는 데이터타잎\n",
    "    * x,y - 정수/소수의 두 좌표 값\n",
    "    * (x,y) - Vec2D라고 하는 복잡한 타잎"
   ]
  },
  {
   "cell_type": "code",
   "execution_count": 16,
   "metadata": {
    "collapsed": false,
    "slideshow": {
     "slide_type": "slide"
    }
   },
   "outputs": [],
   "source": [
    "# 첫째 위치로 가서 위치 써보기\n",
    "t1.penup()\n",
    "t1.goto(x1,0)\n",
    "t1.pendown()\n",
    "t1.pos()\n",
    "t1.write(t1.pos())\n",
    "# 첫째 위치에서 ㄱ자 그리기\n",
    "giyuk(100)"
   ]
  },
  {
   "cell_type": "markdown",
   "metadata": {},
   "source": [
    "* 회전각도를 조정하지 않으면 ㄱ자가 되지 않는다.\n",
    "```\n",
    "t1.setheading(0)\n",
    "```"
   ]
  },
  {
   "cell_type": "code",
   "execution_count": 20,
   "metadata": {
    "collapsed": true
   },
   "outputs": [],
   "source": [
    "t1.clear()\n",
    "# 1번째\n",
    "t1.penup()\n",
    "t1.goto(x1,0)\n",
    "t1.setheading(0)\n",
    "t1.pendown()\n",
    "t1.pos()\n",
    "t1.write(t1.pos())\n",
    "giyuk(100)\n",
    "\n",
    "# 2번째\n",
    "t1.penup()\n",
    "t1.goto(x2,0)\n",
    "t1.setheading(0)\n",
    "t1.pendown()\n",
    "t1.pos()\n",
    "t1.write(t1.pos())\n",
    "giyuk(100)\n",
    "\n",
    "# 3번째\n",
    "t1.penup()\n",
    "t1.goto(x3,0)\n",
    "t1.setheading(0)\n",
    "t1.pendown()\n",
    "t1.pos()\n",
    "t1.write(t1.pos())\n",
    "giyuk(100)"
   ]
  },
  {
   "cell_type": "markdown",
   "metadata": {},
   "source": [
    "* 앞서 배웠던 '기계적으로 함수 만들어보기'를 실제로 해보기\n",
    "    * 중복을 찾는다.\n",
    "    * 중복을 묶고 함수명을 준다.\n",
    "        * 의미있게 giyukAt\n",
    "    * 변경되는 것을 찾는다.\n",
    "        * 숫자를 찾는다 -> x1, 100\n",
    "        * 회전각도는 숫자이지만 변하지 않으므로 그냥 둔다.\n",
    "    * 인자로 빼준다\n",
    "        * 인자는 2개\n",
    "        * 인자의 형에 대해서도 생각해 본다.\n",
    "            * size: 정수형으로 크기를 의미한다. 화면크기보다 크게 되면 오류\n",
    "            * at: 정수,소수 모두 가능하며 위치를 의미한다. 화면크기를 벗어나면 오류\n",
    "* 앞으로 배워나가기\n",
    "    * 함수로 만들어서, 함수 자체가 중복되는 것은 중복문for-loop로 처리한다 (다음 장에서 학습)\n",
    "    * 오류의 처리"
   ]
  },
  {
   "cell_type": "code",
   "execution_count": 21,
   "metadata": {
    "collapsed": true
   },
   "outputs": [],
   "source": [
    "def giyukAt(size,at):\n",
    "    t1.penup()\n",
    "    t1.goto(at,0)\n",
    "    t1.setheading(0)\n",
    "    t1.pendown()\n",
    "    t1.pos()\n",
    "    t1.write(t1.pos())\n",
    "    giyuk(size)\n",
    "\n",
    "t1.clear()\n",
    "giyukAt(100,x1)\n",
    "giyukAt(100,x2)\n",
    "giyukAt(100,x3)"
   ]
  },
  {
   "cell_type": "markdown",
   "metadata": {
    "slideshow": {
     "slide_type": "slide"
    }
   },
   "source": [
    "## 3.3 간단한 도형 그려보기\n",
    "\n",
    "* 4각형\n",
    "* 3각형\n",
    "* 앞서 배운 것을 활용해서 함수로 만들어 보기"
   ]
  },
  {
   "cell_type": "code",
   "execution_count": 23,
   "metadata": {
    "collapsed": false,
    "slideshow": {
     "slide_type": "slide"
    }
   },
   "outputs": [],
   "source": [
    "t1.home()\n",
    "t1.clear()\n",
    "# rectangle\n",
    "t1.forward(100)\n",
    "t1.write(t1.pos())\n",
    "t1.left(90)\n",
    "t1.forward(100)\n",
    "t1.write(t1.pos())\n",
    "t1.left(90)\n",
    "t1.forward(100)\n",
    "t1.write(t1.pos())\n",
    "t1.left(90)\n",
    "t1.forward(100)\n",
    "t1.write(t1.pos())"
   ]
  },
  {
   "cell_type": "code",
   "execution_count": 24,
   "metadata": {
    "collapsed": true
   },
   "outputs": [],
   "source": [
    "t1.home()\n",
    "t1.clear()\n",
    "# triangle\n",
    "t1.forward(100)\n",
    "t1.write(t1.pos())\n",
    "t1.left(120)\n",
    "t1.forward(100)\n",
    "t1.write(t1.pos())\n",
    "t1.left(120)\n",
    "t1.forward(100)\n",
    "t1.write(t1.pos())\n",
    "t1.left(120)"
   ]
  },
  {
   "cell_type": "markdown",
   "metadata": {},
   "source": [
    "## 시작-4: 간단한 도형 삼각형, 다각형, 별모양 그리기\n",
    "\n",
    "* 학습내용\n",
    "    * 위치를 3등분해서 삼각형, 다각형, 별모양을 그린다.\n",
    "    * 위치 변수를 사용할 수 있게 된다.\n",
    "    * 함수를 사용할 수 있게 된다.\n",
    "    * 함수의 argument를 알게 된다.\n",
    "    * 중복을 식별할 수 있게 된다.\n",
    "* 함수의 정의 - argument를 size(도형의 크기), pos(도형그리는 위치)\n",
    "    ```\n",
    "    def drawTriangleAt(size, pos):\n",
    "        ...\n",
    "        \n",
    "    def drawPolygonAt(size, pos):\n",
    "        ...\n",
    "        \n",
    "    def drawStarAt(size, pos):\n",
    "        ....\n",
    "    ```\n",
    "    \n",
    "* 앞의 시작-3을 참조해서 작업한다."
   ]
  },
  {
   "cell_type": "markdown",
   "metadata": {
    "collapsed": true
   },
   "source": [
    "## 시작-5: 자신의 이름을 쓰고, 자신의 아이콘으로 장식하기.\n",
    "* 박스를 3개 다른 색으로 그려서, 그 안에 자신의 이름 한 글자씩 넣는다.\n",
    "* 학습 내용\n",
    "    * 변수를 이해 (위치 변수 포함) - 사용하는 숫자가 반복되지 않게 한다.\n",
    "    * 중복을 이해 - 모든 철자는 함수로 만든다.\n",
    "    * Thumbnail\n",
    "\n",
    "* 기본명령어, thumbnail을 배우면 30분 이내에 마칠 수 있슴.\n",
    "* 주의\n",
    "    * 너무 예쁘게 쓰려고 하지 않는다.\n",
    "    * 글자 크기를 같게 한다.\n",
    "    * 철자를 함수로 만들 때는 철자+위치의 의미를 갖도록 예: giyukAt(size, pos)\n",
    "* 문제를 풀고, 그 화면을 확인 (수업 중).\n",
    "* 어떻게하나\n",
    "    * 1) 사진을 찍고, thumbnail로 변환 jpg -> gif\n",
    "    * 2) t1.stamp() 명령어를 사용한다.\n",
    "    * 3) 화면을 3등분하고 자신의 이름을 쓴다\n",
    "    * 4) 함수를 적절히 사용한다.\n"
   ]
  }
 ],
 "metadata": {
  "celltoolbar": "Slideshow",
  "kernelspec": {
   "display_name": "Python 2",
   "language": "python",
   "name": "python2"
  },
  "language_info": {
   "codemirror_mode": {
    "name": "ipython",
    "version": 2
   },
   "file_extension": ".py",
   "mimetype": "text/x-python",
   "name": "python",
   "nbconvert_exporter": "python",
   "pygments_lexer": "ipython2",
   "version": "2.7.12"
  }
 },
 "nbformat": 4,
 "nbformat_minor": 0
}
