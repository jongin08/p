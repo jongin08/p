{
 "cells": [
  {
   "cell_type": "markdown",
   "metadata": {},
   "source": [
    "# 2. 시작하기\n",
    "\n",
    "## 2.1 학습내용\n",
    "\n",
    "### 2.1.1 목표\n",
    "\n",
    "* 변수를 정의하고 사용할 수 있다.\n",
    "* 변수를 그 값을 사용할 수 있는 범위에 따라 지역변수와 전역변수를 구분하여 사용할 수 있다.\n",
    "* 여러 명령문을 순서대로 실행하는 절차를 만들 수 있다.\n",
    "* 함수를 만들고, 사용할 수 있다. 함수의 매개변수와 반환값을 사용할 수 있다.\n",
    "\n",
    "### 2.1.2 문제\n",
    "\n",
    "* 시작-1: 미로를 그려서, 사진 찍고 거북이 게임.\n",
    "* 시작-2: 미로게임을 애니메이션"
   ]
  },
  {
   "cell_type": "markdown",
   "metadata": {
    "slideshow": {
     "slide_type": "slide"
    }
   },
   "source": [
    "## 2.2 로고 프로그래밍\n",
    "\n",
    "* 로고Logo는 교육용 프로그래밍 언어이다.\n",
    "* 1967년 Daniel G. Bobrow, Wally Feurzeig, Seymour Papert and Cynthia Solomon가 만들었다.\n",
    "* 그 이후로 많은 교육기관에서 프로그래밍을 가르칠 때 사용하고 있다.\n",
    "* 처음에는 지금과 같은 모양이 아니었지만, 이해하기 쉽고 재미있는 거북이로 바꾸어 널리 사용되고 있다.\n",
    "* 특징\n",
    "    * 몇 줄의 프로그램만으로 거북이를 나타내고, 움직이게 할 수 있을 정도로, 간단하게 프로그램을 할 수 있다.\n",
    "    * 직관적으로 거북이를 움직이면서 프로그래밍에 필요한 변수, 명령문, 제어, 데이터구조, 함수 등을 배울 수 있다."
   ]
  },
  {
   "cell_type": "code",
   "execution_count": null,
   "metadata": {
    "collapsed": true
   },
   "outputs": [],
   "source": [
    "import os\n",
    "import glob\n",
    "\n",
    "mywd=%pwd\n",
    "myplantdir=os.path.join(mywd,'lib')\n",
    "mydotdir=!which dot\n",
    "mydot=mydotdir[0]\n",
    "\n",
    "%cd {myplantdir}\n",
    "glob.glob(r'./*.jar')\n",
    "os.environ['GRAPHVIZ_DOT']=mydot\n",
    "!java -jar {myplantdir}/plantuml.jar -testdot"
   ]
  },
  {
   "cell_type": "code",
   "execution_count": 21,
   "metadata": {
    "collapsed": false,
    "slideshow": {
     "slide_type": "slide"
    }
   },
   "outputs": [
    {
     "name": "stdout",
     "output_type": "stream",
     "text": [
      "Installed plantuml_magics.py. To use it, type:\n",
      "  %load_ext plantuml_magics\n"
     ]
    }
   ],
   "source": [
    "%install_ext https://raw.githubusercontent.com/sberke/ipython-plantuml/master/plantuml_magics.py"
   ]
  },
  {
   "cell_type": "code",
   "execution_count": 22,
   "metadata": {
    "collapsed": true,
    "slideshow": {
     "slide_type": "slide"
    }
   },
   "outputs": [],
   "source": [
    "%load_ext plantuml_magics"
   ]
  },
  {
   "cell_type": "markdown",
   "metadata": {},
   "source": [
    "## 2.3 간단한 명령어 배우기\n",
    "\n",
    "### 2.3.1 turtle 소개\n",
    "\n",
    "* 일부 함수의 요약\n",
    "* https://docs.python.org/2/library/turtle.html\n",
    "\n",
    "#### 2.3.1.1 turtle\n",
    "\n",
    "* motion and draw\n",
    "    * forward\n",
    "    * backward\n",
    "    * left\n",
    "    * right\n",
    "    * goto 같은 용도? setpos()\n",
    "    * setx\n",
    "    * sety\n",
    "    * write(text)\n",
    "    * position()\n",
    "    * xcor()\n",
    "    * ycor()\n",
    "    * heading()\n",
    "\n",
    "* Pen\n",
    "    * penup()\n",
    "    * pendown()\n",
    "    * color()\n",
    "\n",
    "* event\n",
    "    * onclick()\n",
    "    * onrelease()\n",
    "    * ondrag()\n",
    "    * mainloop() | done()\n",
    "\n",
    "#### 2.3.1.2 screen\n",
    "\n",
    "* Window control\n",
    "    * bgcolor()\n",
    "    * clear() | clearscreen()\n",
    "    * screensize()\n",
    "* screen events\n",
    "    * listen()\n",
    "    * onkey()\n",
    "    * onclick() | onscreenclick()\n",
    "    * ontimer()"
   ]
  },
  {
   "cell_type": "markdown",
   "metadata": {},
   "source": [
    "### 2.3.2 그림판에 거북이 나타내기\n",
    "\n",
    "단계 1: turtle을 가져온다.\n",
    "\n",
    "turtle을 가져오려면, 'import' 명령어를 사용한다.\n",
    "import는 다른 곳에 만들어진 '기능'을 가져오기 위해 사용한다.\n",
    "import 명령어 뒤에 가져오려는 기능의 명칭을 적는다.\n",
    "앞으로 사용하는 turtle기능은 turtle이라는 명칭을 사용하게 된다.\n",
    "이를 namespace라고 한다.\n",
    "\n",
    "    ```\n",
    "    import turtle\n",
    "    ```\n",
    "\n",
    "단계 2: 윈도우를 띄운다.\n",
    "윈도우는 컴퓨터가 사용자와 대화하기 위해 사용한다.\n",
    "* 윈도우는 좌상단 3개 버튼 제공해서, 1) 창을 닫거나, 2) 창을 최대로 크게 하거나, 3) 창을 최소화 할 수 있다.\n",
    "* 윈도우 캔버스를 가진다. 캔버스는 거북이가 활동하는 운동장이다.\n",
    "* 윈도우 캔버스는 크기를 정해주지 않으면, 기본 크기로 생성하고 수정하지 못한다.\n",
    "* 윈도우는 제목을 가질 수 있다.\n",
    "\n",
    "wn은 만들어진 윈도우 이름이다.\n",
    "'='은 우측 명령의 수행결과를 좌측에 할당한다는 의미이다.\n",
    "좌측 wn은 우측 turtle.Screen()의 명령이 수행된 결과를 저장하고 있다.\n",
    "wn은 변수명이다. 변수는 다음 장에서 더 배우게 된다.\n",
    "turtle.Screen()의 turtle은 앞서 import한 모듈의 namespace를 사용하고 있다.\n",
    "\n",
    "    ```\n",
    "    wn=turtle.Screen()\n",
    "    ```\n",
    "\n",
    "단계 3: 거북이 나타내기\n",
    "\n",
    "앞서 설명한 바와 같이, 좌측 t1은 만들어진 거북이 이름이다.\n",
    "우측 turtle.Turtle()의 실행결과를 가지고 있다.\n",
    "import한 turtle의 namespace를 사용해서 거북이를 생성해서 t1에 저장한 것이다.\n",
    "\n",
    "    ```\n",
    "    t1=turtle.Turtle()\n",
    "    ```"
   ]
  },
  {
   "cell_type": "code",
   "execution_count": 2,
   "metadata": {
    "collapsed": true,
    "slideshow": {
     "slide_type": "slide"
    }
   },
   "outputs": [],
   "source": [
    "import turtle\n",
    "wn=turtle.Screen()\n",
    "#크기 정하기\n",
    "#wn.setup(500, 500)\n",
    "t1=turtle.Turtle()"
   ]
  },
  {
   "cell_type": "markdown",
   "metadata": {
    "slideshow": {
     "slide_type": "slide"
    }
   },
   "source": [
    "#### 주의: 점의 의미\n",
    "\n",
    "* 점 연산자 (dot operator)은 프로그래밍에서 매우 중요한 개념. 잘 안보이는 경우, 컴마하고 얼핏 혼돈할 수 있지만, 컴마하고 완전히 다른 의미이다.\n",
    "* 점 앞은 객체, 뒤는 속성이나 함수\n",
    "    * 함수는 ()가 있다.\n",
    "* 객체는 이해하기 쉽지 않지만 단순하지 않은 구조체\n",
    "    * 거북이 - 위치를 갖으며, 앞뒤로 가거나 방향전환을 하는 객체\n",
    "    * 스크린 - 크기, 배경이미지를 갖으며, 마우스클릭/키보드입력을 기다리는 등의 객체\n",
    "\n",
    "#### 주의: 누구의 함수인가?\n",
    "* shape은 wn? t1?\n",
    "* bgpic은 wn? t1?\n",
    "\n",
    "#### 주의: 대소문자의 의미\n",
    "\n",
    "* 보통 첫글자가 대문자는 객체를 의미한다.\n",
    "* 앞글자가 소문자는 함수. bgpic\n",
    "* turtle.Screen()과 turtle.Turtle()은 앞글자가 대문자인 객체이다.\n"
   ]
  },
  {
   "cell_type": "markdown",
   "metadata": {},
   "source": [
    "### 2.3.3 기본 동작 명령어 배우가\n",
    "\n",
    "* 앞으로 이동하기\n",
    "* 방향을 전환하기"
   ]
  },
  {
   "cell_type": "code",
   "execution_count": null,
   "metadata": {
    "collapsed": true
   },
   "outputs": [],
   "source": [
    "t1.forward(100)\n",
    "t1.right(90)\n",
    "t1.forward(100)"
   ]
  },
  {
   "cell_type": "markdown",
   "metadata": {},
   "source": [
    "### 2.3.4 기본 색\n",
    "\n",
    "* 색은 문자로 변경.\n",
    "* 실제로는 RGB값을 문자로 저장해 놓음."
   ]
  },
  {
   "cell_type": "code",
   "execution_count": null,
   "metadata": {
    "collapsed": true
   },
   "outputs": [],
   "source": [
    "# 2.3.3 기본 색\n",
    "t1.pencolor()\n",
    "t1.pencolor(\"Red\")\n",
    "\n",
    "# colormode 1 or 255 (255 is rgb)\n",
    "wn.colormode(255)\n",
    "t1.pencolor((0,100,200))\n",
    "t1.fd(100)"
   ]
  },
  {
   "cell_type": "markdown",
   "metadata": {},
   "source": [
    "### 2.3.5 모양바꾸기\n",
    "\n",
    "```\n",
    "t1.shape(\"turtle\")\n",
    "wn.addshape(\"rocketship.png\")\n",
    "t1.shape(\"rocketship.png\")\n",
    "```"
   ]
  },
  {
   "cell_type": "code",
   "execution_count": 20,
   "metadata": {
    "collapsed": true,
    "slideshow": {
     "slide_type": "slide"
    }
   },
   "outputs": [],
   "source": [
    "t1.shape(\"turtle\")"
   ]
  },
  {
   "cell_type": "markdown",
   "metadata": {
    "slideshow": {
     "slide_type": "slide"
    }
   },
   "source": [
    "### 2.3.6 캔버스 다녀보기\n",
    "\n",
    "* 캔버스의 위치와 좌표를 이해"
   ]
  },
  {
   "cell_type": "code",
   "execution_count": null,
   "metadata": {
    "collapsed": true
   },
   "outputs": [],
   "source": [
    "# 2.3.5 캔버스 다녀보기\n",
    "t1.window_height()\n",
    "t1.window_width()\n",
    "t1.pos()\n",
    "t1.goto(0,0)\n",
    "t1.goto(-420,0)\n",
    "t1.goto(-420,390)\n",
    "t1.home()\n",
    "t1.clear()"
   ]
  },
  {
   "cell_type": "markdown",
   "metadata": {},
   "source": [
    "### 2.3.7 펜 제어하기\n",
    "\n",
    "* 선을 그리지 않고 이동하려는 경우"
   ]
  },
  {
   "cell_type": "code",
   "execution_count": null,
   "metadata": {
    "collapsed": true
   },
   "outputs": [],
   "source": [
    "# goto\n",
    "t1.penup()\n",
    "t1.goto(0,0) #home position\n",
    "t1.pendown()"
   ]
  },
  {
   "cell_type": "markdown",
   "metadata": {
    "slideshow": {
     "slide_type": "slide"
    }
   },
   "source": [
    "## 시작-1: 미로를 그려서, 사진 찍고 거북이 게임.\n",
    "\n",
    "* 학습 내용\n",
    "    * 기본명령어를 사용한 간단한 미로게임.\n",
    "    * 사진의 파일형식 JPG, GIF 과 변환.\n",
    "    * 파일의 저장과 불러오기.\n",
    "* 기본명령어, 파일배경바꾸기를 배우면 30분 이내에 마칠 수 있슴.\n",
    "* 주의\n",
    "    * 너무 복잡한 미로 만들지 않음.\n",
    "    * 핸드폰 해상도는 높으므로, 캔버스에 맞추어 낮춤.\n",
    "    * 배경이미지를 저장한 디렉토리를 정확히 적어주기\n",
    "* 문제를 풀고, 그 화면을 핸드폰으로 찍어서 출력을 제출 (오늘 중).\n",
    "* 어떻게하나\n",
    "    * 1) take picture from your handphone\n",
    "    * 2) convert jpg -> gif\n",
    "        * 2-1) online converter\n",
    "            * google search \"convert jgg to gif\"\n",
    "            * 선택해서 change the size and monochrome\n",
    "        * 2-2) PC\n",
    "            * screen capture (윈도우 보조프로그램 캡쳐도구) -> 캡쳐라고 검색\n",
    "            * 커서가 십자모양으로 변하면 마우스로 클릭하고 끌어서 이미지만큼 캡쳐\n",
    "            * save as gif\n",
    "    * 3) 배경화면 지정\n",
    "        * 저장한 디렉토리는 현재 위치, 이름은 'myMaze.gif'\n",
    "        ```\n",
    "        wn.bgpic(\"myMaze.gif\")\n",
    "        ```\n"
   ]
  },
  {
   "cell_type": "markdown",
   "metadata": {
    "slideshow": {
     "slide_type": "slide"
    }
   },
   "source": [
    "## 시작-2: 미로게임을 애니메이션\n",
    "\n",
    "* 학습 내용\n",
    "    * Python 프로그램의 저장\n",
    "    * 프로그램을 배치실행하는 방법\n",
    "* 주의\n",
    "    * 애니메이션 효과는 너무 빠르지 않게\n",
    "* 어떻게 하나\n",
    "    * 1) 별도의 파일로 저장하기\n",
    "    * 2) 애니메이션 주기 (speed느리게)\n",
    "    \n",
    "    ```\n",
    "    t1.speed(1) # 1 slowest 10 fastest\n",
    "    ```\n",
    "    \n",
    "    * 3) 실행 후 자동으로 사라지지 않게 하기\n",
    "    \n",
    "    ```\n",
    "    wn.exitonclick()\n",
    "    ```\n",
    "    \n",
    "    * 3) 실행하기\n",
    "    \n",
    "        * 명령창에서 직접 입력하거나\n",
    "        \n",
    "        ```\n",
    "        $ python src/myMaze.py 참조\n",
    "        ```\n",
    "\n",
    "        * 윈도우 탐색기에서 더블 클릭\n"
   ]
  }
 ],
 "metadata": {
  "celltoolbar": "Slideshow",
  "kernelspec": {
   "display_name": "Python 2",
   "language": "python",
   "name": "python2"
  },
  "language_info": {
   "codemirror_mode": {
    "name": "ipython",
    "version": 2
   },
   "file_extension": ".py",
   "mimetype": "text/x-python",
   "name": "python",
   "nbconvert_exporter": "python",
   "pygments_lexer": "ipython2",
   "version": "2.7.11+"
  }
 },
 "nbformat": 4,
 "nbformat_minor": 0
}
