{
 "cells": [
  {
   "cell_type": "markdown",
   "metadata": {},
   "source": [
    "# 이벤트\n",
    "\n",
    "## 1.1 학습내용\n",
    "\n",
    "### 1.1.1 목표\n",
    "\n",
    "* 사용자 이벤트를 처리하는 프로그래밍을 배운다.\n",
    "\n",
    "### 1.1.2 문제\n",
    "\n",
    "* 이벤트-1 키보드 방향키에 따라 거북이를 움직이기\n",
    "* 이벤트-2 마우스가 클릭하는 위치에 거북이를 이동하기\n",
    "* 이벤트-3 키보드, 마우스로 미로게임 해보기\n",
    "* 이벤트-4 거북이가 구역에 들어가면 알려주기\n",
    "* 이벤트-5 거북이가 선을 밟았는지 알려주기\n",
    "* 이벤트-6 거북이가 원에 들어갔는지는 알려주기"
   ]
  },
  {
   "cell_type": "markdown",
   "metadata": {},
   "source": [
    "## 1.2 소개\n",
    "\n",
    "### 1.2.1 이벤트 프로그래밍\n",
    "\n",
    "* 프로그램은 순서에 따라 실행되지만, 이벤트 프로그램은 사용자가 발생시키는 이벤트에 따라 실행된다.\n",
    "* 프로그램은 항상 '대기'상태로 있으면서, 사용자가 발생시키는 이벤트를 기다려야 한다.\n",
    "* '대기'는 무한으로 지속되고, 처리할 이벤트를 포착해서 프로그래밍한다.\n",
    "\n",
    "* IF문으로 설명할 수 있다.\n",
    "    * event가 발생하면 action을 실행한다.\n",
    "    ```\n",
    "    if event:\n",
    "        do action\n",
    "    ```\n",
    "    * if문은 1회만 실행된다. 무한대기는 아니다.\n",
    "        * while반복을 추가해서 무한대기를 만든다. True조건이 바뀌지 않는한 계속된다.\n",
    "        * 이러한 무한대기는 화면에 포함되어 있으므로 별도로 만들어줄 필요가 없다.\n",
    "        ```\n",
    "    while True:\n",
    "        if event:\n",
    "            do action\n",
    "    ```"
   ]
  },
  {
   "cell_type": "markdown",
   "metadata": {},
   "source": [
    "### 1.2.2 Event\n",
    "\n",
    "* 이벤트는 키보드와 마우스에서 발생할 수 있다.\n",
    "* 키보드 이벤트\n",
    "    * 자판에 있는 모든 키가 이벤트가 될 수 있다. 화살표, 철자 등 모든 키.\n",
    "* 마우스 이벤트\n",
    "    * 버튼 클릭 (왼쪽, 오른쪽), 놓기, 끌기. "
   ]
  },
  {
   "cell_type": "markdown",
   "metadata": {},
   "source": [
    "### 1.2.3 이벤트 프로그램의 구성\n",
    "\n",
    "* 화면을 만든다.\n",
    "    * 이벤트를 기다리는 화면의 예\n",
    "        * 웹 (자바스크립트)\n",
    "        * GUI는 화면, 뜨면서 사용자 입력을 기다리는 상태가 됨.\n",
    "            * infinite loop\n",
    "    * 사용자는 화면에서 이벤트를 통해 컴퓨터에게 명령을 준다.\n",
    "    ```\n",
    "    wn=turtle.Screen()\n",
    "    ```\n",
    "* 이벤트를 인식한다.\n",
    "    * 키보드\n",
    "    ```\n",
    "    onkey(..., \"Up\")\n",
    "    ```\n",
    "    * 마우스 \n",
    "        * onclick()\n",
    "        * onrelease()\n",
    "        * ondrag()\n",
    "    ```\n",
    "    wn.onclick(...)\n",
    "    ```\n",
    "* 이벤트를 처리하는 함수를 만든다.\n",
    "    * on함수\n",
    "    * 키보드\n",
    "    ```\n",
    "    def keyup():\n",
    "        t1.forward(50)\n",
    "    ```\n",
    "    * 마우스\n",
    "    ```\n",
    "    def mousegoto(x,y):\n",
    "        t1.setpos(x,y)\n",
    "    ```\n",
    "* 이벤트와 이벤트처리를 연결한다 (binding).\n",
    "    * 키보드\n",
    "    ```\n",
    "    wn.onkey(keyup, \"Up\")\n",
    "    ```\n",
    "    * 마우스\n",
    "    ```\n",
    "    wn.onclick(mousegoto)\n",
    "    ```\n",
    "\n",
    "* 사용자 입력을 기다리는 상태로 만든다.\n",
    "    ```\n",
    "    wn.listen()\n",
    "    ```\n",
    "* 사용자가 윈도우를 닫을 때까지 대기한다.\n",
    "    ```\n",
    "    turtle.mainloop()\n",
    "    ```"
   ]
  },
  {
   "cell_type": "markdown",
   "metadata": {},
   "source": [
    "### 1.2.4 IPython Notebook에서의 이벤트 프로그래밍\n",
    "\n",
    "* 문제\n",
    "    * Event프로그래밍은 IPython Notebook에서 하기 어렵다.\n",
    "    * mainloop()함수를 사용하지 않으면 이벤트를 처리하지 못한다.\n",
    "    * mainloop()함수를 사용하면 셀이 실행상태(*)로 남게 된다.\n",
    "    * 그리고 다른 셀에서의 명령어는 실행하지 못하게 된다.\n",
    "    * q를 등록해도 잘 작동되지 않는다.\n",
    "* 해결\n",
    "    * 단순히 창을 닫고 시작\n",
    "    * 이 경우, 객체가 남아 있을 수 있으므로, 객체를 지우고 시작\n",
    "* changes in functions --> binding should be changed too"
   ]
  },
  {
   "cell_type": "markdown",
   "metadata": {},
   "source": [
    "## 이벤트-1: 키보드 방향키에 따라 거북이를 움직이기\n",
    "\n",
    "* 아래, 위, 좌, 우 방향키에 따라 거북이가 반응하기\n",
    "* 문자 'q'를 누르면 끝내기\n",
    "    * 소문자를 설정하면, 소문자에 반응. 대문자 'Q'는 대문자에 반응한다."
   ]
  },
  {
   "cell_type": "code",
   "execution_count": 2,
   "metadata": {
    "collapsed": true
   },
   "outputs": [],
   "source": [
    "import turtle\n",
    "wn=turtle.Screen()\n",
    "t1=turtle.Turtle()"
   ]
  },
  {
   "cell_type": "code",
   "execution_count": null,
   "metadata": {
    "collapsed": true
   },
   "outputs": [],
   "source": [
    "def keyup():\n",
    "    pt=t1.pos()\n",
    "    print \"up\",pt\n",
    "    t1.write(pt)\n",
    "    t1.forward(45)\n",
    "\n",
    "def keyleft():\n",
    "    t1.left(45)\n",
    "\n",
    "def keyright():\n",
    "    t1.right(45)\n",
    "\n",
    "def keydown():\n",
    "    pt=t1.pos()\n",
    "    print \"down\",pt\n",
    "    t1.write(pt)\n",
    "    t1.back(45)\n",
    "\n",
    "def addKeys():\n",
    "    wn.onkey(keyup, \"Up\")\n",
    "    wn.onkey(keyleft, \"Left\")\n",
    "    wn.onkey(keyright, \"Right\")\n",
    "    wn.onkey(keydown, \"Down\")\n",
    "    wn.onkey(wn.bye, \"q\") # Register function exit to event key_press \"q\"\n",
    "\n",
    "def gamePlay():\n",
    "    import turtle\n",
    "    addKeys()\n",
    "    wn.listen()\n",
    "    turtle.mainloop()\n",
    "\n",
    "def lab10():\n",
    "    gamePlay()"
   ]
  },
  {
   "cell_type": "code",
   "execution_count": null,
   "metadata": {
    "collapsed": false
   },
   "outputs": [],
   "source": [
    "lab10()"
   ]
  },
  {
   "cell_type": "markdown",
   "metadata": {},
   "source": [
    "## 이벤트-2: 마우스가 클릭하는 위치에 거북이를 이동하기\n",
    "\n",
    "* 마우스이벤트를 인식하기\n",
    "    ```\n",
    "    onclick\n",
    "    ```\n",
    "* 마우스이벤트를 처리하는 함수\n",
    "    * 함수에 마우스를 클릭한 위치인 좌표가 argument로 설정된다는 점에 주의한다.\n",
    "        ```\n",
    "        mousegoto(x,y)\n",
    "        ```"
   ]
  },
  {
   "cell_type": "code",
   "execution_count": null,
   "metadata": {
    "collapsed": true
   },
   "outputs": [],
   "source": [
    "def mousegoto(x,y):\n",
    "    msg=\"mouse clicked {0} {1}\".format(x,y)\n",
    "    wn.title(msg)\n",
    "    t1.setpos(x,y)\n",
    "\n",
    "def addMouse():\n",
    "    wn.onclick(mousegoto)  # Wire up a click on the window.\n",
    "\n",
    "def gamePlay():\n",
    "    import turtle\n",
    "    addKeys()\n",
    "    addMouse()\n",
    "    wn.listen()\n",
    "    turtle.mainloop()\n",
    "\n",
    "def lab10():\n",
    "    gamePlay()"
   ]
  },
  {
   "cell_type": "code",
   "execution_count": null,
   "metadata": {
    "collapsed": true
   },
   "outputs": [],
   "source": [
    "lab10()"
   ]
  },
  {
   "cell_type": "markdown",
   "metadata": {},
   "source": [
    "## 이벤트-3 키보드, 마우스로 미로게임 해보기\n",
    "\n",
    "* 마우스, 키보드 이벤트를 모두 설정한다 (이벤트-1, 이벤트-2)\n",
    "* 화면을 미로로 변경한다.\n",
    "    ```\n",
    "    wn.bgpic(\"myMaze.gif\")\n",
    "    ```"
   ]
  },
  {
   "cell_type": "markdown",
   "metadata": {},
   "source": [
    "## 이벤트-4 거북이가 구역에 들어가면 알려주기\n"
   ]
  },
  {
   "cell_type": "markdown",
   "metadata": {},
   "source": [
    "* 구역에 들어가면, 구역의 색을 빨간 색으로 변경한다.\n",
    "* 좌표에 음수가 포함되는 경우, 주의한다.\n",
    "\n",
    "* 프로그래밍 요소\n",
    "    * 키보드/마우스 이벤트를 처리\n",
    "    * 화면의 그림 인식\n",
    "        * if문으로 구역에 들어갔는지 확인\n",
    "    * 화면 그림을 변경하려면 덧그려준다."
   ]
  },
  {
   "cell_type": "markdown",
   "metadata": {},
   "source": [
    "* 구역은 두 점으로 정의한다.\n",
    "    ```\n",
    "    coord=[(100, 100), (200, 200)]\n",
    "    ```\n",
    "* 구역에 점이 포함되었는지는 범위로 확인한다.\n",
    "    * x의 시작점(xs), 끝점(xe)\n",
    "    * y의 시작점(ys), 끝점(ye)\n",
    "\n",
    "    ```\n",
    "    xs <= x <= xe and ys <= y <= ye\n",
    "    ```"
   ]
  },
  {
   "cell_type": "code",
   "execution_count": 8,
   "metadata": {
    "collapsed": false
   },
   "outputs": [
    {
     "name": "stdout",
     "output_type": "stream",
     "text": [
      "100\n"
     ]
    }
   ],
   "source": [
    "coord=[(100, 100), (200, 200)]\n",
    "print coord[0][0]"
   ]
  },
  {
   "cell_type": "code",
   "execution_count": 10,
   "metadata": {
    "collapsed": true
   },
   "outputs": [],
   "source": [
    "x1=coord[0][0]\n",
    "x2=coord[1][0]\n",
    "y1=coord[0][1]\n",
    "y2=coord[1][1]"
   ]
  },
  {
   "cell_type": "code",
   "execution_count": 11,
   "metadata": {
    "collapsed": true
   },
   "outputs": [],
   "source": [
    "xs=min(x1,x2)\n",
    "xe=max(x1,x2)\n",
    "ys=min(y1,y2)\n",
    "ye=max(y1,y2)"
   ]
  },
  {
   "cell_type": "markdown",
   "metadata": {},
   "source": [
    "* 점이 위 좌표로 이루어진 구역에 포함되는지 확인해본다.\n",
    "    * 0,0은 False\n",
    "    * 150,100은 True"
   ]
  },
  {
   "cell_type": "code",
   "execution_count": 14,
   "metadata": {
    "collapsed": false
   },
   "outputs": [
    {
     "name": "stdout",
     "output_type": "stream",
     "text": [
      "False\n",
      "True\n"
     ]
    }
   ],
   "source": [
    "print xs <= 0 <= xe and ys <= 0 <= ye\n",
    "print xs <= 150 <= xe and ys <= 100 <= ye"
   ]
  },
  {
   "cell_type": "markdown",
   "metadata": {},
   "source": [
    "* 함수로 만들어서 이벤트에 포함한다."
   ]
  },
  {
   "cell_type": "code",
   "execution_count": 4,
   "metadata": {
    "collapsed": false
   },
   "outputs": [],
   "source": [
    "# %load -r 395-421 src/pfun.py\n",
    "def isInRectangle(point,coord):\n",
    "    \"\"\"\n",
    "    determine if a point is inside a triangle\n",
    "    Parameters\n",
    "    ----------\n",
    "        arg1 tuple (or list) (x,y)\n",
    "        arg2 list of tuples [(x1,y1),(x2,y2)]\n",
    "    Returns\n",
    "    -------\n",
    "        boolean\n",
    "    Example\n",
    "    -------\n",
    "        point=(0, 0)\n",
    "        coord=[(100, 100), (200, 200)]\n",
    "        isInRectangle(point,coord)\n",
    "    \"\"\"\n",
    "    x1=coord[0][0]\n",
    "    x2=coord[1][0]\n",
    "    y1=coord[0][1]\n",
    "    y2=coord[1][1]\n",
    "    xs=min(x1,x2)\n",
    "    xe=max(x1,x2)\n",
    "    ys=min(y1,y2)\n",
    "    ye=max(y1,y2)\n",
    "    x=point[0]\n",
    "    y=point[1]\n",
    "    return (xs <= x <= xe and ys <= y <= ye)"
   ]
  },
  {
   "cell_type": "code",
   "execution_count": 16,
   "metadata": {
    "collapsed": false,
    "scrolled": true
   },
   "outputs": [
    {
     "name": "stdout",
     "output_type": "stream",
     "text": [
      "False\n",
      "True\n"
     ]
    }
   ],
   "source": [
    "print isInRectangle((0,0),[(100,100),(200,200)])\n",
    "print isInRectangle((150,100),[(100,100),(200,200)])"
   ]
  },
  {
   "cell_type": "markdown",
   "metadata": {},
   "source": [
    "## 이벤트-5 거북이가 선을 밟았는지 알려주기\n",
    "\n",
    "* 선은 인식하기에 가늘어서, 아래 위 +1씩해서 조금 넓게 잡는다.\n",
    "* 선을 밟으면 선의 색을 빨간 색으로 변경한다.\n",
    "* 수평, 수직, 사선일 경우를 생각해 본다.\n",
    "    * (50,100) (150,100) -> (49,99) (151,101)"
   ]
  },
  {
   "cell_type": "code",
   "execution_count": 20,
   "metadata": {
    "collapsed": false
   },
   "outputs": [],
   "source": [
    "def isOnLine(point,pos1,pos2):\n",
    "    x1=pos1[0]-1\n",
    "    y1=pos1[1]-1\n",
    "    x2=pos2[0]+1\n",
    "    y2=pos2[1]+1\n",
    "    return isInRectangle(point,[(x1,y1),(x2,y2)])"
   ]
  },
  {
   "cell_type": "code",
   "execution_count": 28,
   "metadata": {
    "collapsed": false
   },
   "outputs": [
    {
     "name": "stdout",
     "output_type": "stream",
     "text": [
      "True\n",
      "True\n",
      "False\n"
     ]
    }
   ],
   "source": [
    "print isOnLine((70,100),(50,100),(150,100))\n",
    "print isOnLine((70,101),(50,100),(150,100))\n",
    "print isOnLine((40,101),(50,100),(150,100))"
   ]
  },
  {
   "cell_type": "markdown",
   "metadata": {},
   "source": [
    "## 이벤트-6 거북이가 원에 들어갔는지는 알려주기\n",
    "\n",
    "*  circle함수는 중심점이 x,y+r일 경우, x,y에서 반지름으로 그린다는 점을 주의한다."
   ]
  },
  {
   "cell_type": "code",
   "execution_count": null,
   "metadata": {
    "collapsed": true
   },
   "outputs": [],
   "source": [
    "# %load -r 329-393 src/pfun.py\n",
    "def isInCircle(curpos,radius,pos):\n",
    "    \"\"\"\n",
    "    turtle circle does not draw from a center\n",
    "    so, get a center(x,y+r) and compute the euclidean distance\n",
    "            x,y+2r\n",
    "             __\n",
    "    x-r,y+r |__|  x+r,y+r\n",
    "            x,y\n",
    "\n",
    "    Parameters\n",
    "    ----------\n",
    "        arg1 current pos\n",
    "        arg2 circle radius\n",
    "        arg3 circle pos\n",
    "    Returns\n",
    "    -------\n",
    "        boolean\n",
    "    Examples\n",
    "    --------\n",
    "        pfun.isInCircle((100,200),100,(100,100))\n",
    "    \"\"\"\n",
    "    center=(pos[0],pos[1]+radius)\n",
    "    distance=getEuclDistance(center,curpos)\n",
    "    return distance<=radius\n",
    "\n",
    "def drawCircleAt(radius,pos):\n",
    "    \"\"\"\n",
    "    note: tilt circle if heading is not 0\n",
    "    Parameters\n",
    "    ----------\n",
    "        int or float\n",
    "        list or tuple (x,y)\n",
    "    Examples\n",
    "    --------\n",
    "        drawCircleAt(50,(100,50))\n",
    "    \"\"\"\n",
    "    oldheading=t1.heading()\n",
    "    t1.setheading(0)\n",
    "    t1.penup()\n",
    "    t1.setpos(pos)\n",
    "    t1.pendown()\n",
    "    t1.circle(radius)\n",
    "    t1.setheading(oldheading)\n",
    "\n",
    "def getEuclDistance(p1,p2):\n",
    "    \"\"\"\n",
    "    Parameters\n",
    "    ----------\n",
    "        list of x,y (current pos)\n",
    "        list of x,y (target pos)\n",
    "    Returns\n",
    "    -------\n",
    "        float distance\n",
    "    Examples\n",
    "    --------\n",
    "        getDistance((100,200),(50,100))\n",
    "        getDistance((-100,-200),(-50,-100))\n",
    "        111.80339887498948\n",
    "    \"\"\"\n",
    "    import math\n",
    "    dtemp=0\n",
    "    for i in range(len(p1)):\n",
    "       dtemp+=math.pow(p1[i]-p2[i],2)\n",
    "    distance=math.sqrt(dtemp)\n",
    "    return distance"
   ]
  }
 ],
 "metadata": {
  "kernelspec": {
   "display_name": "Python 2",
   "language": "python",
   "name": "python2"
  },
  "language_info": {
   "codemirror_mode": {
    "name": "ipython",
    "version": 2
   },
   "file_extension": ".py",
   "mimetype": "text/x-python",
   "name": "python",
   "nbconvert_exporter": "python",
   "pygments_lexer": "ipython2",
   "version": "2.7.10"
  }
 },
 "nbformat": 4,
 "nbformat_minor": 0
}
