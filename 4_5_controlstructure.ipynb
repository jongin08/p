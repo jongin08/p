{
 "cells": [
  {
   "cell_type": "markdown",
   "metadata": {
    "slideshow": {
     "slide_type": "slide"
    }
   },
   "source": [
    "# 4. 제어흐름\n",
    "\n",
    "## 4.1 학습내용\n",
    "\n",
    "### 4.1.1 목표\n",
    "\n",
    "* 지난 학습 - 변수, 함수\n",
    "    * 변수\n",
    "        * 수첩과 같이 저장해서 다시 사용하려는 의도 (재사용)\n",
    "        * 실제 값을 사용하기 보다는 변수를 사용하는 것이 재사용을 많이 할 수 있게 한다 (일반화 또는 추상화).\n",
    "            * 조그만 사각형, 큰 사각형을 하나의 함수로 처리하려면 변수를 사용해야 한다.\n",
    "    * 함수\n",
    "        * argument(함수를 만들 때)와 parameter (함수를 호출할 때)\n",
    "        * 지역변수를 돌려주는 경우 return을 사용한다.\n",
    "    * 함수와 변수\n",
    "        * 지역변수는 함수부에서만 (들여쓰기 한 부분에서만) 의미가 있다. 함수부를 벗어나면 파괴된다.\n",
    "        * 전역변수는 어느 곳에서나 사용할 수 있다.\n",
    "    \n",
    "* 이번 학습에서는 변수에 따라 프로그래밍의 흐름을 제어하는 조건, 반복을 사용할 수 있게 함.\n",
    "    * choice 의사결정\n",
    "    * loop 반복\n",
    "\n",
    "* 제어흐름은 다이어그램으로 표현하면 이해하기 쉽다. Activity Diagram을 사용한다.\n",
    "\n",
    "### 4.1.2 문제\n",
    "\n",
    "* 제어-1 도형 그리기 (반복)\n",
    "* 제어-2 사용자 입력을 받아서 해당하는 도형을 그리기 (사용자 입력을 if문 처리)\n",
    "* 제어-3 바람개비 도형 그리기 (if문 사용)\n",
    "* 제어-4 온도변환 - 단순 if\n",
    "* 제어-5 성적처리- 다분기\n",
    "    * 거북이에게 학점묻기\n",
    "* 제어-6 가위바위보 - 중첩 if\n",
    "* 제어-7 삼각형 그리기\n",
    "* 제어-8 구구단의 출력 - 중첩 for\n",
    "* 제어-9 BMI\n",
    "* 제어-10 3,5 배수의 합계 (euler-1)\n",
    "* 제어-11 윤년인지 맞추기\n",
    "\n",
    "### 4.1.3 과제\n",
    "\n",
    "* 제어-12 100년 동안 매 월 1일이 일요일인 경우 (euler-19)\n",
    "* 제어-13 캘린더 만들기\n",
    "* 제어-14 숫자 맞추기 게임 (알고리즘)\n"
   ]
  },
  {
   "cell_type": "markdown",
   "metadata": {
    "slideshow": {
     "slide_type": "slide"
    }
   },
   "source": [
    "## 4.2 환경\n",
    "\n",
    "\n",
    "* plantuml 설정\n",
    "    * plantuml이 다이어그램을 생성할 때, GRAPHVIZ를 사용한다. 먼저 이 환경을 설정하는 것이 필요하다.\n",
    "        * 주의\n",
    "            * 실행파일을 경로로 잡아준다 (폴더가 아니다)\n",
    "            * 리눅스 실행파일 dot, 윈도우 실행파일 dot.exe\n",
    "    * ipython notebook에서 사용할 수 있게 plantuml 라이브러리 호출 (명령어는 %install_ext)\n",
    "    * 명령어 사용할 수 있게 준비 (%load_ext)\n",
    "    * plantuml.jar 내려받아 저장되었는지 확인\n",
    "    * 경로의 설정은 참조 \"1\\_hello_ plantuml.ipynb\"\n",
    "    * 리눅스/맥을 기준으로 설명한다. 윈도우는 디렉토리를 찾아서 넣어주면 된다 (아래 예)\n",
    "\n",
    "        ```\n",
    "        import os\n",
    "        mywd='C:\\\\Users\\\\Administrator\\\\Documents\\\\jsl\\\\Code\\\\p'\n",
    "        myplantdir=os.path.join(mywd,'lib')\n",
    "        mydot=\"C:\\\\Program Files (x86)\\\\Graphviz2.38\\\\bin\\\\dot.exe\"\n",
    "        ```"
   ]
  },
  {
   "cell_type": "code",
   "execution_count": 1,
   "metadata": {
    "collapsed": false
   },
   "outputs": [
    {
     "name": "stdout",
     "output_type": "stream",
     "text": [
      "/Users/media/Code/git/p2/lib\n",
      "The environment variable GRAPHVIZ_DOT has been set to /opt/local/bin/dot\n",
      "Dot executable is /opt/local/bin/dot\n",
      "Dot version: dot - graphviz version 2.38.0 (20140413.2041)\n",
      "Installation seems OK. File generation OK\n"
     ]
    }
   ],
   "source": [
    "import os\n",
    "import glob\n",
    "\n",
    "mywd=%pwd\n",
    "myplantdir=os.path.join(mywd,'lib')\n",
    "mydotdir=!which dot\n",
    "mydot=mydotdir[0]\n",
    "# mydot=\"C:\\\\Program Files (x86)\\\\Graphviz2.38\\\\bin\\\\dot.exe\"\n",
    "\n",
    "# plantuml.jar파일이 존재하는지 확인한후, 테스트\n",
    "%cd {myplantdir}\n",
    "glob.glob(r'./*.jar')\n",
    "# dot 실행파일이 저장된 곳을 인식 못하는 경우, Python명령어를 이용해 환경변수를 설정할 수 있다.\n",
    "os.environ['GRAPHVIZ_DOT']=mydot\n",
    "# 리눅스 예: 앞 느낌표는 쉘 명령어. {myplantdir}는 쉘에서 변수값을 읽어오는 것.\n",
    "!java -jar {myplantdir}/plantuml.jar -testdot"
   ]
  },
  {
   "cell_type": "code",
   "execution_count": 5,
   "metadata": {
    "collapsed": false,
    "slideshow": {
     "slide_type": "slide"
    }
   },
   "outputs": [
    {
     "name": "stdout",
     "output_type": "stream",
     "text": [
      "Installed plantuml_magics.py. To use it, type:\n",
      "  %load_ext plantuml_magics\n"
     ]
    }
   ],
   "source": [
    "%install_ext https://raw.githubusercontent.com/sberke/ipython-plantuml/master/plantuml_magics.py"
   ]
  },
  {
   "cell_type": "code",
   "execution_count": 6,
   "metadata": {
    "collapsed": false,
    "slideshow": {
     "slide_type": "slide"
    }
   },
   "outputs": [],
   "source": [
    "%load_ext plantuml_magics"
   ]
  },
  {
   "cell_type": "markdown",
   "metadata": {},
   "source": [
    "## 4.3 제어흐름이란?\n",
    "\n",
    "* Control Flow 또는 Flow of Control\n",
    "* 프로그래밍에서 명령문이 실행되는 순서를 제어하는 것.\n",
    "* 프로그래밍에서는 앞서 있는 명령문이, 뒤에 있는 것보다 먼저 실행된다\n",
    "    * 순차적 sequential order\n",
    "* goto 명령문의 문제\n",
    "    * 프로그램의 흐름을 순차적이지 않게 만든다.\n",
    "    * goto 명령문은 if-then, while로 변경하도록 한다.\n",
    "* 조건과 반복을 통한 제어구조\n",
    "    * 조건 반복은 앞서 배운 변수를 먼저 이해해야 한다.\n",
    "\n",
    "### 4.3.1 조건\n",
    "\n",
    "* 조건 choice\n",
    "* IF, ELSE를 이용해 조건에 따라 실행되는 명령문을 제어한다.\n",
    "* 종류\n",
    "    * simple\n",
    "    ```\n",
    "    if 조건:\n",
    "    \n",
    "    ```\n",
    "\n",
    "    * multi-way\n",
    "    ```\n",
    "    if 조건:\n",
    "    \n",
    "    elif 조건:\n",
    "    \n",
    "    else:\n",
    "    ```\n",
    "    \n",
    "    * nested\n",
    "    \n",
    "    ```\n",
    "    if 조건:\n",
    "           if 조건:\n",
    "           else:\n",
    "    else:\n",
    "    ```\n",
    "    "
   ]
  },
  {
   "cell_type": "markdown",
   "metadata": {
    "slideshow": {
     "slide_type": "slide"
    }
   },
   "source": [
    "* logical operator\n",
    "    * 조건은 항상 True 또는 False 값을 가진다.\n",
    "    * 복합조건은 논리연산자를 사용하여 표현한다.\n",
    "\n",
    "* 간단한 simple if문을 사용하면 다음과 같다.\n",
    "    * if문 조건이 0이면, False가 된다.\n",
    "    * if문 조건이 0아닌 값을 가지면, True가 된다."
   ]
  },
  {
   "cell_type": "code",
   "execution_count": 3,
   "metadata": {
    "collapsed": false
   },
   "outputs": [
    {
     "name": "stdout",
     "output_type": "stream",
     "text": [
      "This is true.\n"
     ]
    }
   ],
   "source": [
    "if 1:\n",
    "    print \"This is true.\"\n",
    "else:\n",
    "    print \"This is false.\""
   ]
  },
  {
   "cell_type": "code",
   "execution_count": 1,
   "metadata": {
    "collapsed": false
   },
   "outputs": [
    {
     "name": "stdout",
     "output_type": "stream",
     "text": [
      "This is true\n"
     ]
    }
   ],
   "source": [
    "if 2:\n",
    "    print \"This is true\""
   ]
  },
  {
   "cell_type": "code",
   "execution_count": 6,
   "metadata": {
    "collapsed": false
   },
   "outputs": [
    {
     "name": "stdout",
     "output_type": "stream",
     "text": [
      "-5 is true in if-statment\n",
      "-4 is true in if-statment\n",
      "-3 is true in if-statment\n",
      "-2 is true in if-statment\n",
      "-1 is true in if-statment\n",
      "0 is false in if-statment\n",
      "1 is true in if-statment\n",
      "2 is true in if-statment\n",
      "3 is true in if-statment\n",
      "4 is true in if-statment\n"
     ]
    }
   ],
   "source": [
    "for i in range(-5,5):\n",
    "    if i:\n",
    "        print i, \"is true in if-statment\"\n",
    "    else:\n",
    "        print i, \"is false in if-statment\""
   ]
  },
  {
   "cell_type": "markdown",
   "metadata": {},
   "source": [
    "* 단순 simple if문은 짧게 줄여서 사용할 수 있다. 이를 ternary conditional operator라고 한다.\n",
    "    * 조건이 참이면 10을 넣고, 아니면 20을 넣는 예를 한 줄로 줄여쓸 수 있다.\n",
    "    ```\n",
    "    if condition:\n",
    "            result=10\n",
    "    else:\n",
    "            result=20\n",
    "    ```\n"
   ]
  },
  {
   "cell_type": "code",
   "execution_count": 9,
   "metadata": {
    "collapsed": false
   },
   "outputs": [
    {
     "name": "stdout",
     "output_type": "stream",
     "text": [
      "10\n"
     ]
    }
   ],
   "source": [
    "result = 10 if 1 else 20\n",
    "print result"
   ]
  },
  {
   "cell_type": "markdown",
   "metadata": {
    "slideshow": {
     "slide_type": "slide"
    }
   },
   "source": [
    "### 4.3.2 반복\n",
    "\n",
    "* 반복을 사용하려면 시작, 끝, 증감자를 이해해야 한다.\n",
    "    * 반복되는 명령문을 몇 번 실행할 것인지 결정한다.\n",
    "    * 몇 번 실행하는지 계수를 사용하여 추적한다.\n",
    "\n",
    "* 반복 loop - 반복횟수를 정하거나 조건에 따라 명령문의 실행을 반복한다.\n",
    "    * 반복횟수에 따른 반복 count controlled loop\n",
    "        * FOR\n",
    "    * 조건에 따른 반복 condition controlled loop\n",
    "        * WHILE, DO-WHILE\n",
    "    * 무한반복 infinite loop\n",
    "        * 끝내는 경우를 만들어 주지 않으면, 끝낼 수 없는 반복\n",
    "        ```\n",
    "        done = \"n\"\n",
    "        while done == \"n\":\n",
    "                done = input(\"done? (y/n): \")\n",
    "        ```\n",
    "    * 구조\n",
    "        * simple loop\n",
    "        ```\n",
    "        for :\n",
    "        ```\n",
    "        \n",
    "        * nested loop\n",
    "        ```\n",
    "        for :\n",
    "               for :\n",
    "        ```\n",
    "        "
   ]
  },
  {
   "cell_type": "markdown",
   "metadata": {
    "collapsed": true
   },
   "source": [
    "* x = range(0,5)\n",
    "    * x는 정수 0,1,2,3,4를 가질 수 있다는 것을 의미한다.\n",
    "    * 0부터 시작해서 하나씩 증가해서 4까지 증가하는 것이다.\n",
    "    * for문의 실행에 필요한 시작, 증감자, 끝 조건을 명시하기 편하다.\n",
    "    \n",
    "\n",
    "$$ 0 \\le x<5, x=정수$$\n",
    "\n",
    "* 파이프 구조\n",
    "    * 파이프에 0,1,2,3,4를 순서대로 넣고, 0부터 1개씩 0,1,2,3,4를 꺼내서 사용하는 것으로 이해하면 쉽다.\n",
    "    * 파이프에서 꺼내 사용한 숫자는 다시 넣지 않고 버린다.\n"
   ]
  },
  {
   "cell_type": "code",
   "execution_count": 1,
   "metadata": {
    "collapsed": false
   },
   "outputs": [
    {
     "name": "stdout",
     "output_type": "stream",
     "text": [
      "0 1 2 3 4 5 6 7 8 9\n"
     ]
    }
   ],
   "source": [
    "for i in range(0,10):\n",
    "    print i,"
   ]
  },
  {
   "cell_type": "markdown",
   "metadata": {},
   "source": [
    "### 4.3.3 다이어그램\n",
    "\n",
    "* 왜 다이어그램을 그릴까?\n",
    "    * 다이어그램을 그려는 이유는 언어의 문법에서 자유롭게 프로그래밍할 작업을 정하려고 하는 것이다.\n",
    "    * 다이어그램을 그릴 때는 어떤 절차를, 어떻게 수행해서 작업목적을 완성하는지 생각한다.\n",
    "\n",
    "* 다이어그램을 그릴 때 주의할 점\n",
    "    * 컴퓨터가 작업을 수행하도록, 절차를 구체적으로 작성한다.\n",
    "    * 1부터 10까지 더하는 작업을 예를 들어보자.\n",
    "        ```\n",
    "        시작\n",
    "        1부터 10까지 더한다.\n",
    "        끝\n",
    "        ```\n",
    "        * 1부터 10까지 더하는 작업은 세분화가 필요하다.\n",
    "    * 2, 4, 8, 7, 5, 3, 1, 6에서 제일 큰 수 7을 찾는 예를 들어보자.\n",
    "        ```\n",
    "        시작\n",
    "        제일 큰 수를 고른다.\n",
    "        끝\n",
    "        ```\n",
    "        * 제일 큰 수를 고르는 방법을 세분화해서 적어야 한다."
   ]
  },
  {
   "cell_type": "markdown",
   "metadata": {
    "slideshow": {
     "slide_type": "slide"
    }
   },
   "source": [
    "* 다이어그램은 제어흐름을 구성하는 (1) 절차, (2) 반복, (3) 조건을 사용한다.\n",
    "\n",
    "* 절차\n",
    "    * activity라고 한다.\n",
    "    * 사용하는 문법은 콜론(:)으로 시작해서 세미콜론(;)으로 끝나고, 그 안에 절차를 적어준다.\n",
    "    ```\n",
    "    :activity;\n",
    "    ```\n",
    "    \n",
    "* 반복\n",
    "    * 시작, 끝, 증감자를 명시해 준다.\n",
    "    * repeat와 repeat while(반복하는 조건)로 감싸고, 그 안에 activity를 적어준다.\n",
    "    ```\n",
    "    repeat\n",
    "    :activity;\n",
    "    repeat while(조건)\n",
    "    ```\n",
    "    \n",
    "* 조건\n",
    "    * 실행하려는 조건을 명시해 준다.\n",
    "    * 조건명령문으로 감싸고, 그 안에 activity를 적어준다.\n",
    "    ``` \n",
    "    if(조건):\n",
    "    :activity;\n",
    "    endif\n",
    "    ```"
   ]
  },
  {
   "cell_type": "markdown",
   "metadata": {},
   "source": [
    "* 작업 절차를 다이어그램으로 표현하면 다음과 같다."
   ]
  },
  {
   "cell_type": "code",
   "execution_count": 7,
   "metadata": {
    "collapsed": false,
    "slideshow": {
     "slide_type": "slide"
    }
   },
   "outputs": [
    {
     "data": {
      "image/svg+xml": [
       "<svg height=\"510px\" style=\"width:83px;height:510px;\" version=\"1.1\" viewBox=\"0 0 83 510\" width=\"83px\" xmlns=\"http://www.w3.org/2000/svg\" xmlns:xlink=\"http://www.w3.org/1999/xlink\"><defs><filter height=\"300%\" id=\"f1\" width=\"300%\" x=\"-1\" y=\"-1\"><feGaussianBlur result=\"blurOut\" stdDeviation=\"2.0\"/><feColorMatrix in=\"blurOut\" result=\"blurOut2\" type=\"matrix\" values=\"0 0 0 0 0 0 0 0 0 0 0 0 0 0 0 0 0 0 .4 0\"/><feOffset dx=\"4.0\" dy=\"4.0\" in=\"blurOut2\" result=\"blurOut3\"/><feBlend in=\"SourceGraphic\" in2=\"blurOut3\" mode=\"normal\"/></filter></defs><g><ellipse cx=\"43\" cy=\"20\" fill=\"#000000\" filter=\"url(#f1)\" rx=\"10\" ry=\"10\" style=\"stroke: none; stroke-width: 1.0;\"/><rect fill=\"#FEFECE\" filter=\"url(#f1)\" height=\"34.1328\" rx=\"12.5\" ry=\"12.5\" style=\"stroke: #A80036; stroke-width: 1.5;\" width=\"60\" x=\"13\" y=\"50\"/><text fill=\"#000000\" font-family=\"sans-serif\" font-size=\"12\" lengthAdjust=\"spacingAndGlyphs\" textLength=\"40\" x=\"23\" y=\"71.6016\">fd 100</text><rect fill=\"#FEFECE\" filter=\"url(#f1)\" height=\"34.1328\" rx=\"12.5\" ry=\"12.5\" style=\"stroke: #A80036; stroke-width: 1.5;\" width=\"66\" x=\"10\" y=\"104.1328\"/><text fill=\"#000000\" font-family=\"sans-serif\" font-size=\"12\" lengthAdjust=\"spacingAndGlyphs\" textLength=\"46\" x=\"20\" y=\"125.7344\">right 90</text><rect fill=\"#FEFECE\" filter=\"url(#f1)\" height=\"34.1328\" rx=\"12.5\" ry=\"12.5\" style=\"stroke: #A80036; stroke-width: 1.5;\" width=\"60\" x=\"13\" y=\"158.2656\"/><text fill=\"#000000\" font-family=\"sans-serif\" font-size=\"12\" lengthAdjust=\"spacingAndGlyphs\" textLength=\"40\" x=\"23\" y=\"179.8672\">fd 100</text><rect fill=\"#FEFECE\" filter=\"url(#f1)\" height=\"34.1328\" rx=\"12.5\" ry=\"12.5\" style=\"stroke: #A80036; stroke-width: 1.5;\" width=\"66\" x=\"10\" y=\"212.3984\"/><text fill=\"#000000\" font-family=\"sans-serif\" font-size=\"12\" lengthAdjust=\"spacingAndGlyphs\" textLength=\"46\" x=\"20\" y=\"234\">right 90</text><rect fill=\"#FEFECE\" filter=\"url(#f1)\" height=\"34.1328\" rx=\"12.5\" ry=\"12.5\" style=\"stroke: #A80036; stroke-width: 1.5;\" width=\"60\" x=\"13\" y=\"266.5313\"/><text fill=\"#000000\" font-family=\"sans-serif\" font-size=\"12\" lengthAdjust=\"spacingAndGlyphs\" textLength=\"40\" x=\"23\" y=\"288.1328\">fd 100</text><rect fill=\"#FEFECE\" filter=\"url(#f1)\" height=\"34.1328\" rx=\"12.5\" ry=\"12.5\" style=\"stroke: #A80036; stroke-width: 1.5;\" width=\"66\" x=\"10\" y=\"320.6641\"/><text fill=\"#000000\" font-family=\"sans-serif\" font-size=\"12\" lengthAdjust=\"spacingAndGlyphs\" textLength=\"46\" x=\"20\" y=\"342.2656\">right 90</text><rect fill=\"#FEFECE\" filter=\"url(#f1)\" height=\"34.1328\" rx=\"12.5\" ry=\"12.5\" style=\"stroke: #A80036; stroke-width: 1.5;\" width=\"60\" x=\"13\" y=\"374.7969\"/><text fill=\"#000000\" font-family=\"sans-serif\" font-size=\"12\" lengthAdjust=\"spacingAndGlyphs\" textLength=\"40\" x=\"23\" y=\"396.3984\">fd 100</text><rect fill=\"#FEFECE\" filter=\"url(#f1)\" height=\"34.1328\" rx=\"12.5\" ry=\"12.5\" style=\"stroke: #A80036; stroke-width: 1.5;\" width=\"66\" x=\"10\" y=\"428.9297\"/><text fill=\"#000000\" font-family=\"sans-serif\" font-size=\"12\" lengthAdjust=\"spacingAndGlyphs\" textLength=\"46\" x=\"20\" y=\"450.5313\">right 90</text><ellipse cx=\"43\" cy=\"493.0625\" fill=\"none\" filter=\"url(#f1)\" rx=\"10\" ry=\"10\" style=\"stroke: #000000; stroke-width: 1.0;\"/><ellipse cx=\"43.5\" cy=\"493.5625\" fill=\"#000000\" filter=\"url(#f1)\" rx=\"6\" ry=\"6\" style=\"stroke: none; stroke-width: 1.0;\"/><line style=\"stroke: #A80036; stroke-width: 1.5;\" x1=\"43\" x2=\"43\" y1=\"30\" y2=\"50\"/><polygon fill=\"#A80036\" points=\"39,40,43,50,47,40,43,44\" style=\"stroke: #A80036; stroke-width: 1.0;\"/><line style=\"stroke: #A80036; stroke-width: 1.5;\" x1=\"43\" x2=\"43\" y1=\"84.1328\" y2=\"104.1328\"/><polygon fill=\"#A80036\" points=\"39,94.1328,43,104.1328,47,94.1328,43,98.1328\" style=\"stroke: #A80036; stroke-width: 1.0;\"/><line style=\"stroke: #A80036; stroke-width: 1.5;\" x1=\"43\" x2=\"43\" y1=\"138.2656\" y2=\"158.2656\"/><polygon fill=\"#A80036\" points=\"39,148.2656,43,158.2656,47,148.2656,43,152.2656\" style=\"stroke: #A80036; stroke-width: 1.0;\"/><line style=\"stroke: #A80036; stroke-width: 1.5;\" x1=\"43\" x2=\"43\" y1=\"192.3984\" y2=\"212.3984\"/><polygon fill=\"#A80036\" points=\"39,202.3984,43,212.3984,47,202.3984,43,206.3984\" style=\"stroke: #A80036; stroke-width: 1.0;\"/><line style=\"stroke: #A80036; stroke-width: 1.5;\" x1=\"43\" x2=\"43\" y1=\"246.5313\" y2=\"266.5313\"/><polygon fill=\"#A80036\" points=\"39,256.5313,43,266.5313,47,256.5313,43,260.5313\" style=\"stroke: #A80036; stroke-width: 1.0;\"/><line style=\"stroke: #A80036; stroke-width: 1.5;\" x1=\"43\" x2=\"43\" y1=\"300.6641\" y2=\"320.6641\"/><polygon fill=\"#A80036\" points=\"39,310.6641,43,320.6641,47,310.6641,43,314.6641\" style=\"stroke: #A80036; stroke-width: 1.0;\"/><line style=\"stroke: #A80036; stroke-width: 1.5;\" x1=\"43\" x2=\"43\" y1=\"354.7969\" y2=\"374.7969\"/><polygon fill=\"#A80036\" points=\"39,364.7969,43,374.7969,47,364.7969,43,368.7969\" style=\"stroke: #A80036; stroke-width: 1.0;\"/><line style=\"stroke: #A80036; stroke-width: 1.5;\" x1=\"43\" x2=\"43\" y1=\"408.9297\" y2=\"428.9297\"/><polygon fill=\"#A80036\" points=\"39,418.9297,43,428.9297,47,418.9297,43,422.9297\" style=\"stroke: #A80036; stroke-width: 1.0;\"/><line style=\"stroke: #A80036; stroke-width: 1.5;\" x1=\"43\" x2=\"43\" y1=\"463.0625\" y2=\"483.0625\"/><polygon fill=\"#A80036\" points=\"39,473.0625,43,483.0625,47,473.0625,43,477.0625\" style=\"stroke: #A80036; stroke-width: 1.0;\"/></g></svg>"
      ],
      "text/plain": [
       "<IPython.core.display.SVG object>"
      ]
     },
     "execution_count": 7,
     "metadata": {},
     "output_type": "execute_result"
    }
   ],
   "source": [
    "%%plantuml\n",
    "@startuml\n",
    "start\n",
    "\n",
    ":fd 100;\n",
    ":right 90;\n",
    ":fd 100;\n",
    ":right 90;\n",
    ":fd 100;\n",
    ":right 90;\n",
    ":fd 100;\n",
    ":right 90;\n",
    "stop\n",
    "@enduml"
   ]
  },
  {
   "cell_type": "markdown",
   "metadata": {},
   "source": [
    "* 반복을 사용해서 재구성하면 다음과 같다."
   ]
  },
  {
   "cell_type": "code",
   "execution_count": 8,
   "metadata": {
    "collapsed": false,
    "slideshow": {
     "slide_type": "slide"
    }
   },
   "outputs": [
    {
     "data": {
      "image/svg+xml": [
       "<svg height=\"273px\" style=\"width:93px;height:273px;\" version=\"1.1\" viewBox=\"0 0 93 273\" width=\"93px\" xmlns=\"http://www.w3.org/2000/svg\" xmlns:xlink=\"http://www.w3.org/1999/xlink\"><defs><filter height=\"300%\" id=\"f1\" width=\"300%\" x=\"-1\" y=\"-1\"><feGaussianBlur result=\"blurOut\" stdDeviation=\"2.0\"/><feColorMatrix in=\"blurOut\" result=\"blurOut2\" type=\"matrix\" values=\"0 0 0 0 0 0 0 0 0 0 0 0 0 0 0 0 0 0 .4 0\"/><feOffset dx=\"4.0\" dy=\"4.0\" in=\"blurOut2\" result=\"blurOut3\"/><feBlend in=\"SourceGraphic\" in2=\"blurOut3\" mode=\"normal\"/></filter></defs><g><ellipse cx=\"43\" cy=\"20\" fill=\"#000000\" filter=\"url(#f1)\" rx=\"10\" ry=\"10\" style=\"stroke: none; stroke-width: 1.0;\"/><rect fill=\"#FEFECE\" filter=\"url(#f1)\" height=\"34.1328\" rx=\"12.5\" ry=\"12.5\" style=\"stroke: #A80036; stroke-width: 1.5;\" width=\"60\" x=\"13\" y=\"94\"/><text fill=\"#000000\" font-family=\"sans-serif\" font-size=\"12\" lengthAdjust=\"spacingAndGlyphs\" textLength=\"40\" x=\"23\" y=\"115.6016\">fd 100</text><rect fill=\"#FEFECE\" filter=\"url(#f1)\" height=\"34.1328\" rx=\"12.5\" ry=\"12.5\" style=\"stroke: #A80036; stroke-width: 1.5;\" width=\"66\" x=\"10\" y=\"148.1328\"/><text fill=\"#000000\" font-family=\"sans-serif\" font-size=\"12\" lengthAdjust=\"spacingAndGlyphs\" textLength=\"46\" x=\"20\" y=\"169.7344\">right 90</text><polygon fill=\"#FEFECE\" filter=\"url(#f1)\" points=\"43,50,55,62,43,74,31,62,43,50\" style=\"stroke: #A80036; stroke-width: 1.5;\"/><polygon fill=\"#FEFECE\" filter=\"url(#f1)\" points=\"31,202.2656,55,202.2656,67,214.2656,55,226.2656,31,226.2656,19,214.2656,31,202.2656\" style=\"stroke: #A80036; stroke-width: 1.5;\"/><text fill=\"#000000\" font-family=\"sans-serif\" font-size=\"11\" lengthAdjust=\"spacingAndGlyphs\" textLength=\"7\" x=\"39.5\" y=\"218.4229\">4</text><ellipse cx=\"43\" cy=\"256.2656\" fill=\"none\" filter=\"url(#f1)\" rx=\"10\" ry=\"10\" style=\"stroke: #000000; stroke-width: 1.0;\"/><ellipse cx=\"43.5\" cy=\"256.7656\" fill=\"#000000\" filter=\"url(#f1)\" rx=\"6\" ry=\"6\" style=\"stroke: none; stroke-width: 1.0;\"/><line style=\"stroke: #A80036; stroke-width: 1.5;\" x1=\"43\" x2=\"43\" y1=\"128.1328\" y2=\"148.1328\"/><polygon fill=\"#A80036\" points=\"39,138.1328,43,148.1328,47,138.1328,43,142.1328\" style=\"stroke: #A80036; stroke-width: 1.0;\"/><line style=\"stroke: #A80036; stroke-width: 1.5;\" x1=\"43\" x2=\"43\" y1=\"74\" y2=\"94\"/><polygon fill=\"#A80036\" points=\"39,84,43,94,47,84,43,88\" style=\"stroke: #A80036; stroke-width: 1.0;\"/><line style=\"stroke: #A80036; stroke-width: 1.5;\" x1=\"67\" x2=\"88\" y1=\"214.2656\" y2=\"214.2656\"/><polygon fill=\"#A80036\" points=\"84,164.6328,88,154.6328,92,164.6328,88,160.6328\" style=\"stroke: #A80036; stroke-width: 1.5;\"/><line style=\"stroke: #A80036; stroke-width: 1.5;\" x1=\"88\" x2=\"88\" y1=\"62\" y2=\"214.2656\"/><line style=\"stroke: #A80036; stroke-width: 1.5;\" x1=\"88\" x2=\"55\" y1=\"62\" y2=\"62\"/><polygon fill=\"#A80036\" points=\"65,58,55,62,65,66,61,62\" style=\"stroke: #A80036; stroke-width: 1.0;\"/><line style=\"stroke: #A80036; stroke-width: 1.5;\" x1=\"43\" x2=\"43\" y1=\"182.2656\" y2=\"202.2656\"/><polygon fill=\"#A80036\" points=\"39,192.2656,43,202.2656,47,192.2656,43,196.2656\" style=\"stroke: #A80036; stroke-width: 1.0;\"/><line style=\"stroke: #A80036; stroke-width: 1.5;\" x1=\"43\" x2=\"43\" y1=\"30\" y2=\"50\"/><polygon fill=\"#A80036\" points=\"39,40,43,50,47,40,43,44\" style=\"stroke: #A80036; stroke-width: 1.0;\"/><line style=\"stroke: #A80036; stroke-width: 1.5;\" x1=\"43\" x2=\"43\" y1=\"226.2656\" y2=\"246.2656\"/><polygon fill=\"#A80036\" points=\"39,236.2656,43,246.2656,47,236.2656,43,240.2656\" style=\"stroke: #A80036; stroke-width: 1.0;\"/></g></svg>"
      ],
      "text/plain": [
       "<IPython.core.display.SVG object>"
      ]
     },
     "execution_count": 8,
     "metadata": {},
     "output_type": "execute_result"
    }
   ],
   "source": [
    "%%plantuml\n",
    "@startuml\n",
    "start\n",
    "\n",
    "repeat\n",
    ":fd 100;\n",
    ":right 90;\n",
    "repeat while(4)\n",
    "\n",
    "stop\n",
    "@enduml"
   ]
  },
  {
   "cell_type": "code",
   "execution_count": 14,
   "metadata": {
    "collapsed": false,
    "slideshow": {
     "slide_type": "slide"
    }
   },
   "outputs": [
    {
     "data": {
      "image/svg+xml": [
       "<svg height=\"195px\" style=\"width:281px;height:195px;\" version=\"1.1\" viewBox=\"0 0 281 195\" width=\"281px\" xmlns=\"http://www.w3.org/2000/svg\" xmlns:xlink=\"http://www.w3.org/1999/xlink\"><defs><filter height=\"300%\" id=\"f1\" width=\"300%\" x=\"-1\" y=\"-1\"><feGaussianBlur result=\"blurOut\" stdDeviation=\"2.0\"/><feColorMatrix in=\"blurOut\" result=\"blurOut2\" type=\"matrix\" values=\"0 0 0 0 0 0 0 0 0 0 0 0 0 0 0 0 0 0 .4 0\"/><feOffset dx=\"4.0\" dy=\"4.0\" in=\"blurOut2\" result=\"blurOut3\"/><feBlend in=\"SourceGraphic\" in2=\"blurOut3\" mode=\"normal\"/></filter></defs><g><ellipse cx=\"139\" cy=\"20\" fill=\"#000000\" filter=\"url(#f1)\" rx=\"10\" ry=\"10\" style=\"stroke: none; stroke-width: 1.0;\"/><polygon fill=\"#FEFECE\" filter=\"url(#f1)\" points=\"78.5,50,199.5,50,211.5,62,199.5,74,78.5,74,66.5,62,78.5,50\" style=\"stroke: #A80036; stroke-width: 1.5;\"/><text fill=\"#000000\" font-family=\"sans-serif\" font-size=\"11\" lengthAdjust=\"spacingAndGlyphs\" textLength=\"121\" x=\"78.5\" y=\"66.1572\">a user chooses square</text><text fill=\"#000000\" font-family=\"sans-serif\" font-size=\"11\" lengthAdjust=\"spacingAndGlyphs\" textLength=\"6\" x=\"60.5\" y=\"59.6797\">y</text><text fill=\"#000000\" font-family=\"sans-serif\" font-size=\"11\" lengthAdjust=\"spacingAndGlyphs\" textLength=\"14\" x=\"211.5\" y=\"59.6797\">no</text><rect fill=\"#FEFECE\" filter=\"url(#f1)\" height=\"34.1328\" rx=\"12.5\" ry=\"12.5\" style=\"stroke: #A80036; stroke-width: 1.5;\" width=\"93\" x=\"10\" y=\"84\"/><text fill=\"#000000\" font-family=\"sans-serif\" font-size=\"12\" lengthAdjust=\"spacingAndGlyphs\" textLength=\"73\" x=\"20\" y=\"105.6016\">draw square</text><rect fill=\"#FEFECE\" filter=\"url(#f1)\" height=\"34.1328\" rx=\"12.5\" ry=\"12.5\" style=\"stroke: #A80036; stroke-width: 1.5;\" width=\"106\" x=\"168.5\" y=\"84\"/><text fill=\"#000000\" font-family=\"sans-serif\" font-size=\"12\" lengthAdjust=\"spacingAndGlyphs\" textLength=\"86\" x=\"178.5\" y=\"105.6016\">draw rectangle</text><polygon fill=\"#FEFECE\" filter=\"url(#f1)\" points=\"139,124.1328,151,136.1328,139,148.1328,127,136.1328,139,124.1328\" style=\"stroke: #A80036; stroke-width: 1.5;\"/><ellipse cx=\"139\" cy=\"178.1328\" fill=\"none\" filter=\"url(#f1)\" rx=\"10\" ry=\"10\" style=\"stroke: #000000; stroke-width: 1.0;\"/><ellipse cx=\"139.5\" cy=\"178.6328\" fill=\"#000000\" filter=\"url(#f1)\" rx=\"6\" ry=\"6\" style=\"stroke: none; stroke-width: 1.0;\"/><line style=\"stroke: #A80036; stroke-width: 1.5;\" x1=\"66.5\" x2=\"56.5\" y1=\"62\" y2=\"62\"/><line style=\"stroke: #A80036; stroke-width: 1.5;\" x1=\"56.5\" x2=\"56.5\" y1=\"62\" y2=\"84\"/><polygon fill=\"#A80036\" points=\"52.5,74,56.5,84,60.5,74,56.5,78\" style=\"stroke: #A80036; stroke-width: 1.0;\"/><line style=\"stroke: #A80036; stroke-width: 1.5;\" x1=\"211.5\" x2=\"221.5\" y1=\"62\" y2=\"62\"/><line style=\"stroke: #A80036; stroke-width: 1.5;\" x1=\"221.5\" x2=\"221.5\" y1=\"62\" y2=\"84\"/><polygon fill=\"#A80036\" points=\"217.5,74,221.5,84,225.5,74,221.5,78\" style=\"stroke: #A80036; stroke-width: 1.0;\"/><line style=\"stroke: #A80036; stroke-width: 1.5;\" x1=\"56.5\" x2=\"56.5\" y1=\"118.1328\" y2=\"136.1328\"/><line style=\"stroke: #A80036; stroke-width: 1.5;\" x1=\"56.5\" x2=\"127\" y1=\"136.1328\" y2=\"136.1328\"/><polygon fill=\"#A80036\" points=\"117,132.1328,127,136.1328,117,140.1328,121,136.1328\" style=\"stroke: #A80036; stroke-width: 1.0;\"/><line style=\"stroke: #A80036; stroke-width: 1.5;\" x1=\"221.5\" x2=\"221.5\" y1=\"118.1328\" y2=\"136.1328\"/><line style=\"stroke: #A80036; stroke-width: 1.5;\" x1=\"221.5\" x2=\"151\" y1=\"136.1328\" y2=\"136.1328\"/><polygon fill=\"#A80036\" points=\"161,132.1328,151,136.1328,161,140.1328,157,136.1328\" style=\"stroke: #A80036; stroke-width: 1.0;\"/><line style=\"stroke: #A80036; stroke-width: 1.5;\" x1=\"139\" x2=\"139\" y1=\"30\" y2=\"50\"/><polygon fill=\"#A80036\" points=\"135,40,139,50,143,40,139,44\" style=\"stroke: #A80036; stroke-width: 1.0;\"/><line style=\"stroke: #A80036; stroke-width: 1.5;\" x1=\"139\" x2=\"139\" y1=\"148.1328\" y2=\"168.1328\"/><polygon fill=\"#A80036\" points=\"135,158.1328,139,168.1328,143,158.1328,139,162.1328\" style=\"stroke: #A80036; stroke-width: 1.0;\"/></g></svg>"
      ],
      "text/plain": [
       "<IPython.core.display.SVG object>"
      ]
     },
     "execution_count": 14,
     "metadata": {},
     "output_type": "execute_result"
    }
   ],
   "source": [
    "%%plantuml\n",
    "@startuml\n",
    "start\n",
    "if (a user chooses square)then (y)\n",
    ":draw square;\n",
    "else (no)\n",
    ":draw rectangle;\n",
    "endif\n",
    "stop\n",
    "@enduml"
   ]
  },
  {
   "cell_type": "markdown",
   "metadata": {},
   "source": [
    "## 제어-1: 도형 그리기\n",
    "\n",
    "* 삼각형, 사각형, 별을 그린다. 각 도형을 그리는 함수로 만든다.\n",
    "* 도형에 따라 중복되는 명령문이 있는지 살펴본다.\n",
    "* 함수를 만들 때 생각해 보기.\n",
    "    * 함수 명을 결정한다. 함수몀은 영어로, 동사+명사로 짓는다.\n",
    "    * 입력을 결정한다.\n",
    "        * 인자의 갯수와 숫자인지 문자인지 생각한다.\n",
    "        * 크기를 인자로 사용하면 여러 크기를 그릴 수 있게 된다.\n",
    "    * 출력을 결정한다.\n",
    "        * 갯수와 숫자인지 문자인지 생각한다.\n",
    "        * 화면에 그리는 경우, 출력인자가 없을 수 있다.\n",
    "* 절차\n",
    "    * 다이어그램을 그린다.\n",
    "    * 중복되는 명령문은 반복문을 사용한다.\n",
    "    * 다이어그램에 표현된 절차를 하나씩 프로그램으로 구현한다.\n",
    "* 프로그래밍 요소\n",
    "    * 반복문을 사용할 수 있다.\n",
    "    * 중복을 줄이기 위해 함수를 사용하는 것과 반복문을 사용하는 차이를 이해한다."
   ]
  },
  {
   "cell_type": "code",
   "execution_count": 17,
   "metadata": {
    "collapsed": true
   },
   "outputs": [],
   "source": [
    "import turtle\n",
    "wn=turtle.Screen()\n",
    "t1=turtle.Turtle()"
   ]
  },
  {
   "cell_type": "code",
   "execution_count": 20,
   "metadata": {
    "collapsed": true
   },
   "outputs": [],
   "source": [
    "# 사격형 그리기\n",
    "t1.forward(50)\n",
    "t1.right(90)\n",
    "t1.forward(50)\n",
    "t1.right(90)\n",
    "t1.forward(50)\n",
    "t1.right(90)\n",
    "t1.forward(50)\n",
    "t1.right(90)"
   ]
  },
  {
   "cell_type": "code",
   "execution_count": 35,
   "metadata": {
    "collapsed": false
   },
   "outputs": [
    {
     "data": {
      "image/svg+xml": [
       "<svg height=\"272px\" style=\"width:96px;height:272px;\" version=\"1.1\" viewBox=\"0 0 96 272\" width=\"96px\" xmlns=\"http://www.w3.org/2000/svg\" xmlns:xlink=\"http://www.w3.org/1999/xlink\"><defs><filter height=\"300%\" id=\"f1\" width=\"300%\" x=\"-1\" y=\"-1\"><feGaussianBlur result=\"blurOut\" stdDeviation=\"2.0\"/><feColorMatrix in=\"blurOut\" result=\"blurOut2\" type=\"matrix\" values=\"0 0 0 0 0 0 0 0 0 0 0 0 0 0 0 0 0 0 .4 0\"/><feOffset dx=\"4.0\" dy=\"4.0\" in=\"blurOut2\" result=\"blurOut3\"/><feBlend in=\"SourceGraphic\" in2=\"blurOut3\" mode=\"normal\"/></filter></defs><g><ellipse cx=\"44.5\" cy=\"20\" fill=\"#000000\" filter=\"url(#f1)\" rx=\"10\" ry=\"10\" style=\"stroke: none; stroke-width: 1.0;\"/><rect fill=\"#FEFECE\" filter=\"url(#f1)\" height=\"33.9688\" rx=\"12.5\" ry=\"12.5\" style=\"stroke: #A80036; stroke-width: 1.5;\" width=\"60\" x=\"14.5\" y=\"94\"/><text fill=\"#000000\" font-family=\"sans-serif\" font-size=\"12\" lengthAdjust=\"spacingAndGlyphs\" textLength=\"40\" x=\"24.5\" y=\"115.1387\">fd 100</text><rect fill=\"#FEFECE\" filter=\"url(#f1)\" height=\"33.9688\" rx=\"12.5\" ry=\"12.5\" style=\"stroke: #A80036; stroke-width: 1.5;\" width=\"69\" x=\"10\" y=\"147.9688\"/><text fill=\"#000000\" font-family=\"sans-serif\" font-size=\"12\" lengthAdjust=\"spacingAndGlyphs\" textLength=\"49\" x=\"20\" y=\"169.1074\">right 90</text><polygon fill=\"#FEFECE\" filter=\"url(#f1)\" points=\"44.5,50,56.5,62,44.5,74,32.5,62,44.5,50\" style=\"stroke: #A80036; stroke-width: 1.5;\"/><polygon fill=\"#FEFECE\" filter=\"url(#f1)\" points=\"32.5,201.9375,56.5,201.9375,68.5,213.9375,56.5,225.9375,32.5,225.9375,20.5,213.9375,32.5,201.9375\" style=\"stroke: #A80036; stroke-width: 1.5;\"/><text fill=\"#000000\" font-family=\"sans-serif\" font-size=\"11\" lengthAdjust=\"spacingAndGlyphs\" textLength=\"7\" x=\"41\" y=\"217.7456\">4</text><ellipse cx=\"44.5\" cy=\"255.9375\" fill=\"none\" filter=\"url(#f1)\" rx=\"10\" ry=\"10\" style=\"stroke: #000000; stroke-width: 1.0;\"/><ellipse cx=\"45\" cy=\"256.4375\" fill=\"#000000\" filter=\"url(#f1)\" rx=\"6\" ry=\"6\" style=\"stroke: none; stroke-width: 1.0;\"/><line style=\"stroke: #A80036; stroke-width: 1.5;\" x1=\"44.5\" x2=\"44.5\" y1=\"127.9688\" y2=\"147.9688\"/><polygon fill=\"#A80036\" points=\"40.5,137.9688,44.5,147.9688,48.5,137.9688,44.5,141.9688\" style=\"stroke: #A80036; stroke-width: 1.0;\"/><line style=\"stroke: #A80036; stroke-width: 1.5;\" x1=\"44.5\" x2=\"44.5\" y1=\"74\" y2=\"94\"/><polygon fill=\"#A80036\" points=\"40.5,84,44.5,94,48.5,84,44.5,88\" style=\"stroke: #A80036; stroke-width: 1.0;\"/><line style=\"stroke: #A80036; stroke-width: 1.5;\" x1=\"68.5\" x2=\"91\" y1=\"213.9375\" y2=\"213.9375\"/><polygon fill=\"#A80036\" points=\"87,164.4688,91,154.4688,95,164.4688,91,160.4688\" style=\"stroke: #A80036; stroke-width: 1.5;\"/><line style=\"stroke: #A80036; stroke-width: 1.5;\" x1=\"91\" x2=\"91\" y1=\"62\" y2=\"213.9375\"/><line style=\"stroke: #A80036; stroke-width: 1.5;\" x1=\"91\" x2=\"56.5\" y1=\"62\" y2=\"62\"/><polygon fill=\"#A80036\" points=\"66.5,58,56.5,62,66.5,66,62.5,62\" style=\"stroke: #A80036; stroke-width: 1.0;\"/><line style=\"stroke: #A80036; stroke-width: 1.5;\" x1=\"44.5\" x2=\"44.5\" y1=\"181.9375\" y2=\"201.9375\"/><polygon fill=\"#A80036\" points=\"40.5,191.9375,44.5,201.9375,48.5,191.9375,44.5,195.9375\" style=\"stroke: #A80036; stroke-width: 1.0;\"/><line style=\"stroke: #A80036; stroke-width: 1.5;\" x1=\"44.5\" x2=\"44.5\" y1=\"30\" y2=\"50\"/><polygon fill=\"#A80036\" points=\"40.5,40,44.5,50,48.5,40,44.5,44\" style=\"stroke: #A80036; stroke-width: 1.0;\"/><line style=\"stroke: #A80036; stroke-width: 1.5;\" x1=\"44.5\" x2=\"44.5\" y1=\"225.9375\" y2=\"245.9375\"/><polygon fill=\"#A80036\" points=\"40.5,235.9375,44.5,245.9375,48.5,235.9375,44.5,239.9375\" style=\"stroke: #A80036; stroke-width: 1.0;\"/></g></svg>"
      ],
      "text/plain": [
       "<IPython.core.display.SVG object>"
      ]
     },
     "execution_count": 35,
     "metadata": {},
     "output_type": "execute_result"
    }
   ],
   "source": [
    "%%plantuml\n",
    "@startuml\n",
    "start\n",
    "\n",
    "repeat\n",
    ":fd 100;\n",
    ":right 90;\n",
    "repeat while(4)\n",
    "\n",
    "stop\n",
    "@enduml"
   ]
  },
  {
   "cell_type": "code",
   "execution_count": 21,
   "metadata": {
    "collapsed": true
   },
   "outputs": [],
   "source": [
    "t1.home()\n",
    "t1.clear()\n",
    "\n",
    "# 반복을 이용\n",
    "for i in range(0,4):\n",
    "    t1.forward(100)\n",
    "    t1.right(90)"
   ]
  },
  {
   "cell_type": "markdown",
   "metadata": {},
   "source": [
    "* 기계적으로 함수 만들어보기\n",
    "    * 중복을 찾는다\n",
    "    * 중복을 묶고 함수명을 준다 -> drawSquare\n",
    "    * 변경되는 것을 찾는다 -> size 250, 나머지는 변하지 않는다.\n",
    "    * 인자로 빼준다 -> size 정수"
   ]
  },
  {
   "cell_type": "code",
   "execution_count": 22,
   "metadata": {
    "collapsed": true
   },
   "outputs": [],
   "source": [
    "def drawSquare(size):\n",
    "    for i in range(0,4):\n",
    "        t1.forward(size)\n",
    "        t1.right(90)\n",
    "\n",
    "t1.home()\n",
    "t1.clear()\n",
    "drawSquare(100)"
   ]
  },
  {
   "cell_type": "code",
   "execution_count": 23,
   "metadata": {
    "collapsed": true
   },
   "outputs": [],
   "source": [
    "# 삼각형 그리기\n",
    "def drawTriangle(size):\n",
    "    for i in range(0,3):\n",
    "        t1.forward(size)\n",
    "        t1.right(120)\n",
    "\n",
    "t1.home()\n",
    "t1.clear()\n",
    "drawTriangle(120)"
   ]
  },
  {
   "cell_type": "code",
   "execution_count": 25,
   "metadata": {
    "collapsed": true
   },
   "outputs": [],
   "source": [
    "def drawSquareAt(size, pos):\n",
    "    t1.penup()\n",
    "    t1.setpos(pos)\n",
    "    t1.pendown()\n",
    "    for i in range(0,4):\n",
    "        t1.forward(size)\n",
    "        t1.right(90)\n",
    "\n",
    "t1.home()\n",
    "t1.clear()\n",
    "drawSquareAt(100,(100,100))"
   ]
  },
  {
   "cell_type": "code",
   "execution_count": 11,
   "metadata": {
    "collapsed": false
   },
   "outputs": [
    {
     "name": "stdout",
     "output_type": "stream",
     "text": [
      "Appending to ../src/pfun.py\n"
     ]
    }
   ],
   "source": [
    "def drawStar(size):\n",
    "    for i in range(5):\n",
    "        t1.forward(size)\n",
    "        t1.right(144)\n",
    "\n",
    "t1.home()\n",
    "t1.clear()\n",
    "drawStar(100)"
   ]
  },
  {
   "cell_type": "code",
   "execution_count": 33,
   "metadata": {
    "collapsed": true
   },
   "outputs": [],
   "source": [
    "def drawStarFill(size, color):\n",
    "    angle = 144\n",
    "    t1.fillcolor(color)\n",
    "    t1.begin_fill()\n",
    "    for side in range(5):\n",
    "        t1.forward(size)\n",
    "        t1.right(angle)\n",
    "    t1.end_fill()\n",
    "\n",
    "t1.home()\n",
    "t1.clear()\n",
    "drawStarFill(100, \"purple\")\n"
   ]
  },
  {
   "cell_type": "markdown",
   "metadata": {},
   "source": [
    "## 제어-2: 사용자 입력을 받아서 해당하는 도형을 그리기\n",
    "\n",
    "* 사용자에게 입력을 받아서, 삼각형 사각형을 그린다.\n",
    "* 삼각형, 사각형을 따로 그리는 함수를 1개로 묶어서 만든다.\n",
    "    * 함수를 합치는 경우, 어떤 인자를 추가하는지 생각한다.\n",
    "    * 삼각형, 사각형이 다르게 그려지는 경우, sides와 angle 값이 다르다는 점에 주목한다.\n",
    "    * 삼각형, 사각형 함수인자는 size, sides, angle로 한다.\n",
    "    * 삼각형은 3면, 사각형은 4면을 가진다.\n",
    "    * 삼각형은 120, 사각형은 90도 회전을 한다.\n",
    "* 절차\n",
    "    * 다이어그램을 그린다.\n",
    "    * 다이어그램에 표현한 절차에 따라 프로그램으로 만들어 본다.\n",
    "\n",
    "* 프로그래밍 요소:\n",
    "    * 사용자 입력을 받는다.\n",
    "    * 변수를 사용한다.\n",
    "    * 조건문을 사용한다.\n",
    "    * 다이어그램을 사용한다.\n"
   ]
  },
  {
   "cell_type": "code",
   "execution_count": 36,
   "metadata": {
    "collapsed": false
   },
   "outputs": [
    {
     "data": {
      "image/svg+xml": [
       "<svg height=\"377px\" style=\"width:350px;height:377px;\" version=\"1.1\" viewBox=\"0 0 350 377\" width=\"350px\" xmlns=\"http://www.w3.org/2000/svg\" xmlns:xlink=\"http://www.w3.org/1999/xlink\"><defs><filter height=\"300%\" id=\"f1\" width=\"300%\" x=\"-1\" y=\"-1\"><feGaussianBlur result=\"blurOut\" stdDeviation=\"2.0\"/><feColorMatrix in=\"blurOut\" result=\"blurOut2\" type=\"matrix\" values=\"0 0 0 0 0 0 0 0 0 0 0 0 0 0 0 0 0 0 .4 0\"/><feOffset dx=\"4.0\" dy=\"4.0\" in=\"blurOut2\" result=\"blurOut3\"/><feBlend in=\"SourceGraphic\" in2=\"blurOut3\" mode=\"normal\"/></filter></defs><g><text fill=\"#000000\" font-family=\"sans-serif\" font-size=\"18\" lengthAdjust=\"spacingAndGlyphs\" textLength=\"339\" x=\"10\" y=\"26.708\">Conditional - Draw Triangle or Square</text><ellipse cx=\"177.5\" cy=\"40.9531\" fill=\"#000000\" filter=\"url(#f1)\" rx=\"10\" ry=\"10\" style=\"stroke: none; stroke-width: 1.0;\"/><rect fill=\"#FEFECE\" filter=\"url(#f1)\" height=\"33.9688\" rx=\"12.5\" ry=\"12.5\" style=\"stroke: #A80036; stroke-width: 1.5;\" width=\"159\" x=\"98\" y=\"70.9531\"/><text fill=\"#000000\" font-family=\"sans-serif\" font-size=\"12\" lengthAdjust=\"spacingAndGlyphs\" textLength=\"139\" x=\"108\" y=\"92.0918\">get user input (T or S)</text><polygon fill=\"#FEFECE\" filter=\"url(#f1)\" points=\"135.5,124.9219,219.5,124.9219,231.5,136.9219,219.5,148.9219,135.5,148.9219,123.5,136.9219,135.5,124.9219\" style=\"stroke: #A80036; stroke-width: 1.5;\"/><text fill=\"#000000\" font-family=\"sans-serif\" font-size=\"11\" lengthAdjust=\"spacingAndGlyphs\" textLength=\"84\" x=\"135.5\" y=\"140.73\">user input is S</text><text fill=\"#000000\" font-family=\"sans-serif\" font-size=\"11\" lengthAdjust=\"spacingAndGlyphs\" textLength=\"20\" x=\"103.5\" y=\"134.3276\">yes</text><text fill=\"#000000\" font-family=\"sans-serif\" font-size=\"11\" lengthAdjust=\"spacingAndGlyphs\" textLength=\"14\" x=\"231.5\" y=\"134.3276\">no</text><rect fill=\"#FEFECE\" filter=\"url(#f1)\" height=\"33.9688\" rx=\"12.5\" ry=\"12.5\" style=\"stroke: #A80036; stroke-width: 1.5;\" width=\"71\" x=\"78\" y=\"158.9219\"/><text fill=\"#000000\" font-family=\"sans-serif\" font-size=\"12\" lengthAdjust=\"spacingAndGlyphs\" textLength=\"51\" x=\"88\" y=\"180.0605\">sides=4</text><rect fill=\"#FEFECE\" filter=\"url(#f1)\" height=\"33.9688\" rx=\"12.5\" ry=\"12.5\" style=\"stroke: #A80036; stroke-width: 1.5;\" width=\"81\" x=\"73\" y=\"212.8906\"/><text fill=\"#000000\" font-family=\"sans-serif\" font-size=\"12\" lengthAdjust=\"spacingAndGlyphs\" textLength=\"61\" x=\"83\" y=\"234.0293\">angle=90</text><rect fill=\"#FEFECE\" filter=\"url(#f1)\" height=\"33.9688\" rx=\"12.5\" ry=\"12.5\" style=\"stroke: #A80036; stroke-width: 1.5;\" width=\"71\" x=\"206\" y=\"158.9219\"/><text fill=\"#000000\" font-family=\"sans-serif\" font-size=\"12\" lengthAdjust=\"spacingAndGlyphs\" textLength=\"51\" x=\"216\" y=\"180.0605\">sides=3</text><rect fill=\"#FEFECE\" filter=\"url(#f1)\" height=\"33.9688\" rx=\"12.5\" ry=\"12.5\" style=\"stroke: #A80036; stroke-width: 1.5;\" width=\"89\" x=\"197\" y=\"212.8906\"/><text fill=\"#000000\" font-family=\"sans-serif\" font-size=\"12\" lengthAdjust=\"spacingAndGlyphs\" textLength=\"69\" x=\"207\" y=\"234.0293\">angle=120</text><polygon fill=\"#FEFECE\" filter=\"url(#f1)\" points=\"177.5,252.8594,189.5,264.8594,177.5,276.8594,165.5,264.8594,177.5,252.8594\" style=\"stroke: #A80036; stroke-width: 1.5;\"/><rect fill=\"#FEFECE\" filter=\"url(#f1)\" height=\"33.9688\" rx=\"12.5\" ry=\"12.5\" style=\"stroke: #A80036; stroke-width: 1.5;\" width=\"202\" x=\"76.5\" y=\"296.8594\"/><text fill=\"#000000\" font-family=\"sans-serif\" font-size=\"12\" lengthAdjust=\"spacingAndGlyphs\" textLength=\"182\" x=\"86.5\" y=\"317.998\">draw shape with sides, angle</text><ellipse cx=\"177.5\" cy=\"360.8281\" fill=\"none\" filter=\"url(#f1)\" rx=\"10\" ry=\"10\" style=\"stroke: #000000; stroke-width: 1.0;\"/><ellipse cx=\"178\" cy=\"361.3281\" fill=\"#000000\" filter=\"url(#f1)\" rx=\"6\" ry=\"6\" style=\"stroke: none; stroke-width: 1.0;\"/><line style=\"stroke: #A80036; stroke-width: 1.5;\" x1=\"177.5\" x2=\"177.5\" y1=\"50.9531\" y2=\"70.9531\"/><polygon fill=\"#A80036\" points=\"173.5,60.9531,177.5,70.9531,181.5,60.9531,177.5,64.9531\" style=\"stroke: #A80036; stroke-width: 1.0;\"/><line style=\"stroke: #A80036; stroke-width: 1.5;\" x1=\"113.5\" x2=\"113.5\" y1=\"192.8906\" y2=\"212.8906\"/><polygon fill=\"#A80036\" points=\"109.5,202.8906,113.5,212.8906,117.5,202.8906,113.5,206.8906\" style=\"stroke: #A80036; stroke-width: 1.0;\"/><line style=\"stroke: #A80036; stroke-width: 1.5;\" x1=\"241.5\" x2=\"241.5\" y1=\"192.8906\" y2=\"212.8906\"/><polygon fill=\"#A80036\" points=\"237.5,202.8906,241.5,212.8906,245.5,202.8906,241.5,206.8906\" style=\"stroke: #A80036; stroke-width: 1.0;\"/><line style=\"stroke: #A80036; stroke-width: 1.5;\" x1=\"123.5\" x2=\"113.5\" y1=\"136.9219\" y2=\"136.9219\"/><line style=\"stroke: #A80036; stroke-width: 1.5;\" x1=\"113.5\" x2=\"113.5\" y1=\"136.9219\" y2=\"158.9219\"/><polygon fill=\"#A80036\" points=\"109.5,148.9219,113.5,158.9219,117.5,148.9219,113.5,152.9219\" style=\"stroke: #A80036; stroke-width: 1.0;\"/><line style=\"stroke: #A80036; stroke-width: 1.5;\" x1=\"231.5\" x2=\"241.5\" y1=\"136.9219\" y2=\"136.9219\"/><line style=\"stroke: #A80036; stroke-width: 1.5;\" x1=\"241.5\" x2=\"241.5\" y1=\"136.9219\" y2=\"158.9219\"/><polygon fill=\"#A80036\" points=\"237.5,148.9219,241.5,158.9219,245.5,148.9219,241.5,152.9219\" style=\"stroke: #A80036; stroke-width: 1.0;\"/><line style=\"stroke: #A80036; stroke-width: 1.5;\" x1=\"113.5\" x2=\"113.5\" y1=\"246.8594\" y2=\"264.8594\"/><line style=\"stroke: #A80036; stroke-width: 1.5;\" x1=\"113.5\" x2=\"165.5\" y1=\"264.8594\" y2=\"264.8594\"/><polygon fill=\"#A80036\" points=\"155.5,260.8594,165.5,264.8594,155.5,268.8594,159.5,264.8594\" style=\"stroke: #A80036; stroke-width: 1.0;\"/><line style=\"stroke: #A80036; stroke-width: 1.5;\" x1=\"241.5\" x2=\"241.5\" y1=\"246.8594\" y2=\"264.8594\"/><line style=\"stroke: #A80036; stroke-width: 1.5;\" x1=\"241.5\" x2=\"189.5\" y1=\"264.8594\" y2=\"264.8594\"/><polygon fill=\"#A80036\" points=\"199.5,260.8594,189.5,264.8594,199.5,268.8594,195.5,264.8594\" style=\"stroke: #A80036; stroke-width: 1.0;\"/><line style=\"stroke: #A80036; stroke-width: 1.5;\" x1=\"177.5\" x2=\"177.5\" y1=\"104.9219\" y2=\"124.9219\"/><polygon fill=\"#A80036\" points=\"173.5,114.9219,177.5,124.9219,181.5,114.9219,177.5,118.9219\" style=\"stroke: #A80036; stroke-width: 1.0;\"/><line style=\"stroke: #A80036; stroke-width: 1.5;\" x1=\"177.5\" x2=\"177.5\" y1=\"276.8594\" y2=\"296.8594\"/><polygon fill=\"#A80036\" points=\"173.5,286.8594,177.5,296.8594,181.5,286.8594,177.5,290.8594\" style=\"stroke: #A80036; stroke-width: 1.0;\"/><line style=\"stroke: #A80036; stroke-width: 1.5;\" x1=\"177.5\" x2=\"177.5\" y1=\"330.8281\" y2=\"350.8281\"/><polygon fill=\"#A80036\" points=\"173.5,340.8281,177.5,350.8281,181.5,340.8281,177.5,344.8281\" style=\"stroke: #A80036; stroke-width: 1.0;\"/></g></svg>"
      ],
      "text/plain": [
       "<IPython.core.display.SVG object>"
      ]
     },
     "execution_count": 36,
     "metadata": {},
     "output_type": "execute_result"
    }
   ],
   "source": [
    "%%plantuml\n",
    "@startuml\n",
    "\n",
    "title Conditional - Draw Triangle or Square\n",
    "\n",
    "\n",
    "start\n",
    "\n",
    ":get user input (T or S); \n",
    "\n",
    "if (user input is S) then (yes)\n",
    "  :sides=4;\n",
    "  :angle=90;\n",
    "else (no)\n",
    "  :sides=3;\n",
    "  :angle=120;\n",
    "endif\n",
    "\n",
    ":draw shape with sides, angle;\n",
    "\n",
    "stop\n",
    "\n",
    "@enduml"
   ]
  },
  {
   "cell_type": "markdown",
   "metadata": {},
   "source": [
    "* raw_input함수\n",
    "    * 인자는 문자열\n",
    "    * 입력 값을 돌려주는 함수\n",
    "        * 돌려받은 값이 숫자이더라도 연산을 하면 되지 않는 이유를 생각해 본다.\n",
    "    * 입력값은 sel에 저장된다."
   ]
  },
  {
   "cell_type": "code",
   "execution_count": 21,
   "metadata": {
    "collapsed": false
   },
   "outputs": [
    {
     "name": "stdout",
     "output_type": "stream",
     "text": [
      "Triange or Square (T or S): hello\n",
      "hello\n"
     ]
    }
   ],
   "source": [
    "# 사용자 입력받기\n",
    "sel=raw_input(\"Triange or Square (T or S): \")\n",
    "print sel"
   ]
  },
  {
   "cell_type": "code",
   "execution_count": null,
   "metadata": {
    "collapsed": true
   },
   "outputs": [],
   "source": [
    "sel=raw_input(\"Triange or Square (T or S): \")\n",
    "size=100\n",
    "if sel=='T':\n",
    "    sides=3\n",
    "    angle=120\n",
    "elif sel=='S':\n",
    "    sides=4\n",
    "    angle=90\n",
    "for i in range(0,sides):\n",
    "    t1.forward(size)\n",
    "    t1.right(angle)"
   ]
  },
  {
   "cell_type": "code",
   "execution_count": null,
   "metadata": {
    "collapsed": true
   },
   "outputs": [],
   "source": [
    "# polygon\n",
    "def drawPolygon(size,tilt,sides):\n",
    "    t1.right(tilt)\n",
    "    for i in range(0,sides):\n",
    "        t1.forward(size)\n",
    "        t1.right(360/sides)\n",
    "\n",
    "t1.home()\n",
    "t1.clear()\n",
    "drawPolygon(100,30,6)\n",
    "drawPolygon(100,60,4)"
   ]
  },
  {
   "cell_type": "code",
   "execution_count": 44,
   "metadata": {
    "collapsed": false
   },
   "outputs": [
    {
     "name": "stdout",
     "output_type": "stream",
     "text": [
      "Appending to src/pfun.py\n"
     ]
    }
   ],
   "source": [
    "\n",
    "def drawSquareOrTriangle(size,sides,angle):\n",
    "    t1.home()\n",
    "    t1.clear()\n",
    "    for i in range(0,sides):\n",
    "        t1.forward(size)\n",
    "        t1.right(angle)\n",
    "\n",
    "sel=raw_input(\"Triange or Square (T or S): \")\n",
    "size=100\n",
    "if sel=='T':\n",
    "    sides=3\n",
    "    angle=120\n",
    "elif sel=='S':\n",
    "    sides=4\n",
    "    angle=90\n",
    "drawSquareOrTriangle(100, sides, angle)"
   ]
  },
  {
   "cell_type": "markdown",
   "metadata": {},
   "source": [
    "## 제어-3 바람개비 도형 그리기\n",
    "\n",
    "* 바람개비는 반복을 한다. 반복문 for를 사용한다.\n",
    "* 경우에 따라서 크기를 키워야 한다. 조건문 if를 사용한다.\n",
    "* 바람개비 모양\n",
    "    * 커지는 패턴을 확인한다.\n",
    "    * 짝수 마다 크기를 늘려주기로 한다.\n",
    "* 함수\n",
    "    * makeSwirlSquare(size,bigger,turns,angle)"
   ]
  },
  {
   "cell_type": "code",
   "execution_count": 39,
   "metadata": {
    "collapsed": false
   },
   "outputs": [
    {
     "data": {
      "image/svg+xml": [
       "<svg height=\"567px\" style=\"width:231px;height:567px;\" version=\"1.1\" viewBox=\"0 0 231 567\" width=\"231px\" xmlns=\"http://www.w3.org/2000/svg\" xmlns:xlink=\"http://www.w3.org/1999/xlink\"><defs><filter height=\"300%\" id=\"f1\" width=\"300%\" x=\"-1\" y=\"-1\"><feGaussianBlur result=\"blurOut\" stdDeviation=\"2.0\"/><feColorMatrix in=\"blurOut\" result=\"blurOut2\" type=\"matrix\" values=\"0 0 0 0 0 0 0 0 0 0 0 0 0 0 0 0 0 0 .4 0\"/><feOffset dx=\"4.0\" dy=\"4.0\" in=\"blurOut2\" result=\"blurOut3\"/><feBlend in=\"SourceGraphic\" in2=\"blurOut3\" mode=\"normal\"/></filter></defs><g><ellipse cx=\"123.5\" cy=\"20\" fill=\"#000000\" filter=\"url(#f1)\" rx=\"10\" ry=\"10\" style=\"stroke: none; stroke-width: 1.0;\"/><rect fill=\"#FEFECE\" filter=\"url(#f1)\" height=\"33.9688\" rx=\"12.5\" ry=\"12.5\" style=\"stroke: #A80036; stroke-width: 1.5;\" width=\"143\" x=\"52\" y=\"50\"/><text fill=\"#000000\" font-family=\"sans-serif\" font-size=\"12\" lengthAdjust=\"spacingAndGlyphs\" textLength=\"123\" x=\"62\" y=\"71.1387\">set how many turns</text><rect fill=\"#FEFECE\" filter=\"url(#f1)\" height=\"33.9688\" rx=\"12.5\" ry=\"12.5\" style=\"stroke: #A80036; stroke-width: 1.5;\" width=\"202\" x=\"22.5\" y=\"103.9688\"/><text fill=\"#000000\" font-family=\"sans-serif\" font-size=\"12\" lengthAdjust=\"spacingAndGlyphs\" textLength=\"182\" x=\"32.5\" y=\"125.1074\">set how much to grow bigger</text><rect fill=\"#FEFECE\" filter=\"url(#f1)\" height=\"33.9688\" rx=\"12.5\" ry=\"12.5\" style=\"stroke: #A80036; stroke-width: 1.5;\" width=\"79\" x=\"84\" y=\"157.9375\"/><text fill=\"#000000\" font-family=\"sans-serif\" font-size=\"12\" lengthAdjust=\"spacingAndGlyphs\" textLength=\"59\" x=\"94\" y=\"179.0762\">set angle</text><rect fill=\"#FEFECE\" filter=\"url(#f1)\" height=\"33.9688\" rx=\"12.5\" ry=\"12.5\" style=\"stroke: #A80036; stroke-width: 1.5;\" width=\"101\" x=\"73\" y=\"211.9063\"/><text fill=\"#000000\" font-family=\"sans-serif\" font-size=\"12\" lengthAdjust=\"spacingAndGlyphs\" textLength=\"81\" x=\"83\" y=\"233.0449\">set start size</text><polygon fill=\"#FEFECE\" filter=\"url(#f1)\" points=\"79,309.875,168,309.875,180,321.875,168,333.875,79,333.875,67,321.875,79,309.875\" style=\"stroke: #A80036; stroke-width: 1.5;\"/><text fill=\"#000000\" font-family=\"sans-serif\" font-size=\"11\" lengthAdjust=\"spacingAndGlyphs\" textLength=\"89\" x=\"79\" y=\"325.6831\">i is divided by 2</text><rect fill=\"#FEFECE\" filter=\"url(#f1)\" height=\"33.9688\" rx=\"12.5\" ry=\"12.5\" style=\"stroke: #A80036; stroke-width: 1.5;\" width=\"94\" x=\"10\" y=\"343.875\"/><text fill=\"#000000\" font-family=\"sans-serif\" font-size=\"12\" lengthAdjust=\"spacingAndGlyphs\" textLength=\"74\" x=\"20\" y=\"365.0137\">grow bigger</text><polygon fill=\"#FEFECE\" filter=\"url(#f1)\" points=\"123.5,383.8438,135.5,395.8438,123.5,407.8438,111.5,395.8438,123.5,383.8438\" style=\"stroke: #A80036; stroke-width: 1.5;\"/><rect fill=\"#FEFECE\" filter=\"url(#f1)\" height=\"33.9688\" rx=\"12.5\" ry=\"12.5\" style=\"stroke: #A80036; stroke-width: 1.5;\" width=\"50\" x=\"98.5\" y=\"442.8438\"/><text fill=\"#000000\" font-family=\"sans-serif\" font-size=\"12\" lengthAdjust=\"spacingAndGlyphs\" textLength=\"30\" x=\"108.5\" y=\"463.9824\">draw</text><polygon fill=\"#FEFECE\" filter=\"url(#f1)\" points=\"123.5,265.875,135.5,277.875,123.5,289.875,111.5,277.875,123.5,265.875\" style=\"stroke: #A80036; stroke-width: 1.5;\"/><polygon fill=\"#FEFECE\" filter=\"url(#f1)\" points=\"108.5,496.8125,138.5,496.8125,150.5,508.8125,138.5,520.8125,108.5,520.8125,96.5,508.8125,108.5,496.8125\" style=\"stroke: #A80036; stroke-width: 1.5;\"/><text fill=\"#000000\" font-family=\"sans-serif\" font-size=\"11\" lengthAdjust=\"spacingAndGlyphs\" textLength=\"30\" x=\"108.5\" y=\"512.6206\">turns</text><ellipse cx=\"123.5\" cy=\"550.8125\" fill=\"none\" filter=\"url(#f1)\" rx=\"10\" ry=\"10\" style=\"stroke: #000000; stroke-width: 1.0;\"/><ellipse cx=\"124\" cy=\"551.3125\" fill=\"#000000\" filter=\"url(#f1)\" rx=\"6\" ry=\"6\" style=\"stroke: none; stroke-width: 1.0;\"/><line style=\"stroke: #A80036; stroke-width: 1.5;\" x1=\"123.5\" x2=\"123.5\" y1=\"30\" y2=\"50\"/><polygon fill=\"#A80036\" points=\"119.5,40,123.5,50,127.5,40,123.5,44\" style=\"stroke: #A80036; stroke-width: 1.0;\"/><line style=\"stroke: #A80036; stroke-width: 1.5;\" x1=\"123.5\" x2=\"123.5\" y1=\"83.9688\" y2=\"103.9688\"/><polygon fill=\"#A80036\" points=\"119.5,93.9688,123.5,103.9688,127.5,93.9688,123.5,97.9688\" style=\"stroke: #A80036; stroke-width: 1.0;\"/><line style=\"stroke: #A80036; stroke-width: 1.5;\" x1=\"123.5\" x2=\"123.5\" y1=\"137.9375\" y2=\"157.9375\"/><polygon fill=\"#A80036\" points=\"119.5,147.9375,123.5,157.9375,127.5,147.9375,123.5,151.9375\" style=\"stroke: #A80036; stroke-width: 1.0;\"/><line style=\"stroke: #A80036; stroke-width: 1.5;\" x1=\"123.5\" x2=\"123.5\" y1=\"191.9063\" y2=\"211.9063\"/><polygon fill=\"#A80036\" points=\"119.5,201.9063,123.5,211.9063,127.5,201.9063,123.5,205.9063\" style=\"stroke: #A80036; stroke-width: 1.0;\"/><line style=\"stroke: #A80036; stroke-width: 1.5;\" x1=\"67\" x2=\"57\" y1=\"321.875\" y2=\"321.875\"/><line style=\"stroke: #A80036; stroke-width: 1.5;\" x1=\"57\" x2=\"57\" y1=\"321.875\" y2=\"343.875\"/><polygon fill=\"#A80036\" points=\"53,333.875,57,343.875,61,333.875,57,337.875\" style=\"stroke: #A80036; stroke-width: 1.0;\"/><line style=\"stroke: #A80036; stroke-width: 1.5;\" x1=\"180\" x2=\"190\" y1=\"321.875\" y2=\"321.875\"/><polygon fill=\"#A80036\" points=\"186,348.8594,190,358.8594,194,348.8594,190,352.8594\" style=\"stroke: #A80036; stroke-width: 1.5;\"/><line style=\"stroke: #A80036; stroke-width: 1.5;\" x1=\"190\" x2=\"190\" y1=\"321.875\" y2=\"395.8438\"/><line style=\"stroke: #A80036; stroke-width: 1.5;\" x1=\"190\" x2=\"135.5\" y1=\"395.8438\" y2=\"395.8438\"/><polygon fill=\"#A80036\" points=\"145.5,391.8438,135.5,395.8438,145.5,399.8438,141.5,395.8438\" style=\"stroke: #A80036; stroke-width: 1.0;\"/><line style=\"stroke: #A80036; stroke-width: 1.5;\" x1=\"57\" x2=\"57\" y1=\"377.8438\" y2=\"395.8438\"/><line style=\"stroke: #A80036; stroke-width: 1.5;\" x1=\"57\" x2=\"111.5\" y1=\"395.8438\" y2=\"395.8438\"/><polygon fill=\"#A80036\" points=\"101.5,391.8438,111.5,395.8438,101.5,399.8438,105.5,395.8438\" style=\"stroke: #A80036; stroke-width: 1.0;\"/><line style=\"stroke: #A80036; stroke-width: 1.5;\" x1=\"123.5\" x2=\"123.5\" y1=\"407.8438\" y2=\"442.8438\"/><polygon fill=\"#A80036\" points=\"119.5,432.8438,123.5,442.8438,127.5,432.8438,123.5,436.8438\" style=\"stroke: #A80036; stroke-width: 1.0;\"/><line style=\"stroke: #A80036; stroke-width: 1.5;\" x1=\"123.5\" x2=\"123.5\" y1=\"289.875\" y2=\"309.875\"/><polygon fill=\"#A80036\" points=\"119.5,299.875,123.5,309.875,127.5,299.875,123.5,303.875\" style=\"stroke: #A80036; stroke-width: 1.0;\"/><line style=\"stroke: #A80036; stroke-width: 1.5;\" x1=\"150.5\" x2=\"227\" y1=\"508.8125\" y2=\"508.8125\"/><polygon fill=\"#A80036\" points=\"223,427.3438,227,417.3438,231,427.3438,227,423.3438\" style=\"stroke: #A80036; stroke-width: 1.5;\"/><line style=\"stroke: #A80036; stroke-width: 1.5;\" x1=\"227\" x2=\"227\" y1=\"277.875\" y2=\"508.8125\"/><line style=\"stroke: #A80036; stroke-width: 1.5;\" x1=\"227\" x2=\"135.5\" y1=\"277.875\" y2=\"277.875\"/><polygon fill=\"#A80036\" points=\"145.5,273.875,135.5,277.875,145.5,281.875,141.5,277.875\" style=\"stroke: #A80036; stroke-width: 1.0;\"/><line style=\"stroke: #A80036; stroke-width: 1.5;\" x1=\"123.5\" x2=\"123.5\" y1=\"476.8125\" y2=\"496.8125\"/><polygon fill=\"#A80036\" points=\"119.5,486.8125,123.5,496.8125,127.5,486.8125,123.5,490.8125\" style=\"stroke: #A80036; stroke-width: 1.0;\"/><line style=\"stroke: #A80036; stroke-width: 1.5;\" x1=\"123.5\" x2=\"123.5\" y1=\"245.875\" y2=\"265.875\"/><polygon fill=\"#A80036\" points=\"119.5,255.875,123.5,265.875,127.5,255.875,123.5,259.875\" style=\"stroke: #A80036; stroke-width: 1.0;\"/><line style=\"stroke: #A80036; stroke-width: 1.5;\" x1=\"123.5\" x2=\"123.5\" y1=\"520.8125\" y2=\"540.8125\"/><polygon fill=\"#A80036\" points=\"119.5,530.8125,123.5,540.8125,127.5,530.8125,123.5,534.8125\" style=\"stroke: #A80036; stroke-width: 1.0;\"/></g></svg>"
      ],
      "text/plain": [
       "<IPython.core.display.SVG object>"
      ]
     },
     "execution_count": 39,
     "metadata": {},
     "output_type": "execute_result"
    }
   ],
   "source": [
    "%%plantuml\n",
    "@startuml\n",
    "start\n",
    ":set how many turns;\n",
    ":set how much to grow bigger;\n",
    ":set angle;\n",
    ":set start size;\n",
    "repeat\n",
    "if (i is divided by 2) then\n",
    "    :grow bigger;\n",
    "endif\n",
    ":draw;\n",
    "repeat while(turns)\n",
    "stop\n",
    "@enduml"
   ]
  },
  {
   "cell_type": "markdown",
   "metadata": {},
   "source": [
    "* % 연산자 (modulo)\n",
    "    * 나머지가 있으면 1\n",
    "    * 나머지가 없으면 0\n",
    "* if문과 modulo\n",
    "    * 나머지가 있으면 TRUE\n",
    "    * 나머지가 없으면 FALSE\n",
    "* if 문에 not 연산자를 섞어쓰면 이해하기 어려워진다."
   ]
  },
  {
   "cell_type": "code",
   "execution_count": 14,
   "metadata": {
    "collapsed": false
   },
   "outputs": [
    {
     "name": "stdout",
     "output_type": "stream",
     "text": [
      "there is no remainder!\n"
     ]
    }
   ],
   "source": [
    "if 6%2:\n",
    "    print \"there is a remainder!\"\n",
    "else:\n",
    "    print \"there is no remainder!\""
   ]
  },
  {
   "cell_type": "code",
   "execution_count": 15,
   "metadata": {
    "collapsed": false
   },
   "outputs": [
    {
     "name": "stdout",
     "output_type": "stream",
     "text": [
      "there is no remainder!\n"
     ]
    }
   ],
   "source": [
    "if not 6%2:\n",
    "    print \"there is no remainder!\"\n",
    "else:\n",
    "    print \"there is a remainder!\""
   ]
  },
  {
   "cell_type": "code",
   "execution_count": 16,
   "metadata": {
    "collapsed": false
   },
   "outputs": [
    {
     "name": "stdout",
     "output_type": "stream",
     "text": [
      "1 3 5 7 9\n"
     ]
    }
   ],
   "source": [
    "#for문과 결합해서 해 본다.\n",
    "x=range(0,10)\n",
    "for i in x:\n",
    "    if i%2:\n",
    "        print i,"
   ]
  },
  {
   "cell_type": "code",
   "execution_count": 21,
   "metadata": {
    "collapsed": false
   },
   "outputs": [
    {
     "name": "stdout",
     "output_type": "stream",
     "text": [
      "0 20\n",
      "1 20\n",
      "2 35\n",
      "3 35\n",
      "4 50\n",
      "5 50\n",
      "6 65\n",
      "7 65\n",
      "8 80\n",
      "9 80\n"
     ]
    }
   ],
   "source": [
    "sides=10\n",
    "size=5\n",
    "bigger=15\n",
    "for i in range(0,10):\n",
    "    if not (i%2):\n",
    "        size+=bigger\n",
    "    print i, size"
   ]
  },
  {
   "cell_type": "code",
   "execution_count": 23,
   "metadata": {
    "collapsed": true
   },
   "outputs": [],
   "source": [
    "turns=20\n",
    "angle=90\n",
    "size=5\n",
    "bigger=15\n",
    "t1.home()\n",
    "t1.clear()\n",
    "for i in range(0,turns):\n",
    "    if not (i%2):\n",
    "        size+=bigger\n",
    "    t1.forward(size)\n",
    "    t1.right(angle)"
   ]
  },
  {
   "cell_type": "code",
   "execution_count": 22,
   "metadata": {
    "collapsed": false
   },
   "outputs": [
    {
     "name": "stdout",
     "output_type": "stream",
     "text": [
      "Appending to pfun.py\n"
     ]
    }
   ],
   "source": [
    "def makeSwirlSquare(size,bigger,turns,angle):\n",
    "    nBigger=2\n",
    "    for i in range(0,turns):\n",
    "        #if divided by nBigger, make it bigger\n",
    "        if not i%nBigger:\n",
    "            size+=bigger\n",
    "        t1.forward(size)\n",
    "        t1.right(angle)\n",
    "\n",
    "turns=20\n",
    "size=5\n",
    "bigger=15\n",
    "angle=90\n",
    "t1.home()\n",
    "t1.clear()\n",
    "makeSwirlSquare(size,bigger,turns,angle)"
   ]
  },
  {
   "cell_type": "markdown",
   "metadata": {
    "slideshow": {
     "slide_type": "slide"
    }
   },
   "source": [
    "## 제어-4: 온도를 입력받아서 F-C 변환\n",
    "\n",
    "* 프로그래밍 요소\n",
    "    * 다분기 if-elseif를 이해한다.\n",
    "    * 사용자 입력을 이해한다.\n",
    "    * 데이터형 (문자열, 정수, 소수)을 이해한다.\n",
    "    * 화면출력을 이해한다.\n",
    "\n",
    "* 앞서 배운 변수를 이해하고, 사용자에게서 받은 변수에 따라 프로그램의 반응이 달라진다."
   ]
  },
  {
   "cell_type": "code",
   "execution_count": 6,
   "metadata": {
    "collapsed": false,
    "slideshow": {
     "slide_type": "slide"
    }
   },
   "outputs": [
    {
     "data": {
      "image/svg+xml": [
       "<svg height=\"370px\" style=\"width:405px;height:370px;\" version=\"1.1\" viewBox=\"0 0 405 370\" width=\"405px\" xmlns=\"http://www.w3.org/2000/svg\" xmlns:xlink=\"http://www.w3.org/1999/xlink\"><defs><filter height=\"300%\" id=\"f1\" width=\"300%\" x=\"-1\" y=\"-1\"><feGaussianBlur result=\"blurOut\" stdDeviation=\"2.0\"/><feColorMatrix in=\"blurOut\" result=\"blurOut2\" type=\"matrix\" values=\"0 0 0 0 0 0 0 0 0 0 0 0 0 0 0 0 0 0 .4 0\"/><feOffset dx=\"4.0\" dy=\"4.0\" in=\"blurOut2\" result=\"blurOut3\"/><feBlend in=\"SourceGraphic\" in2=\"blurOut3\" mode=\"normal\"/></filter></defs><g><ellipse cx=\"204\" cy=\"20\" fill=\"#000000\" filter=\"url(#f1)\" rx=\"10\" ry=\"10\" style=\"stroke: none; stroke-width: 1.0;\"/><rect fill=\"#FEFECE\" filter=\"url(#f1)\" height=\"34.1328\" rx=\"12.5\" ry=\"12.5\" style=\"stroke: #A80036; stroke-width: 1.5;\" width=\"138\" x=\"135\" y=\"50\"/><text fill=\"#000000\" font-family=\"sans-serif\" font-size=\"12\" lengthAdjust=\"spacingAndGlyphs\" textLength=\"118\" x=\"145\" y=\"71.6016\">get user input F or C</text><rect fill=\"#FEFECE\" filter=\"url(#f1)\" height=\"34.1328\" rx=\"12.5\" ry=\"12.5\" style=\"stroke: #A80036; stroke-width: 1.5;\" width=\"176\" x=\"116\" y=\"104.1328\"/><text fill=\"#000000\" font-family=\"sans-serif\" font-size=\"12\" lengthAdjust=\"spacingAndGlyphs\" textLength=\"156\" x=\"126\" y=\"125.7344\">get user input temperature</text><polygon fill=\"#FEFECE\" filter=\"url(#f1)\" points=\"27.5,158.2656,91.5,158.2656,103.5,170.2656,91.5,182.2656,27.5,182.2656,15.5,170.2656,27.5,158.2656\" style=\"stroke: #A80036; stroke-width: 1.5;\"/><text fill=\"#000000\" font-family=\"sans-serif\" font-size=\"11\" lengthAdjust=\"spacingAndGlyphs\" textLength=\"6\" x=\"63.5\" y=\"192.9004\">F</text><text fill=\"#000000\" font-family=\"sans-serif\" font-size=\"11\" lengthAdjust=\"spacingAndGlyphs\" textLength=\"64\" x=\"27.5\" y=\"174.4229\">user input F</text><rect fill=\"#FEFECE\" filter=\"url(#f1)\" height=\"34.1328\" rx=\"12.5\" ry=\"12.5\" style=\"stroke: #A80036; stroke-width: 1.5;\" width=\"99\" x=\"10\" y=\"215.2207\"/><text fill=\"#000000\" font-family=\"sans-serif\" font-size=\"12\" lengthAdjust=\"spacingAndGlyphs\" textLength=\"79\" x=\"20\" y=\"236.8223\">convert F to C</text><polygon fill=\"#FEFECE\" filter=\"url(#f1)\" points=\"145.5,158.2656,211.5,158.2656,223.5,170.2656,211.5,182.2656,145.5,182.2656,133.5,170.2656,145.5,158.2656\" style=\"stroke: #A80036; stroke-width: 1.5;\"/><text fill=\"#000000\" font-family=\"sans-serif\" font-size=\"11\" lengthAdjust=\"spacingAndGlyphs\" textLength=\"8\" x=\"182.5\" y=\"192.9004\">C</text><text fill=\"#000000\" font-family=\"sans-serif\" font-size=\"11\" lengthAdjust=\"spacingAndGlyphs\" textLength=\"66\" x=\"145.5\" y=\"174.4229\">user input C</text><text fill=\"#000000\" font-family=\"sans-serif\" font-size=\"11\" lengthAdjust=\"spacingAndGlyphs\" textLength=\"80\" x=\"223.5\" y=\"167.9453\">neither F nor C</text><rect fill=\"#FEFECE\" filter=\"url(#f1)\" height=\"34.1328\" rx=\"12.5\" ry=\"12.5\" style=\"stroke: #A80036; stroke-width: 1.5;\" width=\"99\" x=\"129\" y=\"215.2207\"/><text fill=\"#000000\" font-family=\"sans-serif\" font-size=\"12\" lengthAdjust=\"spacingAndGlyphs\" textLength=\"79\" x=\"139\" y=\"236.8223\">convert C to F</text><rect fill=\"#FEFECE\" filter=\"url(#f1)\" height=\"34.1328\" rx=\"12.5\" ry=\"12.5\" style=\"stroke: #A80036; stroke-width: 1.5;\" width=\"150\" x=\"248\" y=\"211.7432\"/><text fill=\"#000000\" font-family=\"sans-serif\" font-size=\"12\" lengthAdjust=\"spacingAndGlyphs\" textLength=\"130\" x=\"258\" y=\"233.3447\">print &quot;user input error&quot;</text><rect fill=\"#FEFECE\" filter=\"url(#f1)\" height=\"34.1328\" rx=\"12.5\" ry=\"12.5\" style=\"stroke: #A80036; stroke-width: 1.5;\" width=\"83\" x=\"162.5\" y=\"289.3535\"/><text fill=\"#000000\" font-family=\"sans-serif\" font-size=\"12\" lengthAdjust=\"spacingAndGlyphs\" textLength=\"63\" x=\"172.5\" y=\"310.9551\">print result</text><ellipse cx=\"204\" cy=\"353.4863\" fill=\"none\" filter=\"url(#f1)\" rx=\"10\" ry=\"10\" style=\"stroke: #000000; stroke-width: 1.0;\"/><ellipse cx=\"204.5\" cy=\"353.9863\" fill=\"#000000\" filter=\"url(#f1)\" rx=\"6\" ry=\"6\" style=\"stroke: none; stroke-width: 1.0;\"/><line style=\"stroke: #A80036; stroke-width: 1.5;\" x1=\"204\" x2=\"204\" y1=\"30\" y2=\"50\"/><polygon fill=\"#A80036\" points=\"200,40,204,50,208,40,204,44\" style=\"stroke: #A80036; stroke-width: 1.0;\"/><line style=\"stroke: #A80036; stroke-width: 1.5;\" x1=\"204\" x2=\"204\" y1=\"84.1328\" y2=\"104.1328\"/><polygon fill=\"#A80036\" points=\"200,94.1328,204,104.1328,208,94.1328,204,98.1328\" style=\"stroke: #A80036; stroke-width: 1.0;\"/><line style=\"stroke: #A80036; stroke-width: 1.5;\" x1=\"59.5\" x2=\"59.5\" y1=\"182.2656\" y2=\"215.2207\"/><polygon fill=\"#A80036\" points=\"55.5,205.2207,59.5,215.2207,63.5,205.2207,59.5,209.2207\" style=\"stroke: #A80036; stroke-width: 1.0;\"/><line style=\"stroke: #A80036; stroke-width: 1.5;\" x1=\"59.5\" x2=\"59.5\" y1=\"249.3535\" y2=\"269.3535\"/><polygon fill=\"#A80036\" points=\"55.5,259.3535,59.5,269.3535,63.5,259.3535,59.5,263.3535\" style=\"stroke: #A80036; stroke-width: 1.0;\"/><line style=\"stroke: #A80036; stroke-width: 1.5;\" x1=\"178.5\" x2=\"178.5\" y1=\"182.2656\" y2=\"215.2207\"/><polygon fill=\"#A80036\" points=\"174.5,205.2207,178.5,215.2207,182.5,205.2207,178.5,209.2207\" style=\"stroke: #A80036; stroke-width: 1.0;\"/><line style=\"stroke: #A80036; stroke-width: 1.5;\" x1=\"178.5\" x2=\"178.5\" y1=\"249.3535\" y2=\"269.3535\"/><polygon fill=\"#A80036\" points=\"174.5,259.3535,178.5,269.3535,182.5,259.3535,178.5,263.3535\" style=\"stroke: #A80036; stroke-width: 1.0;\"/><line style=\"stroke: #A80036; stroke-width: 1.5;\" x1=\"103.5\" x2=\"133.5\" y1=\"170.2656\" y2=\"170.2656\"/><polygon fill=\"#A80036\" points=\"123.5,166.2656,133.5,170.2656,123.5,174.2656,127.5,170.2656\" style=\"stroke: #A80036; stroke-width: 1.0;\"/><line style=\"stroke: #A80036; stroke-width: 1.5;\" x1=\"204\" x2=\"204\" y1=\"138.2656\" y2=\"143.2656\"/><line style=\"stroke: #A80036; stroke-width: 1.5;\" x1=\"204\" x2=\"59.5\" y1=\"143.2656\" y2=\"143.2656\"/><line style=\"stroke: #A80036; stroke-width: 1.5;\" x1=\"59.5\" x2=\"59.5\" y1=\"143.2656\" y2=\"158.2656\"/><polygon fill=\"#A80036\" points=\"55.5,148.2656,59.5,158.2656,63.5,148.2656,59.5,152.2656\" style=\"stroke: #A80036; stroke-width: 1.0;\"/><line style=\"stroke: #A80036; stroke-width: 1.5;\" x1=\"223.5\" x2=\"323\" y1=\"170.2656\" y2=\"170.2656\"/><line style=\"stroke: #A80036; stroke-width: 1.5;\" x1=\"323\" x2=\"323\" y1=\"170.2656\" y2=\"211.7432\"/><polygon fill=\"#A80036\" points=\"319,201.7432,323,211.7432,327,201.7432,323,205.7432\" style=\"stroke: #A80036; stroke-width: 1.0;\"/><line style=\"stroke: #A80036; stroke-width: 1.5;\" x1=\"323\" x2=\"323\" y1=\"245.876\" y2=\"269.3535\"/><polygon fill=\"#A80036\" points=\"319,259.3535,323,269.3535,327,259.3535,323,263.3535\" style=\"stroke: #A80036; stroke-width: 1.0;\"/><line style=\"stroke: #A80036; stroke-width: 1.5;\" x1=\"59.5\" x2=\"323\" y1=\"269.3535\" y2=\"269.3535\"/><line style=\"stroke: #A80036; stroke-width: 1.5;\" x1=\"204\" x2=\"204\" y1=\"269.3535\" y2=\"289.3535\"/><polygon fill=\"#A80036\" points=\"200,279.3535,204,289.3535,208,279.3535,204,283.3535\" style=\"stroke: #A80036; stroke-width: 1.0;\"/><line style=\"stroke: #A80036; stroke-width: 1.5;\" x1=\"204\" x2=\"204\" y1=\"323.4863\" y2=\"343.4863\"/><polygon fill=\"#A80036\" points=\"200,333.4863,204,343.4863,208,333.4863,204,337.4863\" style=\"stroke: #A80036; stroke-width: 1.0;\"/></g></svg>"
      ],
      "text/plain": [
       "<IPython.core.display.SVG object>"
      ]
     },
     "execution_count": 6,
     "metadata": {},
     "output_type": "execute_result"
    }
   ],
   "source": [
    "%%plantuml\n",
    "@startuml\n",
    "start\n",
    ":get user input F or C;\n",
    ":get user input temperature;\n",
    "if (user input F) then (F)\n",
    "    :convert F to C;\n",
    "elseif(user input C) then(C)\n",
    "    :convert C to F;\n",
    "else(neither F nor C)\n",
    ":print \"user input error\";\n",
    "endif\n",
    ":print result;\n",
    "stophttp://localhost:8888/notebooks/4_5_controlstructure.ipynb#\n",
    "@enduml"
   ]
  },
  {
   "cell_type": "markdown",
   "metadata": {
    "slideshow": {
     "slide_type": "slide"
    }
   },
   "source": [
    "### 변수의 이해\n",
    "\n",
    "* 변수는 메모리에 저장된 값에 대한 명칭이다.\n",
    "* 변수를 저장하는 이유는, 다시 사용하려고 하기 때문이다."
   ]
  },
  {
   "cell_type": "markdown",
   "metadata": {
    "slideshow": {
     "slide_type": "slide"
    }
   },
   "source": [
    "### 사용자에게서 입력 받기\n",
    "\n",
    "* 사용자에게 입력을 받는 것은 컴퓨터에게서 받는 것보다 어렵다.\n",
    "    * 사용자는 예상하지 못한 입력을 넣는 경우가 있기 때문에 오류를 확인하는 것이 필수적이다.\n",
    "        * 숫자를 넣으라고 하면, 문자를 넣거나\n",
    "        * 문자만을 넣으라고 하면, 특수문자를 넣거나\n",
    "* input\n",
    "    * 사용자 입력 값을 받아서 파이썬 명령어로 실행.\n",
    "    * eval(raw_input(prompt))와 동일한 의미. 사용자에게 입력을 받아서 파이썬 명령어로 실행한다는 의미.\n",
    "    * 수를 입력할 경우에는 그냥, 문자는 따옴표\n",
    "    * 사용자가 입력을 잘 못하면 오류가 남\n",
    "* raw_input\n",
    "    * 사용자 입력 값을 받아서 문자열로 그 값을 돌려줌.\n",
    "* 2+1을 입력하면 input은 연산을 해서 그 결과 3을, 그러나 raw_input은 연산을 하지 않고 '2+1'을 문자열로 돌려줌."
   ]
  },
  {
   "cell_type": "code",
   "execution_count": 41,
   "metadata": {
    "collapsed": false,
    "slideshow": {
     "slide_type": "slide"
    }
   },
   "outputs": [
    {
     "name": "stdout",
     "output_type": "stream",
     "text": [
      "입력하세요: 1+2\n",
      "3\n",
      "입력을 고르세요:1+2\n",
      "1+2\n"
     ]
    }
   ],
   "source": [
    "cmd =input(\"입력하세요: \")\n",
    "print cmd\n",
    "sel = raw_input('입력을 고르세요:')\n",
    "print sel"
   ]
  },
  {
   "cell_type": "markdown",
   "metadata": {
    "slideshow": {
     "slide_type": "slide"
    }
   },
   "source": [
    "### 화면출력 값의 이해\n",
    "* print \"%d\", 12.3는 정수로 형변환을 해서 출력을 하므로 12.\n",
    "* print \"%s\", 12.3는 문자열로 형변환을 해서 출력하므로 숫자가 아닌 문자열 12.3.\n",
    "* print \"%.2f\", 12.3는 소수점 2자리로 출력을 하므로 12.30.\n",
    "* 파이썬 2.6부터는 .format이란 명령어 지원\n",
    "    * {0:d} 0번째 입력 값을 정수로 출력\n",
    "    * {1:s} 1번째 입력 값을 문자열로 출력\n",
    "    * {2:.2f} 2번째 입력 값을 소수점 2자리로 출력\n",
    "    * 단 입력 값의 데이터형이 맞지 않을 경우 오류가 발생하므로, 형변환을 해주어야 함."
   ]
  },
  {
   "cell_type": "markdown",
   "metadata": {
    "collapsed": true
   },
   "source": [
    "* 플러스 '+' 연산자가 문자열을 만나면 더하기를 하지 않고, 문자열을 서로 붙이는 것을 opeator overloading이라고 한다.\n",
    "    * \"Hello \"+\"Seoul\""
   ]
  },
  {
   "cell_type": "code",
   "execution_count": 7,
   "metadata": {
    "collapsed": false
   },
   "outputs": [
    {
     "name": "stdout",
     "output_type": "stream",
     "text": [
      "seoul\n",
      "Hello seoul\n",
      "Hello seoul is beautiful\n",
      "12\n",
      "12.3\n",
      "12.30\n",
      "첫 번째 12 두 번째 12.3 세 번째 12.30\n"
     ]
    }
   ],
   "source": [
    "city=\"seoul\"\n",
    "print city\n",
    "hello=\"Hello \" + city\n",
    "print hello\n",
    "print \"Hello %s is beautiful\" % city\n",
    "# formatted print\n",
    "# 12.3을 정수 형식으로 출력\n",
    "print \"%d\" % 12.3\n",
    "# 12.3을 문자열 형식으로 출력\n",
    "print \"%s\" % 12.3\n",
    "print \"%.2f\" % 12.3\n",
    "print \"첫 번째 {0:d} 두 번째 {1:s} 세 번째 {2:.2f}\".format(int(12.3),str(12.3),12.3)"
   ]
  },
  {
   "cell_type": "code",
   "execution_count": 5,
   "metadata": {
    "collapsed": false,
    "slideshow": {
     "slide_type": "slide"
    }
   },
   "outputs": [
    {
     "name": "stdout",
     "output_type": "stream",
     "text": [
      "입력하세요 (F 또는 C): F\n",
      "온도를 입력하세요: 10\n",
      "선택한 값은:  F\n",
      "입력한 온도는: 10\n"
     ]
    }
   ],
   "source": [
    "sel = raw_input('입력하세요 (F 또는 C): ')\n",
    "temp = raw_input('온도를 입력하세요: ')\n",
    "print \"선택한 값은: \",sel\n",
    "print \"입력한 온도는: %s\" % temp"
   ]
  },
  {
   "cell_type": "code",
   "execution_count": 31,
   "metadata": {
    "collapsed": false,
    "slideshow": {
     "slide_type": "slide"
    }
   },
   "outputs": [
    {
     "name": "stdout",
     "output_type": "stream",
     "text": [
      "입력하세요 (F 또는 C):F\n",
      "온도를 입력하세요:50\n",
      "50F를 변환하면 10.00입니다\n"
     ]
    }
   ],
   "source": [
    "sel = raw_input('입력하세요 (F 또는 C):')\n",
    "temp = raw_input('온도를 입력하세요:')\n",
    "temperature = int(temp)\n",
    "if sel=='F':\n",
    "    res=(temperature-32)*5/9.0\n",
    "elif sel=='C':\n",
    "    res=temperature*9.0/5.0+32\n",
    "else:\n",
    "    print \"선택은 F또는 C이어야 합니다.\"\n",
    "print \"{0:d}{1:s}를 변환하면 {2:.2f}입니다\".format(temperature,sel,res)"
   ]
  },
  {
   "cell_type": "markdown",
   "metadata": {
    "slideshow": {
     "slide_type": "slide"
    }
   },
   "source": [
    "### 함수로 변환\n",
    "\n",
    "* 함수의 입력 값, 출력 값을 정의해 줌. 입력 변수명, 출력 변수명이 반드시 같을 필요가 없슴.\n",
    "* 함수를 사용하면 재사용할 수 있게 된다.\n",
    "* 아래에서 res를 미리 선언하여, 초기화하는 것이 좋음.\n",
    "    * 파이썬은 변수의 선언이 별도로 필요하지 않은 언어이지만 다른 언어에서는 그렇게 함.\n",
    "    * 초기화한다는 것은 데이터형에 맞는 바이트만큼의 크기를 할당한다는 의미."
   ]
  },
  {
   "cell_type": "code",
   "execution_count": 26,
   "metadata": {
    "collapsed": false,
    "slideshow": {
     "slide_type": "slide"
    }
   },
   "outputs": [
    {
     "name": "stdout",
     "output_type": "stream",
     "text": [
      "Enter F or C: F\n",
      "Enter temperature: 100\n",
      "100F --> 37.78\n",
      "100F --> 37.78\n"
     ]
    }
   ],
   "source": [
    "sel = raw_input('Enter F or C: ')\n",
    "temp = raw_input('Enter temperature: ')\n",
    "temperature = int(temp)\n",
    "\n",
    "def convertTemperature(sel,temperature):\n",
    "    res=0.0\n",
    "    if sel=='F':\n",
    "        res=(temperature-32)*5/9.0\n",
    "    elif sel=='C':\n",
    "        res=temperature*9.0/5.0+32\n",
    "    else:\n",
    "        print \"Error: Enter either F or C!\"\n",
    "    print \"{0:d}{1:s} --> {2:.2f}\".format(temperature,sel,res)\n",
    "    return res\n",
    "\n",
    "result=convertTemperature(sel,temperature)\n",
    "print \"{0:d}{1:s} --> {2:.2f}\".format(temperature,sel,result)"
   ]
  },
  {
   "cell_type": "markdown",
   "metadata": {
    "slideshow": {
     "slide_type": "slide"
    }
   },
   "source": [
    "### 고려할 점\n",
    "* 대소문자입력 - 사용자가 소문자 f c를 입력하는 경우\n",
    "* 연산할 경우 소수점 처리: 정수끼리 나누면 출력 값은 정수\n",
    "* 연산의 우선순위\n",
    "* 결과 값이 섭씨(C)인지 화씨(F)인지 표시."
   ]
  },
  {
   "cell_type": "markdown",
   "metadata": {
    "collapsed": false,
    "slideshow": {
     "slide_type": "slide"
    }
   },
   "source": [
    "## 제어-5: 성적을 입력받아 A~F 학점 처리\n",
    "\n",
    "* 문제 1-2 온도변환 참조\n",
    "* 프로그래밍 요소\n",
    "    * 다분기 조건을 사용한다.\n",
    "    * 사용자 입력을 받는다 (0~100점 점수)\n",
    "    * 사용자 입력 값을 연산하려면 소수로 받는다.\n",
    "    * 값을 형식에 맞추어 출력한다.\n",
    "* 함수\n",
    "    * def computeGrade(marks)"
   ]
  },
  {
   "cell_type": "markdown",
   "metadata": {},
   "source": [
    "* 다분기 다이어그램 형식"
   ]
  },
  {
   "cell_type": "code",
   "execution_count": null,
   "metadata": {
    "collapsed": true
   },
   "outputs": [],
   "source": [
    "%%plantuml\n",
    "@startuml\n",
    "start\n",
    "\n",
    ":get user input marks;\n",
    "if()\n",
    "elseif()\n",
    "elseif()\n",
    "elseif()\n",
    "elseif()\n",
    "endif\n",
    ":print grade;\n",
    "stop\n",
    "@enduml"
   ]
  },
  {
   "cell_type": "code",
   "execution_count": 7,
   "metadata": {
    "collapsed": false,
    "slideshow": {
     "slide_type": "slide"
    }
   },
   "outputs": [
    {
     "data": {
      "image/svg+xml": [
       "<svg height=\"306px\" style=\"width:631px;height:306px;\" version=\"1.1\" viewBox=\"0 0 631 306\" width=\"631px\" xmlns=\"http://www.w3.org/2000/svg\" xmlns:xlink=\"http://www.w3.org/1999/xlink\"><defs><filter height=\"300%\" id=\"f1\" width=\"300%\" x=\"-1\" y=\"-1\"><feGaussianBlur result=\"blurOut\" stdDeviation=\"2.0\"/><feColorMatrix in=\"blurOut\" result=\"blurOut2\" type=\"matrix\" values=\"0 0 0 0 0 0 0 0 0 0 0 0 0 0 0 0 0 0 .4 0\"/><feOffset dx=\"4.0\" dy=\"4.0\" in=\"blurOut2\" result=\"blurOut3\"/><feBlend in=\"SourceGraphic\" in2=\"blurOut3\" mode=\"normal\"/></filter></defs><g><ellipse cx=\"317\" cy=\"20\" fill=\"#000000\" filter=\"url(#f1)\" rx=\"10\" ry=\"10\" style=\"stroke: none; stroke-width: 1.0;\"/><rect fill=\"#FEFECE\" filter=\"url(#f1)\" height=\"34.1328\" rx=\"12.5\" ry=\"12.5\" style=\"stroke: #A80036; stroke-width: 1.5;\" width=\"140\" x=\"247\" y=\"50\"/><text fill=\"#000000\" font-family=\"sans-serif\" font-size=\"12\" lengthAdjust=\"spacingAndGlyphs\" textLength=\"120\" x=\"257\" y=\"71.6016\">get user input marks</text><polygon fill=\"#FEFECE\" filter=\"url(#f1)\" points=\"22,104.1328,126,104.1328,138,116.1328,126,128.1328,22,128.1328,10,116.1328,22,104.1328\" style=\"stroke: #A80036; stroke-width: 1.5;\"/><text fill=\"#000000\" font-family=\"sans-serif\" font-size=\"11\" lengthAdjust=\"spacingAndGlyphs\" textLength=\"104\" x=\"22\" y=\"120.29\">90=&lt;marks=&lt;100</text><rect fill=\"#FEFECE\" filter=\"url(#f1)\" height=\"34.1328\" rx=\"12.5\" ry=\"12.5\" style=\"stroke: #A80036; stroke-width: 1.5;\" width=\"72\" x=\"38\" y=\"148.1328\"/><text fill=\"#000000\" font-family=\"sans-serif\" font-size=\"12\" lengthAdjust=\"spacingAndGlyphs\" textLength=\"52\" x=\"48\" y=\"169.7344\">grade=A</text><polygon fill=\"#FEFECE\" filter=\"url(#f1)\" points=\"170,104.1328,258,104.1328,270,116.1328,258,128.1328,170,128.1328,158,116.1328,170,104.1328\" style=\"stroke: #A80036; stroke-width: 1.5;\"/><text fill=\"#000000\" font-family=\"sans-serif\" font-size=\"11\" lengthAdjust=\"spacingAndGlyphs\" textLength=\"88\" x=\"170\" y=\"120.29\">80&lt;=marks&lt;90</text><rect fill=\"#FEFECE\" filter=\"url(#f1)\" height=\"34.1328\" rx=\"12.5\" ry=\"12.5\" style=\"stroke: #A80036; stroke-width: 1.5;\" width=\"71\" x=\"178.5\" y=\"148.1328\"/><text fill=\"#000000\" font-family=\"sans-serif\" font-size=\"12\" lengthAdjust=\"spacingAndGlyphs\" textLength=\"51\" x=\"188.5\" y=\"169.7344\">grade=B</text><polygon fill=\"#FEFECE\" filter=\"url(#f1)\" points=\"302,104.1328,390,104.1328,402,116.1328,390,128.1328,302,128.1328,290,116.1328,302,104.1328\" style=\"stroke: #A80036; stroke-width: 1.5;\"/><text fill=\"#000000\" font-family=\"sans-serif\" font-size=\"11\" lengthAdjust=\"spacingAndGlyphs\" textLength=\"88\" x=\"302\" y=\"120.29\">70&lt;=marks&lt;80</text><rect fill=\"#FEFECE\" filter=\"url(#f1)\" height=\"34.1328\" rx=\"12.5\" ry=\"12.5\" style=\"stroke: #A80036; stroke-width: 1.5;\" width=\"72\" x=\"310\" y=\"148.1328\"/><text fill=\"#000000\" font-family=\"sans-serif\" font-size=\"12\" lengthAdjust=\"spacingAndGlyphs\" textLength=\"52\" x=\"320\" y=\"169.7344\">grade=C</text><polygon fill=\"#FEFECE\" filter=\"url(#f1)\" points=\"434,104.1328,522,104.1328,534,116.1328,522,128.1328,434,128.1328,422,116.1328,434,104.1328\" style=\"stroke: #A80036; stroke-width: 1.5;\"/><text fill=\"#000000\" font-family=\"sans-serif\" font-size=\"11\" lengthAdjust=\"spacingAndGlyphs\" textLength=\"88\" x=\"434\" y=\"120.29\">60&lt;=marks&lt;70</text><rect fill=\"#FEFECE\" filter=\"url(#f1)\" height=\"34.1328\" rx=\"12.5\" ry=\"12.5\" style=\"stroke: #A80036; stroke-width: 1.5;\" width=\"73\" x=\"441.5\" y=\"148.1328\"/><text fill=\"#000000\" font-family=\"sans-serif\" font-size=\"12\" lengthAdjust=\"spacingAndGlyphs\" textLength=\"53\" x=\"451.5\" y=\"169.7344\">grade=D</text><rect fill=\"#FEFECE\" filter=\"url(#f1)\" height=\"34.1328\" rx=\"12.5\" ry=\"12.5\" style=\"stroke: #A80036; stroke-width: 1.5;\" width=\"70\" x=\"554\" y=\"151.1328\"/><text fill=\"#000000\" font-family=\"sans-serif\" font-size=\"12\" lengthAdjust=\"spacingAndGlyphs\" textLength=\"50\" x=\"564\" y=\"172.7344\">grade=F</text><rect fill=\"#FEFECE\" filter=\"url(#f1)\" height=\"34.1328\" rx=\"12.5\" ry=\"12.5\" style=\"stroke: #A80036; stroke-width: 1.5;\" width=\"85\" x=\"274.5\" y=\"225.2656\"/><text fill=\"#000000\" font-family=\"sans-serif\" font-size=\"12\" lengthAdjust=\"spacingAndGlyphs\" textLength=\"65\" x=\"284.5\" y=\"246.8672\">print grade</text><ellipse cx=\"317\" cy=\"289.3984\" fill=\"none\" filter=\"url(#f1)\" rx=\"10\" ry=\"10\" style=\"stroke: #000000; stroke-width: 1.0;\"/><ellipse cx=\"317.5\" cy=\"289.8984\" fill=\"#000000\" filter=\"url(#f1)\" rx=\"6\" ry=\"6\" style=\"stroke: none; stroke-width: 1.0;\"/><line style=\"stroke: #A80036; stroke-width: 1.5;\" x1=\"317\" x2=\"317\" y1=\"30\" y2=\"50\"/><polygon fill=\"#A80036\" points=\"313,40,317,50,321,40,317,44\" style=\"stroke: #A80036; stroke-width: 1.0;\"/><line style=\"stroke: #A80036; stroke-width: 1.5;\" x1=\"74\" x2=\"74\" y1=\"128.1328\" y2=\"148.1328\"/><polygon fill=\"#A80036\" points=\"70,138.1328,74,148.1328,78,138.1328,74,142.1328\" style=\"stroke: #A80036; stroke-width: 1.0;\"/><line style=\"stroke: #A80036; stroke-width: 1.5;\" x1=\"74\" x2=\"74\" y1=\"182.2656\" y2=\"205.2656\"/><polygon fill=\"#A80036\" points=\"70,195.2656,74,205.2656,78,195.2656,74,199.2656\" style=\"stroke: #A80036; stroke-width: 1.0;\"/><line style=\"stroke: #A80036; stroke-width: 1.5;\" x1=\"214\" x2=\"214\" y1=\"128.1328\" y2=\"148.1328\"/><polygon fill=\"#A80036\" points=\"210,138.1328,214,148.1328,218,138.1328,214,142.1328\" style=\"stroke: #A80036; stroke-width: 1.0;\"/><line style=\"stroke: #A80036; stroke-width: 1.5;\" x1=\"214\" x2=\"214\" y1=\"182.2656\" y2=\"205.2656\"/><polygon fill=\"#A80036\" points=\"210,195.2656,214,205.2656,218,195.2656,214,199.2656\" style=\"stroke: #A80036; stroke-width: 1.0;\"/><line style=\"stroke: #A80036; stroke-width: 1.5;\" x1=\"346\" x2=\"346\" y1=\"128.1328\" y2=\"148.1328\"/><polygon fill=\"#A80036\" points=\"342,138.1328,346,148.1328,350,138.1328,346,142.1328\" style=\"stroke: #A80036; stroke-width: 1.0;\"/><line style=\"stroke: #A80036; stroke-width: 1.5;\" x1=\"346\" x2=\"346\" y1=\"182.2656\" y2=\"205.2656\"/><polygon fill=\"#A80036\" points=\"342,195.2656,346,205.2656,350,195.2656,346,199.2656\" style=\"stroke: #A80036; stroke-width: 1.0;\"/><line style=\"stroke: #A80036; stroke-width: 1.5;\" x1=\"478\" x2=\"478\" y1=\"128.1328\" y2=\"148.1328\"/><polygon fill=\"#A80036\" points=\"474,138.1328,478,148.1328,482,138.1328,478,142.1328\" style=\"stroke: #A80036; stroke-width: 1.0;\"/><line style=\"stroke: #A80036; stroke-width: 1.5;\" x1=\"478\" x2=\"478\" y1=\"182.2656\" y2=\"205.2656\"/><polygon fill=\"#A80036\" points=\"474,195.2656,478,205.2656,482,195.2656,478,199.2656\" style=\"stroke: #A80036; stroke-width: 1.0;\"/><line style=\"stroke: #A80036; stroke-width: 1.5;\" x1=\"138\" x2=\"158\" y1=\"116.1328\" y2=\"116.1328\"/><polygon fill=\"#A80036\" points=\"148,112.1328,158,116.1328,148,120.1328,152,116.1328\" style=\"stroke: #A80036; stroke-width: 1.0;\"/><line style=\"stroke: #A80036; stroke-width: 1.5;\" x1=\"270\" x2=\"290\" y1=\"116.1328\" y2=\"116.1328\"/><polygon fill=\"#A80036\" points=\"280,112.1328,290,116.1328,280,120.1328,284,116.1328\" style=\"stroke: #A80036; stroke-width: 1.0;\"/><line style=\"stroke: #A80036; stroke-width: 1.5;\" x1=\"402\" x2=\"422\" y1=\"116.1328\" y2=\"116.1328\"/><polygon fill=\"#A80036\" points=\"412,112.1328,422,116.1328,412,120.1328,416,116.1328\" style=\"stroke: #A80036; stroke-width: 1.0;\"/><line style=\"stroke: #A80036; stroke-width: 1.5;\" x1=\"317\" x2=\"317\" y1=\"84.1328\" y2=\"89.1328\"/><line style=\"stroke: #A80036; stroke-width: 1.5;\" x1=\"317\" x2=\"74\" y1=\"89.1328\" y2=\"89.1328\"/><line style=\"stroke: #A80036; stroke-width: 1.5;\" x1=\"74\" x2=\"74\" y1=\"89.1328\" y2=\"104.1328\"/><polygon fill=\"#A80036\" points=\"70,94.1328,74,104.1328,78,94.1328,74,98.1328\" style=\"stroke: #A80036; stroke-width: 1.0;\"/><line style=\"stroke: #A80036; stroke-width: 1.5;\" x1=\"534\" x2=\"589\" y1=\"116.1328\" y2=\"116.1328\"/><line style=\"stroke: #A80036; stroke-width: 1.5;\" x1=\"589\" x2=\"589\" y1=\"116.1328\" y2=\"151.1328\"/><polygon fill=\"#A80036\" points=\"585,141.1328,589,151.1328,593,141.1328,589,145.1328\" style=\"stroke: #A80036; stroke-width: 1.0;\"/><line style=\"stroke: #A80036; stroke-width: 1.5;\" x1=\"589\" x2=\"589\" y1=\"185.2656\" y2=\"205.2656\"/><polygon fill=\"#A80036\" points=\"585,195.2656,589,205.2656,593,195.2656,589,199.2656\" style=\"stroke: #A80036; stroke-width: 1.0;\"/><line style=\"stroke: #A80036; stroke-width: 1.5;\" x1=\"74\" x2=\"589\" y1=\"205.2656\" y2=\"205.2656\"/><line style=\"stroke: #A80036; stroke-width: 1.5;\" x1=\"317\" x2=\"317\" y1=\"205.2656\" y2=\"225.2656\"/><polygon fill=\"#A80036\" points=\"313,215.2656,317,225.2656,321,215.2656,317,219.2656\" style=\"stroke: #A80036; stroke-width: 1.0;\"/><line style=\"stroke: #A80036; stroke-width: 1.5;\" x1=\"317\" x2=\"317\" y1=\"259.3984\" y2=\"279.3984\"/><polygon fill=\"#A80036\" points=\"313,269.3984,317,279.3984,321,269.3984,317,273.3984\" style=\"stroke: #A80036; stroke-width: 1.0;\"/></g></svg>"
      ],
      "text/plain": [
       "<IPython.core.display.SVG object>"
      ]
     },
     "execution_count": 7,
     "metadata": {},
     "output_type": "execute_result"
    }
   ],
   "source": [
    "%%plantuml\n",
    "@startuml\n",
    "start\n",
    ":get user input marks;\n",
    "if (90=<marks=<100)\n",
    "    :grade=A;\n",
    "elseif(80<=marks<90)\n",
    "    :grade=B;\n",
    "elseif(70<=marks<80)\n",
    "    :grade=C;\n",
    "elseif(60<=marks<70)\n",
    "    :grade=D;\n",
    "else\n",
    "    :grade=F;\n",
    "endif\n",
    "    :print grade;\n",
    "stop\n",
    "@enduml"
   ]
  },
  {
   "cell_type": "markdown",
   "metadata": {
    "slideshow": {
     "slide_type": "slide"
    }
   },
   "source": [
    "### 입력 값의 처리\n",
    "\n",
    "* 사용자 입력 값: 앞의 예는 정수로 변환. 점수는 소수점으로 변환.\n",
    "* if문은 다분기, 구간별 조건.\n",
    "* 사용자 입력이 100점 이상, 0점 이하인 경우는 else문에서 처리.\n",
    "* 사용자 입력이 문자, 특수문자를 포함할 경우 처리하지 않고 있슴."
   ]
  },
  {
   "cell_type": "code",
   "execution_count": 4,
   "metadata": {
    "collapsed": false,
    "slideshow": {
     "slide_type": "slide"
    }
   },
   "outputs": [
    {
     "name": "stdout",
     "output_type": "stream",
     "text": [
      "성적을 입력하세요 (0~100):66\n",
      "입력 값은:  66.0\n"
     ]
    }
   ],
   "source": [
    "marksTmp = raw_input('성적을 입력하세요 (0~100):')\n",
    "marks = float(marksTmp)\n",
    "print \"입력 값은: \",marks"
   ]
  },
  {
   "cell_type": "markdown",
   "metadata": {},
   "source": [
    "* if문의 조건은 연속적인 값이다.\n",
    "* 연속적이지 않은 값을 비교하는 경우 (과일 또는 나라를 비교하는 경우)\n",
    "* 연속적인 값을 비교할 경우에는 범위를 사용하지만\n",
    "* 비연속적인 값을 사용하는 경우에는 하나씩 비교한다.\n",
    "    * Python은 switch문이 없다.\n"
   ]
  },
  {
   "cell_type": "code",
   "execution_count": null,
   "metadata": {
    "collapsed": true
   },
   "outputs": [],
   "source": [
    "if(90<=marks<=100):\n",
    "    print \"grade is A\""
   ]
  },
  {
   "cell_type": "code",
   "execution_count": 8,
   "metadata": {
    "collapsed": false,
    "slideshow": {
     "slide_type": "slide"
    }
   },
   "outputs": [
    {
     "name": "stdout",
     "output_type": "stream",
     "text": [
      "성적을 입력하세요 (0~100):76\n",
      "입력한 점수는 76.0 학점은 C \n"
     ]
    }
   ],
   "source": [
    "marksTmp = raw_input('성적을 입력하세요 (0~100):')\n",
    "marks = float(marksTmp)\n",
    "if marks>=90 and marks<=100:\n",
    "    grade='A'\n",
    "elif marks>=80 and marks<90:\n",
    "    grade='B'\n",
    "elif marks>=70 and marks<80:\n",
    "    grade='C'\n",
    "elif marks>=60 and marks<70:\n",
    "    grade='D'\n",
    "else:\n",
    "    grade='F'\n",
    "print \"입력한 점수는 {0:.1f} 학점은 {1:2s}\".format(marks,grade)"
   ]
  },
  {
   "cell_type": "markdown",
   "metadata": {
    "slideshow": {
     "slide_type": "slide"
    }
   },
   "source": [
    "### 함수로 변환\n",
    "\n",
    "* 함수의 입력은 marks, 출력은 grade.\n",
    "* 사용자 입력 값에 특수문자가 섞이면 정규식regexp로 처리 가능."
   ]
  },
  {
   "cell_type": "code",
   "execution_count": 30,
   "metadata": {
    "collapsed": false,
    "slideshow": {
     "slide_type": "slide"
    }
   },
   "outputs": [
    {
     "name": "stdout",
     "output_type": "stream",
     "text": [
      "Enter marks (0~100): 100\n",
      "You enterd marks 100.0 --> grade A \n",
      "You enterd marks 100.0 --> grade A \n"
     ]
    }
   ],
   "source": [
    "marksTmp = raw_input('Enter marks (0~100): ')\n",
    "marks = float(marksTmp)\n",
    "def computeGrade(marks):\n",
    "    if marks>=90 and marks<=100:\n",
    "        grade='A'\n",
    "    elif marks>=80 and marks<90:\n",
    "        grade='B'\n",
    "    elif marks>=70 and marks<80:\n",
    "        grade='C'\n",
    "    elif marks>=60 and marks<70:\n",
    "        grade='D'\n",
    "    else:\n",
    "        grade='F'\n",
    "    print \"You enterd marks {0:.1f} --> grade {1:2s}\".format(marks,grade)\n",
    "    return grade\n",
    "\n",
    "grade=computeGrade(marks)\n",
    "print \"You enterd marks {0:.1f} --> grade {1:2s}\".format(marks,grade)"
   ]
  },
  {
   "cell_type": "markdown",
   "metadata": {
    "slideshow": {
     "slide_type": "slide"
    }
   },
   "source": [
    "## 제어-6: 가위바위보\n",
    "\n",
    "* 가위, 바위, 보 게임을 만든다.\n",
    "    * 모든 경우의 수는 3 x 3으로 조합된 9가지이다.\n",
    "    * 경우의 수에는 중복되는 조합이 있다.\n",
    "* 프로그래밍 요소\n",
    "    * nested if\n",
    "    * nested if문은 복합조건으로 만들 수 있다.\n",
    "* input은 2개 output은 1개\n",
    "    def rspPlay(u1, u2):"
   ]
  },
  {
   "cell_type": "code",
   "execution_count": 8,
   "metadata": {
    "collapsed": false,
    "slideshow": {
     "slide_type": "slide"
    }
   },
   "outputs": [
    {
     "data": {
      "image/svg+xml": [
       "<svg height=\"451px\" style=\"width:1209px;height:451px;\" version=\"1.1\" viewBox=\"0 0 1209 451\" width=\"1209px\" xmlns=\"http://www.w3.org/2000/svg\" xmlns:xlink=\"http://www.w3.org/1999/xlink\"><defs><filter height=\"300%\" id=\"f1\" width=\"300%\" x=\"-1\" y=\"-1\"><feGaussianBlur result=\"blurOut\" stdDeviation=\"2.0\"/><feColorMatrix in=\"blurOut\" result=\"blurOut2\" type=\"matrix\" values=\"0 0 0 0 0 0 0 0 0 0 0 0 0 0 0 0 0 0 .4 0\"/><feOffset dx=\"4.0\" dy=\"4.0\" in=\"blurOut2\" result=\"blurOut3\"/><feBlend in=\"SourceGraphic\" in2=\"blurOut3\" mode=\"normal\"/></filter></defs><g><ellipse cx=\"606\" cy=\"20\" fill=\"#000000\" filter=\"url(#f1)\" rx=\"10\" ry=\"10\" style=\"stroke: none; stroke-width: 1.0;\"/><rect fill=\"#FEFECE\" filter=\"url(#f1)\" height=\"34.1328\" rx=\"12.5\" ry=\"12.5\" style=\"stroke: #A80036; stroke-width: 1.5;\" width=\"108\" x=\"552\" y=\"50\"/><text fill=\"#000000\" font-family=\"sans-serif\" font-size=\"12\" lengthAdjust=\"spacingAndGlyphs\" textLength=\"88\" x=\"562\" y=\"71.6016\">get user input1</text><rect fill=\"#FEFECE\" filter=\"url(#f1)\" height=\"34.1328\" rx=\"12.5\" ry=\"12.5\" style=\"stroke: #A80036; stroke-width: 1.5;\" width=\"108\" x=\"552\" y=\"104.1328\"/><text fill=\"#000000\" font-family=\"sans-serif\" font-size=\"12\" lengthAdjust=\"spacingAndGlyphs\" textLength=\"88\" x=\"562\" y=\"125.7344\">get user input2</text><polygon fill=\"#FEFECE\" filter=\"url(#f1)\" points=\"38,158.2656,70,158.2656,82,170.2656,70,182.2656,38,182.2656,26,170.2656,38,158.2656\" style=\"stroke: #A80036; stroke-width: 1.5;\"/><text fill=\"#000000\" font-family=\"sans-serif\" font-size=\"11\" lengthAdjust=\"spacingAndGlyphs\" textLength=\"32\" x=\"58\" y=\"192.9004\">1==2</text><text fill=\"#000000\" font-family=\"sans-serif\" font-size=\"11\" lengthAdjust=\"spacingAndGlyphs\" textLength=\"32\" x=\"38\" y=\"174.4229\">1==2</text><rect fill=\"#FEFECE\" filter=\"url(#f1)\" height=\"34.1328\" rx=\"12.5\" ry=\"12.5\" style=\"stroke: #A80036; stroke-width: 1.5;\" width=\"88\" x=\"10\" y=\"214.4004\"/><text fill=\"#000000\" font-family=\"sans-serif\" font-size=\"12\" lengthAdjust=\"spacingAndGlyphs\" textLength=\"68\" x=\"20\" y=\"236.002\">print &quot;draw&quot;</text><polygon fill=\"#FEFECE\" filter=\"url(#f1)\" points=\"238,158.2656,308,158.2656,320,170.2656,308,182.2656,238,182.2656,226,170.2656,238,158.2656\" style=\"stroke: #A80036; stroke-width: 1.5;\"/><text fill=\"#000000\" font-family=\"sans-serif\" font-size=\"11\" lengthAdjust=\"spacingAndGlyphs\" textLength=\"70\" x=\"238\" y=\"174.4229\">1=='scissor'</text><polygon fill=\"#FEFECE\" filter=\"url(#f1)\" points=\"147,226.4453,202,226.4453,214,238.4453,202,250.4453,147,250.4453,135,238.4453,147,226.4453\" style=\"stroke: #A80036; stroke-width: 1.5;\"/><text fill=\"#000000\" font-family=\"sans-serif\" font-size=\"11\" lengthAdjust=\"spacingAndGlyphs\" textLength=\"55\" x=\"147\" y=\"242.6025\">2=='rock'</text><rect fill=\"#FEFECE\" filter=\"url(#f1)\" height=\"34.1328\" rx=\"12.5\" ry=\"12.5\" style=\"stroke: #A80036; stroke-width: 1.5;\" width=\"113\" x=\"118\" y=\"270.4453\"/><text fill=\"#000000\" font-family=\"sans-serif\" font-size=\"12\" lengthAdjust=\"spacingAndGlyphs\" textLength=\"93\" x=\"128\" y=\"292.0469\">print &quot;rock wins&quot;</text><polygon fill=\"#FEFECE\" filter=\"url(#f1)\" points=\"283.5,226.4453,345.5,226.4453,357.5,238.4453,345.5,250.4453,283.5,250.4453,271.5,238.4453,283.5,226.4453\" style=\"stroke: #A80036; stroke-width: 1.5;\"/><text fill=\"#000000\" font-family=\"sans-serif\" font-size=\"11\" lengthAdjust=\"spacingAndGlyphs\" textLength=\"62\" x=\"283.5\" y=\"242.6025\">2=='paper'</text><rect fill=\"#FEFECE\" filter=\"url(#f1)\" height=\"34.1328\" rx=\"12.5\" ry=\"12.5\" style=\"stroke: #A80036; stroke-width: 1.5;\" width=\"127\" x=\"251\" y=\"270.4453\"/><text fill=\"#000000\" font-family=\"sans-serif\" font-size=\"12\" lengthAdjust=\"spacingAndGlyphs\" textLength=\"107\" x=\"261\" y=\"292.0469\">print &quot;scissor wins&quot;</text><polygon fill=\"#FEFECE\" filter=\"url(#f1)\" points=\"573.5,158.2656,628.5,158.2656,640.5,170.2656,628.5,182.2656,573.5,182.2656,561.5,170.2656,573.5,158.2656\" style=\"stroke: #A80036; stroke-width: 1.5;\"/><text fill=\"#000000\" font-family=\"sans-serif\" font-size=\"11\" lengthAdjust=\"spacingAndGlyphs\" textLength=\"55\" x=\"573.5\" y=\"174.4229\">1=='rock'</text><polygon fill=\"#FEFECE\" filter=\"url(#f1)\" points=\"469.5,226.4453,539.5,226.4453,551.5,238.4453,539.5,250.4453,469.5,250.4453,457.5,238.4453,469.5,226.4453\" style=\"stroke: #A80036; stroke-width: 1.5;\"/><text fill=\"#000000\" font-family=\"sans-serif\" font-size=\"11\" lengthAdjust=\"spacingAndGlyphs\" textLength=\"70\" x=\"469.5\" y=\"242.6025\">2=='scissor'</text><rect fill=\"#FEFECE\" filter=\"url(#f1)\" height=\"34.1328\" rx=\"12.5\" ry=\"12.5\" style=\"stroke: #A80036; stroke-width: 1.5;\" width=\"113\" x=\"448\" y=\"270.4453\"/><text fill=\"#000000\" font-family=\"sans-serif\" font-size=\"12\" lengthAdjust=\"spacingAndGlyphs\" textLength=\"93\" x=\"458\" y=\"292.0469\">print &quot;rock wins&quot;</text><polygon fill=\"#FEFECE\" filter=\"url(#f1)\" points=\"611.5,226.4453,673.5,226.4453,685.5,238.4453,673.5,250.4453,611.5,250.4453,599.5,238.4453,611.5,226.4453\" style=\"stroke: #A80036; stroke-width: 1.5;\"/><text fill=\"#000000\" font-family=\"sans-serif\" font-size=\"11\" lengthAdjust=\"spacingAndGlyphs\" textLength=\"62\" x=\"611.5\" y=\"242.6025\">2=='paper'</text><rect fill=\"#FEFECE\" filter=\"url(#f1)\" height=\"34.1328\" rx=\"12.5\" ry=\"12.5\" style=\"stroke: #A80036; stroke-width: 1.5;\" width=\"123\" x=\"581\" y=\"270.4453\"/><text fill=\"#000000\" font-family=\"sans-serif\" font-size=\"12\" lengthAdjust=\"spacingAndGlyphs\" textLength=\"103\" x=\"591\" y=\"292.0469\">print &quot;paper wins&quot;</text><polygon fill=\"#FEFECE\" filter=\"url(#f1)\" points=\"903,158.2656,965,158.2656,977,170.2656,965,182.2656,903,182.2656,891,170.2656,903,158.2656\" style=\"stroke: #A80036; stroke-width: 1.5;\"/><text fill=\"#000000\" font-family=\"sans-serif\" font-size=\"11\" lengthAdjust=\"spacingAndGlyphs\" textLength=\"62\" x=\"903\" y=\"174.4229\">1=='paper'</text><polygon fill=\"#FEFECE\" filter=\"url(#f1)\" points=\"802.5,226.4453,872.5,226.4453,884.5,238.4453,872.5,250.4453,802.5,250.4453,790.5,238.4453,802.5,226.4453\" style=\"stroke: #A80036; stroke-width: 1.5;\"/><text fill=\"#000000\" font-family=\"sans-serif\" font-size=\"11\" lengthAdjust=\"spacingAndGlyphs\" textLength=\"70\" x=\"802.5\" y=\"242.6025\">2=='scissor'</text><rect fill=\"#FEFECE\" filter=\"url(#f1)\" height=\"34.1328\" rx=\"12.5\" ry=\"12.5\" style=\"stroke: #A80036; stroke-width: 1.5;\" width=\"127\" x=\"774\" y=\"270.4453\"/><text fill=\"#000000\" font-family=\"sans-serif\" font-size=\"12\" lengthAdjust=\"spacingAndGlyphs\" textLength=\"107\" x=\"784\" y=\"292.0469\">print &quot;scissor wins&quot;</text><polygon fill=\"#FEFECE\" filter=\"url(#f1)\" points=\"955,226.4453,1010,226.4453,1022,238.4453,1010,250.4453,955,250.4453,943,238.4453,955,226.4453\" style=\"stroke: #A80036; stroke-width: 1.5;\"/><text fill=\"#000000\" font-family=\"sans-serif\" font-size=\"11\" lengthAdjust=\"spacingAndGlyphs\" textLength=\"55\" x=\"955\" y=\"242.6025\">2=='rock'</text><rect fill=\"#FEFECE\" filter=\"url(#f1)\" height=\"34.1328\" rx=\"12.5\" ry=\"12.5\" style=\"stroke: #A80036; stroke-width: 1.5;\" width=\"123\" x=\"921\" y=\"270.4453\"/><text fill=\"#000000\" font-family=\"sans-serif\" font-size=\"12\" lengthAdjust=\"spacingAndGlyphs\" textLength=\"103\" x=\"931\" y=\"292.0469\">print &quot;paper wins&quot;</text><rect fill=\"#FEFECE\" filter=\"url(#f1)\" height=\"34.1328\" rx=\"12.5\" ry=\"12.5\" style=\"stroke: #A80036; stroke-width: 1.5;\" width=\"88\" x=\"1114\" y=\"276.4453\"/><text fill=\"#000000\" font-family=\"sans-serif\" font-size=\"12\" lengthAdjust=\"spacingAndGlyphs\" textLength=\"68\" x=\"1124\" y=\"298.0469\">print &quot;error&quot;</text><rect fill=\"#FEFECE\" filter=\"url(#f1)\" height=\"34.1328\" rx=\"12.5\" ry=\"12.5\" style=\"stroke: #A80036; stroke-width: 1.5;\" width=\"83\" x=\"564.5\" y=\"370.5781\"/><text fill=\"#000000\" font-family=\"sans-serif\" font-size=\"12\" lengthAdjust=\"spacingAndGlyphs\" textLength=\"63\" x=\"574.5\" y=\"392.1797\">print result</text><ellipse cx=\"606\" cy=\"434.7109\" fill=\"none\" filter=\"url(#f1)\" rx=\"10\" ry=\"10\" style=\"stroke: #000000; stroke-width: 1.0;\"/><ellipse cx=\"606.5\" cy=\"435.2109\" fill=\"#000000\" filter=\"url(#f1)\" rx=\"6\" ry=\"6\" style=\"stroke: none; stroke-width: 1.0;\"/><line style=\"stroke: #A80036; stroke-width: 1.5;\" x1=\"606\" x2=\"606\" y1=\"30\" y2=\"50\"/><polygon fill=\"#A80036\" points=\"602,40,606,50,610,40,606,44\" style=\"stroke: #A80036; stroke-width: 1.0;\"/><line style=\"stroke: #A80036; stroke-width: 1.5;\" x1=\"606\" x2=\"606\" y1=\"84.1328\" y2=\"104.1328\"/><polygon fill=\"#A80036\" points=\"602,94.1328,606,104.1328,610,94.1328,606,98.1328\" style=\"stroke: #A80036; stroke-width: 1.0;\"/><line style=\"stroke: #A80036; stroke-width: 1.5;\" x1=\"174.5\" x2=\"174.5\" y1=\"250.4453\" y2=\"270.4453\"/><polygon fill=\"#A80036\" points=\"170.5,260.4453,174.5,270.4453,178.5,260.4453,174.5,264.4453\" style=\"stroke: #A80036; stroke-width: 1.0;\"/><line style=\"stroke: #A80036; stroke-width: 1.5;\" x1=\"174.5\" x2=\"174.5\" y1=\"304.5781\" y2=\"330.5781\"/><polygon fill=\"#A80036\" points=\"170.5,320.5781,174.5,330.5781,178.5,320.5781,174.5,324.5781\" style=\"stroke: #A80036; stroke-width: 1.0;\"/><line style=\"stroke: #A80036; stroke-width: 1.5;\" x1=\"314.5\" x2=\"314.5\" y1=\"250.4453\" y2=\"270.4453\"/><polygon fill=\"#A80036\" points=\"310.5,260.4453,314.5,270.4453,318.5,260.4453,314.5,264.4453\" style=\"stroke: #A80036; stroke-width: 1.0;\"/><line style=\"stroke: #A80036; stroke-width: 1.5;\" x1=\"314.5\" x2=\"314.5\" y1=\"304.5781\" y2=\"330.5781\"/><polygon fill=\"#A80036\" points=\"310.5,320.5781,314.5,330.5781,318.5,320.5781,314.5,324.5781\" style=\"stroke: #A80036; stroke-width: 1.0;\"/><line style=\"stroke: #A80036; stroke-width: 1.5;\" x1=\"214\" x2=\"271.5\" y1=\"238.4453\" y2=\"238.4453\"/><polygon fill=\"#A80036\" points=\"261.5,234.4453,271.5,238.4453,261.5,242.4453,265.5,238.4453\" style=\"stroke: #A80036; stroke-width: 1.0;\"/><line style=\"stroke: #A80036; stroke-width: 1.5;\" x1=\"273\" x2=\"273\" y1=\"182.2656\" y2=\"201.4453\"/><line style=\"stroke: #A80036; stroke-width: 1.5;\" x1=\"273\" x2=\"174.5\" y1=\"201.4453\" y2=\"201.4453\"/><line style=\"stroke: #A80036; stroke-width: 1.5;\" x1=\"174.5\" x2=\"174.5\" y1=\"201.4453\" y2=\"226.4453\"/><polygon fill=\"#A80036\" points=\"170.5,216.4453,174.5,226.4453,178.5,216.4453,174.5,220.4453\" style=\"stroke: #A80036; stroke-width: 1.0;\"/><line style=\"stroke: #A80036; stroke-width: 1.5;\" x1=\"357.5\" x2=\"413\" y1=\"238.4453\" y2=\"238.4453\"/><line style=\"stroke: #A80036; stroke-width: 1.5;\" x1=\"413\" x2=\"413\" y1=\"238.4453\" y2=\"330.5781\"/><polygon fill=\"#A80036\" points=\"409,320.5781,413,330.5781,417,320.5781,413,324.5781\" style=\"stroke: #A80036; stroke-width: 1.0;\"/><line style=\"stroke: #A80036; stroke-width: 1.5;\" x1=\"174.5\" x2=\"413\" y1=\"330.5781\" y2=\"330.5781\"/><line style=\"stroke: #A80036; stroke-width: 1.5;\" x1=\"504.5\" x2=\"504.5\" y1=\"250.4453\" y2=\"270.4453\"/><polygon fill=\"#A80036\" points=\"500.5,260.4453,504.5,270.4453,508.5,260.4453,504.5,264.4453\" style=\"stroke: #A80036; stroke-width: 1.0;\"/><line style=\"stroke: #A80036; stroke-width: 1.5;\" x1=\"504.5\" x2=\"504.5\" y1=\"304.5781\" y2=\"330.5781\"/><polygon fill=\"#A80036\" points=\"500.5,320.5781,504.5,330.5781,508.5,320.5781,504.5,324.5781\" style=\"stroke: #A80036; stroke-width: 1.0;\"/><line style=\"stroke: #A80036; stroke-width: 1.5;\" x1=\"642.5\" x2=\"642.5\" y1=\"250.4453\" y2=\"270.4453\"/><polygon fill=\"#A80036\" points=\"638.5,260.4453,642.5,270.4453,646.5,260.4453,642.5,264.4453\" style=\"stroke: #A80036; stroke-width: 1.0;\"/><line style=\"stroke: #A80036; stroke-width: 1.5;\" x1=\"642.5\" x2=\"642.5\" y1=\"304.5781\" y2=\"330.5781\"/><polygon fill=\"#A80036\" points=\"638.5,320.5781,642.5,330.5781,646.5,320.5781,642.5,324.5781\" style=\"stroke: #A80036; stroke-width: 1.0;\"/><line style=\"stroke: #A80036; stroke-width: 1.5;\" x1=\"551.5\" x2=\"599.5\" y1=\"238.4453\" y2=\"238.4453\"/><polygon fill=\"#A80036\" points=\"589.5,234.4453,599.5,238.4453,589.5,242.4453,593.5,238.4453\" style=\"stroke: #A80036; stroke-width: 1.0;\"/><line style=\"stroke: #A80036; stroke-width: 1.5;\" x1=\"601\" x2=\"601\" y1=\"182.2656\" y2=\"201.4453\"/><line style=\"stroke: #A80036; stroke-width: 1.5;\" x1=\"601\" x2=\"504.5\" y1=\"201.4453\" y2=\"201.4453\"/><line style=\"stroke: #A80036; stroke-width: 1.5;\" x1=\"504.5\" x2=\"504.5\" y1=\"201.4453\" y2=\"226.4453\"/><polygon fill=\"#A80036\" points=\"500.5,216.4453,504.5,226.4453,508.5,216.4453,504.5,220.4453\" style=\"stroke: #A80036; stroke-width: 1.0;\"/><line style=\"stroke: #A80036; stroke-width: 1.5;\" x1=\"685.5\" x2=\"739\" y1=\"238.4453\" y2=\"238.4453\"/><line style=\"stroke: #A80036; stroke-width: 1.5;\" x1=\"739\" x2=\"739\" y1=\"238.4453\" y2=\"330.5781\"/><polygon fill=\"#A80036\" points=\"735,320.5781,739,330.5781,743,320.5781,739,324.5781\" style=\"stroke: #A80036; stroke-width: 1.0;\"/><line style=\"stroke: #A80036; stroke-width: 1.5;\" x1=\"504.5\" x2=\"739\" y1=\"330.5781\" y2=\"330.5781\"/><line style=\"stroke: #A80036; stroke-width: 1.5;\" x1=\"837.5\" x2=\"837.5\" y1=\"250.4453\" y2=\"270.4453\"/><polygon fill=\"#A80036\" points=\"833.5,260.4453,837.5,270.4453,841.5,260.4453,837.5,264.4453\" style=\"stroke: #A80036; stroke-width: 1.0;\"/><line style=\"stroke: #A80036; stroke-width: 1.5;\" x1=\"837.5\" x2=\"837.5\" y1=\"304.5781\" y2=\"330.5781\"/><polygon fill=\"#A80036\" points=\"833.5,320.5781,837.5,330.5781,841.5,320.5781,837.5,324.5781\" style=\"stroke: #A80036; stroke-width: 1.0;\"/><line style=\"stroke: #A80036; stroke-width: 1.5;\" x1=\"982.5\" x2=\"982.5\" y1=\"250.4453\" y2=\"270.4453\"/><polygon fill=\"#A80036\" points=\"978.5,260.4453,982.5,270.4453,986.5,260.4453,982.5,264.4453\" style=\"stroke: #A80036; stroke-width: 1.0;\"/><line style=\"stroke: #A80036; stroke-width: 1.5;\" x1=\"982.5\" x2=\"982.5\" y1=\"304.5781\" y2=\"330.5781\"/><polygon fill=\"#A80036\" points=\"978.5,320.5781,982.5,330.5781,986.5,320.5781,982.5,324.5781\" style=\"stroke: #A80036; stroke-width: 1.0;\"/><line style=\"stroke: #A80036; stroke-width: 1.5;\" x1=\"884.5\" x2=\"943\" y1=\"238.4453\" y2=\"238.4453\"/><polygon fill=\"#A80036\" points=\"933,234.4453,943,238.4453,933,242.4453,937,238.4453\" style=\"stroke: #A80036; stroke-width: 1.0;\"/><line style=\"stroke: #A80036; stroke-width: 1.5;\" x1=\"934\" x2=\"934\" y1=\"182.2656\" y2=\"201.4453\"/><line style=\"stroke: #A80036; stroke-width: 1.5;\" x1=\"934\" x2=\"837.5\" y1=\"201.4453\" y2=\"201.4453\"/><line style=\"stroke: #A80036; stroke-width: 1.5;\" x1=\"837.5\" x2=\"837.5\" y1=\"201.4453\" y2=\"226.4453\"/><polygon fill=\"#A80036\" points=\"833.5,216.4453,837.5,226.4453,841.5,216.4453,837.5,220.4453\" style=\"stroke: #A80036; stroke-width: 1.0;\"/><line style=\"stroke: #A80036; stroke-width: 1.5;\" x1=\"1022\" x2=\"1079\" y1=\"238.4453\" y2=\"238.4453\"/><line style=\"stroke: #A80036; stroke-width: 1.5;\" x1=\"1079\" x2=\"1079\" y1=\"238.4453\" y2=\"330.5781\"/><polygon fill=\"#A80036\" points=\"1075,320.5781,1079,330.5781,1083,320.5781,1079,324.5781\" style=\"stroke: #A80036; stroke-width: 1.0;\"/><line style=\"stroke: #A80036; stroke-width: 1.5;\" x1=\"837.5\" x2=\"1079\" y1=\"330.5781\" y2=\"330.5781\"/><line style=\"stroke: #A80036; stroke-width: 1.5;\" x1=\"54\" x2=\"54\" y1=\"182.2656\" y2=\"214.4004\"/><polygon fill=\"#A80036\" points=\"50,204.4004,54,214.4004,58,204.4004,54,208.4004\" style=\"stroke: #A80036; stroke-width: 1.0;\"/><line style=\"stroke: #A80036; stroke-width: 1.5;\" x1=\"54\" x2=\"54\" y1=\"248.5332\" y2=\"350.5781\"/><polygon fill=\"#A80036\" points=\"50,340.5781,54,350.5781,58,340.5781,54,344.5781\" style=\"stroke: #A80036; stroke-width: 1.0;\"/><line style=\"stroke: #A80036; stroke-width: 1.5;\" x1=\"273\" x2=\"273\" y1=\"330.5781\" y2=\"350.5781\"/><polygon fill=\"#A80036\" points=\"269,340.5781,273,350.5781,277,340.5781,273,344.5781\" style=\"stroke: #A80036; stroke-width: 1.0;\"/><line style=\"stroke: #A80036; stroke-width: 1.5;\" x1=\"601\" x2=\"601\" y1=\"330.5781\" y2=\"350.5781\"/><polygon fill=\"#A80036\" points=\"597,340.5781,601,350.5781,605,340.5781,601,344.5781\" style=\"stroke: #A80036; stroke-width: 1.0;\"/><line style=\"stroke: #A80036; stroke-width: 1.5;\" x1=\"934\" x2=\"934\" y1=\"330.5781\" y2=\"350.5781\"/><polygon fill=\"#A80036\" points=\"930,340.5781,934,350.5781,938,340.5781,934,344.5781\" style=\"stroke: #A80036; stroke-width: 1.0;\"/><line style=\"stroke: #A80036; stroke-width: 1.5;\" x1=\"82\" x2=\"226\" y1=\"170.2656\" y2=\"170.2656\"/><polygon fill=\"#A80036\" points=\"216,166.2656,226,170.2656,216,174.2656,220,170.2656\" style=\"stroke: #A80036; stroke-width: 1.0;\"/><line style=\"stroke: #A80036; stroke-width: 1.5;\" x1=\"320\" x2=\"561.5\" y1=\"170.2656\" y2=\"170.2656\"/><polygon fill=\"#A80036\" points=\"551.5,166.2656,561.5,170.2656,551.5,174.2656,555.5,170.2656\" style=\"stroke: #A80036; stroke-width: 1.0;\"/><line style=\"stroke: #A80036; stroke-width: 1.5;\" x1=\"640.5\" x2=\"891\" y1=\"170.2656\" y2=\"170.2656\"/><polygon fill=\"#A80036\" points=\"881,166.2656,891,170.2656,881,174.2656,885,170.2656\" style=\"stroke: #A80036; stroke-width: 1.0;\"/><line style=\"stroke: #A80036; stroke-width: 1.5;\" x1=\"606\" x2=\"606\" y1=\"138.2656\" y2=\"143.2656\"/><line style=\"stroke: #A80036; stroke-width: 1.5;\" x1=\"606\" x2=\"54\" y1=\"143.2656\" y2=\"143.2656\"/><line style=\"stroke: #A80036; stroke-width: 1.5;\" x1=\"54\" x2=\"54\" y1=\"143.2656\" y2=\"158.2656\"/><polygon fill=\"#A80036\" points=\"50,148.2656,54,158.2656,58,148.2656,54,152.2656\" style=\"stroke: #A80036; stroke-width: 1.0;\"/><line style=\"stroke: #A80036; stroke-width: 1.5;\" x1=\"977\" x2=\"1158\" y1=\"170.2656\" y2=\"170.2656\"/><line style=\"stroke: #A80036; stroke-width: 1.5;\" x1=\"1158\" x2=\"1158\" y1=\"170.2656\" y2=\"276.4453\"/><polygon fill=\"#A80036\" points=\"1154,266.4453,1158,276.4453,1162,266.4453,1158,270.4453\" style=\"stroke: #A80036; stroke-width: 1.0;\"/><line style=\"stroke: #A80036; stroke-width: 1.5;\" x1=\"1158\" x2=\"1158\" y1=\"310.5781\" y2=\"350.5781\"/><polygon fill=\"#A80036\" points=\"1154,340.5781,1158,350.5781,1162,340.5781,1158,344.5781\" style=\"stroke: #A80036; stroke-width: 1.0;\"/><line style=\"stroke: #A80036; stroke-width: 1.5;\" x1=\"54\" x2=\"1158\" y1=\"350.5781\" y2=\"350.5781\"/><line style=\"stroke: #A80036; stroke-width: 1.5;\" x1=\"606\" x2=\"606\" y1=\"350.5781\" y2=\"370.5781\"/><polygon fill=\"#A80036\" points=\"602,360.5781,606,370.5781,610,360.5781,606,364.5781\" style=\"stroke: #A80036; stroke-width: 1.0;\"/><line style=\"stroke: #A80036; stroke-width: 1.5;\" x1=\"606\" x2=\"606\" y1=\"404.7109\" y2=\"424.7109\"/><polygon fill=\"#A80036\" points=\"602,414.7109,606,424.7109,610,414.7109,606,418.7109\" style=\"stroke: #A80036; stroke-width: 1.0;\"/></g></svg>"
      ],
      "text/plain": [
       "<IPython.core.display.SVG object>"
      ]
     },
     "execution_count": 8,
     "metadata": {},
     "output_type": "execute_result"
    }
   ],
   "source": [
    "%%plantuml\n",
    "@startuml\n",
    "start\n",
    ":get user input1;\n",
    ":get user input2;\n",
    "if (1==2) then (1==2)\n",
    "    :print \"draw\";\n",
    "elseif(1=='scissor')\n",
    "    if (2=='rock')\n",
    "        :print \"rock wins\";\n",
    "    elseif(2=='paper')\n",
    "        :print \"scissor wins\";\n",
    "    endif\n",
    "elseif(1=='rock')\n",
    "    if (2=='scissor')\n",
    "        :print \"rock wins\";\n",
    "    elseif(2=='paper')\n",
    "        :print \"paper wins\";\n",
    "    endif\n",
    "elseif(1=='paper')\n",
    "    if (2=='scissor')\n",
    "        :print \"scissor wins\";\n",
    "    elseif(2=='rock')\n",
    "        :print \"paper wins\";\n",
    "    endif\n",
    "else\n",
    "    :print \"error\";\n",
    "endif\n",
    ":print result;\n",
    "stop\n",
    "@enduml"
   ]
  },
  {
   "cell_type": "markdown",
   "metadata": {},
   "source": [
    "* 단계별로 함수를 이해해 보기\n",
    "    * 복합조건을 사용한다.\n",
    "    * return을 이해한다.\n",
    "    * return 값을 받는 것을 이해한다.\n",
    "    * 함수의 입력을 이해한다. 변하는 값을 밖으로 빼준다.\n",
    "    * 함수를 호출할 때는 값으로 한다 (parameter)"
   ]
  },
  {
   "cell_type": "code",
   "execution_count": 2,
   "metadata": {
    "collapsed": false
   },
   "outputs": [
    {
     "name": "stdout",
     "output_type": "stream",
     "text": [
      "enter s,r or ps\n",
      "enter s,r or pp\n"
     ]
    }
   ],
   "source": [
    "sel1=raw_input(\"enter s,r or p\")\n",
    "sel2=raw_input(\"enter s,r or p\")"
   ]
  },
  {
   "cell_type": "code",
   "execution_count": 4,
   "metadata": {
    "collapsed": false
   },
   "outputs": [
    {
     "name": "stdout",
     "output_type": "stream",
     "text": [
      "sel1 won\n"
     ]
    }
   ],
   "source": [
    "if sel1==\"s\":\n",
    "    if sel2==\"r\":\n",
    "        print \"sel2 won\"\n",
    "    elif sel2==\"p\":\n",
    "        print \"sel1 won\""
   ]
  },
  {
   "cell_type": "markdown",
   "metadata": {},
   "source": [
    "* 복합조건을 사용"
   ]
  },
  {
   "cell_type": "code",
   "execution_count": 5,
   "metadata": {
    "collapsed": false
   },
   "outputs": [
    {
     "name": "stdout",
     "output_type": "stream",
     "text": [
      "sel1 won\n"
     ]
    }
   ],
   "source": [
    "if sel1==\"s\" and sel2==\"r\":\n",
    "    print \"sel2 won\"\n",
    "elif sel1==\"s\" and sel2==\"p\":\n",
    "    print \"sel1 won\""
   ]
  },
  {
   "cell_type": "markdown",
   "metadata": {},
   "source": [
    "* 왜 None이 출력될까?\n",
    "* 함수의 출력이 없으면 print 출력을 할 수 없다 -> None"
   ]
  },
  {
   "cell_type": "code",
   "execution_count": 6,
   "metadata": {
    "collapsed": false
   },
   "outputs": [
    {
     "name": "stdout",
     "output_type": "stream",
     "text": [
      "sel1 won\n",
      "None\n"
     ]
    }
   ],
   "source": [
    "def rspPlay():\n",
    "    if sel1==\"s\" and sel2==\"r\":\n",
    "        res= \"sel2 won\"\n",
    "    elif sel1==\"s\" and sel2==\"p\":\n",
    "        res= \"sel1 won\"\n",
    "    print res\n",
    "\n",
    "print rspPlay()"
   ]
  },
  {
   "cell_type": "code",
   "execution_count": 7,
   "metadata": {
    "collapsed": false
   },
   "outputs": [
    {
     "name": "stdout",
     "output_type": "stream",
     "text": [
      "sel1 won\n"
     ]
    }
   ],
   "source": [
    "def rspPlay():\n",
    "    if sel1==\"s\" and sel2==\"r\":\n",
    "        res= \"sel2 won\"\n",
    "    elif sel1==\"s\" and sel2==\"p\":\n",
    "        res= \"sel1 won\"\n",
    "    return res\n",
    "\n",
    "print rspPlay()"
   ]
  },
  {
   "cell_type": "code",
   "execution_count": null,
   "metadata": {
    "collapsed": true
   },
   "outputs": [],
   "source": [
    "def rspPlay(sel1,sel2):\n",
    "    if sel1==\"s\" and sel2==\"r\":\n",
    "        res= \"sel2 won\"\n",
    "    elif sel1==\"s\" and sel2==\"p\":\n",
    "        res= \"sel1 won\"\n",
    "    return res\n",
    "\n",
    "result=rspPlay(\"s\",\"p\")\n",
    "print result"
   ]
  },
  {
   "cell_type": "markdown",
   "metadata": {
    "slideshow": {
     "slide_type": "slide"
    }
   },
   "source": [
    "### 한글을 비교하기\n",
    "\n",
    "* 한글은 유니코드unicde.\n",
    "* 지원: ipython notebook에서는 유니코드 지원. 다른 환경에서나, 파일을 읽어오는 경우 유니코드 별도 설정 필요."
   ]
  },
  {
   "cell_type": "code",
   "execution_count": 2,
   "metadata": {
    "collapsed": false,
    "slideshow": {
     "slide_type": "slide"
    }
   },
   "outputs": [
    {
     "name": "stdout",
     "output_type": "stream",
     "text": [
      "서로 비긴 거 알지?!\n"
     ]
    }
   ],
   "source": [
    "if '가위'=='가위':\n",
    "    print '서로 비긴 거 알지?!'"
   ]
  },
  {
   "cell_type": "code",
   "execution_count": 31,
   "metadata": {
    "collapsed": false,
    "slideshow": {
     "slide_type": "slide"
    }
   },
   "outputs": [
    {
     "name": "stdout",
     "output_type": "stream",
     "text": [
      "Appending to pfun.py\n"
     ]
    }
   ],
   "source": [
    "sel1 = raw_input(\"첫 번쨰 가위, 바위, 보 가운데 하나를 내세요: \")\n",
    "sel2 = raw_input(\"두 번째 가위, 바위, 보 가운데 하나를 내세요: \")\n",
    "\n",
    "def rspPlayHangul(u1, u2):\n",
    "    if u1 == u2:\n",
    "        res=\"비겼습니다.\"\n",
    "    elif u1 == '가위':\n",
    "        if u2 == '바위':\n",
    "            res=\"바위가 이겼습니다.\"\n",
    "        else:\n",
    "            res=\"가위가 이겼습니다.\"\n",
    "    elif u1 == '바위':\n",
    "        if u2 == '보':\n",
    "            res=\"보가 이겼습니다.\"\n",
    "        else:\n",
    "            res=\"바위가 이겼습니다.\"\n",
    "    elif u1 == '보':\n",
    "        if u2 == '바위':\n",
    "            res=\"보가 이겼습니다.\"\n",
    "        else:\n",
    "            res=\"가위가 이겼습니다.\"\n",
    "    else:\n",
    "        res=\"오류! 가위, 바위, 보 가운데 고르세요!\"\n",
    "    return res\n",
    "\n",
    "print(rspPlayHangul(sel1, sel2))"
   ]
  },
  {
   "cell_type": "code",
   "execution_count": null,
   "metadata": {
    "collapsed": true
   },
   "outputs": [],
   "source": [
    "sel1 = raw_input(\"You select scissor, rock or paper: \")\n",
    "sel2 = raw_input(\"(S)he selects scissor, rock or paper: \")\n",
    "\n",
    "def rspPlay(u1, u2):\n",
    "    if u1 == u2:\n",
    "        res=\"draw\"\n",
    "    elif u1 == 'scissor':\n",
    "        if u2 == 'rock':\n",
    "            res=\"rock won.\"\n",
    "        else:\n",
    "            res=\"scissor won.\"\n",
    "    elif u1 == 'rock':\n",
    "        if u2 == 'paper':\n",
    "            res=\"paper won.\"\n",
    "        else:\n",
    "            res=\"rock won.\"\n",
    "    elif u1 == 'paper':\n",
    "        if u2 == 'rock':\n",
    "            res=\"paper won.\"\n",
    "        else:\n",
    "            res=\"scissor won.\"\n",
    "    else:\n",
    "        res=\"Error: select one of scissor, rock or paper!\"\n",
    "    return res\n",
    "\n",
    "print(rspPlay(sel1, sel2))"
   ]
  },
  {
   "cell_type": "code",
   "execution_count": null,
   "metadata": {
    "collapsed": true
   },
   "outputs": [],
   "source": [
    "# 조건에 논리연산자를 사용\n",
    "def rspPlayV1(u1, u2):\n",
    "    if u1 == u2:\n",
    "        res=\"draw\"\n",
    "    elif u1 == 'scissor' and u2 == 'rock':\n",
    "        res=\"rock won.\"\n",
    "    elif u1 == 'scissor' and u2 == 'paper':\n",
    "        res=\"scissor won.\"\n",
    "    elif u1 == 'rock' and  u2 == 'paper':\n",
    "        res=\"paper won.\"\n",
    "    elif u1 == 'rock' and  u2 == 'scissor':\n",
    "        res=\"rock won.\"\n",
    "    elif u1 == 'paper' and u2 == 'rock':\n",
    "        res=\"paper won.\"\n",
    "    elif u1 == 'paper' and u2 == 'scissor':\n",
    "        res=\"scissor won.\"\n",
    "    else:\n",
    "        res=\"Error: select one of scissor, rock or paper!\"\n",
    "    return res\n"
   ]
  },
  {
   "cell_type": "markdown",
   "metadata": {
    "slideshow": {
     "slide_type": "slide"
    }
   },
   "source": [
    "## 제어-7: 삼각형 그리기\n",
    "\n",
    "* 문자로 삼각형 도형을 그린다.1 ~ 11개\n",
    "* 프로그래밍 요소\n",
    "    * 문자열 합성을 사용할 수 있다.\n",
    "    * 문자로 도형을 그릴 때, 프로그래밍으로 문자의 반복을 할 수 있다.\n",
    "    * 반복회수를 제어할 수 있다.\n",
    "    * range()의 시작, 끝을 이해할 수 있다.\n"
   ]
  },
  {
   "cell_type": "code",
   "execution_count": 9,
   "metadata": {
    "collapsed": false,
    "slideshow": {
     "slide_type": "slide"
    }
   },
   "outputs": [
    {
     "data": {
      "image/svg+xml": [
       "<svg height=\"489px\" style=\"width:252px;height:489px;\" version=\"1.1\" viewBox=\"0 0 252 489\" width=\"252px\" xmlns=\"http://www.w3.org/2000/svg\" xmlns:xlink=\"http://www.w3.org/1999/xlink\"><defs><filter height=\"300%\" id=\"f1\" width=\"300%\" x=\"-1\" y=\"-1\"><feGaussianBlur result=\"blurOut\" stdDeviation=\"2.0\"/><feColorMatrix in=\"blurOut\" result=\"blurOut2\" type=\"matrix\" values=\"0 0 0 0 0 0 0 0 0 0 0 0 0 0 0 0 0 0 .4 0\"/><feOffset dx=\"4.0\" dy=\"4.0\" in=\"blurOut2\" result=\"blurOut3\"/><feBlend in=\"SourceGraphic\" in2=\"blurOut3\" mode=\"normal\"/></filter></defs><g><ellipse cx=\"122.5\" cy=\"20\" fill=\"#000000\" filter=\"url(#f1)\" rx=\"10\" ry=\"10\" style=\"stroke: none; stroke-width: 1.0;\"/><rect fill=\"#FEFECE\" filter=\"url(#f1)\" height=\"34.1328\" rx=\"12.5\" ry=\"12.5\" style=\"stroke: #A80036; stroke-width: 1.5;\" width=\"82\" x=\"81.5\" y=\"50\"/><text fill=\"#000000\" font-family=\"sans-serif\" font-size=\"12\" lengthAdjust=\"spacingAndGlyphs\" textLength=\"62\" x=\"91.5\" y=\"71.6016\">maxiter=6</text><rect fill=\"#FEFECE\" filter=\"url(#f1)\" height=\"34.1328\" rx=\"12.5\" ry=\"12.5\" style=\"stroke: #A80036; stroke-width: 1.5;\" width=\"41\" x=\"102\" y=\"104.1328\"/><text fill=\"#000000\" font-family=\"sans-serif\" font-size=\"12\" lengthAdjust=\"spacingAndGlyphs\" textLength=\"21\" x=\"112\" y=\"125.7344\">i=0</text><rect fill=\"#FEFECE\" filter=\"url(#f1)\" height=\"34.1328\" rx=\"12.5\" ry=\"12.5\" style=\"stroke: #A80036; stroke-width: 1.5;\" width=\"54\" x=\"95.5\" y=\"202.2656\"/><text fill=\"#000000\" font-family=\"sans-serif\" font-size=\"12\" lengthAdjust=\"spacingAndGlyphs\" textLength=\"34\" x=\"105.5\" y=\"223.8672\">i=i+1</text><rect fill=\"#FEFECE\" filter=\"url(#f1)\" height=\"34.1328\" rx=\"12.5\" ry=\"12.5\" style=\"stroke: #A80036; stroke-width: 1.5;\" width=\"225\" x=\"10\" y=\"256.3984\"/><text fill=\"#000000\" font-family=\"sans-serif\" font-size=\"12\" lengthAdjust=\"spacingAndGlyphs\" textLength=\"205\" x=\"20\" y=\"278\">print 'maxiter-i' number of spacess</text><rect fill=\"#FEFECE\" filter=\"url(#f1)\" height=\"34.1328\" rx=\"12.5\" ry=\"12.5\" style=\"stroke: #A80036; stroke-width: 1.5;\" width=\"144\" x=\"50.5\" y=\"310.5313\"/><text fill=\"#000000\" font-family=\"sans-serif\" font-size=\"12\" lengthAdjust=\"spacingAndGlyphs\" textLength=\"124\" x=\"60.5\" y=\"332.1328\">print i number of &quot;#&quot;s</text><rect fill=\"#FEFECE\" filter=\"url(#f1)\" height=\"34.1328\" rx=\"12.5\" ry=\"12.5\" style=\"stroke: #A80036; stroke-width: 1.5;\" width=\"105\" x=\"70\" y=\"364.6641\"/><text fill=\"#000000\" font-family=\"sans-serif\" font-size=\"12\" lengthAdjust=\"spacingAndGlyphs\" textLength=\"85\" x=\"80\" y=\"386.2656\">add a new line</text><polygon fill=\"#FEFECE\" filter=\"url(#f1)\" points=\"122.5,158.2656,134.5,170.2656,122.5,182.2656,110.5,170.2656,122.5,158.2656\" style=\"stroke: #A80036; stroke-width: 1.5;\"/><polygon fill=\"#FEFECE\" filter=\"url(#f1)\" points=\"96,418.7969,149,418.7969,161,430.7969,149,442.7969,96,442.7969,84,430.7969,96,418.7969\" style=\"stroke: #A80036; stroke-width: 1.5;\"/><text fill=\"#000000\" font-family=\"sans-serif\" font-size=\"11\" lengthAdjust=\"spacingAndGlyphs\" textLength=\"53\" x=\"96\" y=\"434.9541\">i&lt;maxiter</text><ellipse cx=\"122.5\" cy=\"472.7969\" fill=\"none\" filter=\"url(#f1)\" rx=\"10\" ry=\"10\" style=\"stroke: #000000; stroke-width: 1.0;\"/><ellipse cx=\"123\" cy=\"473.2969\" fill=\"#000000\" filter=\"url(#f1)\" rx=\"6\" ry=\"6\" style=\"stroke: none; stroke-width: 1.0;\"/><line style=\"stroke: #A80036; stroke-width: 1.5;\" x1=\"122.5\" x2=\"122.5\" y1=\"30\" y2=\"50\"/><polygon fill=\"#A80036\" points=\"118.5,40,122.5,50,126.5,40,122.5,44\" style=\"stroke: #A80036; stroke-width: 1.0;\"/><line style=\"stroke: #A80036; stroke-width: 1.5;\" x1=\"122.5\" x2=\"122.5\" y1=\"84.1328\" y2=\"104.1328\"/><polygon fill=\"#A80036\" points=\"118.5,94.1328,122.5,104.1328,126.5,94.1328,122.5,98.1328\" style=\"stroke: #A80036; stroke-width: 1.0;\"/><line style=\"stroke: #A80036; stroke-width: 1.5;\" x1=\"122.5\" x2=\"122.5\" y1=\"236.3984\" y2=\"256.3984\"/><polygon fill=\"#A80036\" points=\"118.5,246.3984,122.5,256.3984,126.5,246.3984,122.5,250.3984\" style=\"stroke: #A80036; stroke-width: 1.0;\"/><line style=\"stroke: #A80036; stroke-width: 1.5;\" x1=\"122.5\" x2=\"122.5\" y1=\"290.5313\" y2=\"310.5313\"/><polygon fill=\"#A80036\" points=\"118.5,300.5313,122.5,310.5313,126.5,300.5313,122.5,304.5313\" style=\"stroke: #A80036; stroke-width: 1.0;\"/><line style=\"stroke: #A80036; stroke-width: 1.5;\" x1=\"122.5\" x2=\"122.5\" y1=\"344.6641\" y2=\"364.6641\"/><polygon fill=\"#A80036\" points=\"118.5,354.6641,122.5,364.6641,126.5,354.6641,122.5,358.6641\" style=\"stroke: #A80036; stroke-width: 1.0;\"/><line style=\"stroke: #A80036; stroke-width: 1.5;\" x1=\"122.5\" x2=\"122.5\" y1=\"182.2656\" y2=\"202.2656\"/><polygon fill=\"#A80036\" points=\"118.5,192.2656,122.5,202.2656,126.5,192.2656,122.5,196.2656\" style=\"stroke: #A80036; stroke-width: 1.0;\"/><line style=\"stroke: #A80036; stroke-width: 1.5;\" x1=\"161\" x2=\"247\" y1=\"430.7969\" y2=\"430.7969\"/><polygon fill=\"#A80036\" points=\"243,327.0313,247,317.0313,251,327.0313,247,323.0313\" style=\"stroke: #A80036; stroke-width: 1.5;\"/><line style=\"stroke: #A80036; stroke-width: 1.5;\" x1=\"247\" x2=\"247\" y1=\"170.2656\" y2=\"430.7969\"/><line style=\"stroke: #A80036; stroke-width: 1.5;\" x1=\"247\" x2=\"134.5\" y1=\"170.2656\" y2=\"170.2656\"/><polygon fill=\"#A80036\" points=\"144.5,166.2656,134.5,170.2656,144.5,174.2656,140.5,170.2656\" style=\"stroke: #A80036; stroke-width: 1.0;\"/><line style=\"stroke: #A80036; stroke-width: 1.5;\" x1=\"122.5\" x2=\"122.5\" y1=\"398.7969\" y2=\"418.7969\"/><polygon fill=\"#A80036\" points=\"118.5,408.7969,122.5,418.7969,126.5,408.7969,122.5,412.7969\" style=\"stroke: #A80036; stroke-width: 1.0;\"/><line style=\"stroke: #A80036; stroke-width: 1.5;\" x1=\"122.5\" x2=\"122.5\" y1=\"138.2656\" y2=\"158.2656\"/><polygon fill=\"#A80036\" points=\"118.5,148.2656,122.5,158.2656,126.5,148.2656,122.5,152.2656\" style=\"stroke: #A80036; stroke-width: 1.0;\"/><line style=\"stroke: #A80036; stroke-width: 1.5;\" x1=\"122.5\" x2=\"122.5\" y1=\"442.7969\" y2=\"462.7969\"/><polygon fill=\"#A80036\" points=\"118.5,452.7969,122.5,462.7969,126.5,452.7969,122.5,456.7969\" style=\"stroke: #A80036; stroke-width: 1.0;\"/></g></svg>"
      ],
      "text/plain": [
       "<IPython.core.display.SVG object>"
      ]
     },
     "execution_count": 9,
     "metadata": {},
     "output_type": "execute_result"
    }
   ],
   "source": [
    "%%plantuml\n",
    "@startuml\n",
    "start\n",
    ":maxiter=6;\n",
    ":i=0;\n",
    "repeat\n",
    ":i=i+1;\n",
    ":print 'maxiter-i' number of spacess;\n",
    ":print i number of \"#\"s;\n",
    ":add a new line;\n",
    "repeat while(i<maxiter)\n",
    "stop\n",
    "@enduml"
   ]
  },
  {
   "cell_type": "markdown",
   "metadata": {
    "slideshow": {
     "slide_type": "slide"
    }
   },
   "source": [
    "### 상수의 사용\n",
    "\n",
    "* 프로그램의 재사용을 향상.\n",
    "* 반복문으로 문제를를 풀려면 2가지를 이해해야 한다.\n",
    "    * 증감자\n",
    "    * operator overloading"
   ]
  },
  {
   "cell_type": "code",
   "execution_count": 2,
   "metadata": {
    "collapsed": false
   },
   "outputs": [
    {
     "name": "stdout",
     "output_type": "stream",
     "text": [
      "2\n",
      "11\n",
      "2\n",
      "11\n",
      "1111111111\n"
     ]
    }
   ],
   "source": [
    "print 1+1\n",
    "print '1'+'1'\n",
    "print 1*2\n",
    "print '1'*2\n",
    "print '1'*10"
   ]
  },
  {
   "cell_type": "code",
   "execution_count": 1,
   "metadata": {
    "collapsed": false
   },
   "outputs": [
    {
     "name": "stdout",
     "output_type": "stream",
     "text": [
      "#\n",
      "##\n",
      "###\n",
      "####\n",
      "#####\n"
     ]
    }
   ],
   "source": [
    "# 1,2,3,4,5만 변경된다는 패턴을 알 수 있다.\n",
    "print \"#\"*1\n",
    "print \"#\"*2\n",
    "print \"#\"*3\n",
    "print \"#\"*4\n",
    "print \"#\"*5"
   ]
  },
  {
   "cell_type": "code",
   "execution_count": 1,
   "metadata": {
    "collapsed": false
   },
   "outputs": [
    {
     "name": "stdout",
     "output_type": "stream",
     "text": [
      "*\n",
      "**\n",
      "***\n",
      "****\n",
      "*****\n"
     ]
    }
   ],
   "source": [
    "for i in range(1,6):\n",
    "    print \"*\"*i"
   ]
  },
  {
   "cell_type": "code",
   "execution_count": 3,
   "metadata": {
    "collapsed": false
   },
   "outputs": [
    {
     "name": "stdout",
     "output_type": "stream",
     "text": [
      "     #\n",
      "    ##\n",
      "   ###\n",
      "  ####\n",
      " #####\n"
     ]
    }
   ],
   "source": [
    "print \"     \"+\"#\"\n",
    "print \"    \"+\"##\"\n",
    "print \"   \"+\"###\"\n",
    "print \"  \"+\"####\"\n",
    "print \" \"+\"#####\""
   ]
  },
  {
   "cell_type": "code",
   "execution_count": 4,
   "metadata": {
    "collapsed": false
   },
   "outputs": [
    {
     "name": "stdout",
     "output_type": "stream",
     "text": [
      "     #\n",
      "    ##\n",
      "   ###\n",
      "  ####\n",
      " #####\n"
     ]
    }
   ],
   "source": [
    "print \" \"*5+\"#\"*1\n",
    "print \" \"*4+\"#\"*2\n",
    "print \" \"*3+\"#\"*3\n",
    "print \" \"*2+\"#\"*4\n",
    "print \" \"*1+\"#\"*5"
   ]
  },
  {
   "cell_type": "code",
   "execution_count": 12,
   "metadata": {
    "collapsed": false,
    "slideshow": {
     "slide_type": "slide"
    }
   },
   "outputs": [
    {
     "name": "stdout",
     "output_type": "stream",
     "text": [
      "    #\n",
      "   ##\n",
      "  ###\n",
      " ####\n",
      "#####\n"
     ]
    }
   ],
   "source": [
    "for i in range(1,6):\n",
    "    print((5-i)*\" \"+i*\"#\")"
   ]
  },
  {
   "cell_type": "code",
   "execution_count": 11,
   "metadata": {
    "collapsed": false,
    "slideshow": {
     "slide_type": "slide"
    }
   },
   "outputs": [
    {
     "name": "stdout",
     "output_type": "stream",
     "text": [
      "    ##\n",
      "   ####\n",
      "  ######\n",
      " ########\n",
      "##########\n"
     ]
    }
   ],
   "source": [
    "for i in range(1,6):\n",
    "    print((5-i)*\" \"+2*i*\"#\")"
   ]
  },
  {
   "cell_type": "code",
   "execution_count": 11,
   "metadata": {
    "collapsed": false,
    "slideshow": {
     "slide_type": "slide"
    }
   },
   "outputs": [
    {
     "name": "stdout",
     "output_type": "stream",
     "text": [
      "    #\n",
      "   ##\n",
      "  ###\n",
      " ####\n",
      "#####\n"
     ]
    }
   ],
   "source": [
    "maxiter=5\n",
    "for i in range(1,maxiter+1):\n",
    "    print((maxiter-i)*\" \"+2*i*\"#\")"
   ]
  },
  {
   "cell_type": "code",
   "execution_count": null,
   "metadata": {
    "collapsed": true
   },
   "outputs": [],
   "source": [
    "nMax=6\n",
    "for i in range(1,nMax):\n",
    "    print ' '*(nMax-i)+\"*\"*i"
   ]
  },
  {
   "cell_type": "markdown",
   "metadata": {
    "slideshow": {
     "slide_type": "slide"
    }
   },
   "source": [
    "### 함수로 만들 경우\n",
    "\n",
    "* 출력 값이 없는 경우 return이 없다.\n",
    "* void 함수.\n",
    "* 맨 위 1개 - 10개"
   ]
  },
  {
   "cell_type": "code",
   "execution_count": 36,
   "metadata": {
    "collapsed": false
   },
   "outputs": [
    {
     "name": "stdout",
     "output_type": "stream",
     "text": [
      "       ##\n",
      "      ####\n",
      "     ######\n",
      "    ########\n",
      "   ##########\n",
      "  ############\n",
      " ##############\n",
      "################\n"
     ]
    }
   ],
   "source": [
    "def drawTriangleWithChar(nTimes,symbol):\n",
    "    maxTimes=nTimes\n",
    "    for i in range(1,maxTimes+1):\n",
    "        print((maxTimes-i)*\" \"+2*i*symbol)\n",
    "\n",
    "drawTriangleWithChar(8,'#')"
   ]
  },
  {
   "cell_type": "markdown",
   "metadata": {},
   "source": [
    "## 제어-8:  구구단의 출력\n",
    "\n",
    "* 구구단을 출력한다.\n",
    "* 프로그래밍 요소\n",
    "    * 중첩 for를 사용할 수 있다.\n",
    "    * 형식에 맞추어 출력문을 사용할 수 있다."
   ]
  },
  {
   "cell_type": "code",
   "execution_count": 9,
   "metadata": {
    "collapsed": false,
    "slideshow": {
     "slide_type": "slide"
    }
   },
   "outputs": [
    {
     "name": "stdout",
     "output_type": "stream",
     "text": [
      "\t9x1= 9 \t9x2=18 \t9x3=27 \t9x4=36 \t9x5=45 \t9x6=54 \t9x7=63 \t9x8=72 \t9x9=81\n",
      "\t8x1= 8 \t8x2=16 \t8x3=24 \t8x4=32 \t8x5=40 \t8x6=48 \t8x7=56 \t8x8=64 \t8x9=72\n",
      "\t7x1= 7 \t7x2=14 \t7x3=21 \t7x4=28 \t7x5=35 \t7x6=42 \t7x7=49 \t7x8=56 \t7x9=63\n",
      "\t6x1= 6 \t6x2=12 \t6x3=18 \t6x4=24 \t6x5=30 \t6x6=36 \t6x7=42 \t6x8=48 \t6x9=54\n",
      "\t5x1= 5 \t5x2=10 \t5x3=15 \t5x4=20 \t5x5=25 \t5x6=30 \t5x7=35 \t5x8=40 \t5x9=45\n",
      "\t4x1= 4 \t4x2= 8 \t4x3=12 \t4x4=16 \t4x5=20 \t4x6=24 \t4x7=28 \t4x8=32 \t4x9=36\n",
      "\t3x1= 3 \t3x2= 6 \t3x3= 9 \t3x4=12 \t3x5=15 \t3x6=18 \t3x7=21 \t3x8=24 \t3x9=27\n",
      "\t2x1= 2 \t2x2= 4 \t2x3= 6 \t2x4= 8 \t2x5=10 \t2x6=12 \t2x7=14 \t2x8=16 \t2x9=18\n",
      "\t1x1= 1 \t1x2= 2 \t1x3= 3 \t1x4= 4 \t1x5= 5 \t1x6= 6 \t1x7= 7 \t1x8= 8 \t1x9= 9\n"
     ]
    }
   ],
   "source": [
    "x=range(9,0,-1)\n",
    "y=range(1,10)\n",
    "for i in x:\n",
    "    for j in y:\n",
    "        print \"\\t{0}x{1}={2:2d}\".format(i,j,i*j),\n",
    "    print"
   ]
  },
  {
   "cell_type": "markdown",
   "metadata": {
    "slideshow": {
     "slide_type": "slide"
    }
   },
   "source": [
    "## 제어-9: BMI\n",
    "\n",
    "* 사용자의 몸무게를 입력받아서, BMI를 계산한다.\n",
    "* 프로그래밍 요소\n",
    "    * 다분기 조건을 사용할 수 있다.\n",
    "    * 조건에 논리연산자를 사용할 수 있다.\n",
    "    * 범위 조건과 값 조건의 차이를 이해할 수 있다.\n",
    "    * 소수점 처리에 유의. 정수끼리의 연산은 정수.\n",
    "computeBMI(height,weight) -> bmi\n"
   ]
  },
  {
   "cell_type": "code",
   "execution_count": 10,
   "metadata": {
    "collapsed": false,
    "slideshow": {
     "slide_type": "slide"
    }
   },
   "outputs": [
    {
     "data": {
      "image/svg+xml": [
       "<svg height=\"252px\" style=\"width:855px;height:252px;\" version=\"1.1\" viewBox=\"0 0 855 252\" width=\"855px\" xmlns=\"http://www.w3.org/2000/svg\" xmlns:xlink=\"http://www.w3.org/1999/xlink\"><defs><filter height=\"300%\" id=\"f1\" width=\"300%\" x=\"-1\" y=\"-1\"><feGaussianBlur result=\"blurOut\" stdDeviation=\"2.0\"/><feColorMatrix in=\"blurOut\" result=\"blurOut2\" type=\"matrix\" values=\"0 0 0 0 0 0 0 0 0 0 0 0 0 0 0 0 0 0 .4 0\"/><feOffset dx=\"4.0\" dy=\"4.0\" in=\"blurOut2\" result=\"blurOut3\"/><feBlend in=\"SourceGraphic\" in2=\"blurOut3\" mode=\"normal\"/></filter></defs><g><ellipse cx=\"429\" cy=\"20\" fill=\"#000000\" filter=\"url(#f1)\" rx=\"10\" ry=\"10\" style=\"stroke: none; stroke-width: 1.0;\"/><rect fill=\"#FEFECE\" filter=\"url(#f1)\" height=\"34.1328\" rx=\"12.5\" ry=\"12.5\" style=\"stroke: #A80036; stroke-width: 1.5;\" width=\"197\" x=\"330.5\" y=\"50\"/><text fill=\"#000000\" font-family=\"sans-serif\" font-size=\"12\" lengthAdjust=\"spacingAndGlyphs\" textLength=\"177\" x=\"340.5\" y=\"71.6016\">bmi==weight / height / height</text><polygon fill=\"#FEFECE\" filter=\"url(#f1)\" points=\"22,104.1328,84,104.1328,96,116.1328,84,128.1328,22,128.1328,10,116.1328,22,104.1328\" style=\"stroke: #A80036; stroke-width: 1.5;\"/><text fill=\"#000000\" font-family=\"sans-serif\" font-size=\"11\" lengthAdjust=\"spacingAndGlyphs\" textLength=\"62\" x=\"22\" y=\"120.29\">bmi&lt;=18.5</text><rect fill=\"#FEFECE\" filter=\"url(#f1)\" height=\"34.1328\" rx=\"12.5\" ry=\"12.5\" style=\"stroke: #A80036; stroke-width: 1.5;\" width=\"78\" x=\"14\" y=\"148.1328\"/><text fill=\"#000000\" font-family=\"sans-serif\" font-size=\"12\" lengthAdjust=\"spacingAndGlyphs\" textLength=\"58\" x=\"24\" y=\"169.7344\">print &quot;low&quot;</text><polygon fill=\"#FEFECE\" filter=\"url(#f1)\" points=\"128,104.1328,213,104.1328,225,116.1328,213,128.1328,128,128.1328,116,116.1328,128,104.1328\" style=\"stroke: #A80036; stroke-width: 1.5;\"/><text fill=\"#000000\" font-family=\"sans-serif\" font-size=\"11\" lengthAdjust=\"spacingAndGlyphs\" textLength=\"85\" x=\"128\" y=\"120.29\">18.5&lt;=bmi&lt;23</text><rect fill=\"#FEFECE\" filter=\"url(#f1)\" height=\"34.1328\" rx=\"12.5\" ry=\"12.5\" style=\"stroke: #A80036; stroke-width: 1.5;\" width=\"99\" x=\"121\" y=\"148.1328\"/><text fill=\"#000000\" font-family=\"sans-serif\" font-size=\"12\" lengthAdjust=\"spacingAndGlyphs\" textLength=\"79\" x=\"131\" y=\"169.7344\">print &quot;normal&quot;</text><polygon fill=\"#FEFECE\" filter=\"url(#f1)\" points=\"257,104.1328,332,104.1328,344,116.1328,332,128.1328,257,128.1328,245,116.1328,257,104.1328\" style=\"stroke: #A80036; stroke-width: 1.5;\"/><text fill=\"#000000\" font-family=\"sans-serif\" font-size=\"11\" lengthAdjust=\"spacingAndGlyphs\" textLength=\"75\" x=\"257\" y=\"120.29\">23&lt;=bmi&lt;25</text><rect fill=\"#FEFECE\" filter=\"url(#f1)\" height=\"34.1328\" rx=\"12.5\" ry=\"12.5\" style=\"stroke: #A80036; stroke-width: 1.5;\" width=\"86\" x=\"251.5\" y=\"148.1328\"/><text fill=\"#000000\" font-family=\"sans-serif\" font-size=\"12\" lengthAdjust=\"spacingAndGlyphs\" textLength=\"66\" x=\"261.5\" y=\"169.7344\">print &quot;risky&quot;</text><polygon fill=\"#FEFECE\" filter=\"url(#f1)\" points=\"382.5,104.1328,457.5,104.1328,469.5,116.1328,457.5,128.1328,382.5,128.1328,370.5,116.1328,382.5,104.1328\" style=\"stroke: #A80036; stroke-width: 1.5;\"/><text fill=\"#000000\" font-family=\"sans-serif\" font-size=\"11\" lengthAdjust=\"spacingAndGlyphs\" textLength=\"75\" x=\"382.5\" y=\"120.29\">25&lt;=bmi&lt;30</text><rect fill=\"#FEFECE\" filter=\"url(#f1)\" height=\"34.1328\" rx=\"12.5\" ry=\"12.5\" style=\"stroke: #A80036; stroke-width: 1.5;\" width=\"112\" x=\"364\" y=\"148.1328\"/><text fill=\"#000000\" font-family=\"sans-serif\" font-size=\"12\" lengthAdjust=\"spacingAndGlyphs\" textLength=\"92\" x=\"374\" y=\"169.7344\">print &quot;obesity 1&quot;</text><polygon fill=\"#FEFECE\" filter=\"url(#f1)\" points=\"514.5,104.1328,589.5,104.1328,601.5,116.1328,589.5,128.1328,514.5,128.1328,502.5,116.1328,514.5,104.1328\" style=\"stroke: #A80036; stroke-width: 1.5;\"/><text fill=\"#000000\" font-family=\"sans-serif\" font-size=\"11\" lengthAdjust=\"spacingAndGlyphs\" textLength=\"75\" x=\"514.5\" y=\"120.29\">30&lt;=bmi&lt;40</text><rect fill=\"#FEFECE\" filter=\"url(#f1)\" height=\"34.1328\" rx=\"12.5\" ry=\"12.5\" style=\"stroke: #A80036; stroke-width: 1.5;\" width=\"112\" x=\"496\" y=\"148.1328\"/><text fill=\"#000000\" font-family=\"sans-serif\" font-size=\"12\" lengthAdjust=\"spacingAndGlyphs\" textLength=\"92\" x=\"506\" y=\"169.7344\">print &quot;obesity 2&quot;</text><polygon fill=\"#FEFECE\" filter=\"url(#f1)\" points=\"662.5,104.1328,705.5,104.1328,717.5,116.1328,705.5,128.1328,662.5,128.1328,650.5,116.1328,662.5,104.1328\" style=\"stroke: #A80036; stroke-width: 1.5;\"/><text fill=\"#000000\" font-family=\"sans-serif\" font-size=\"11\" lengthAdjust=\"spacingAndGlyphs\" textLength=\"43\" x=\"662.5\" y=\"120.29\">bmi&gt;40</text><rect fill=\"#FEFECE\" filter=\"url(#f1)\" height=\"34.1328\" rx=\"12.5\" ry=\"12.5\" style=\"stroke: #A80036; stroke-width: 1.5;\" width=\"112\" x=\"628\" y=\"148.1328\"/><text fill=\"#000000\" font-family=\"sans-serif\" font-size=\"12\" lengthAdjust=\"spacingAndGlyphs\" textLength=\"92\" x=\"638\" y=\"169.7344\">print &quot;obesity 3&quot;</text><rect fill=\"#FEFECE\" filter=\"url(#f1)\" height=\"34.1328\" rx=\"12.5\" ry=\"12.5\" style=\"stroke: #A80036; stroke-width: 1.5;\" width=\"88\" x=\"760\" y=\"151.1328\"/><text fill=\"#000000\" font-family=\"sans-serif\" font-size=\"12\" lengthAdjust=\"spacingAndGlyphs\" textLength=\"68\" x=\"770\" y=\"172.7344\">print &quot;error&quot;</text><ellipse cx=\"429\" cy=\"235.2656\" fill=\"none\" filter=\"url(#f1)\" rx=\"10\" ry=\"10\" style=\"stroke: #000000; stroke-width: 1.0;\"/><ellipse cx=\"429.5\" cy=\"235.7656\" fill=\"#000000\" filter=\"url(#f1)\" rx=\"6\" ry=\"6\" style=\"stroke: none; stroke-width: 1.0;\"/><line style=\"stroke: #A80036; stroke-width: 1.5;\" x1=\"429\" x2=\"429\" y1=\"30\" y2=\"50\"/><polygon fill=\"#A80036\" points=\"425,40,429,50,433,40,429,44\" style=\"stroke: #A80036; stroke-width: 1.0;\"/><line style=\"stroke: #A80036; stroke-width: 1.5;\" x1=\"53\" x2=\"53\" y1=\"128.1328\" y2=\"148.1328\"/><polygon fill=\"#A80036\" points=\"49,138.1328,53,148.1328,57,138.1328,53,142.1328\" style=\"stroke: #A80036; stroke-width: 1.0;\"/><line style=\"stroke: #A80036; stroke-width: 1.5;\" x1=\"53\" x2=\"53\" y1=\"182.2656\" y2=\"205.2656\"/><polygon fill=\"#A80036\" points=\"49,195.2656,53,205.2656,57,195.2656,53,199.2656\" style=\"stroke: #A80036; stroke-width: 1.0;\"/><line style=\"stroke: #A80036; stroke-width: 1.5;\" x1=\"170.5\" x2=\"170.5\" y1=\"128.1328\" y2=\"148.1328\"/><polygon fill=\"#A80036\" points=\"166.5,138.1328,170.5,148.1328,174.5,138.1328,170.5,142.1328\" style=\"stroke: #A80036; stroke-width: 1.0;\"/><line style=\"stroke: #A80036; stroke-width: 1.5;\" x1=\"170.5\" x2=\"170.5\" y1=\"182.2656\" y2=\"205.2656\"/><polygon fill=\"#A80036\" points=\"166.5,195.2656,170.5,205.2656,174.5,195.2656,170.5,199.2656\" style=\"stroke: #A80036; stroke-width: 1.0;\"/><line style=\"stroke: #A80036; stroke-width: 1.5;\" x1=\"294.5\" x2=\"294.5\" y1=\"128.1328\" y2=\"148.1328\"/><polygon fill=\"#A80036\" points=\"290.5,138.1328,294.5,148.1328,298.5,138.1328,294.5,142.1328\" style=\"stroke: #A80036; stroke-width: 1.0;\"/><line style=\"stroke: #A80036; stroke-width: 1.5;\" x1=\"294.5\" x2=\"294.5\" y1=\"182.2656\" y2=\"205.2656\"/><polygon fill=\"#A80036\" points=\"290.5,195.2656,294.5,205.2656,298.5,195.2656,294.5,199.2656\" style=\"stroke: #A80036; stroke-width: 1.0;\"/><line style=\"stroke: #A80036; stroke-width: 1.5;\" x1=\"420\" x2=\"420\" y1=\"128.1328\" y2=\"148.1328\"/><polygon fill=\"#A80036\" points=\"416,138.1328,420,148.1328,424,138.1328,420,142.1328\" style=\"stroke: #A80036; stroke-width: 1.0;\"/><line style=\"stroke: #A80036; stroke-width: 1.5;\" x1=\"420\" x2=\"420\" y1=\"182.2656\" y2=\"205.2656\"/><polygon fill=\"#A80036\" points=\"416,195.2656,420,205.2656,424,195.2656,420,199.2656\" style=\"stroke: #A80036; stroke-width: 1.0;\"/><line style=\"stroke: #A80036; stroke-width: 1.5;\" x1=\"552\" x2=\"552\" y1=\"128.1328\" y2=\"148.1328\"/><polygon fill=\"#A80036\" points=\"548,138.1328,552,148.1328,556,138.1328,552,142.1328\" style=\"stroke: #A80036; stroke-width: 1.0;\"/><line style=\"stroke: #A80036; stroke-width: 1.5;\" x1=\"552\" x2=\"552\" y1=\"182.2656\" y2=\"205.2656\"/><polygon fill=\"#A80036\" points=\"548,195.2656,552,205.2656,556,195.2656,552,199.2656\" style=\"stroke: #A80036; stroke-width: 1.0;\"/><line style=\"stroke: #A80036; stroke-width: 1.5;\" x1=\"684\" x2=\"684\" y1=\"128.1328\" y2=\"148.1328\"/><polygon fill=\"#A80036\" points=\"680,138.1328,684,148.1328,688,138.1328,684,142.1328\" style=\"stroke: #A80036; stroke-width: 1.0;\"/><line style=\"stroke: #A80036; stroke-width: 1.5;\" x1=\"684\" x2=\"684\" y1=\"182.2656\" y2=\"205.2656\"/><polygon fill=\"#A80036\" points=\"680,195.2656,684,205.2656,688,195.2656,684,199.2656\" style=\"stroke: #A80036; stroke-width: 1.0;\"/><line style=\"stroke: #A80036; stroke-width: 1.5;\" x1=\"96\" x2=\"116\" y1=\"116.1328\" y2=\"116.1328\"/><polygon fill=\"#A80036\" points=\"106,112.1328,116,116.1328,106,120.1328,110,116.1328\" style=\"stroke: #A80036; stroke-width: 1.0;\"/><line style=\"stroke: #A80036; stroke-width: 1.5;\" x1=\"225\" x2=\"245\" y1=\"116.1328\" y2=\"116.1328\"/><polygon fill=\"#A80036\" points=\"235,112.1328,245,116.1328,235,120.1328,239,116.1328\" style=\"stroke: #A80036; stroke-width: 1.0;\"/><line style=\"stroke: #A80036; stroke-width: 1.5;\" x1=\"344\" x2=\"370.5\" y1=\"116.1328\" y2=\"116.1328\"/><polygon fill=\"#A80036\" points=\"360.5,112.1328,370.5,116.1328,360.5,120.1328,364.5,116.1328\" style=\"stroke: #A80036; stroke-width: 1.0;\"/><line style=\"stroke: #A80036; stroke-width: 1.5;\" x1=\"469.5\" x2=\"502.5\" y1=\"116.1328\" y2=\"116.1328\"/><polygon fill=\"#A80036\" points=\"492.5,112.1328,502.5,116.1328,492.5,120.1328,496.5,116.1328\" style=\"stroke: #A80036; stroke-width: 1.0;\"/><line style=\"stroke: #A80036; stroke-width: 1.5;\" x1=\"601.5\" x2=\"650.5\" y1=\"116.1328\" y2=\"116.1328\"/><polygon fill=\"#A80036\" points=\"640.5,112.1328,650.5,116.1328,640.5,120.1328,644.5,116.1328\" style=\"stroke: #A80036; stroke-width: 1.0;\"/><line style=\"stroke: #A80036; stroke-width: 1.5;\" x1=\"429\" x2=\"429\" y1=\"84.1328\" y2=\"89.1328\"/><line style=\"stroke: #A80036; stroke-width: 1.5;\" x1=\"429\" x2=\"53\" y1=\"89.1328\" y2=\"89.1328\"/><line style=\"stroke: #A80036; stroke-width: 1.5;\" x1=\"53\" x2=\"53\" y1=\"89.1328\" y2=\"104.1328\"/><polygon fill=\"#A80036\" points=\"49,94.1328,53,104.1328,57,94.1328,53,98.1328\" style=\"stroke: #A80036; stroke-width: 1.0;\"/><line style=\"stroke: #A80036; stroke-width: 1.5;\" x1=\"717.5\" x2=\"804\" y1=\"116.1328\" y2=\"116.1328\"/><line style=\"stroke: #A80036; stroke-width: 1.5;\" x1=\"804\" x2=\"804\" y1=\"116.1328\" y2=\"151.1328\"/><polygon fill=\"#A80036\" points=\"800,141.1328,804,151.1328,808,141.1328,804,145.1328\" style=\"stroke: #A80036; stroke-width: 1.0;\"/><line style=\"stroke: #A80036; stroke-width: 1.5;\" x1=\"804\" x2=\"804\" y1=\"185.2656\" y2=\"205.2656\"/><polygon fill=\"#A80036\" points=\"800,195.2656,804,205.2656,808,195.2656,804,199.2656\" style=\"stroke: #A80036; stroke-width: 1.0;\"/><line style=\"stroke: #A80036; stroke-width: 1.5;\" x1=\"53\" x2=\"804\" y1=\"205.2656\" y2=\"205.2656\"/><line style=\"stroke: #A80036; stroke-width: 1.5;\" x1=\"429\" x2=\"429\" y1=\"205.2656\" y2=\"225.2656\"/><polygon fill=\"#A80036\" points=\"425,215.2656,429,225.2656,433,215.2656,429,219.2656\" style=\"stroke: #A80036; stroke-width: 1.0;\"/></g></svg>"
      ],
      "text/plain": [
       "<IPython.core.display.SVG object>"
      ]
     },
     "execution_count": 10,
     "metadata": {},
     "output_type": "execute_result"
    }
   ],
   "source": [
    "%%plantuml\n",
    "@startuml\n",
    "start\n",
    ":bmi==weight / height / height;\n",
    "if(bmi<=18.5)\n",
    "  :print \"low\";\n",
    "elseif(18.5<=bmi<23)\n",
    "  :print \"normal\";\n",
    "elseif(23<=bmi<25)\n",
    "  :print \"risky\";\n",
    "elseif(25<=bmi<30)\n",
    "  :print \"obesity 1\";\n",
    "elseif(30<=bmi<40)\n",
    "  :print \"obesity 2\";\n",
    "elseif(bmi>40)\n",
    "  :print \"obesity 3\";\n",
    "else\n",
    "  :print \"error\";\n",
    "endif\n",
    "stop\n",
    "@enduml"
   ]
  },
  {
   "cell_type": "code",
   "execution_count": 12,
   "metadata": {
    "collapsed": false,
    "slideshow": {
     "slide_type": "slide"
    }
   },
   "outputs": [
    {
     "name": "stdout",
     "output_type": "stream",
     "text": [
      "25.9515570934\n"
     ]
    }
   ],
   "source": [
    "# 170cm 75kg\n",
    "weight=75\n",
    "height=1.7\n",
    "bmi=float(weight/ (height * height))\n",
    "print bmi"
   ]
  },
  {
   "cell_type": "markdown",
   "metadata": {},
   "source": [
    "* 연속값을 정의할 때 주의"
   ]
  },
  {
   "cell_type": "code",
   "execution_count": null,
   "metadata": {
    "collapsed": true
   },
   "outputs": [],
   "source": [
    "bmi=24.99\n",
    "if bmi >= 18.5 and bmi<=24.9:\n",
    "    print \"normal weight\"\n",
    "elif bmi >= 25 and bmi<=29.9:\n",
    "    print \"overweight\"  "
   ]
  },
  {
   "cell_type": "code",
   "execution_count": 11,
   "metadata": {
    "collapsed": false,
    "slideshow": {
     "slide_type": "slide"
    }
   },
   "outputs": [
    {
     "name": "stdout",
     "output_type": "stream",
     "text": [
      "Your BMI is 22.79\n",
      "정상체중\n"
     ]
    }
   ],
   "source": [
    "height=1.74\n",
    "weight=69\n",
    "bmi = float(weight /( height * height) )\n",
    "print 'Your BMI is %.2f' % bmi\n",
    "if bmi <= 18.5:\n",
    "    print '저체중'\n",
    "elif bmi >= 18.5 and bmi < 23:\n",
    "    print '정상체중'\n",
    "elif bmi >= 23 and bmi < 25:\n",
    "    print '위험체중'\n",
    "elif bmi >= 25 and bmi < 30:\n",
    "    print \"비만 1단계\"\n",
    "elif bmi >= 30 and bmi < 40:\n",
    "    print \"비만 2단계\"\n",
    "elif bmi >= 40:\n",
    "    print \"비만 3단계\"\n",
    "else:\n",
    "    print \"오류\""
   ]
  },
  {
   "cell_type": "markdown",
   "metadata": {
    "slideshow": {
     "slide_type": "slide"
    }
   },
   "source": [
    "### 함수로 만들 경우\n",
    "\n",
    "* 키, 몸무게를 함수의 패러미터로 설계. 결합성의 최소화.\n",
    "* 패러미터(매개변수)와 아규먼트(실인수)를 구분. 후자는 실제로 넘겨주는 인자 값. \n",
    "* 문자열을 return하여 출력할 수 있슴."
   ]
  },
  {
   "cell_type": "code",
   "execution_count": 5,
   "metadata": {
    "collapsed": false,
    "slideshow": {
     "slide_type": "slide"
    }
   },
   "outputs": [
    {
     "name": "stdout",
     "output_type": "stream",
     "text": [
      "Your BMI is 22.79\n",
      "정상체중\n"
     ]
    }
   ],
   "source": [
    "height=1.74\n",
    "weight=69\n",
    "def computeBMI(height,weight):\n",
    "    bmi = float(weight / height / height)\n",
    "    print 'Your BMI is %.2f' % bmi\n",
    "    if bmi <= 18.5:\n",
    "        res = '저체중'\n",
    "    elif bmi >= 18.5 and bmi < 23:\n",
    "        res = '정상체중'\n",
    "    elif bmi >= 23 and bmi < 25:\n",
    "        res = '위험체중'\n",
    "    elif bmi >= 25 and bmi < 30:\n",
    "        res = \"비만 1단계\"\n",
    "    elif bmi >= 30 and bmi < 40:\n",
    "        res = \"비만 2단계\"\n",
    "    elif bmi >= 40:\n",
    "        res = \"비만 3단계\"\n",
    "    else:\n",
    "        res = \"오류\"\n",
    "    return res\n",
    "print computeBMI(height,weight)"
   ]
  },
  {
   "cell_type": "code",
   "execution_count": 39,
   "metadata": {
    "collapsed": false
   },
   "outputs": [
    {
     "name": "stdout",
     "output_type": "stream",
     "text": [
      "Your BMI is 22.79\n",
      "Normal weight\n"
     ]
    }
   ],
   "source": [
    "height=1.74\n",
    "weight=69\n",
    "def computeBMI(height,weight):\n",
    "    bmi = float(weight / height / height)\n",
    "    print 'Your BMI is %.2f' % bmi\n",
    "    if bmi <= 18.5:\n",
    "        res = 'Underweight'\n",
    "    elif bmi >= 18.5 and bmi < 23:\n",
    "        res = 'Normal weight'\n",
    "    elif bmi >= 23 and bmi < 25:\n",
    "        res = 'Risk of overweight'\n",
    "    elif bmi >= 25 and bmi < 30:\n",
    "        res = \"Obese Stage 1\"\n",
    "    elif bmi >= 30 and bmi < 40:\n",
    "        res = \"Obese Stage 2\"\n",
    "    elif bmi >= 40:\n",
    "        res = \"Obese Stage 3\"\n",
    "    else:\n",
    "        res = \"Error\"\n",
    "    return res\n",
    "print computeBMI(height,weight)"
   ]
  },
  {
   "cell_type": "markdown",
   "metadata": {
    "slideshow": {
     "slide_type": "slide"
    }
   },
   "source": [
    "## 제어-10: 3, 5배수의 합계\n",
    "\n",
    "* 1000이하의 수 가운데 3, 5배수의 합계를 구한다.\n",
    "    * 수학, 컴퓨터 문제를 제공하는 사이트 참조 https://projecteuler.net\n",
    "    * 1번 문제\n",
    "        * If we list all the natural numbers below 10 that are multiples of 3 or 5,\n",
    "        we get 3, 5, 6 and 9. The sum of these multiples is 23.\n",
    "        * Find the sum of all the multiples of 3 or 5 below 1000.\n",
    "\n",
    "* 프로그래밍 요소\n",
    "    * if문과 for문을 같이 사용.\n",
    "    * 건너 뛰는 반복문을 사용할 수 있다.\n",
    "    * 모듈로 연산자를 사용할 수 있다.\n",
    "    * 조건문에 not 연산자를 사용할 수 있다.\n"
   ]
  },
  {
   "cell_type": "markdown",
   "metadata": {},
   "source": [
    "* 프로그래밍으로 생각해보기\n",
    "    * 먼저 입력과 출력을 정한다.\n",
    "        * 입력 1~1000\n",
    "        * 출력 3,5 배수의 합계\n",
    "    * 작업절차\n",
    "        * 하나씩 숫자를 가져오기\n",
    "        * 그 숫자가 배수인지 아닌지 판별하기\n",
    "        * 배수이면 합계를 구하기\n",
    "        * 합계가 끝나면, 출력하기기"
   ]
  },
  {
   "cell_type": "markdown",
   "metadata": {},
   "source": [
    "* 위 작업절차는 1000번 반복이 되어야 한다.\n",
    "* 우선 작업을 1회만 완성한 후, 다음 반복을 넣어서 생각하는 것이 쉽다.\n",
    "* 1회만 완성해보자\n",
    "    * 숫자 1개를 가져오기\n",
    "        ```\n",
    "        :get a number;\n",
    "        ```\n",
    "    * 그 숫자가 배수인지 판별하기\n",
    "        ```\n",
    "        the number is divided by 3 or 5\n",
    "        ```\n",
    "    * 배수이면 합계를 구하기 - 여기서 합계는 처음에 아무런 값도 가지지 않도록 0으로 초기화한다.\n",
    "        ```\n",
    "        if (num is not divided by 3 or 5) then (true)\n",
    "        :add num to sum;\n",
    "        endif\n",
    "        ```\n",
    "    * 합계가 끝나면, 출력하기\n",
    "        ```\n",
    "        print sum\n",
    "        ```\n"
   ]
  },
  {
   "cell_type": "code",
   "execution_count": 14,
   "metadata": {
    "collapsed": false,
    "slideshow": {
     "slide_type": "slide"
    }
   },
   "outputs": [
    {
     "data": {
      "image/svg+xml": [
       "<svg height=\"391px\" style=\"width:303px;height:391px;\" version=\"1.1\" viewBox=\"0 0 303 391\" width=\"303px\" xmlns=\"http://www.w3.org/2000/svg\" xmlns:xlink=\"http://www.w3.org/1999/xlink\"><defs><filter height=\"300%\" id=\"f1\" width=\"300%\" x=\"-1\" y=\"-1\"><feGaussianBlur result=\"blurOut\" stdDeviation=\"2.0\"/><feColorMatrix in=\"blurOut\" result=\"blurOut2\" type=\"matrix\" values=\"0 0 0 0 0 0 0 0 0 0 0 0 0 0 0 0 0 0 .4 0\"/><feOffset dx=\"4.0\" dy=\"4.0\" in=\"blurOut2\" result=\"blurOut3\"/><feBlend in=\"SourceGraphic\" in2=\"blurOut3\" mode=\"normal\"/></filter></defs><g><ellipse cx=\"164.5\" cy=\"20\" fill=\"#000000\" filter=\"url(#f1)\" rx=\"10\" ry=\"10\" style=\"stroke: none; stroke-width: 1.0;\"/><rect fill=\"#FEFECE\" filter=\"url(#f1)\" height=\"34.1328\" rx=\"12.5\" ry=\"12.5\" style=\"stroke: #A80036; stroke-width: 1.5;\" width=\"62\" x=\"133.5\" y=\"50\"/><text fill=\"#000000\" font-family=\"sans-serif\" font-size=\"12\" lengthAdjust=\"spacingAndGlyphs\" textLength=\"42\" x=\"143.5\" y=\"71.6016\">sum=0</text><polygon fill=\"#FEFECE\" filter=\"url(#f1)\" points=\"89.5,148.1328,239.5,148.1328,251.5,160.1328,239.5,172.1328,89.5,172.1328,77.5,160.1328,89.5,148.1328\" style=\"stroke: #A80036; stroke-width: 1.5;\"/><text fill=\"#000000\" font-family=\"sans-serif\" font-size=\"11\" lengthAdjust=\"spacingAndGlyphs\" textLength=\"150\" x=\"89.5\" y=\"164.29\">num is not divided by 3 or 5</text><text fill=\"#000000\" font-family=\"sans-serif\" font-size=\"11\" lengthAdjust=\"spacingAndGlyphs\" textLength=\"22\" x=\"55.5\" y=\"157.8125\">true</text><rect fill=\"#FEFECE\" filter=\"url(#f1)\" height=\"34.1328\" rx=\"12.5\" ry=\"12.5\" style=\"stroke: #A80036; stroke-width: 1.5;\" width=\"115\" x=\"10\" y=\"182.1328\"/><text fill=\"#000000\" font-family=\"sans-serif\" font-size=\"12\" lengthAdjust=\"spacingAndGlyphs\" textLength=\"95\" x=\"20\" y=\"203.7344\">add num to sum</text><polygon fill=\"#FEFECE\" filter=\"url(#f1)\" points=\"164.5,222.2656,176.5,234.2656,164.5,246.2656,152.5,234.2656,164.5,222.2656\" style=\"stroke: #A80036; stroke-width: 1.5;\"/><polygon fill=\"#FEFECE\" filter=\"url(#f1)\" points=\"164.5,104.1328,176.5,116.1328,164.5,128.1328,152.5,116.1328,164.5,104.1328\" style=\"stroke: #A80036; stroke-width: 1.5;\"/><polygon fill=\"#FEFECE\" filter=\"url(#f1)\" points=\"128.5,266.2656,200.5,266.2656,212.5,278.2656,200.5,290.2656,128.5,290.2656,116.5,278.2656,128.5,266.2656\" style=\"stroke: #A80036; stroke-width: 1.5;\"/><text fill=\"#000000\" font-family=\"sans-serif\" font-size=\"11\" lengthAdjust=\"spacingAndGlyphs\" textLength=\"72\" x=\"128.5\" y=\"282.4229\">num is 1000?</text><rect fill=\"#FEFECE\" filter=\"url(#f1)\" height=\"34.1328\" rx=\"12.5\" ry=\"12.5\" style=\"stroke: #A80036; stroke-width: 1.5;\" width=\"75\" x=\"127\" y=\"310.2656\"/><text fill=\"#000000\" font-family=\"sans-serif\" font-size=\"12\" lengthAdjust=\"spacingAndGlyphs\" textLength=\"55\" x=\"137\" y=\"331.8672\">print sum</text><ellipse cx=\"164.5\" cy=\"374.3984\" fill=\"none\" filter=\"url(#f1)\" rx=\"10\" ry=\"10\" style=\"stroke: #000000; stroke-width: 1.0;\"/><ellipse cx=\"165\" cy=\"374.8984\" fill=\"#000000\" filter=\"url(#f1)\" rx=\"6\" ry=\"6\" style=\"stroke: none; stroke-width: 1.0;\"/><line style=\"stroke: #A80036; stroke-width: 1.5;\" x1=\"164.5\" x2=\"164.5\" y1=\"30\" y2=\"50\"/><polygon fill=\"#A80036\" points=\"160.5,40,164.5,50,168.5,40,164.5,44\" style=\"stroke: #A80036; stroke-width: 1.0;\"/><line style=\"stroke: #A80036; stroke-width: 1.5;\" x1=\"77.5\" x2=\"67.5\" y1=\"160.1328\" y2=\"160.1328\"/><line style=\"stroke: #A80036; stroke-width: 1.5;\" x1=\"67.5\" x2=\"67.5\" y1=\"160.1328\" y2=\"182.1328\"/><polygon fill=\"#A80036\" points=\"63.5,172.1328,67.5,182.1328,71.5,172.1328,67.5,176.1328\" style=\"stroke: #A80036; stroke-width: 1.0;\"/><line style=\"stroke: #A80036; stroke-width: 1.5;\" x1=\"251.5\" x2=\"261.5\" y1=\"160.1328\" y2=\"160.1328\"/><polygon fill=\"#A80036\" points=\"257.5,187.1992,261.5,197.1992,265.5,187.1992,261.5,191.1992\" style=\"stroke: #A80036; stroke-width: 1.5;\"/><line style=\"stroke: #A80036; stroke-width: 1.5;\" x1=\"261.5\" x2=\"261.5\" y1=\"160.1328\" y2=\"234.2656\"/><line style=\"stroke: #A80036; stroke-width: 1.5;\" x1=\"261.5\" x2=\"176.5\" y1=\"234.2656\" y2=\"234.2656\"/><polygon fill=\"#A80036\" points=\"186.5,230.2656,176.5,234.2656,186.5,238.2656,182.5,234.2656\" style=\"stroke: #A80036; stroke-width: 1.0;\"/><line style=\"stroke: #A80036; stroke-width: 1.5;\" x1=\"67.5\" x2=\"67.5\" y1=\"216.2656\" y2=\"234.2656\"/><line style=\"stroke: #A80036; stroke-width: 1.5;\" x1=\"67.5\" x2=\"152.5\" y1=\"234.2656\" y2=\"234.2656\"/><polygon fill=\"#A80036\" points=\"142.5,230.2656,152.5,234.2656,142.5,238.2656,146.5,234.2656\" style=\"stroke: #A80036; stroke-width: 1.0;\"/><line style=\"stroke: #A80036; stroke-width: 1.5;\" x1=\"164.5\" x2=\"164.5\" y1=\"128.1328\" y2=\"148.1328\"/><polygon fill=\"#A80036\" points=\"160.5,138.1328,164.5,148.1328,168.5,138.1328,164.5,142.1328\" style=\"stroke: #A80036; stroke-width: 1.0;\"/><line style=\"stroke: #A80036; stroke-width: 1.5;\" x1=\"212.5\" x2=\"298.5\" y1=\"278.2656\" y2=\"278.2656\"/><polygon fill=\"#A80036\" points=\"294.5,231.1992,298.5,221.1992,302.5,231.1992,298.5,227.1992\" style=\"stroke: #A80036; stroke-width: 1.5;\"/><line style=\"stroke: #A80036; stroke-width: 1.5;\" x1=\"298.5\" x2=\"298.5\" y1=\"116.1328\" y2=\"278.2656\"/><line style=\"stroke: #A80036; stroke-width: 1.5;\" x1=\"298.5\" x2=\"176.5\" y1=\"116.1328\" y2=\"116.1328\"/><polygon fill=\"#A80036\" points=\"186.5,112.1328,176.5,116.1328,186.5,120.1328,182.5,116.1328\" style=\"stroke: #A80036; stroke-width: 1.0;\"/><line style=\"stroke: #A80036; stroke-width: 1.5;\" x1=\"164.5\" x2=\"164.5\" y1=\"246.2656\" y2=\"266.2656\"/><polygon fill=\"#A80036\" points=\"160.5,256.2656,164.5,266.2656,168.5,256.2656,164.5,260.2656\" style=\"stroke: #A80036; stroke-width: 1.0;\"/><line style=\"stroke: #A80036; stroke-width: 1.5;\" x1=\"164.5\" x2=\"164.5\" y1=\"84.1328\" y2=\"104.1328\"/><polygon fill=\"#A80036\" points=\"160.5,94.1328,164.5,104.1328,168.5,94.1328,164.5,98.1328\" style=\"stroke: #A80036; stroke-width: 1.0;\"/><line style=\"stroke: #A80036; stroke-width: 1.5;\" x1=\"164.5\" x2=\"164.5\" y1=\"290.2656\" y2=\"310.2656\"/><polygon fill=\"#A80036\" points=\"160.5,300.2656,164.5,310.2656,168.5,300.2656,164.5,304.2656\" style=\"stroke: #A80036; stroke-width: 1.0;\"/><line style=\"stroke: #A80036; stroke-width: 1.5;\" x1=\"164.5\" x2=\"164.5\" y1=\"344.3984\" y2=\"364.3984\"/><polygon fill=\"#A80036\" points=\"160.5,354.3984,164.5,364.3984,168.5,354.3984,164.5,358.3984\" style=\"stroke: #A80036; stroke-width: 1.0;\"/></g></svg>"
      ],
      "text/plain": [
       "<IPython.core.display.SVG object>"
      ]
     },
     "execution_count": 14,
     "metadata": {},
     "output_type": "execute_result"
    }
   ],
   "source": [
    "%%plantuml figure1\n",
    "@startuml\n",
    "\n",
    "start\n",
    "\n",
    ":sum=0;\n",
    "repeat\n",
    "    if (num is not divided by 3 or 5) then (true)\n",
    "    :add num to sum;\n",
    "    endif\n",
    "repeat while (0 < num < 1000)\n",
    ":print sum;\n",
    "\n",
    "stop\n",
    "\n",
    "@enduml"
   ]
  },
  {
   "cell_type": "markdown",
   "metadata": {},
   "source": [
    "* 다이어그램을 그려서 작업절차가 정해지면, 프로그램으로 옮겨보자.\n",
    "* 1회만 완성하기로 하고, 처음 가져오는 숫자는 3이라고 임의로 정해보자.\n",
    "    * modulo를 사용할 때는 나머지 값을 반환한다는 것과\n",
    "    * 조건문에서 나머지 값이 0인 경우는 false로 처리된다는 점에 주의하자"
   ]
  },
  {
   "cell_type": "code",
   "execution_count": 3,
   "metadata": {
    "collapsed": false
   },
   "outputs": [
    {
     "name": "stdout",
     "output_type": "stream",
     "text": [
      "else!\n"
     ]
    }
   ],
   "source": [
    "i=3\n",
    "if i%3:\n",
    "    print i\n",
    "else:\n",
    "    print \"else!\""
   ]
  },
  {
   "cell_type": "code",
   "execution_count": 4,
   "metadata": {
    "collapsed": false
   },
   "outputs": [
    {
     "name": "stdout",
     "output_type": "stream",
     "text": [
      "else!\n"
     ]
    }
   ],
   "source": [
    "if 0:\n",
    "    print \"0\"\n",
    "else:\n",
    "    print \"else!\""
   ]
  },
  {
   "cell_type": "code",
   "execution_count": 5,
   "metadata": {
    "collapsed": false
   },
   "outputs": [
    {
     "name": "stdout",
     "output_type": "stream",
     "text": [
      "1\n"
     ]
    }
   ],
   "source": [
    "if 1:\n",
    "    print \"1\"\n",
    "else:\n",
    "    print \"else!\""
   ]
  },
  {
   "cell_type": "code",
   "execution_count": 6,
   "metadata": {
    "collapsed": false
   },
   "outputs": [
    {
     "name": "stdout",
     "output_type": "stream",
     "text": [
      "not 0\n"
     ]
    }
   ],
   "source": [
    "if not 0:\n",
    "    print \"not 0\"\n",
    "else:\n",
    "    print \"else!\""
   ]
  },
  {
   "cell_type": "code",
   "execution_count": 8,
   "metadata": {
    "collapsed": false
   },
   "outputs": [
    {
     "name": "stdout",
     "output_type": "stream",
     "text": [
      "0 -> no remains\n"
     ]
    }
   ],
   "source": [
    "i=3\n",
    "if i%3==0:\n",
    "    print \"0 -> no remains\"\n",
    "else:\n",
    "    print \"else\""
   ]
  },
  {
   "cell_type": "code",
   "execution_count": 10,
   "metadata": {
    "collapsed": false
   },
   "outputs": [
    {
     "name": "stdout",
     "output_type": "stream",
     "text": [
      "else\n"
     ]
    }
   ],
   "source": [
    "i=3\n",
    "if i%3!=0:\n",
    "    print \"0 -> no remains\"\n",
    "else:\n",
    "    print \"else\""
   ]
  },
  {
   "cell_type": "code",
   "execution_count": 11,
   "metadata": {
    "collapsed": false
   },
   "outputs": [
    {
     "name": "stdout",
     "output_type": "stream",
     "text": [
      "0 -> no remains\n"
     ]
    }
   ],
   "source": [
    "i=3\n",
    "if not i%3:\n",
    "    print \"0 -> no remains\"\n",
    "else:\n",
    "    print \"else\""
   ]
  },
  {
   "cell_type": "code",
   "execution_count": 12,
   "metadata": {
    "collapsed": false
   },
   "outputs": [
    {
     "name": "stdout",
     "output_type": "stream",
     "text": [
      "0\n",
      "3\n"
     ]
    }
   ],
   "source": [
    "i=3\n",
    "sum=0\n",
    "if i%3==0:\n",
    "    print \"0\"\n",
    "    sum=sum+i\n",
    "else:\n",
    "    print \"else\"\n",
    "print sum"
   ]
  },
  {
   "cell_type": "markdown",
   "metadata": {},
   "source": [
    "* 1회가 완성이 되었으면 반복을 넣어본다."
   ]
  },
  {
   "cell_type": "code",
   "execution_count": 13,
   "metadata": {
    "collapsed": false
   },
   "outputs": [
    {
     "name": "stdout",
     "output_type": "stream",
     "text": [
      "23\n"
     ]
    }
   ],
   "source": [
    "i=3\n",
    "sum=0\n",
    "for i in range(0,10):\n",
    "    if i%3==0 or i%5==0:\n",
    "        sum=sum+i\n",
    "print sum"
   ]
  },
  {
   "cell_type": "code",
   "execution_count": 1,
   "metadata": {
    "collapsed": false,
    "slideshow": {
     "slide_type": "slide"
    }
   },
   "outputs": [
    {
     "name": "stdout",
     "output_type": "stream",
     "text": [
      "sum of 3,5 multiples = 233168\n"
     ]
    }
   ],
   "source": [
    "def pEuler1():\n",
    "    sum=0\n",
    "    for num in range(0,1000):\n",
    "        if not (num % 3 and num % 5): sum+=num\n",
    "    return sum\n",
    "\n",
    "answer=pEuler1()\n",
    "print \"sum of 3,5 multiples =\",answer"
   ]
  },
  {
   "cell_type": "markdown",
   "metadata": {},
   "source": [
    "## 제어-11: 윤년인지 맞추기\n",
    "\n",
    "* 연도를 입력하여 윤년인지 맞추는 프로그램 작성\n",
    "* 윤년은 2월에 29일 있는 해. 그 조건은\n",
    "    * 4로 나누어지면서 100으로 나누어지지 않거나\n",
    "    * 4로 나누어지면서 400으로 나누어짐\n",
    "* 프로그래밍 요소\n",
    "    * 복합조건을 사용할 수 있다.\n",
    "    * 모듈로를 사용할 수 있다.\n"
   ]
  },
  {
   "cell_type": "code",
   "execution_count": null,
   "metadata": {
    "collapsed": true
   },
   "outputs": [],
   "source": [
    "year = int(raw_input(\"Enter a year: \"))\n",
    "if (year % 4) == 0:\n",
    "   if (year % 100) == 0:\n",
    "       if (year % 400) == 0:\n",
    "           print(\"{0} is a leap year\".format(year))\n",
    "       else:\n",
    "           print(\"{0} is not a leap year\".format(year))\n",
    "   else:\n",
    "       print(\"{0} is a leap year\".format(year))\n",
    "else:\n",
    "   print(\"{0} is not a leap year\".format(year))"
   ]
  },
  {
   "cell_type": "code",
   "execution_count": null,
   "metadata": {
    "collapsed": true
   },
   "outputs": [],
   "source": [
    "year=1800\n",
    "if (year%4 == 0) and (year%100 !=0 or year%400==0):\n",
    "    print '{0}는 윤년입니다.'.format(year)\n",
    "else:\n",
    "    print '{0}는 윤년이 아닙니다.'.format(year)"
   ]
  },
  {
   "cell_type": "code",
   "execution_count": 15,
   "metadata": {
    "collapsed": false,
    "slideshow": {
     "slide_type": "skip"
    }
   },
   "outputs": [
    {
     "name": "stdout",
     "output_type": "stream",
     "text": [
      "1800는 윤년이 아닙니다.\n",
      "1900는 윤년이 아닙니다.\n",
      "1912는 윤년입니다.\n",
      "1984는 윤년입니다.\n",
      "1985는 윤년이 아닙니다.\n",
      "2000는 윤년입니다.\n",
      "2015는 윤년이 아닙니다.\n",
      "1825는 윤년이 아닙니다.\n",
      "1928는 윤년입니다.\n",
      "2031는 윤년이 아닙니다.\n",
      "1845는 윤년이 아닙니다.\n",
      "1947는 윤년이 아닙니다.\n",
      "2053는 윤년이 아닙니다.\n",
      "2099는 윤년이 아닙니다.\n"
     ]
    }
   ],
   "source": [
    "years=[1800,1900,1912,1984,1985,2000,2015,1825,1928,2031,1845,1947,2053,2099]\n",
    "for year in years:\n",
    "    if (year%4 == 0) and (year%100 !=0 or year%400==0):\n",
    "        print '{0}는 윤년입니다.'.format(year)\n",
    "    else:\n",
    "        print '{0}는 윤년이 아닙니다.'.format(year)"
   ]
  },
  {
   "cell_type": "markdown",
   "metadata": {
    "slideshow": {
     "slide_type": "slide"
    }
   },
   "source": [
    "## 제어-12: 100년 동안 매 월 1일이 일요일인 경우\n",
    "\n",
    "* 출처 euler 19\n",
    "* 20c 100년 동안 (1901년 1월 1일 ~ 2000년 12월 31일) 매 월 첫 날이 일요일인 경우가 몇 일\n",
    "    * 1 Jan 1900 was a Monday.\n",
    "    * 30일 -> September,April, June and November.\n",
    "    * 31일 -> 나머지 월\n",
    "    * 윤년 아닌 경우 28, 윤년에는 29일 -> 2월\n",
    "    * 윤년은 evenly divisible by 4, but not on a century unless it is divisible by 400.\n",
    "* 윤년은 다음 문제 참조\n",
    "* 프로그래밍 요소\n",
    "    * 복잡한 조건, 반복을 사용할 수 있다.\n",
    "    * 1~12월 일수를 저장하여 사용하려면 구조를 사용해야 한다 (다음 장에서 배움)."
   ]
  },
  {
   "cell_type": "code",
   "execution_count": 14,
   "metadata": {
    "collapsed": false,
    "slideshow": {
     "slide_type": "slide"
    }
   },
   "outputs": [
    {
     "data": {
      "image/svg+xml": [
       "<svg height=\"651px\" style=\"width:333px;height:651px;\" version=\"1.1\" viewBox=\"0 0 333 651\" width=\"333px\" xmlns=\"http://www.w3.org/2000/svg\" xmlns:xlink=\"http://www.w3.org/1999/xlink\"><defs><filter height=\"300%\" id=\"f1\" width=\"300%\" x=\"-1\" y=\"-1\"><feGaussianBlur result=\"blurOut\" stdDeviation=\"2.0\"/><feColorMatrix in=\"blurOut\" result=\"blurOut2\" type=\"matrix\" values=\"0 0 0 0 0 0 0 0 0 0 0 0 0 0 0 0 0 0 .4 0\"/><feOffset dx=\"4.0\" dy=\"4.0\" in=\"blurOut2\" result=\"blurOut3\"/><feBlend in=\"SourceGraphic\" in2=\"blurOut3\" mode=\"normal\"/></filter></defs><g><ellipse cx=\"152.5\" cy=\"20\" fill=\"#000000\" filter=\"url(#f1)\" rx=\"10\" ry=\"10\" style=\"stroke: none; stroke-width: 1.0;\"/><rect fill=\"#FEFECE\" filter=\"url(#f1)\" height=\"34.1328\" rx=\"12.5\" ry=\"12.5\" style=\"stroke: #A80036; stroke-width: 1.5;\" width=\"47\" x=\"129\" y=\"50\"/><text fill=\"#000000\" font-family=\"sans-serif\" font-size=\"12\" lengthAdjust=\"spacingAndGlyphs\" textLength=\"27\" x=\"139\" y=\"71.6016\">D=0</text><rect fill=\"#FEFECE\" filter=\"url(#f1)\" height=\"34.1328\" rx=\"12.5\" ry=\"12.5\" style=\"stroke: #A80036; stroke-width: 1.5;\" width=\"63\" x=\"121\" y=\"104.1328\"/><text fill=\"#000000\" font-family=\"sans-serif\" font-size=\"12\" lengthAdjust=\"spacingAndGlyphs\" textLength=\"43\" x=\"131\" y=\"125.7344\">num=0</text><polygon fill=\"#FEFECE\" filter=\"url(#f1)\" points=\"104.5,202.2656,200.5,202.2656,212.5,214.2656,200.5,226.2656,104.5,226.2656,92.5,214.2656,104.5,202.2656\" style=\"stroke: #A80036; stroke-width: 1.5;\"/><text fill=\"#000000\" font-family=\"sans-serif\" font-size=\"11\" lengthAdjust=\"spacingAndGlyphs\" textLength=\"96\" x=\"104.5\" y=\"218.4229\">num is a leap year</text><text fill=\"#000000\" font-family=\"sans-serif\" font-size=\"11\" lengthAdjust=\"spacingAndGlyphs\" textLength=\"22\" x=\"70.5\" y=\"211.9453\">true</text><text fill=\"#000000\" font-family=\"sans-serif\" font-size=\"11\" lengthAdjust=\"spacingAndGlyphs\" textLength=\"25\" x=\"212.5\" y=\"211.9453\">false</text><rect fill=\"#FEFECE\" filter=\"url(#f1)\" height=\"34.1328\" rx=\"12.5\" ry=\"12.5\" style=\"stroke: #A80036; stroke-width: 1.5;\" width=\"71\" x=\"47\" y=\"236.2656\"/><text fill=\"#000000\" font-family=\"sans-serif\" font-size=\"12\" lengthAdjust=\"spacingAndGlyphs\" textLength=\"51\" x=\"57\" y=\"257.8672\">D[1]=29</text><rect fill=\"#FEFECE\" filter=\"url(#f1)\" height=\"34.1328\" rx=\"12.5\" ry=\"12.5\" style=\"stroke: #A80036; stroke-width: 1.5;\" width=\"71\" x=\"187\" y=\"236.2656\"/><text fill=\"#000000\" font-family=\"sans-serif\" font-size=\"12\" lengthAdjust=\"spacingAndGlyphs\" textLength=\"51\" x=\"197\" y=\"257.8672\">D[1]=28</text><polygon fill=\"#FEFECE\" filter=\"url(#f1)\" points=\"152.5,276.3984,164.5,288.3984,152.5,300.3984,140.5,288.3984,152.5,276.3984\" style=\"stroke: #A80036; stroke-width: 1.5;\"/><polygon fill=\"#FEFECE\" filter=\"url(#f1)\" points=\"59.5,364.3984,245.5,364.3984,257.5,376.3984,245.5,388.3984,59.5,388.3984,47.5,376.3984,59.5,364.3984\" style=\"stroke: #A80036; stroke-width: 1.5;\"/><text fill=\"#000000\" font-family=\"sans-serif\" font-size=\"11\" lengthAdjust=\"spacingAndGlyphs\" textLength=\"186\" x=\"59.5\" y=\"380.5557\">D-1)%7 ==0 and num&gt;0 then(true</text><rect fill=\"#FEFECE\" filter=\"url(#f1)\" height=\"34.1328\" rx=\"12.5\" ry=\"12.5\" style=\"stroke: #A80036; stroke-width: 1.5;\" width=\"55\" x=\"10\" y=\"398.3984\"/><text fill=\"#000000\" font-family=\"sans-serif\" font-size=\"12\" lengthAdjust=\"spacingAndGlyphs\" textLength=\"35\" x=\"20\" y=\"420\">n+=1</text><polygon fill=\"#FEFECE\" filter=\"url(#f1)\" points=\"152.5,438.5313,164.5,450.5313,152.5,462.5313,140.5,450.5313,152.5,438.5313\" style=\"stroke: #A80036; stroke-width: 1.5;\"/><polygon fill=\"#FEFECE\" filter=\"url(#f1)\" points=\"152.5,320.3984,164.5,332.3984,152.5,344.3984,140.5,332.3984,152.5,320.3984\" style=\"stroke: #A80036; stroke-width: 1.5;\"/><polygon fill=\"#FEFECE\" filter=\"url(#f1)\" points=\"134,482.5313,171,482.5313,183,494.5313,171,506.5313,134,506.5313,122,494.5313,134,482.5313\" style=\"stroke: #A80036; stroke-width: 1.5;\"/><text fill=\"#000000\" font-family=\"sans-serif\" font-size=\"11\" lengthAdjust=\"spacingAndGlyphs\" textLength=\"37\" x=\"134\" y=\"498.6885\">D &lt; 12</text><polygon fill=\"#FEFECE\" filter=\"url(#f1)\" points=\"152.5,158.2656,164.5,170.2656,152.5,182.2656,140.5,170.2656,152.5,158.2656\" style=\"stroke: #A80036; stroke-width: 1.5;\"/><polygon fill=\"#FEFECE\" filter=\"url(#f1)\" points=\"122.5,526.5313,182.5,526.5313,194.5,538.5313,182.5,550.5313,122.5,550.5313,110.5,538.5313,122.5,526.5313\" style=\"stroke: #A80036; stroke-width: 1.5;\"/><text fill=\"#000000\" font-family=\"sans-serif\" font-size=\"11\" lengthAdjust=\"spacingAndGlyphs\" textLength=\"60\" x=\"122.5\" y=\"542.6885\">num &lt; 101</text><rect fill=\"#FEFECE\" filter=\"url(#f1)\" height=\"34.1328\" rx=\"12.5\" ry=\"12.5\" style=\"stroke: #A80036; stroke-width: 1.5;\" width=\"75\" x=\"115\" y=\"570.5313\"/><text fill=\"#000000\" font-family=\"sans-serif\" font-size=\"12\" lengthAdjust=\"spacingAndGlyphs\" textLength=\"55\" x=\"125\" y=\"592.1328\">print sum</text><ellipse cx=\"152.5\" cy=\"634.6641\" fill=\"none\" filter=\"url(#f1)\" rx=\"10\" ry=\"10\" style=\"stroke: #000000; stroke-width: 1.0;\"/><ellipse cx=\"153\" cy=\"635.1641\" fill=\"#000000\" filter=\"url(#f1)\" rx=\"6\" ry=\"6\" style=\"stroke: none; stroke-width: 1.0;\"/><line style=\"stroke: #A80036; stroke-width: 1.5;\" x1=\"152.5\" x2=\"152.5\" y1=\"30\" y2=\"50\"/><polygon fill=\"#A80036\" points=\"148.5,40,152.5,50,156.5,40,152.5,44\" style=\"stroke: #A80036; stroke-width: 1.0;\"/><line style=\"stroke: #A80036; stroke-width: 1.5;\" x1=\"152.5\" x2=\"152.5\" y1=\"84.1328\" y2=\"104.1328\"/><polygon fill=\"#A80036\" points=\"148.5,94.1328,152.5,104.1328,156.5,94.1328,152.5,98.1328\" style=\"stroke: #A80036; stroke-width: 1.0;\"/><line style=\"stroke: #A80036; stroke-width: 1.5;\" x1=\"92.5\" x2=\"82.5\" y1=\"214.2656\" y2=\"214.2656\"/><line style=\"stroke: #A80036; stroke-width: 1.5;\" x1=\"82.5\" x2=\"82.5\" y1=\"214.2656\" y2=\"236.2656\"/><polygon fill=\"#A80036\" points=\"78.5,226.2656,82.5,236.2656,86.5,226.2656,82.5,230.2656\" style=\"stroke: #A80036; stroke-width: 1.0;\"/><line style=\"stroke: #A80036; stroke-width: 1.5;\" x1=\"212.5\" x2=\"222.5\" y1=\"214.2656\" y2=\"214.2656\"/><line style=\"stroke: #A80036; stroke-width: 1.5;\" x1=\"222.5\" x2=\"222.5\" y1=\"214.2656\" y2=\"236.2656\"/><polygon fill=\"#A80036\" points=\"218.5,226.2656,222.5,236.2656,226.5,226.2656,222.5,230.2656\" style=\"stroke: #A80036; stroke-width: 1.0;\"/><line style=\"stroke: #A80036; stroke-width: 1.5;\" x1=\"82.5\" x2=\"82.5\" y1=\"270.3984\" y2=\"288.3984\"/><line style=\"stroke: #A80036; stroke-width: 1.5;\" x1=\"82.5\" x2=\"140.5\" y1=\"288.3984\" y2=\"288.3984\"/><polygon fill=\"#A80036\" points=\"130.5,284.3984,140.5,288.3984,130.5,292.3984,134.5,288.3984\" style=\"stroke: #A80036; stroke-width: 1.0;\"/><line style=\"stroke: #A80036; stroke-width: 1.5;\" x1=\"222.5\" x2=\"222.5\" y1=\"270.3984\" y2=\"288.3984\"/><line style=\"stroke: #A80036; stroke-width: 1.5;\" x1=\"222.5\" x2=\"164.5\" y1=\"288.3984\" y2=\"288.3984\"/><polygon fill=\"#A80036\" points=\"174.5,284.3984,164.5,288.3984,174.5,292.3984,170.5,288.3984\" style=\"stroke: #A80036; stroke-width: 1.0;\"/><line style=\"stroke: #A80036; stroke-width: 1.5;\" x1=\"47.5\" x2=\"37.5\" y1=\"376.3984\" y2=\"376.3984\"/><line style=\"stroke: #A80036; stroke-width: 1.5;\" x1=\"37.5\" x2=\"37.5\" y1=\"376.3984\" y2=\"398.3984\"/><polygon fill=\"#A80036\" points=\"33.5,388.3984,37.5,398.3984,41.5,388.3984,37.5,392.3984\" style=\"stroke: #A80036; stroke-width: 1.0;\"/><line style=\"stroke: #A80036; stroke-width: 1.5;\" x1=\"257.5\" x2=\"267.5\" y1=\"376.3984\" y2=\"376.3984\"/><polygon fill=\"#A80036\" points=\"263.5,403.4648,267.5,413.4648,271.5,403.4648,267.5,407.4648\" style=\"stroke: #A80036; stroke-width: 1.5;\"/><line style=\"stroke: #A80036; stroke-width: 1.5;\" x1=\"267.5\" x2=\"267.5\" y1=\"376.3984\" y2=\"450.5313\"/><line style=\"stroke: #A80036; stroke-width: 1.5;\" x1=\"267.5\" x2=\"164.5\" y1=\"450.5313\" y2=\"450.5313\"/><polygon fill=\"#A80036\" points=\"174.5,446.5313,164.5,450.5313,174.5,454.5313,170.5,450.5313\" style=\"stroke: #A80036; stroke-width: 1.0;\"/><line style=\"stroke: #A80036; stroke-width: 1.5;\" x1=\"37.5\" x2=\"37.5\" y1=\"432.5313\" y2=\"450.5313\"/><line style=\"stroke: #A80036; stroke-width: 1.5;\" x1=\"37.5\" x2=\"140.5\" y1=\"450.5313\" y2=\"450.5313\"/><polygon fill=\"#A80036\" points=\"130.5,446.5313,140.5,450.5313,130.5,454.5313,134.5,450.5313\" style=\"stroke: #A80036; stroke-width: 1.0;\"/><line style=\"stroke: #A80036; stroke-width: 1.5;\" x1=\"152.5\" x2=\"152.5\" y1=\"344.3984\" y2=\"364.3984\"/><polygon fill=\"#A80036\" points=\"148.5,354.3984,152.5,364.3984,156.5,354.3984,152.5,358.3984\" style=\"stroke: #A80036; stroke-width: 1.0;\"/><line style=\"stroke: #A80036; stroke-width: 1.5;\" x1=\"183\" x2=\"304.5\" y1=\"494.5313\" y2=\"494.5313\"/><polygon fill=\"#A80036\" points=\"300.5,447.4648,304.5,437.4648,308.5,447.4648,304.5,443.4648\" style=\"stroke: #A80036; stroke-width: 1.5;\"/><line style=\"stroke: #A80036; stroke-width: 1.5;\" x1=\"304.5\" x2=\"304.5\" y1=\"332.3984\" y2=\"494.5313\"/><line style=\"stroke: #A80036; stroke-width: 1.5;\" x1=\"304.5\" x2=\"164.5\" y1=\"332.3984\" y2=\"332.3984\"/><polygon fill=\"#A80036\" points=\"174.5,328.3984,164.5,332.3984,174.5,336.3984,170.5,332.3984\" style=\"stroke: #A80036; stroke-width: 1.0;\"/><line style=\"stroke: #A80036; stroke-width: 1.5;\" x1=\"152.5\" x2=\"152.5\" y1=\"462.5313\" y2=\"482.5313\"/><polygon fill=\"#A80036\" points=\"148.5,472.5313,152.5,482.5313,156.5,472.5313,152.5,476.5313\" style=\"stroke: #A80036; stroke-width: 1.0;\"/><line style=\"stroke: #A80036; stroke-width: 1.5;\" x1=\"152.5\" x2=\"152.5\" y1=\"300.3984\" y2=\"320.3984\"/><polygon fill=\"#A80036\" points=\"148.5,310.3984,152.5,320.3984,156.5,310.3984,152.5,314.3984\" style=\"stroke: #A80036; stroke-width: 1.0;\"/><line style=\"stroke: #A80036; stroke-width: 1.5;\" x1=\"152.5\" x2=\"152.5\" y1=\"182.2656\" y2=\"202.2656\"/><polygon fill=\"#A80036\" points=\"148.5,192.2656,152.5,202.2656,156.5,192.2656,152.5,196.2656\" style=\"stroke: #A80036; stroke-width: 1.0;\"/><line style=\"stroke: #A80036; stroke-width: 1.5;\" x1=\"194.5\" x2=\"328.5\" y1=\"538.5313\" y2=\"538.5313\"/><polygon fill=\"#A80036\" points=\"324.5,404.8984,328.5,394.8984,332.5,404.8984,328.5,400.8984\" style=\"stroke: #A80036; stroke-width: 1.5;\"/><line style=\"stroke: #A80036; stroke-width: 1.5;\" x1=\"328.5\" x2=\"328.5\" y1=\"170.2656\" y2=\"538.5313\"/><line style=\"stroke: #A80036; stroke-width: 1.5;\" x1=\"328.5\" x2=\"164.5\" y1=\"170.2656\" y2=\"170.2656\"/><polygon fill=\"#A80036\" points=\"174.5,166.2656,164.5,170.2656,174.5,174.2656,170.5,170.2656\" style=\"stroke: #A80036; stroke-width: 1.0;\"/><line style=\"stroke: #A80036; stroke-width: 1.5;\" x1=\"152.5\" x2=\"152.5\" y1=\"506.5313\" y2=\"526.5313\"/><polygon fill=\"#A80036\" points=\"148.5,516.5313,152.5,526.5313,156.5,516.5313,152.5,520.5313\" style=\"stroke: #A80036; stroke-width: 1.0;\"/><line style=\"stroke: #A80036; stroke-width: 1.5;\" x1=\"152.5\" x2=\"152.5\" y1=\"138.2656\" y2=\"158.2656\"/><polygon fill=\"#A80036\" points=\"148.5,148.2656,152.5,158.2656,156.5,148.2656,152.5,152.2656\" style=\"stroke: #A80036; stroke-width: 1.0;\"/><line style=\"stroke: #A80036; stroke-width: 1.5;\" x1=\"152.5\" x2=\"152.5\" y1=\"550.5313\" y2=\"570.5313\"/><polygon fill=\"#A80036\" points=\"148.5,560.5313,152.5,570.5313,156.5,560.5313,152.5,564.5313\" style=\"stroke: #A80036; stroke-width: 1.0;\"/><line style=\"stroke: #A80036; stroke-width: 1.5;\" x1=\"152.5\" x2=\"152.5\" y1=\"604.6641\" y2=\"624.6641\"/><polygon fill=\"#A80036\" points=\"148.5,614.6641,152.5,624.6641,156.5,614.6641,152.5,618.6641\" style=\"stroke: #A80036; stroke-width: 1.0;\"/></g></svg>"
      ],
      "text/plain": [
       "<IPython.core.display.SVG object>"
      ]
     },
     "execution_count": 14,
     "metadata": {},
     "output_type": "execute_result"
    }
   ],
   "source": [
    "%%plantuml figure1\n",
    "@startuml\n",
    "\n",
    "start\n",
    "\n",
    ":D=0;\n",
    ":num=0;\n",
    "repeat\n",
    "    if (num is a leap year) then (true)\n",
    "    :D[1]=29;\n",
    "    else (false)\n",
    "    :D[1]=28;\n",
    "    endif\n",
    "    repeat\n",
    "    if (D-1)%7 ==0 and num>0 then(true)\n",
    "    :n+=1;\n",
    "    endif\n",
    "    repeat while(D < 12)\n",
    "repeat while (num < 101)\n",
    ":print sum;\n",
    "stop\n",
    "\n",
    "@enduml"
   ]
  },
  {
   "cell_type": "code",
   "execution_count": 8,
   "metadata": {
    "collapsed": false
   },
   "outputs": [
    {
     "name": "stdout",
     "output_type": "stream",
     "text": [
      "200\n"
     ]
    }
   ],
   "source": [
    "def dayListBuild():\n",
    "    dayListBuild = [[0,0,0]]\n",
    "    for year in range(1900, 2001):\n",
    "        for month in range(1, 13):\n",
    "            if month in [4, 6, 9, 11]:\n",
    "                dayRange = 30\n",
    "            elif not month - 2: #if minus 2 is equal to 0 (=Feb.)\n",
    "                if year % 4 and (not year % 100 or year % 400):\n",
    "                        dayRange = 29\n",
    "                else:\n",
    "                    dayRange = 28\n",
    "            else:\n",
    "                dayRange = 31\n",
    "            for day in range(1, dayRange + 1):\n",
    "                dayListBuild.append([year, month, day])\n",
    "    return dayListBuild\n",
    "\n",
    "def sundayList():\n",
    "    dayList = dayListBuild()\n",
    "    sundayList = []\n",
    "    for day in range(len(dayList)):\n",
    "        if not (day - 6) % 7 and dayList[day][0] > 1900 and not dayList[day][2] - 1:\n",
    "            sundayList.append(dayList[day])\n",
    "    return len(sundayList)\n",
    "\n",
    "print(sundayList())"
   ]
  },
  {
   "cell_type": "code",
   "execution_count": 5,
   "metadata": {
    "collapsed": false,
    "slideshow": {
     "slide_type": "slide"
    }
   },
   "outputs": [
    {
     "name": "stdout",
     "output_type": "stream",
     "text": [
      "year 0\n",
      "year 1\n",
      "\tMonth:31 d:365\n",
      "\tMonth:31 d:638\n",
      "year 2\n",
      "\tMonth:30 d:820\n",
      "\tMonth:31 d:911\n",
      "year 3\n",
      "\tMonth:30 d:1338\n",
      "\tMonth:31 d:1429\n",
      "year 4\n",
      "\tMonth:31 d:1520\n",
      "\tMonth:30 d:1765\n",
      "year 5\n",
      "\tMonth:31 d:2038\n",
      "year 6\n",
      "\tMonth:31 d:2311\n",
      "year 7\n",
      "\tMonth:31 d:2556\n",
      "\tMonth:31 d:2829\n",
      "year 8\n",
      "\tMonth:30 d:3165\n",
      "\tMonth:31 d:3256\n",
      "year 9\n",
      "\tMonth:30 d:3438\n",
      "p euler 19 = 15\n"
     ]
    }
   ],
   "source": [
    "def pEuler_19():\n",
    "    D=[31,28,31,\n",
    "       30,31,30,\n",
    "       31,31,30,\n",
    "       31,30,31]\n",
    "    d,n=0,0\n",
    "    for i in range(0,10):\n",
    "        print \"year {0}\".format(i)\n",
    "        if (not (1900+i)%4 and (1900+i)%100) or not (1900+i)%400:\n",
    "            D[1]=29\n",
    "        else:\n",
    "            D[1]=28\n",
    "        for t in D:\n",
    "            if not (d-1)%7 and i>=1:\n",
    "                print \"\\tMonth:{0} d:{1}\".format(t,d)\n",
    "                n+=1\n",
    "            d+=t\n",
    "            #print n, t, d,not(d-1)%7\n",
    "    return n\n",
    "\n",
    "n=pEuler_19()\n",
    "print \"p euler 19 =\", n"
   ]
  },
  {
   "cell_type": "markdown",
   "metadata": {
    "collapsed": true
   },
   "source": [
    "## 제어-13: 업다운 게임\n",
    "\n",
    "* 사용자가 범위를 정하고, 생각하는 값을 입력한다.\n",
    "* 컴퓨터는 그 숫자를 맞춘다.\n",
    "* 범위 + 1를 2의 승수로 변환해서, 그 승수가 맞추는 최대횟수가 된다.\n",
    "    * 15 + 1 = 16이고\n",
    "    * 16은 $2^4$이므로, 최대 4회 이내에서 숫자를 맞출 수 있다.\n",
    "        ```\n",
    "        1 would take 1\n",
    "        3 would take 2\n",
    "        7 would take 3\n",
    "        15 would take 4\n",
    "        31 would take 5\n",
    "        63 would take 6\n",
    "        127 would take 7\n",
    "        255 would take 8\n",
    "        511 would take 9\n",
    "        1023 would take 10\n",
    "        2047 would take 11\n",
    "        4095 would take 12\n",
    "        ```"
   ]
  },
  {
   "cell_type": "markdown",
   "metadata": {},
   "source": [
    "## 제어-14 캘린더 만들기\n"
   ]
  }
 ],
 "metadata": {
  "celltoolbar": "Slideshow",
  "kernelspec": {
   "display_name": "Python 2",
   "language": "python",
   "name": "python2"
  },
  "language_info": {
   "codemirror_mode": {
    "name": "ipython",
    "version": 2
   },
   "file_extension": ".py",
   "mimetype": "text/x-python",
   "name": "python",
   "nbconvert_exporter": "python",
   "pygments_lexer": "ipython2",
   "version": "2.7.12"
  }
 },
 "nbformat": 4,
 "nbformat_minor": 0
}
