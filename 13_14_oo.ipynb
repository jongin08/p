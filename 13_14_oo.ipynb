{
 "cells": [
  {
   "cell_type": "markdown",
   "metadata": {},
   "source": [
    "# 14. 객체지향\n",
    "\n",
    "## 14.1 학습내용\n",
    "\n",
    "### 14.1.1 목표\n",
    "\n",
    "* 객체(Object)를 만들고 사용할 수 있는 프로그램을 할 수 있다.\n",
    "* 객체지향프로그래밍(OOP, Object-Oriented Programming)이 함수프로그래밍(Functional Porgramming)에 비해 다른 점을 설명할 수 있다.\n",
    "\n",
    "### 14.1.2 문제\n",
    "\n",
    "* 객체-1: Dog객체를 만들어 이름을 출력한다. \n",
    "* 객체-2: Dog객체를 만들고, 다른 종은 다르게 말하는 프로그램을 구현한다.\n",
    "* 객체-3: 다형적으로 거북이 달리기 (삼각형, 사각형, 다각형)"
   ]
  },
  {
   "cell_type": "markdown",
   "metadata": {},
   "source": [
    "## 14.2 객체지향\n",
    "\n",
    "### 14.2.1 함수프로그램과 객체지향 프로그램\n",
    "\n",
    "* 생각을 바꾼다. 프로그램 대상의 전환.\n",
    "    * 함수에서 객체로 관점을 함수에서 전환하여 프로그램한다.\n",
    "    * 함수프로그램은 함수를 만들어서 실행한다. 반면 객체지향프로그램은 객체를 만들어서 실행한다.\n",
    "\n",
    "* 클래스(객체) vs 함수\n",
    "    * 예:\n",
    "        ```\n",
    "        자동차가 달린다.\n",
    "        ```\n",
    "    * 객체지향은 명사인 '자동차', 함수프로그램에서는 동사인 '달린다'를 구현한다.\n",
    "    * 클래스(객체)는 명사, 함수는 동사를 사용한다.\n",
    "\n",
    "* 클래스와 객체\n",
    "    * 클래스는 객체를 만드는 틀, 객체는 틀에서 만들어진다. 객체는 클래스의 인스턴스이다.\n",
    "    * 비유를 하면, 붕어빵과 틀. 프로그램에서 사용하는 것은 붕어빵이다.\n",
    "    * 변수와 비교해서 설명한다.\n",
    "        * x는 값 3을 가진다. 그 타잎은 정수.\n",
    "            ```\n",
    "            x=3\n",
    "            ```\n",
    "    * 클래스는 타잎, 객체는 값으로 이해될 수 있다.\n",
    "    * 변수와 달리, 클래스는 복잡한 데이터를 가질 수 있다.\n",
    "    * 객체는 클래스의 인스턴스로 변수라고 비교하면 이해하기 쉽다.\n",
    "        * 에: t1은 turtle클래스의 객체이다.\n",
    "        ```\n",
    "        t1=Turtle()\n",
    "        ```"
   ]
  },
  {
   "cell_type": "markdown",
   "metadata": {},
   "source": [
    "### 14.2.2 무엇이 다른가?\n",
    "\n",
    "* 데이터와 명령문\n",
    "    * 함수프로그램에서는 데이터와 함수가 별도로 떨어져 있었지만, 객체지향은 데이터와 함수를 묶어서 프로그래밍 한다.\n",
    "    * 계란에 비유:\n",
    "        * 객체지향에서는 흰자(함수)와 노른자(데이터)가 분리되어 있다.\n",
    "        * 함수프로그램에서는 흰자와 노른자가 섞여 있다 (scrambled egg)\n",
    "    * 함수프로그램에서 사용하는 데이터는 누구나 사용할 수 있다 (특히 전역변수).\n",
    "        * 예: 몸무게(데이터), 몸무게 알아내기 (함수)\n",
    "        * 내 몸무게를 누구나 알 수 있다.\n",
    "    * 객체지향프로그램에서는 몸무게를 객체(나 자신)가 가지고 있고, 누구나 알 수 없다."
   ]
  },
  {
   "cell_type": "markdown",
   "metadata": {},
   "source": [
    "### 14.2.3 객체지향 Python\n",
    "\n",
    "* Python은 객체를 중심으로 프로그래밍을 하도록 만들어진 언어이다.\n",
    "* 지금까지 사용했던 문자열을 객체로서 이해한다.\n",
    "    * dir()함수를 사용하면, 문자열이 가지고 있는 멤버함수를 알 수 있다.\n",
    "    * 단순한 문자열이 아니라, 객체로서의 문자열이 제공하는 함수이다.\n",
    "    * 즉, 중심에 'hello world'라고 하는 문자열 데이터가 있고, 이 데이터는 멤버함수를 통해서만이 사용될 수 있다."
   ]
  },
  {
   "cell_type": "code",
   "execution_count": 2,
   "metadata": {
    "collapsed": false,
    "scrolled": true
   },
   "outputs": [
    {
     "name": "stdout",
     "output_type": "stream",
     "text": [
      "['__add__', '__class__', '__contains__', '__delattr__', '__doc__', '__eq__', '__format__', '__ge__', '__getattribute__', '__getitem__', '__getnewargs__', '__getslice__', '__gt__', '__hash__', '__init__', '__le__', '__len__', '__lt__', '__mod__', '__mul__', '__ne__', '__new__', '__reduce__', '__reduce_ex__', '__repr__', '__rmod__', '__rmul__', '__setattr__', '__sizeof__', '__str__', '__subclasshook__', '_formatter_field_name_split', '_formatter_parser', 'capitalize', 'center', 'count', 'decode', 'encode', 'endswith', 'expandtabs', 'find', 'format', 'index', 'isalnum', 'isalpha', 'isdigit', 'islower', 'isspace', 'istitle', 'isupper', 'join', 'ljust', 'lower', 'lstrip', 'partition', 'replace', 'rfind', 'rindex', 'rjust', 'rpartition', 'rsplit', 'rstrip', 'split', 'splitlines', 'startswith', 'strip', 'swapcase', 'title', 'translate', 'upper', 'zfill']\n"
     ]
    }
   ],
   "source": [
    "h='hello world'\n",
    "print dir(h)"
   ]
  },
  {
   "cell_type": "markdown",
   "metadata": {},
   "source": [
    "* 객체의 함수를 사용하려면\n",
    "    * 점(dot operator)을 이용한다. 점의 왼쪽은 객체, 오른쪽은 함수 또는 속성\n",
    "    ```\n",
    "    객체.속성\n",
    "    객체.함수()\n",
    "    ```"
   ]
  },
  {
   "cell_type": "code",
   "execution_count": 14,
   "metadata": {
    "collapsed": false
   },
   "outputs": [
    {
     "name": "stdout",
     "output_type": "stream",
     "text": [
      "hello world to you\n",
      "<type 'str'>\n",
      "2\n",
      "HELLO WORLD\n"
     ]
    }
   ],
   "source": [
    "print h.__add__(' to you')\n",
    "print h.__class__\n",
    "print h.count('o')\n",
    "print h.upper()"
   ]
  },
  {
   "cell_type": "markdown",
   "metadata": {},
   "source": [
    "* 앞뒤에 언더스코어가 붙은 '\\__xxx___' 함수\n",
    "    * 기본 함수를 제공\n",
    "    * \\__str\\__() \\__repr\\__() 등\n",
    "\n",
    "\n",
    "요소 | 설명\n",
    "---|---\n",
    "\\__init__ | 생성자\n",
    "\\__dict__ | dict\n",
    "\\__doc__ | 도움말\n",
    "\\__name__ | 클래스 명\n",
    "\\__module__ | 모듈명\n",
    "\\__base__ | 하위클래스의 튜플\n"
   ]
  },
  {
   "cell_type": "markdown",
   "metadata": {},
   "source": [
    "* 객체로서의 Turtle\n",
    "    * turtle객체의 멤버함수를 출력해 본다.\n",
    "    * turtle이라는 클래스가 객체지향으로 만들어져 있어서, 멤버필드와 멤버함수를 가지고 있다."
   ]
  },
  {
   "cell_type": "code",
   "execution_count": 15,
   "metadata": {
    "collapsed": false,
    "scrolled": false
   },
   "outputs": [
    {
     "name": "stdout",
     "output_type": "stream",
     "text": [
      "['Canvas', 'Pen', 'RawPen', 'RawTurtle', 'Screen', 'ScrolledCanvas', 'Shape', 'TK', 'TNavigator', 'TPen', 'Tbuffer', 'Terminator', 'Turtle', 'TurtleGraphicsError', 'TurtleScreen', 'TurtleScreenBase', 'Vec2D', '_CFG', '_LANGUAGE', '_Root', '_Screen', '_TurtleImage', '__all__', '__builtins__', '__doc__', '__file__', '__forwardmethods', '__func_body', '__methodDict', '__methods', '__name__', '__package__', '__stringBody', '_alias_list', '_make_global_funcs', '_math_functions', '_screen_docrevise', '_tg_classes', '_tg_screen_functions', '_tg_turtle_functions', '_tg_utilities', '_turtle_docrevise', '_ver', 'acos', 'acosh', 'addshape', 'asin', 'asinh', 'atan', 'atan2', 'atanh', 'back', 'backward', 'begin_fill', 'begin_poly', 'bgcolor', 'bgpic', 'bk', 'bye', 'ceil', 'circle', 'clear', 'clearscreen', 'clearstamp', 'clearstamps', 'clone', 'color', 'colormode', 'config_dict', 'copysign', 'cos', 'cosh', 'deepcopy', 'degrees', 'delay', 'distance', 'done', 'dot', 'down', 'e', 'end_fill', 'end_poly', 'erf', 'erfc', 'exitonclick', 'exp', 'expm1', 'fabs', 'factorial', 'fd', 'fill', 'fillcolor', 'floor', 'fmod', 'forward', 'frexp', 'fsum', 'gamma', 'get_poly', 'getcanvas', 'getmethparlist', 'getpen', 'getscreen', 'getshapes', 'getturtle', 'goto', 'heading', 'hideturtle', 'home', 'ht', 'hypot', 'isdown', 'isfile', 'isinf', 'isnan', 'isvisible', 'join', 'ldexp', 'left', 'lgamma', 'listen', 'log', 'log10', 'log1p', 'lt', 'mainloop', 'math', 'mode', 'modf', 'onclick', 'ondrag', 'onkey', 'onrelease', 'onscreenclick', 'ontimer', 'os', 'pd', 'pen', 'pencolor', 'pendown', 'pensize', 'penup', 'pi', 'pos', 'position', 'pow', 'pu', 'radians', 'read_docstrings', 'readconfig', 'register_shape', 'reset', 'resetscreen', 'resizemode', 'right', 'rt', 'screensize', 'seth', 'setheading', 'setpos', 'setposition', 'settiltangle', 'setundobuffer', 'setup', 'setworldcoordinates', 'setx', 'sety', 'shape', 'shapesize', 'showturtle', 'sin', 'sinh', 'speed', 'split', 'sqrt', 'st', 'stamp', 'tan', 'tanh', 'tilt', 'tiltangle', 'time', 'title', 'towards', 'tracer', 'trunc', 'turtles', 'turtlesize', 'types', 'undo', 'undobufferentries', 'up', 'update', 'width', 'window_height', 'window_width', 'write', 'write_docstringdict', 'xcor', 'ycor']\n"
     ]
    }
   ],
   "source": [
    "import turtle\n",
    "print dir(turtle),"
   ]
  },
  {
   "cell_type": "markdown",
   "metadata": {},
   "source": [
    "### 14.2.4 클래스 처음으로 만들어보기\n",
    "\n",
    "* 가장 단순한 클래스를 만들어 본다.\n",
    "* 만드는 절차는:\n",
    "    * 클래스 이름을 정한다.\n",
    "        * 클래스는 명사중심으로 생각한다. 함수는 동사중심.\n",
    "        * 이름은 'Dog'으로 한다. Dog의 데이터는 이름 (무게, 생년도 대상이 될 수 있다).\n",
    "            ```\n",
    "            class 클래스이름\n",
    "            ```\n",
    "    * 클래스의 내용은 (가장 단순한 클래스이므로) 아무 것도 없는 것으로 한다."
   ]
  },
  {
   "cell_type": "code",
   "execution_count": 4,
   "metadata": {
    "collapsed": true
   },
   "outputs": [],
   "source": [
    "class Dog:\n",
    "    pass"
   ]
  },
  {
   "cell_type": "markdown",
   "metadata": {},
   "source": [
    "* 클래스를 사용가능하도록 등록한다.\n",
    "    * 프로그램을 실행가능하게 만든다.\n",
    "    * 컴파일한다 (CTRL+ENTER)\n",
    "* 사용하는 절차는:\n",
    "    * 객체를 만든다.\n",
    "        ```\n",
    "        객체이름 = 클래스\n",
    "        ```\n",
    "    * dot operator를 사용하여, 객체를 사용한다. 가장 단순한 클래스는 아무런 기능도 정의되어 있지 않아서 사용할 것이 없다."
   ]
  },
  {
   "cell_type": "code",
   "execution_count": 5,
   "metadata": {
    "collapsed": true
   },
   "outputs": [],
   "source": [
    "mydog=Dog()"
   ]
  },
  {
   "cell_type": "markdown",
   "metadata": {},
   "source": [
    "* 함수 하나 추가하기\n",
    "    * 클래스의 모든 함수에는 self를 적어준다. 그 이유는 적어주지 않으면 자신의 것이라고 알 수 없기 때문이다.\n",
    "        * self는 자신이라는 뜻이다 (자바에서는 this)\n",
    "        * 호출할 때는 self를 생략한다.\n",
    "    ```\n",
    "    class Dog():\n",
    "       def talk(self):\n",
    "    ```"
   ]
  },
  {
   "cell_type": "code",
   "execution_count": 11,
   "metadata": {
    "collapsed": false
   },
   "outputs": [],
   "source": [
    "class Dog:\n",
    "    def talk(self):\n",
    "        print \"mung mung\""
   ]
  },
  {
   "cell_type": "code",
   "execution_count": 9,
   "metadata": {
    "collapsed": false
   },
   "outputs": [
    {
     "name": "stdout",
     "output_type": "stream",
     "text": [
      "mung mung\n"
     ]
    }
   ],
   "source": [
    "mydog=Dog()\n",
    "mydog.talk()"
   ]
  },
  {
   "cell_type": "markdown",
   "metadata": {},
   "source": [
    "* 이름 추가하기\n",
    "    * 클래스가 태어날 때 가지고 있을 데이터를 넣어준다.\n",
    "        * \\__init__()\n",
    "            * 생성자 constructor\n",
    "            * 초기화\n",
    "        * \\__init__()함수에는 self와 이름을 넣어준다.\n",
    "            ```\n",
    "            class Dog():\n",
    "               def __init__(self,name):\n",
    "            ```\n",
    "        * 생성자를 만들지 않으면 기본생성자를 사용한다."
   ]
  },
  {
   "cell_type": "code",
   "execution_count": 12,
   "metadata": {
    "collapsed": false
   },
   "outputs": [],
   "source": [
    "class Dog:\n",
    "    def __init__(self,name):\n",
    "        self.name=name\n",
    "    def talk(self):\n",
    "        print self.name,\"mung mung\""
   ]
  },
  {
   "cell_type": "code",
   "execution_count": 13,
   "metadata": {
    "collapsed": false
   },
   "outputs": [
    {
     "name": "stdout",
     "output_type": "stream",
     "text": [
      "poppy mung mung\n"
     ]
    }
   ],
   "source": [
    "mydog=Dog('poppy')\n",
    "mydog.talk()"
   ]
  },
  {
   "cell_type": "markdown",
   "metadata": {},
   "source": [
    "### 객체-1: Dog객체를 만들어 이름을 출력한다.\n",
    "\n",
    "* Dog은 이름을 가지고 있다. 그 이름을 출력한다.\n",
    "* 프로그래밍하는 방식을 1) 함수, 2) 객체지향으로 구현하고, 비교한다.\n",
    "    * 객체지향으로 하면 어떻게 다른가?"
   ]
  },
  {
   "cell_type": "markdown",
   "metadata": {},
   "source": [
    "* 함수프로그램으로 만들어보기\n",
    "    * 함수프로그래밍은 getName()함수를 만들고, 매개변수에 이름을 넣어서 출력한다.\n",
    "    * 데이터(이름)과 함수(getName())이 서로 분리되어 있다."
   ]
  },
  {
   "cell_type": "code",
   "execution_count": 1,
   "metadata": {
    "collapsed": false,
    "scrolled": true
   },
   "outputs": [
    {
     "name": "stdout",
     "output_type": "stream",
     "text": [
      "my dog name is  poppy\n"
     ]
    }
   ],
   "source": [
    "def getName(name):\n",
    "    print \"my dog name is \",name\n",
    "\n",
    "mydogname='poppy'\n",
    "getName(mydogname)"
   ]
  },
  {
   "cell_type": "markdown",
   "metadata": {},
   "source": [
    "* 객체지향 프로그램으로 같은 기능을 구현한다.\n",
    "* 기능은 동일하지만 다른 방식으로 (명사중심) 프로그래밍 되었다. 즉 Dog이라는 명사, 그리고 Dog이 가지고 있는 함수 getName()\n",
    "    * 'poppy'문자열은 \\__init__함수로 가서 이름이 붙여진다.\n",
    "    * 그리고 getName()이 실행되면서 이름을 가져다가 출력한다.\n",
    "    \n",
    "* 이름과 이름을 출력하는 기능이 Dog객체에 있다.\n",
    "    * 이런 특징을 encapsulation이라고 한다. 데이터를 가지고 있는 소유자가 분명하며, 사용할 때는 소유한 객체를 통해서만이 가능한다."
   ]
  },
  {
   "cell_type": "code",
   "execution_count": 14,
   "metadata": {
    "collapsed": false
   },
   "outputs": [
    {
     "name": "stdout",
     "output_type": "stream",
     "text": [
      "my dog name is  poppy\n"
     ]
    }
   ],
   "source": [
    "# object may be omitted\n",
    "class Dog():\n",
    "    def __init__(self,name):\n",
    "        self.name=name\n",
    "    def getName(self):\n",
    "        print \"my dog name is \", self.name\n",
    "\n",
    "mydog=Dog('poppy')\n",
    "mydog.getName()"
   ]
  },
  {
   "cell_type": "markdown",
   "metadata": {},
   "source": [
    "## 14.3 상속\n",
    "\n",
    "* 객체지향의 상속은 부모-자식의 연관관계를 말한다. 즉 자식이 부모의 모든 것을 물려받는 관계이다.\n",
    "* 클래스의 부모를 인식해서, 상속체계를 만들어야 한다.\n",
    "    * object는 최상위 base class이다 (생략할 수도 있다.)\n",
    "        ```\n",
    "        class Dog(object):\n",
    "        ```"
   ]
  },
  {
   "cell_type": "code",
   "execution_count": 15,
   "metadata": {
    "collapsed": false
   },
   "outputs": [
    {
     "name": "stdout",
     "output_type": "stream",
     "text": [
      "my dog name is  poppy\n"
     ]
    }
   ],
   "source": [
    "# object may be omitted\n",
    "class Dog(object):\n",
    "    def __init__(self,name):\n",
    "        self.name=name\n",
    "    def getName(self):\n",
    "        print \"my dog name is \", self.name\n",
    "\n",
    "mydog=Dog('poppy')\n",
    "mydog.getName()"
   ]
  },
  {
   "cell_type": "markdown",
   "metadata": {},
   "source": [
    "* 거북이 클래스 만들어보기\n",
    "    * 괄호 안에 객체를 넣는다.\n",
    "        * object가 최상위 객체이지만, 우리가 만드려고 하는 객체의 상위객체는 거북이.\n",
    "        * turtle.Turtle -> 앞의 turtle은 라이브러리 이름\n",
    "    * super()는 상위클래스의 __init__를 호출하는 것과 동일\n"
   ]
  },
  {
   "cell_type": "markdown",
   "metadata": {},
   "source": [
    "* 함수프로그램"
   ]
  },
  {
   "cell_type": "code",
   "execution_count": null,
   "metadata": {
    "collapsed": true
   },
   "outputs": [],
   "source": [
    "import turtle\n",
    "\n",
    "def drawSquare():\n",
    "    for i in range(0,4):\n",
    "        turtle.fd(50)\n",
    "        turtle.right(90)\n",
    "drawSquare()"
   ]
  },
  {
   "cell_type": "markdown",
   "metadata": {
    "collapsed": true
   },
   "source": [
    "* 위 함수프로그램을 복사해서 객체지향으로 수정한다."
   ]
  },
  {
   "cell_type": "code",
   "execution_count": null,
   "metadata": {
    "collapsed": true
   },
   "outputs": [],
   "source": [
    "class SquareTurtle(turtle.Turtle):\n",
    "    def drawSquare():\n",
    "        for i in range(0,4):\n",
    "            turtle.fd(50)\n",
    "            turtle.right(90)"
   ]
  },
  {
   "cell_type": "code",
   "execution_count": 21,
   "metadata": {
    "collapsed": false
   },
   "outputs": [],
   "source": [
    "class SquareTurtle(turtle.Turtle):\n",
    "    def drawSquare(self):\n",
    "        for i in range(0,4):\n",
    "            self.fd(50)\n",
    "            self.right(90)\n",
    "t1=SquareTurtle()\n",
    "t1.drawSquare()"
   ]
  },
  {
   "cell_type": "markdown",
   "metadata": {},
   "source": [
    "* 함수를 하나 더 추가한다. 같은 방식으로 함수프로그램으로 작성한 후, 객체지향으로 변환한다."
   ]
  },
  {
   "cell_type": "code",
   "execution_count": null,
   "metadata": {
    "collapsed": true
   },
   "outputs": [],
   "source": [
    "def drawSquare(size):\n",
    "    for i in range(0,4):\n",
    "        turtle.fd(size)\n",
    "        turtle.right(90)"
   ]
  },
  {
   "cell_type": "code",
   "execution_count": 22,
   "metadata": {
    "collapsed": false
   },
   "outputs": [],
   "source": [
    "class SquareTurtle(turtle.Turtle):\n",
    "    def drawSquare(self):\n",
    "        for i in range(0,4):\n",
    "            self.fd(50)\n",
    "            self.right(90)\n",
    "    def drawSquare(self,size):\n",
    "        for i in range(0,4):\n",
    "            self.fd(size)\n",
    "            self.right(90)\n",
    "t1=SquareTurtle()\n",
    "t1.drawSquare(100)"
   ]
  },
  {
   "cell_type": "markdown",
   "metadata": {},
   "source": [
    "* 재정의하지 않으면 상위클래스 함수를 호출\n",
    "    * pass는 아무 것도 정의하지 않는 경우"
   ]
  },
  {
   "cell_type": "code",
   "execution_count": 27,
   "metadata": {
    "collapsed": false
   },
   "outputs": [
    {
     "name": "stdout",
     "output_type": "stream",
     "text": [
      "This is a dog\n",
      "This is a dog\n"
     ]
    }
   ],
   "source": [
    "class Dog(object):\n",
    "    def show(self):\n",
    "        print \"This is a dog\"\n",
    "\n",
    "class Peg(Dog):\n",
    "    pass\n",
    "\n",
    "mydog = Dog()\n",
    "mypeg = Peg()\n",
    "\n",
    "mydog.show()\n",
    "mypeg.show()"
   ]
  },
  {
   "cell_type": "markdown",
   "metadata": {
    "collapsed": true
   },
   "source": [
    "* 상속에서의 overloading"
   ]
  },
  {
   "cell_type": "code",
   "execution_count": null,
   "metadata": {
    "collapsed": true
   },
   "outputs": [],
   "source": [
    "t2=SquareTurtle()\n",
    "t2.drawSquare(100)"
   ]
  },
  {
   "cell_type": "markdown",
   "metadata": {},
   "source": [
    "* override\n",
    "    * 같은 이름으로 함수를 만들 수 있다.\n",
    "\n",
    "* decorating"
   ]
  },
  {
   "cell_type": "code",
   "execution_count": 1,
   "metadata": {
    "collapsed": false
   },
   "outputs": [
    {
     "name": "stdout",
     "output_type": "stream",
     "text": [
      "PARENT override()\n",
      "CHILD override()\n"
     ]
    }
   ],
   "source": [
    "class Parent(object):\n",
    "    def show(self):\n",
    "        print \"PARENT override()\"\n",
    "\n",
    "class Child(Parent):\n",
    "    def show(self):\n",
    "        print \"CHILD override()\"\n",
    "\n",
    "dad = Parent()\n",
    "son = Child()\n",
    "\n",
    "dad.show()\n",
    "son.show()\n",
    "class Parent(object):\n",
    "    def altered(self):\n",
    "        print \"PARENT altered()\""
   ]
  },
  {
   "cell_type": "code",
   "execution_count": 2,
   "metadata": {
    "collapsed": false
   },
   "outputs": [
    {
     "name": "stdout",
     "output_type": "stream",
     "text": [
      "PARENT altered()\n",
      "CHILD, BEFORE PARENT altered()\n",
      "PARENT altered()\n",
      "CHILD, AFTER PARENT altered()\n"
     ]
    }
   ],
   "source": [
    "class Child(Parent):\n",
    "\n",
    "    def altered(self):\n",
    "        print \"CHILD, BEFORE PARENT altered()\"\n",
    "        super(Child, self).altered()\n",
    "        print \"CHILD, AFTER PARENT altered()\"\n",
    "\n",
    "dad = Parent()\n",
    "son = Child()\n",
    "\n",
    "dad.altered()\n",
    "son.altered()"
   ]
  },
  {
   "cell_type": "markdown",
   "metadata": {
    "collapsed": true
   },
   "source": [
    "### 객체-2: Dog객체를 만들고, 다른 종은 다르게 말하는 프로그램을 구현한다.\n",
    "\n",
    "* 상속을 이용해서 ShiTzu, Maltese를 만든다.\n",
    "* 다른 종에 대해 talk()함수를 다르게 구현한다.\n",
    "* 프로그래밍요소\n",
    "    * 상속\n",
    "    * 생성자\n",
    "    * 다형성"
   ]
  },
  {
   "cell_type": "code",
   "execution_count": 1,
   "metadata": {
    "collapsed": false
   },
   "outputs": [
    {
     "name": "stdout",
     "output_type": "stream",
     "text": [
      "my dog name is  poppy\n",
      "mung mung\n"
     ]
    }
   ],
   "source": [
    "# object may be omitted\n",
    "class Dog(object):\n",
    "    def __init__(self,name):\n",
    "        self.name=name\n",
    "    def getName(self):\n",
    "        print \"my dog name is \", self.name\n",
    "    def talk(self):\n",
    "        print \"mung mung\"\n",
    "\n",
    "mydog=Dog('poppy')\n",
    "mydog.getName()\n",
    "mydog.talk()"
   ]
  },
  {
   "cell_type": "code",
   "execution_count": 3,
   "metadata": {
    "collapsed": false
   },
   "outputs": [
    {
     "name": "stdout",
     "output_type": "stream",
     "text": [
      "Lively, Outgoing, Playful, Alert, Gentle, Loyal\n",
      "Lively, Devoted, Alert, Quick, Courageous\n"
     ]
    }
   ],
   "source": [
    "class ShihTzuDog(Dog):\n",
    "    def talk(self):\n",
    "        print \"Lively, Outgoing, Playful, Alert, Gentle, Loyal\"\n",
    "\n",
    "class Maltese(Dog):\n",
    "    def talk(self):\n",
    "        print \"Lively, Playful, Easygoing, Gentle, Docile\"\n",
    "\n",
    "class Chihuahua(Dog):\n",
    "    def talk(self):\n",
    "        print \"Lively, Devoted, Alert, Quick, Courageous\"\n",
    "\n",
    "roo=ShihTzuDog(mydog)\n",
    "roo.talk()\n",
    "sal=Chihuahua(mydog)\n",
    "sal.talk()"
   ]
  },
  {
   "cell_type": "markdown",
   "metadata": {},
   "source": [
    "## 14.5 캡슐화\n",
    "\n",
    "* python은 가시성을 private를 지원\n",
    "* 속성, 함수에 __를 붙인다. -> private\n",
    "* 객체명.클래스명\\_속성명\n",
    "    ```\n",
    "    print mydog._Dog__birth\n",
    "    ```"
   ]
  },
  {
   "cell_type": "code",
   "execution_count": 41,
   "metadata": {
    "collapsed": false
   },
   "outputs": [
    {
     "name": "stdout",
     "output_type": "stream",
     "text": [
      "poppy\n",
      "poppy\n",
      "111\n",
      "2016\n"
     ]
    }
   ],
   "source": [
    "# object may be omitted\n",
    "class Dog(object):\n",
    "    def __init__(self,name):\n",
    "        self.name=name ##public\n",
    "        self.__birth=2016 ## private\n",
    "        self._this=111 ## protected\n",
    "\n",
    "mydog=Dog('poppy')\n",
    "print mydog.name\n",
    "mydog._name='puppy'\n",
    "print mydog.name\n",
    "\n",
    "\n",
    "print mydog._this\n",
    "#print mydog.__birth\n",
    "print mydog._Dog__birth"
   ]
  },
  {
   "cell_type": "markdown",
   "metadata": {},
   "source": [
    "## 14.6 다형성\n"
   ]
  },
  {
   "cell_type": "markdown",
   "metadata": {},
   "source": [
    "## 14.7 상속과 연관"
   ]
  },
  {
   "cell_type": "code",
   "execution_count": null,
   "metadata": {
    "collapsed": true
   },
   "outputs": [],
   "source": [
    " class Other(object):\n",
    "\n",
    "    def override(self):\n",
    "        print \"OTHER override()\"\n",
    "\n",
    "    def implicit(self):\n",
    "        print \"OTHER implicit()\"\n",
    "\n",
    "    def altered(self):\n",
    "        print \"OTHER altered()\"\n",
    "\n",
    "class Child(object):\n",
    "\n",
    "    def __init__(self):\n",
    "        self.other = Other()\n",
    "\n",
    "    def implicit(self):\n",
    "        self.other.implicit()\n",
    "\n",
    "    def override(self):\n",
    "        print \"CHILD override()\"\n",
    "\n",
    "    def altered(self):\n",
    "        print \"CHILD, BEFORE OTHER altered()\"\n",
    "        self.other.altered()\n",
    "        print \"CHILD, AFTER OTHER altered()\"\n",
    "\n",
    "son = Child()\n",
    "\n",
    "son.implicit()\n",
    "son.override()\n",
    "son.altered()"
   ]
  },
  {
   "cell_type": "code",
   "execution_count": 3,
   "metadata": {
    "collapsed": false
   },
   "outputs": [
    {
     "name": "stdout",
     "output_type": "stream",
     "text": [
      "m1\n",
      "None\n",
      "m2\n",
      "None\n"
     ]
    }
   ],
   "source": [
    "# Mini tutorial: binding methods to an existing class\n",
    "class A:\n",
    "  def m1(self):\n",
    "    print \"m1\"\n",
    "\n",
    "def m2(self):\n",
    "  print \"m2\"\n",
    "\n",
    "a = A()\n",
    "A.m2=m2\n",
    "print a.m1()\n",
    "print a.m2()"
   ]
  }
 ],
 "metadata": {
  "kernelspec": {
   "display_name": "Python 2",
   "language": "python",
   "name": "python2"
  },
  "language_info": {
   "codemirror_mode": {
    "name": "ipython",
    "version": 2
   },
   "file_extension": ".py",
   "mimetype": "text/x-python",
   "name": "python",
   "nbconvert_exporter": "python",
   "pygments_lexer": "ipython2",
   "version": "2.7.10"
  }
 },
 "nbformat": 4,
 "nbformat_minor": 0
}
