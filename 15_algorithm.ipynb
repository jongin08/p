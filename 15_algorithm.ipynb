{
 "cells": [
  {
   "cell_type": "markdown",
   "metadata": {},
   "source": [
    "# 알고리즘 algorithm\n",
    "\n",
    "## 가. 학습내용\n",
    "\n",
    "### 1) 목표\n",
    "\n",
    "* 문제를 푸는 체계적인 방법으로, 시작과 끝이 있고, 명령문으로 구성된다.\n",
    "* 좋은 알고리즘은 1) 명령문이 최소한으로 수행될 수 있고, 2) 저장공간을 효율적으로 사용하도록 만들어져야 한다.\n",
    "    * profiling을 통해 (파이썬 함수 timeit를 이용), 수행시간을 측정할 수 있다.\n",
    "\n",
    "### 2) 문제\n",
    "\n",
    "* 알고리즘-1: 배열에서 최대/최소 값 찾기\n",
    "    * min/max\n",
    "    * 2nd min/max\n",
    "* 알고리즘-2: linear search\n",
    "    * sentinel search\n",
    "* 알고리즘-3: binary search\n",
    "* 알고리즘-4: selection sort\n",
    "* 알고리즘-5: insertion sort\n",
    "* 알고리즘-6: bubble sort\n",
    "* 알고리즘-7: sine, cos\n",
    "* 알고리즘-8: sierpinski\n",
    "* 알고리즘-9: algorithmic 삼각형\n",
    "* 거북이 도형복사\n",
    "* 거북이 도형이동\n",
    "* 거북이 도형미러링\n",
    "* fitting\n",
    "* 그래프 그리기\n",
    "* 그린 도형을 다시 불러서 그리기\n",
    "\n",
    "* merge sort -> no\n",
    "* factorial -> no\n",
    "\n",
    "### 3) 과제\n",
    "\n",
    "* 무작위로 1~1000 사이의 수를 100개 정도 생성하고, 빠른 정렬 알고리듬 개발"
   ]
  },
  {
   "cell_type": "code",
   "execution_count": 2,
   "metadata": {
    "collapsed": false
   },
   "outputs": [
    {
     "name": "stdout",
     "output_type": "stream",
     "text": [
      "Installed plantuml_magics.py. To use it, type:\n",
      "  %load_ext plantuml_magics\n"
     ]
    }
   ],
   "source": [
    "%install_ext https://raw.githubusercontent.com/sberke/ipython-plantuml/master/plantuml_magics.py"
   ]
  },
  {
   "cell_type": "code",
   "execution_count": 3,
   "metadata": {
    "collapsed": false
   },
   "outputs": [],
   "source": [
    "%load_ext plantuml_magics"
   ]
  },
  {
   "cell_type": "code",
   "execution_count": 4,
   "metadata": {
    "collapsed": false
   },
   "outputs": [
    {
     "data": {
      "text/plain": [
       "['./plantuml.jar']"
      ]
     },
     "execution_count": 4,
     "metadata": {},
     "output_type": "execute_result"
    }
   ],
   "source": [
    "import glob\n",
    "glob.glob(r'./*.jar')"
   ]
  },
  {
   "cell_type": "code",
   "execution_count": 4,
   "metadata": {
    "collapsed": false
   },
   "outputs": [
    {
     "name": "stdout",
     "output_type": "stream",
     "text": [
      "/opt/local/bin/dot\r\n"
     ]
    }
   ],
   "source": [
    "# 아래 결과가 /usr/bin/dot이면 경로 설정 불필요\n",
    "!which dot"
   ]
  },
  {
   "cell_type": "code",
   "execution_count": 5,
   "metadata": {
    "collapsed": false
   },
   "outputs": [
    {
     "name": "stdout",
     "output_type": "stream",
     "text": [
      "/opt/local/bin/dot\n",
      "The environment variable GRAPHVIZ_DOT has been set to /opt/local/bin/dot\n",
      "Dot executable is /opt/local/bin/dot\n",
      "Dot version: dot - graphviz version 2.38.0 (20140413.2041)\n",
      "Installation seems OK. File generation OK\n"
     ]
    }
   ],
   "source": [
    "import os\n",
    "os.environ['GRAPHVIZ_DOT']='/opt/local/bin/dot'\n",
    "print os.environ['GRAPHVIZ_DOT']\n",
    "!java -jar plantuml.jar -testdot"
   ]
  },
  {
   "cell_type": "markdown",
   "metadata": {},
   "source": [
    "## 알고리즘-1: 배열에서 최대 값, 최소 값 찾기\n",
    "\n",
    "* 임의로 최소(최대) 기준 값을 정하고, 처음 값부터 비교해서 크면(작으면) 교체하는 방식 \n",
    "* 관련문제 - 2번째 최대, 최소값은?\n",
    "    * 최대/최소 값을 찾으면서 동시에 2번째 값으로 설정 (우리는 이것으로 함)\n",
    "    * 최대 값을 remove한 자료를 만들고, 그 자료에서 최대/최소 값을 찾음\n",
    "    * 정렬하고 최대/최소 2개를 가져옴"
   ]
  },
  {
   "cell_type": "code",
   "execution_count": 9,
   "metadata": {
    "collapsed": false
   },
   "outputs": [
    {
     "data": {
      "image/svg+xml": [
       "<svg height=\"315px\" style=\"width:383px;height:315px;\" version=\"1.1\" viewBox=\"0 0 383 315\" width=\"383px\" xmlns=\"http://www.w3.org/2000/svg\" xmlns:xlink=\"http://www.w3.org/1999/xlink\"><defs><filter height=\"300%\" id=\"f1\" width=\"300%\" x=\"-1\" y=\"-1\"><feGaussianBlur result=\"blurOut\" stdDeviation=\"2.0\"/><feColorMatrix in=\"blurOut\" result=\"blurOut2\" type=\"matrix\" values=\"0 0 0 0 0 0 0 0 0 0 0 0 0 0 0 0 0 0 .4 0\"/><feOffset dx=\"4.0\" dy=\"4.0\" in=\"blurOut2\" result=\"blurOut3\"/><feBlend in=\"SourceGraphic\" in2=\"blurOut3\" mode=\"normal\"/></filter></defs><g><ellipse cx=\"219\" cy=\"20\" fill=\"#000000\" filter=\"url(#f1)\" rx=\"10\" ry=\"10\" style=\"stroke: none; stroke-width: 1.0;\"/><rect fill=\"#FEFECE\" filter=\"url(#f1)\" height=\"34.1328\" rx=\"12.5\" ry=\"12.5\" style=\"stroke: #A80036; stroke-width: 1.5;\" width=\"140\" x=\"149\" y=\"50\"/><text fill=\"#000000\" font-family=\"sans-serif\" font-size=\"12\" lengthAdjust=\"spacingAndGlyphs\" textLength=\"120\" x=\"159\" y=\"71.6016\">initialize the smallest</text><polygon fill=\"#FEFECE\" filter=\"url(#f1)\" points=\"119,148.1328,319,148.1328,331,160.1328,319,172.1328,119,172.1328,107,160.1328,119,148.1328\" style=\"stroke: #A80036; stroke-width: 1.5;\"/><text fill=\"#000000\" font-family=\"sans-serif\" font-size=\"11\" lengthAdjust=\"spacingAndGlyphs\" textLength=\"200\" x=\"119\" y=\"164.29\">each number is less than the smallest</text><rect fill=\"#FEFECE\" filter=\"url(#f1)\" height=\"34.1328\" rx=\"12.5\" ry=\"12.5\" style=\"stroke: #A80036; stroke-width: 1.5;\" width=\"122\" x=\"36\" y=\"182.1328\"/><text fill=\"#000000\" font-family=\"sans-serif\" font-size=\"12\" lengthAdjust=\"spacingAndGlyphs\" textLength=\"102\" x=\"46\" y=\"203.7344\">smallest=number</text><polygon fill=\"#FEFECE\" filter=\"url(#f1)\" points=\"219,222.2656,231,234.2656,219,246.2656,207,234.2656,219,222.2656\" style=\"stroke: #A80036; stroke-width: 1.5;\"/><polygon fill=\"#FEFECE\" filter=\"url(#f1)\" points=\"180.5,104.1328,257.5,104.1328,269.5,116.1328,257.5,128.1328,180.5,128.1328,168.5,116.1328,180.5,104.1328\" style=\"stroke: #A80036; stroke-width: 1.5;\"/><text fill=\"#000000\" font-family=\"sans-serif\" font-size=\"11\" lengthAdjust=\"spacingAndGlyphs\" textLength=\"77\" x=\"180.5\" y=\"120.29\">i=0..last index</text><ellipse cx=\"219\" cy=\"298.2656\" fill=\"none\" filter=\"url(#f1)\" rx=\"10\" ry=\"10\" style=\"stroke: #000000; stroke-width: 1.0;\"/><ellipse cx=\"219.5\" cy=\"298.7656\" fill=\"#000000\" filter=\"url(#f1)\" rx=\"6\" ry=\"6\" style=\"stroke: none; stroke-width: 1.0;\"/><line style=\"stroke: #A80036; stroke-width: 1.5;\" x1=\"219\" x2=\"219\" y1=\"30\" y2=\"50\"/><polygon fill=\"#A80036\" points=\"215,40,219,50,223,40,219,44\" style=\"stroke: #A80036; stroke-width: 1.0;\"/><line style=\"stroke: #A80036; stroke-width: 1.5;\" x1=\"107\" x2=\"97\" y1=\"160.1328\" y2=\"160.1328\"/><line style=\"stroke: #A80036; stroke-width: 1.5;\" x1=\"97\" x2=\"97\" y1=\"160.1328\" y2=\"182.1328\"/><polygon fill=\"#A80036\" points=\"93,172.1328,97,182.1328,101,172.1328,97,176.1328\" style=\"stroke: #A80036; stroke-width: 1.0;\"/><line style=\"stroke: #A80036; stroke-width: 1.5;\" x1=\"331\" x2=\"341\" y1=\"160.1328\" y2=\"160.1328\"/><polygon fill=\"#A80036\" points=\"337,187.1992,341,197.1992,345,187.1992,341,191.1992\" style=\"stroke: #A80036; stroke-width: 1.5;\"/><line style=\"stroke: #A80036; stroke-width: 1.5;\" x1=\"341\" x2=\"341\" y1=\"160.1328\" y2=\"234.2656\"/><line style=\"stroke: #A80036; stroke-width: 1.5;\" x1=\"341\" x2=\"231\" y1=\"234.2656\" y2=\"234.2656\"/><polygon fill=\"#A80036\" points=\"241,230.2656,231,234.2656,241,238.2656,237,234.2656\" style=\"stroke: #A80036; stroke-width: 1.0;\"/><line style=\"stroke: #A80036; stroke-width: 1.5;\" x1=\"97\" x2=\"97\" y1=\"216.2656\" y2=\"234.2656\"/><line style=\"stroke: #A80036; stroke-width: 1.5;\" x1=\"97\" x2=\"207\" y1=\"234.2656\" y2=\"234.2656\"/><polygon fill=\"#A80036\" points=\"197,230.2656,207,234.2656,197,238.2656,201,234.2656\" style=\"stroke: #A80036; stroke-width: 1.0;\"/><line style=\"stroke: #A80036; stroke-width: 1.5;\" x1=\"219\" x2=\"219\" y1=\"128.1328\" y2=\"148.1328\"/><polygon fill=\"#A80036\" points=\"215,138.1328,219,148.1328,223,138.1328,219,142.1328\" style=\"stroke: #A80036; stroke-width: 1.0;\"/><line style=\"stroke: #A80036; stroke-width: 1.5;\" x1=\"219\" x2=\"219\" y1=\"246.2656\" y2=\"256.2656\"/><line style=\"stroke: #A80036; stroke-width: 1.5;\" x1=\"219\" x2=\"378\" y1=\"256.2656\" y2=\"256.2656\"/><polygon fill=\"#A80036\" points=\"374,195.1992,378,185.1992,382,195.1992,378,191.1992\" style=\"stroke: #A80036; stroke-width: 1.5;\"/><line style=\"stroke: #A80036; stroke-width: 1.5;\" x1=\"378\" x2=\"378\" y1=\"116.1328\" y2=\"256.2656\"/><line style=\"stroke: #A80036; stroke-width: 1.5;\" x1=\"378\" x2=\"269.5\" y1=\"116.1328\" y2=\"116.1328\"/><polygon fill=\"#A80036\" points=\"279.5,112.1328,269.5,116.1328,279.5,120.1328,275.5,116.1328\" style=\"stroke: #A80036; stroke-width: 1.0;\"/><line style=\"stroke: #A80036; stroke-width: 1.5;\" x1=\"168.5\" x2=\"14\" y1=\"116.1328\" y2=\"116.1328\"/><polygon fill=\"#A80036\" points=\"10,181.1992,14,191.1992,18,181.1992,14,185.1992\" style=\"stroke: #A80036; stroke-width: 1.5;\"/><line style=\"stroke: #A80036; stroke-width: 1.5;\" x1=\"14\" x2=\"14\" y1=\"116.1328\" y2=\"268.2656\"/><line style=\"stroke: #A80036; stroke-width: 1.5;\" x1=\"14\" x2=\"219\" y1=\"268.2656\" y2=\"268.2656\"/><line style=\"stroke: #A80036; stroke-width: 1.5;\" x1=\"219\" x2=\"219\" y1=\"268.2656\" y2=\"288.2656\"/><polygon fill=\"#A80036\" points=\"215,278.2656,219,288.2656,223,278.2656,219,282.2656\" style=\"stroke: #A80036; stroke-width: 1.0;\"/><line style=\"stroke: #A80036; stroke-width: 1.5;\" x1=\"219\" x2=\"219\" y1=\"84.1328\" y2=\"104.1328\"/><polygon fill=\"#A80036\" points=\"215,94.1328,219,104.1328,223,94.1328,219,98.1328\" style=\"stroke: #A80036; stroke-width: 1.0;\"/></g></svg>"
      ],
      "text/plain": [
       "<IPython.core.display.SVG object>"
      ]
     },
     "execution_count": 9,
     "metadata": {},
     "output_type": "execute_result"
    }
   ],
   "source": [
    "%%plantuml\n",
    "@startuml\n",
    "start\n",
    ":initialize the smallest;\n",
    "while(i=0..last index)\n",
    "if (each number is less than the smallest)\n",
    ":smallest=number;\n",
    "endif\n",
    "endwhile\n",
    "stop\n",
    "@enduml"
   ]
  },
  {
   "cell_type": "code",
   "execution_count": 8,
   "metadata": {
    "collapsed": false
   },
   "outputs": [
    {
     "name": "stdout",
     "output_type": "stream",
     "text": [
      "comparing the smallest:9999 with element:5\n",
      "\treplacing the smallest:9999 by 5\n",
      "comparing the smallest:5 with element:4\n",
      "\treplacing the smallest:5 by 4\n",
      "comparing the smallest:4 with element:2\n",
      "\treplacing the smallest:4 by 2\n",
      "comparing the smallest:2 with element:6\n",
      "comparing the smallest:2 with element:3\n",
      "Found the smallest:  2\n"
     ]
    }
   ],
   "source": [
    "x=[5,4,2,6,3]\n",
    "smallest=9999\n",
    "for i in x:\n",
    "    print \"comparing the smallest:{0} with element:{1}\".format(smallest,i)\n",
    "    if i<smallest:\n",
    "        print \"\\treplacing the smallest:{0} by {1}\".format(smallest,i)\n",
    "        smallest=i\n",
    "print \"Found the smallest: \",smallest"
   ]
  },
  {
   "cell_type": "markdown",
   "metadata": {},
   "source": [
    "### 초기 값 smallest의 선택\n",
    "\n",
    "* 임의로 큰 기준 값 (앞의 예와 같이)\n",
    "* member 첫 번째 값으로 -> 이 값은 반복에서 제외\n",
    "* 무한대 값으로 'inf'"
   ]
  },
  {
   "cell_type": "code",
   "execution_count": 10,
   "metadata": {
    "collapsed": false
   },
   "outputs": [
    {
     "name": "stdout",
     "output_type": "stream",
     "text": [
      "comparing the smallest:5 with element:5\n",
      "comparing the smallest:5 with element:4\n",
      "\treplacing the smallest:5 by 4\n",
      "comparing the smallest:4 with element:2\n",
      "\treplacing the smallest:4 by 2\n",
      "comparing the smallest:2 with element:6\n",
      "comparing the smallest:2 with element:3\n",
      "Found the smallest:  2\n"
     ]
    }
   ],
   "source": [
    "x=[5,4,2,6,3]\n",
    "smallest=x[0]\n",
    "#smallest='inf'\n",
    "for i in x[1:]:\n",
    "    print \"comparing the smallest:{0} with element:{1}\".format(smallest,i)\n",
    "    if i<smallest:\n",
    "        print \"\\treplacing the smallest:{0} by {1}\".format(smallest,i)\n",
    "        smallest=i\n",
    "print \"Found the smallest: \",smallest"
   ]
  },
  {
   "cell_type": "code",
   "execution_count": 53,
   "metadata": {
    "collapsed": false
   },
   "outputs": [
    {
     "name": "stdout",
     "output_type": "stream",
     "text": [
      "x:5<=s1:inf\t\t5 inf\n",
      "x:4<=s1:5\t\t4 5\n",
      "x:2<=s1:4\t\t2 4\n",
      "x:3<s2:4\t\t2 3\n",
      "(2, 3)\n"
     ]
    }
   ],
   "source": [
    "def find2Smallest(data):\n",
    "    #s1, s2 = float('inf'), float('inf')\n",
    "    s1='inf'\n",
    "    s2='inf'\n",
    "    for x in data:\n",
    "        if x <= s1:\n",
    "            print \"x:{0}<=s1:{1}\\t\".format(x,s1),\n",
    "            s1, s2 = x, s1\n",
    "            print \"\\t\",s1,s2\n",
    "        elif x < s2:\n",
    "            print \"x:{0}<s2:{1}\\t\".format(x,s2),\n",
    "            s2 = x\n",
    "            print \"\\t\",s1,s2\n",
    "    return (s1,s2)\n",
    "print find2Smallest([5,4,2,6,3])"
   ]
  },
  {
   "cell_type": "markdown",
   "metadata": {},
   "source": [
    "### 학생의 풀이\n",
    "\n",
    "* 최대값을 구하고 이를 데이터에서 제외하고 푸는 방식\n",
    "* 앞의 풀이에 비해 for문을 2회 수행한다는 단점"
   ]
  },
  {
   "cell_type": "code",
   "execution_count": 1,
   "metadata": {
    "collapsed": false
   },
   "outputs": [
    {
     "data": {
      "text/plain": [
       "7"
      ]
     },
     "execution_count": 1,
     "metadata": {},
     "output_type": "execute_result"
    }
   ],
   "source": [
    "def max1(data):\n",
    "    max = 0\n",
    "    for x in data:\n",
    "        if x > max:\n",
    "            max = x\n",
    "    return max\n",
    "\n",
    "def max2nd(data):\n",
    "    max1st = max1(data)\n",
    "    max = 0\n",
    "    for x in data:\n",
    "        if x > max and x != max1st:\n",
    "            max = x\n",
    "    return max\n",
    "arr = [2,5,1,7,9]\n",
    "max2nd(arr)"
   ]
  },
  {
   "cell_type": "markdown",
   "metadata": {},
   "source": [
    "### profiling\n",
    "\n",
    "* 알고리듬은 얼마나 빠르게 처리하는지 중요\n",
    "* if문, for문 등 연산이 추가되면 속도가 당연히 느려진다."
   ]
  },
  {
   "cell_type": "code",
   "execution_count": 3,
   "metadata": {
    "collapsed": false
   },
   "outputs": [
    {
     "name": "stdout",
     "output_type": "stream",
     "text": [
      "1000000 loops, best of 3: 803 ns per loop\n",
      " "
     ]
    }
   ],
   "source": [
    "%timeit findMin([5,4,2,6,3])\n",
    "%prun findMin([5,4,2,6,3])"
   ]
  },
  {
   "cell_type": "code",
   "execution_count": 32,
   "metadata": {
    "collapsed": false
   },
   "outputs": [
    {
     "name": "stdout",
     "output_type": "stream",
     "text": [
      "5050\n",
      "100000 loops, best of 3: 6.48 µs per loop\n",
      "10000 loops, best of 3: 59.5 µs per loop\n",
      "100000 loops, best of 3: 17.7 µs per loop\n",
      "10000 loops, best of 3: 28.2 µs per loop\n"
     ]
    }
   ],
   "source": [
    "def sum(fr,to):\n",
    "    sum=0\n",
    "    for i in range(fr,to+1):\n",
    "        sum+=i\n",
    "    return sum\n",
    "\n",
    "def sumStupid(fr,to):\n",
    "    sum=0\n",
    "    for i in range(fr,to+1):\n",
    "        if i%2==0:\n",
    "            sum+=i\n",
    "        else:\n",
    "            sum+=i\n",
    "    return sum\n",
    "def sumStupid2(fr,to):\n",
    "    sum=0\n",
    "    for i in range(fr,to+1):\n",
    "        if i%2==0:\n",
    "            sum+=i\n",
    "    for i in range(fr,to+1):\n",
    "        if i%2!=0:\n",
    "            sum+=i\n",
    "    return sum\n",
    "\n",
    "%timeit sum(1,100)\n",
    "%timeit sum(1,1000)\n",
    "%timeit sumStupid(1,100)\n",
    "%timeit sumStupid2(1,100)\n",
    "\n"
   ]
  },
  {
   "cell_type": "markdown",
   "metadata": {},
   "source": [
    "## 알고리즘-2: Linear Search\n",
    "\n",
    "* 번호가 적힌 공이 일렬로 세워져 있다고 가정하고, 번호를 찾는 문제\n",
    "    1. 찾는 번호를 정한다\n",
    "    2. 맨 왼쪽 공1과 찾는 번호를 비교한다.\n",
    "    3. 다음 공2와 비교한다.\n",
    "    4. 찾지 못하면 다음 공과 비교한다.\n",
    "    5. 찾을 때까지 계속한다.\n",
    "* 입출력\n",
    "    * 입력: unordered or ordered data\n",
    "    * 출력: boolean(Y/N) or index (찾는 값이 몇 번째 있는지 반환)\n",
    "* index 추적\n",
    "    * for문에서 몇 번째인지 추적하는 인덱스\n",
    "    * enumerate를 사용하면 값과 인덱스를 추적\n",
    "* 찾는 값과 일치되는 값이 없는 경우, 별도 처리 필요함."
   ]
  },
  {
   "cell_type": "code",
   "execution_count": 11,
   "metadata": {
    "collapsed": false
   },
   "outputs": [
    {
     "data": {
      "image/svg+xml": [
       "<svg height=\"369px\" style=\"width:244px;height:369px;\" version=\"1.1\" viewBox=\"0 0 244 369\" width=\"244px\" xmlns=\"http://www.w3.org/2000/svg\" xmlns:xlink=\"http://www.w3.org/1999/xlink\"><defs><filter height=\"300%\" id=\"f1\" width=\"300%\" x=\"-1\" y=\"-1\"><feGaussianBlur result=\"blurOut\" stdDeviation=\"2.0\"/><feColorMatrix in=\"blurOut\" result=\"blurOut2\" type=\"matrix\" values=\"0 0 0 0 0 0 0 0 0 0 0 0 0 0 0 0 0 0 .4 0\"/><feOffset dx=\"4.0\" dy=\"4.0\" in=\"blurOut2\" result=\"blurOut3\"/><feBlend in=\"SourceGraphic\" in2=\"blurOut3\" mode=\"normal\"/></filter></defs><g><ellipse cx=\"151.75\" cy=\"20\" fill=\"#000000\" filter=\"url(#f1)\" rx=\"10\" ry=\"10\" style=\"stroke: none; stroke-width: 1.0;\"/><rect fill=\"#FEFECE\" filter=\"url(#f1)\" height=\"34.1328\" rx=\"12.5\" ry=\"12.5\" style=\"stroke: #A80036; stroke-width: 1.5;\" width=\"85\" x=\"109.25\" y=\"94\"/><text fill=\"#000000\" font-family=\"sans-serif\" font-size=\"12\" lengthAdjust=\"spacingAndGlyphs\" textLength=\"65\" x=\"119.25\" y=\"115.6016\">get an item</text><polygon fill=\"#FEFECE\" filter=\"url(#f1)\" points=\"135.75,148.1328,167.75,148.1328,179.75,160.1328,167.75,172.1328,135.75,172.1328,123.75,160.1328,135.75,148.1328\" style=\"stroke: #A80036; stroke-width: 1.5;\"/><text fill=\"#000000\" font-family=\"sans-serif\" font-size=\"11\" lengthAdjust=\"spacingAndGlyphs\" textLength=\"32\" x=\"135.75\" y=\"164.29\">found</text><rect fill=\"#FEFECE\" filter=\"url(#f1)\" height=\"34.1328\" rx=\"12.5\" ry=\"12.5\" style=\"stroke: #A80036; stroke-width: 1.5;\" width=\"131\" x=\"36\" y=\"182.1328\"/><text fill=\"#000000\" font-family=\"sans-serif\" font-size=\"12\" lengthAdjust=\"spacingAndGlyphs\" textLength=\"111\" x=\"46\" y=\"203.7344\">set index of 'found'</text><polygon fill=\"#FEFECE\" filter=\"url(#f1)\" points=\"151.75,222.2656,163.75,234.2656,151.75,246.2656,139.75,234.2656,151.75,222.2656\" style=\"stroke: #A80036; stroke-width: 1.5;\"/><polygon fill=\"#FEFECE\" filter=\"url(#f1)\" points=\"124.75,50,178.75,50,190.75,62,178.75,74,124.75,74,112.75,62,124.75,50\" style=\"stroke: #A80036; stroke-width: 1.5;\"/><text fill=\"#000000\" font-family=\"sans-serif\" font-size=\"11\" lengthAdjust=\"spacingAndGlyphs\" textLength=\"54\" x=\"124.75\" y=\"66.1572\">more item</text><rect fill=\"#FEFECE\" filter=\"url(#f1)\" height=\"34.1328\" rx=\"12.5\" ry=\"12.5\" style=\"stroke: #A80036; stroke-width: 1.5;\" width=\"83\" x=\"110.25\" y=\"288.2656\"/><text fill=\"#000000\" font-family=\"sans-serif\" font-size=\"12\" lengthAdjust=\"spacingAndGlyphs\" textLength=\"63\" x=\"120.25\" y=\"309.8672\">print index</text><ellipse cx=\"151.75\" cy=\"352.3984\" fill=\"none\" filter=\"url(#f1)\" rx=\"10\" ry=\"10\" style=\"stroke: #000000; stroke-width: 1.0;\"/><ellipse cx=\"152.25\" cy=\"352.8984\" fill=\"#000000\" filter=\"url(#f1)\" rx=\"6\" ry=\"6\" style=\"stroke: none; stroke-width: 1.0;\"/><line style=\"stroke: #A80036; stroke-width: 1.5;\" x1=\"123.75\" x2=\"101.5\" y1=\"160.1328\" y2=\"160.1328\"/><line style=\"stroke: #A80036; stroke-width: 1.5;\" x1=\"101.5\" x2=\"101.5\" y1=\"160.1328\" y2=\"182.1328\"/><polygon fill=\"#A80036\" points=\"97.5,172.1328,101.5,182.1328,105.5,172.1328,101.5,176.1328\" style=\"stroke: #A80036; stroke-width: 1.0;\"/><line style=\"stroke: #A80036; stroke-width: 1.5;\" x1=\"179.75\" x2=\"202\" y1=\"160.1328\" y2=\"160.1328\"/><polygon fill=\"#A80036\" points=\"198,187.1992,202,197.1992,206,187.1992,202,191.1992\" style=\"stroke: #A80036; stroke-width: 1.5;\"/><line style=\"stroke: #A80036; stroke-width: 1.5;\" x1=\"202\" x2=\"202\" y1=\"160.1328\" y2=\"234.2656\"/><line style=\"stroke: #A80036; stroke-width: 1.5;\" x1=\"202\" x2=\"163.75\" y1=\"234.2656\" y2=\"234.2656\"/><polygon fill=\"#A80036\" points=\"173.75,230.2656,163.75,234.2656,173.75,238.2656,169.75,234.2656\" style=\"stroke: #A80036; stroke-width: 1.0;\"/><line style=\"stroke: #A80036; stroke-width: 1.5;\" x1=\"101.5\" x2=\"101.5\" y1=\"216.2656\" y2=\"234.2656\"/><line style=\"stroke: #A80036; stroke-width: 1.5;\" x1=\"101.5\" x2=\"139.75\" y1=\"234.2656\" y2=\"234.2656\"/><polygon fill=\"#A80036\" points=\"129.75,230.2656,139.75,234.2656,129.75,238.2656,133.75,234.2656\" style=\"stroke: #A80036; stroke-width: 1.0;\"/><line style=\"stroke: #A80036; stroke-width: 1.5;\" x1=\"151.75\" x2=\"151.75\" y1=\"128.1328\" y2=\"148.1328\"/><polygon fill=\"#A80036\" points=\"147.75,138.1328,151.75,148.1328,155.75,138.1328,151.75,142.1328\" style=\"stroke: #A80036; stroke-width: 1.0;\"/><line style=\"stroke: #A80036; stroke-width: 1.5;\" x1=\"151.75\" x2=\"151.75\" y1=\"74\" y2=\"94\"/><polygon fill=\"#A80036\" points=\"147.75,84,151.75,94,155.75,84,151.75,88\" style=\"stroke: #A80036; stroke-width: 1.0;\"/><line style=\"stroke: #A80036; stroke-width: 1.5;\" x1=\"151.75\" x2=\"151.75\" y1=\"246.2656\" y2=\"256.2656\"/><line style=\"stroke: #A80036; stroke-width: 1.5;\" x1=\"151.75\" x2=\"239\" y1=\"256.2656\" y2=\"256.2656\"/><polygon fill=\"#A80036\" points=\"235,160.6328,239,150.6328,243,160.6328,239,156.6328\" style=\"stroke: #A80036; stroke-width: 1.5;\"/><line style=\"stroke: #A80036; stroke-width: 1.5;\" x1=\"239\" x2=\"239\" y1=\"62\" y2=\"256.2656\"/><line style=\"stroke: #A80036; stroke-width: 1.5;\" x1=\"239\" x2=\"190.75\" y1=\"62\" y2=\"62\"/><polygon fill=\"#A80036\" points=\"200.75,58,190.75,62,200.75,66,196.75,62\" style=\"stroke: #A80036; stroke-width: 1.0;\"/><line style=\"stroke: #A80036; stroke-width: 1.5;\" x1=\"112.75\" x2=\"14\" y1=\"62\" y2=\"62\"/><polygon fill=\"#A80036\" points=\"10,146.6328,14,156.6328,18,146.6328,14,150.6328\" style=\"stroke: #A80036; stroke-width: 1.5;\"/><line style=\"stroke: #A80036; stroke-width: 1.5;\" x1=\"14\" x2=\"14\" y1=\"62\" y2=\"268.2656\"/><line style=\"stroke: #A80036; stroke-width: 1.5;\" x1=\"14\" x2=\"151.75\" y1=\"268.2656\" y2=\"268.2656\"/><line style=\"stroke: #A80036; stroke-width: 1.5;\" x1=\"151.75\" x2=\"151.75\" y1=\"268.2656\" y2=\"288.2656\"/><polygon fill=\"#A80036\" points=\"147.75,278.2656,151.75,288.2656,155.75,278.2656,151.75,282.2656\" style=\"stroke: #A80036; stroke-width: 1.0;\"/><line style=\"stroke: #A80036; stroke-width: 1.5;\" x1=\"151.75\" x2=\"151.75\" y1=\"30\" y2=\"50\"/><polygon fill=\"#A80036\" points=\"147.75,40,151.75,50,155.75,40,151.75,44\" style=\"stroke: #A80036; stroke-width: 1.0;\"/><line style=\"stroke: #A80036; stroke-width: 1.5;\" x1=\"151.75\" x2=\"151.75\" y1=\"322.3984\" y2=\"342.3984\"/><polygon fill=\"#A80036\" points=\"147.75,332.3984,151.75,342.3984,155.75,332.3984,151.75,336.3984\" style=\"stroke: #A80036; stroke-width: 1.0;\"/></g></svg>"
      ],
      "text/plain": [
       "<IPython.core.display.SVG object>"
      ]
     },
     "execution_count": 11,
     "metadata": {},
     "output_type": "execute_result"
    }
   ],
   "source": [
    "%%plantuml\n",
    "@startuml\n",
    "start\n",
    "while(more item)\n",
    ":get an item;\n",
    "if (found)\n",
    ":set index of 'found';\n",
    "endif\n",
    "endwhile\n",
    ":print index;\n",
    "stop\n",
    "@enduml"
   ]
  },
  {
   "cell_type": "code",
   "execution_count": 5,
   "metadata": {
    "collapsed": false
   },
   "outputs": [
    {
     "name": "stdout",
     "output_type": "stream",
     "text": [
      "4 4 1\n",
      "1\n"
     ]
    }
   ],
   "source": [
    "# for문에 list그대로 사용하면서 index 추적.\n",
    "toSearch=4\n",
    "i=0\n",
    "for x in [5,4,2,6,3]:\n",
    "    if toSearch==x:\n",
    "        print x,toSearch,i\n",
    "        index=i\n",
    "    i+=1\n",
    "print index"
   ]
  },
  {
   "cell_type": "code",
   "execution_count": 7,
   "metadata": {
    "collapsed": false
   },
   "outputs": [
    {
     "name": "stdout",
     "output_type": "stream",
     "text": [
      "4 4 1\n",
      "1\n"
     ]
    }
   ],
   "source": [
    "# for문에 list길이를 사용하면서 index 추적필요 없슴.\n",
    "numbers=[5,4,2,6,3]\n",
    "toSearch=4\n",
    "for i in range(len(numbers)):\n",
    "    if toSearch == numbers[i]:\n",
    "        print numbers[i],toSearch,i\n",
    "        index=i\n",
    "print index"
   ]
  },
  {
   "cell_type": "code",
   "execution_count": null,
   "metadata": {
    "collapsed": true
   },
   "outputs": [],
   "source": [
    "# for문에 list를 그대로 사용하지만, enumerate를 사용하면서 index 추적필요 없슴.\n",
    "numbers=[5,4,2,6,3]\n",
    "toSearch=4\n",
    "for i, item in enumerate(numbers):\n",
    "    if toSearch == item:\n",
    "        print item,toSearch,i\n",
    "        index=i\n",
    "print index"
   ]
  },
  {
   "cell_type": "code",
   "execution_count": 65,
   "metadata": {
    "collapsed": false
   },
   "outputs": [
    {
     "name": "stdout",
     "output_type": "stream",
     "text": [
      "1\n"
     ]
    }
   ],
   "source": [
    "# 함수로 만들기.\n",
    "def linearSearch(toSearch,numbers):\n",
    "    for i, item in enumerate(numbers):\n",
    "        if toSearch == item:\n",
    "            #print item,toSearch,i\n",
    "            index=i\n",
    "    return index\n",
    "\n",
    "print linearSearch(4,numbers)"
   ]
  },
  {
   "cell_type": "markdown",
   "metadata": {},
   "source": [
    "### 찾기 오류일 경우 어떻게 처리\n",
    "\n",
    "* 오류처리는 반드시 필요\n",
    "* 일반적으로 try-except를 사용"
   ]
  },
  {
   "cell_type": "code",
   "execution_count": 66,
   "metadata": {
    "collapsed": false
   },
   "outputs": [
    {
     "ename": "UnboundLocalError",
     "evalue": "local variable 'index' referenced before assignment",
     "output_type": "error",
     "traceback": [
      "\u001b[0;31m---------------------------------------------------------------------------\u001b[0m",
      "\u001b[0;31mUnboundLocalError\u001b[0m                         Traceback (most recent call last)",
      "\u001b[0;32m<ipython-input-66-3d32fc7a9f1a>\u001b[0m in \u001b[0;36m<module>\u001b[0;34m()\u001b[0m\n\u001b[1;32m      1\u001b[0m \u001b[0;31m# 없는 숫자를 찾는 경우에는 오류. 무엇을 고쳐야 하나???\u001b[0m\u001b[0;34m\u001b[0m\u001b[0;34m\u001b[0m\u001b[0m\n\u001b[0;32m----> 2\u001b[0;31m \u001b[0;32mprint\u001b[0m \u001b[0mlinearSearch\u001b[0m\u001b[0;34m(\u001b[0m\u001b[0;36m7\u001b[0m\u001b[0;34m,\u001b[0m\u001b[0mnumbers\u001b[0m\u001b[0;34m)\u001b[0m\u001b[0;34m\u001b[0m\u001b[0m\n\u001b[0m",
      "\u001b[0;32m<ipython-input-65-5cbdf6e31e8d>\u001b[0m in \u001b[0;36mlinearSearch\u001b[0;34m(toSearch, numbers)\u001b[0m\n\u001b[1;32m      5\u001b[0m             \u001b[0;31m#print item,toSearch,i\u001b[0m\u001b[0;34m\u001b[0m\u001b[0;34m\u001b[0m\u001b[0m\n\u001b[1;32m      6\u001b[0m             \u001b[0mindex\u001b[0m\u001b[0;34m=\u001b[0m\u001b[0mi\u001b[0m\u001b[0;34m\u001b[0m\u001b[0m\n\u001b[0;32m----> 7\u001b[0;31m     \u001b[0;32mreturn\u001b[0m \u001b[0mindex\u001b[0m\u001b[0;34m\u001b[0m\u001b[0m\n\u001b[0m\u001b[1;32m      8\u001b[0m \u001b[0;34m\u001b[0m\u001b[0m\n\u001b[1;32m      9\u001b[0m \u001b[0;32mprint\u001b[0m \u001b[0mlinearSearch\u001b[0m\u001b[0;34m(\u001b[0m\u001b[0;36m4\u001b[0m\u001b[0;34m,\u001b[0m\u001b[0mnumbers\u001b[0m\u001b[0;34m)\u001b[0m\u001b[0;34m\u001b[0m\u001b[0m\n",
      "\u001b[0;31mUnboundLocalError\u001b[0m: local variable 'index' referenced before assignment"
     ]
    }
   ],
   "source": [
    "# 없는 숫자를 찾는 경우에는 오류. 무엇을 고쳐야 하나???\n",
    "print linearSearch(7,numbers)"
   ]
  },
  {
   "cell_type": "code",
   "execution_count": 56,
   "metadata": {
    "collapsed": false
   },
   "outputs": [
    {
     "name": "stdout",
     "output_type": "stream",
     "text": [
      "local variable 'index' referenced before assignment\n"
     ]
    }
   ],
   "source": [
    "# 존재하지 않는 값을 찾는 경우, 에러 처리가 쉽지 않음.\n",
    "# 그 이유는, 인덱스는 -1도 가능할 뿐만 아니라, 어떤 숫자 이건 가능.\n",
    "# 여기서는 try-except 사용\n",
    "try:\n",
    "    linearSearch(7,numbers)\n",
    "except Exception as e:\n",
    "    print e"
   ]
  },
  {
   "cell_type": "code",
   "execution_count": 63,
   "metadata": {
    "collapsed": false
   },
   "outputs": [
    {
     "name": "stdout",
     "output_type": "stream",
     "text": [
      "error\n"
     ]
    }
   ],
   "source": [
    "# index를 -1로 초기화해서 -1이면 에러 출력\n",
    "def linearSearch(toSearch,numbers):\n",
    "    index=-1\n",
    "    for i, item in enumerate(numbers):\n",
    "        if toSearch == item:\n",
    "            #print item,toSearch,i\n",
    "            index=i\n",
    "    return index\n",
    "#res=linearSearch(4,numbers)\n",
    "res=linearSearch(7,numbers)\n",
    "if res==-1:\n",
    "    print \"error\"\n",
    "else:\n",
    "    print \"found\",res"
   ]
  },
  {
   "cell_type": "markdown",
   "metadata": {},
   "source": [
    "### 성능\n",
    "\n",
    "* 임의로 일정 횟수를 실행한 후, 평균적으로 실행에 소요된 시간을 측정"
   ]
  },
  {
   "cell_type": "code",
   "execution_count": 24,
   "metadata": {
    "collapsed": false
   },
   "outputs": [
    {
     "name": "stdout",
     "output_type": "stream",
     "text": [
      "4 4 1\n",
      "1\n",
      "1\n",
      "1000000 loops, best of 3: 1.08 µs per loop\n"
     ]
    }
   ],
   "source": [
    "%timeit linearSearch(4,numbers)"
   ]
  },
  {
   "cell_type": "markdown",
   "metadata": {},
   "source": [
    "## 알고리즘-3: binary search\n",
    "\n",
    "* 업다운 게임\n",
    "    1. 시작, 끝을 정함.\n",
    "    2. 시작, 끝의 중간을 정함.\n",
    "    3. 중간이 찾는 값이면 종료.\n",
    "    4. 중간이 찾는 값보다 크면, 중간에서 하나 밑을 끝으로 함.\n",
    "    5. 중간이 찾는 값보다 적으면, 중간에서 하나 위를 시작으로 함.\n",
    "    6. 순서1로 가서 못찾거나 high>=low이면 반복함.\n",
    "* 입출력\n",
    "    * 입력: ordered data (데이터가 정렬되어 있지 않으면, 무의미)\n",
    "    * 출력: boolean(Y/N) 또는 index\n",
    "* 주의:\n",
    "    * 인덱스 값을 찾으면 종료하도록 조건에 반영하지 않으면, 무한반복.\n",
    "    * $log_2^N$ (데이터 수가 8개이면, $2^3$이므로 3회 내에 맞춤) \n",
    "    * myrecursive.py binary_search"
   ]
  },
  {
   "cell_type": "markdown",
   "metadata": {},
   "source": [
    "### while문과 무한반복의 주의\n",
    "\n",
    "* 종료조건\n",
    "    * high < low \n",
    "    * index를 찾은 경우"
   ]
  },
  {
   "cell_type": "code",
   "execution_count": 13,
   "metadata": {
    "collapsed": false
   },
   "outputs": [
    {
     "data": {
      "image/svg+xml": [
       "<svg height=\"480px\" style=\"width:403px;height:480px;\" version=\"1.1\" viewBox=\"0 0 403 480\" width=\"403px\" xmlns=\"http://www.w3.org/2000/svg\" xmlns:xlink=\"http://www.w3.org/1999/xlink\"><defs><filter height=\"300%\" id=\"f1\" width=\"300%\" x=\"-1\" y=\"-1\"><feGaussianBlur result=\"blurOut\" stdDeviation=\"2.0\"/><feColorMatrix in=\"blurOut\" result=\"blurOut2\" type=\"matrix\" values=\"0 0 0 0 0 0 0 0 0 0 0 0 0 0 0 0 0 0 .4 0\"/><feOffset dx=\"4.0\" dy=\"4.0\" in=\"blurOut2\" result=\"blurOut3\"/><feBlend in=\"SourceGraphic\" in2=\"blurOut3\" mode=\"normal\"/></filter></defs><g><ellipse cx=\"206\" cy=\"20\" fill=\"#000000\" filter=\"url(#f1)\" rx=\"10\" ry=\"10\" style=\"stroke: none; stroke-width: 1.0;\"/><rect fill=\"#FEFECE\" filter=\"url(#f1)\" height=\"34.1328\" rx=\"12.5\" ry=\"12.5\" style=\"stroke: #A80036; stroke-width: 1.5;\" width=\"57\" x=\"177.5\" y=\"50\"/><text fill=\"#000000\" font-family=\"sans-serif\" font-size=\"12\" lengthAdjust=\"spacingAndGlyphs\" textLength=\"37\" x=\"187.5\" y=\"71.6016\">low=0</text><rect fill=\"#FEFECE\" filter=\"url(#f1)\" height=\"34.1328\" rx=\"12.5\" ry=\"12.5\" style=\"stroke: #A80036; stroke-width: 1.5;\" width=\"104\" x=\"154\" y=\"104.1328\"/><text fill=\"#000000\" font-family=\"sans-serif\" font-size=\"12\" lengthAdjust=\"spacingAndGlyphs\" textLength=\"84\" x=\"164\" y=\"125.7344\">high=length-1</text><rect fill=\"#FEFECE\" filter=\"url(#f1)\" height=\"34.1328\" rx=\"12.5\" ry=\"12.5\" style=\"stroke: #A80036; stroke-width: 1.5;\" width=\"127\" x=\"142.5\" y=\"202.2656\"/><text fill=\"#000000\" font-family=\"sans-serif\" font-size=\"12\" lengthAdjust=\"spacingAndGlyphs\" textLength=\"107\" x=\"152.5\" y=\"223.8672\">mid=(high+low)/2</text><polygon fill=\"#FEFECE\" filter=\"url(#f1)\" points=\"38,256.3984,134,256.3984,146,268.3984,134,280.3984,38,280.3984,26,268.3984,38,256.3984\" style=\"stroke: #A80036; stroke-width: 1.5;\"/><text fill=\"#000000\" font-family=\"sans-serif\" font-size=\"11\" lengthAdjust=\"spacingAndGlyphs\" textLength=\"96\" x=\"38\" y=\"272.5557\">list[mid]==toFind</text><rect fill=\"#FEFECE\" filter=\"url(#f1)\" height=\"34.1328\" rx=\"12.5\" ry=\"12.5\" style=\"stroke: #A80036; stroke-width: 1.5;\" width=\"84\" x=\"44\" y=\"300.3984\"/><text fill=\"#000000\" font-family=\"sans-serif\" font-size=\"12\" lengthAdjust=\"spacingAndGlyphs\" textLength=\"64\" x=\"54\" y=\"322\">index=mid</text><polygon fill=\"#FEFECE\" filter=\"url(#f1)\" points=\"178,256.3984,265,256.3984,277,268.3984,265,280.3984,178,280.3984,166,268.3984,178,256.3984\" style=\"stroke: #A80036; stroke-width: 1.5;\"/><text fill=\"#000000\" font-family=\"sans-serif\" font-size=\"11\" lengthAdjust=\"spacingAndGlyphs\" textLength=\"87\" x=\"178\" y=\"272.5557\">list[mid]&gt;toFind</text><rect fill=\"#FEFECE\" filter=\"url(#f1)\" height=\"34.1328\" rx=\"12.5\" ry=\"12.5\" style=\"stroke: #A80036; stroke-width: 1.5;\" width=\"91\" x=\"176\" y=\"300.3984\"/><text fill=\"#000000\" font-family=\"sans-serif\" font-size=\"12\" lengthAdjust=\"spacingAndGlyphs\" textLength=\"71\" x=\"186\" y=\"322\">high=mid-1</text><rect fill=\"#FEFECE\" filter=\"url(#f1)\" height=\"34.1328\" rx=\"12.5\" ry=\"12.5\" style=\"stroke: #A80036; stroke-width: 1.5;\" width=\"89\" x=\"297\" y=\"303.3984\"/><text fill=\"#000000\" font-family=\"sans-serif\" font-size=\"12\" lengthAdjust=\"spacingAndGlyphs\" textLength=\"69\" x=\"307\" y=\"325\">low=mid+1</text><polygon fill=\"#FEFECE\" filter=\"url(#f1)\" points=\"120.5,158.2656,291.5,158.2656,303.5,170.2656,291.5,182.2656,120.5,182.2656,108.5,170.2656,120.5,158.2656\" style=\"stroke: #A80036; stroke-width: 1.5;\"/><text fill=\"#000000\" font-family=\"sans-serif\" font-size=\"11\" lengthAdjust=\"spacingAndGlyphs\" textLength=\"171\" x=\"120.5\" y=\"174.4229\">high&gt;=low and index notFound</text><rect fill=\"#FEFECE\" filter=\"url(#f1)\" height=\"34.1328\" rx=\"12.5\" ry=\"12.5\" style=\"stroke: #A80036; stroke-width: 1.5;\" width=\"83\" x=\"164.5\" y=\"399.5313\"/><text fill=\"#000000\" font-family=\"sans-serif\" font-size=\"12\" lengthAdjust=\"spacingAndGlyphs\" textLength=\"63\" x=\"174.5\" y=\"421.1328\">print index</text><ellipse cx=\"206\" cy=\"463.6641\" fill=\"none\" filter=\"url(#f1)\" rx=\"10\" ry=\"10\" style=\"stroke: #000000; stroke-width: 1.0;\"/><ellipse cx=\"206.5\" cy=\"464.1641\" fill=\"#000000\" filter=\"url(#f1)\" rx=\"6\" ry=\"6\" style=\"stroke: none; stroke-width: 1.0;\"/><line style=\"stroke: #A80036; stroke-width: 1.5;\" x1=\"206\" x2=\"206\" y1=\"30\" y2=\"50\"/><polygon fill=\"#A80036\" points=\"202,40,206,50,210,40,206,44\" style=\"stroke: #A80036; stroke-width: 1.0;\"/><line style=\"stroke: #A80036; stroke-width: 1.5;\" x1=\"206\" x2=\"206\" y1=\"84.1328\" y2=\"104.1328\"/><polygon fill=\"#A80036\" points=\"202,94.1328,206,104.1328,210,94.1328,206,98.1328\" style=\"stroke: #A80036; stroke-width: 1.0;\"/><line style=\"stroke: #A80036; stroke-width: 1.5;\" x1=\"86\" x2=\"86\" y1=\"280.3984\" y2=\"300.3984\"/><polygon fill=\"#A80036\" points=\"82,290.3984,86,300.3984,90,290.3984,86,294.3984\" style=\"stroke: #A80036; stroke-width: 1.0;\"/><line style=\"stroke: #A80036; stroke-width: 1.5;\" x1=\"86\" x2=\"86\" y1=\"334.5313\" y2=\"357.5313\"/><polygon fill=\"#A80036\" points=\"82,347.5313,86,357.5313,90,347.5313,86,351.5313\" style=\"stroke: #A80036; stroke-width: 1.0;\"/><line style=\"stroke: #A80036; stroke-width: 1.5;\" x1=\"221.5\" x2=\"221.5\" y1=\"280.3984\" y2=\"300.3984\"/><polygon fill=\"#A80036\" points=\"217.5,290.3984,221.5,300.3984,225.5,290.3984,221.5,294.3984\" style=\"stroke: #A80036; stroke-width: 1.0;\"/><line style=\"stroke: #A80036; stroke-width: 1.5;\" x1=\"221.5\" x2=\"221.5\" y1=\"334.5313\" y2=\"357.5313\"/><polygon fill=\"#A80036\" points=\"217.5,347.5313,221.5,357.5313,225.5,347.5313,221.5,351.5313\" style=\"stroke: #A80036; stroke-width: 1.0;\"/><line style=\"stroke: #A80036; stroke-width: 1.5;\" x1=\"146\" x2=\"166\" y1=\"268.3984\" y2=\"268.3984\"/><polygon fill=\"#A80036\" points=\"156,264.3984,166,268.3984,156,272.3984,160,268.3984\" style=\"stroke: #A80036; stroke-width: 1.0;\"/><line style=\"stroke: #A80036; stroke-width: 1.5;\" x1=\"206\" x2=\"206\" y1=\"236.3984\" y2=\"241.3984\"/><line style=\"stroke: #A80036; stroke-width: 1.5;\" x1=\"206\" x2=\"86\" y1=\"241.3984\" y2=\"241.3984\"/><line style=\"stroke: #A80036; stroke-width: 1.5;\" x1=\"86\" x2=\"86\" y1=\"241.3984\" y2=\"256.3984\"/><polygon fill=\"#A80036\" points=\"82,246.3984,86,256.3984,90,246.3984,86,250.3984\" style=\"stroke: #A80036; stroke-width: 1.0;\"/><line style=\"stroke: #A80036; stroke-width: 1.5;\" x1=\"277\" x2=\"341.5\" y1=\"268.3984\" y2=\"268.3984\"/><line style=\"stroke: #A80036; stroke-width: 1.5;\" x1=\"341.5\" x2=\"341.5\" y1=\"268.3984\" y2=\"303.3984\"/><polygon fill=\"#A80036\" points=\"337.5,293.3984,341.5,303.3984,345.5,293.3984,341.5,297.3984\" style=\"stroke: #A80036; stroke-width: 1.0;\"/><line style=\"stroke: #A80036; stroke-width: 1.5;\" x1=\"341.5\" x2=\"341.5\" y1=\"337.5313\" y2=\"357.5313\"/><polygon fill=\"#A80036\" points=\"337.5,347.5313,341.5,357.5313,345.5,347.5313,341.5,351.5313\" style=\"stroke: #A80036; stroke-width: 1.0;\"/><line style=\"stroke: #A80036; stroke-width: 1.5;\" x1=\"86\" x2=\"341.5\" y1=\"357.5313\" y2=\"357.5313\"/><line style=\"stroke: #A80036; stroke-width: 1.5;\" x1=\"206\" x2=\"206\" y1=\"182.2656\" y2=\"202.2656\"/><polygon fill=\"#A80036\" points=\"202,192.2656,206,202.2656,210,192.2656,206,196.2656\" style=\"stroke: #A80036; stroke-width: 1.0;\"/><line style=\"stroke: #A80036; stroke-width: 1.5;\" x1=\"206\" x2=\"206\" y1=\"357.5313\" y2=\"367.5313\"/><line style=\"stroke: #A80036; stroke-width: 1.5;\" x1=\"206\" x2=\"398\" y1=\"367.5313\" y2=\"367.5313\"/><polygon fill=\"#A80036\" points=\"394,283.8984,398,273.8984,402,283.8984,398,279.8984\" style=\"stroke: #A80036; stroke-width: 1.5;\"/><line style=\"stroke: #A80036; stroke-width: 1.5;\" x1=\"398\" x2=\"398\" y1=\"170.2656\" y2=\"367.5313\"/><line style=\"stroke: #A80036; stroke-width: 1.5;\" x1=\"398\" x2=\"303.5\" y1=\"170.2656\" y2=\"170.2656\"/><polygon fill=\"#A80036\" points=\"313.5,166.2656,303.5,170.2656,313.5,174.2656,309.5,170.2656\" style=\"stroke: #A80036; stroke-width: 1.0;\"/><line style=\"stroke: #A80036; stroke-width: 1.5;\" x1=\"108.5\" x2=\"14\" y1=\"170.2656\" y2=\"170.2656\"/><polygon fill=\"#A80036\" points=\"10,269.8984,14,279.8984,18,269.8984,14,273.8984\" style=\"stroke: #A80036; stroke-width: 1.5;\"/><line style=\"stroke: #A80036; stroke-width: 1.5;\" x1=\"14\" x2=\"14\" y1=\"170.2656\" y2=\"379.5313\"/><line style=\"stroke: #A80036; stroke-width: 1.5;\" x1=\"14\" x2=\"206\" y1=\"379.5313\" y2=\"379.5313\"/><line style=\"stroke: #A80036; stroke-width: 1.5;\" x1=\"206\" x2=\"206\" y1=\"379.5313\" y2=\"399.5313\"/><polygon fill=\"#A80036\" points=\"202,389.5313,206,399.5313,210,389.5313,206,393.5313\" style=\"stroke: #A80036; stroke-width: 1.0;\"/><line style=\"stroke: #A80036; stroke-width: 1.5;\" x1=\"206\" x2=\"206\" y1=\"138.2656\" y2=\"158.2656\"/><polygon fill=\"#A80036\" points=\"202,148.2656,206,158.2656,210,148.2656,206,152.2656\" style=\"stroke: #A80036; stroke-width: 1.0;\"/><line style=\"stroke: #A80036; stroke-width: 1.5;\" x1=\"206\" x2=\"206\" y1=\"433.6641\" y2=\"453.6641\"/><polygon fill=\"#A80036\" points=\"202,443.6641,206,453.6641,210,443.6641,206,447.6641\" style=\"stroke: #A80036; stroke-width: 1.0;\"/></g></svg>"
      ],
      "text/plain": [
       "<IPython.core.display.SVG object>"
      ]
     },
     "execution_count": 13,
     "metadata": {},
     "output_type": "execute_result"
    }
   ],
   "source": [
    "%%plantuml\n",
    "@startuml\n",
    "start\n",
    ":low=0;\n",
    ":high=length-1;\n",
    "while(high>=low and index notFound)\n",
    ":mid=(high+low)/2;\n",
    "if (list[mid]==toFind)\n",
    ":index=mid;\n",
    "elseif (list[mid]>toFind)\n",
    ":high=mid-1;\n",
    "else\n",
    ":low=mid+1;\n",
    "endif\n",
    "endwhile\n",
    ":print index;\n",
    "stop\n",
    "@enduml"
   ]
  },
  {
   "cell_type": "code",
   "execution_count": 12,
   "metadata": {
    "collapsed": false
   },
   "outputs": [
    {
     "name": "stdout",
     "output_type": "stream",
     "text": [
      "[11, 22, 33, 44, 55, 'aa', 'bb', 'cc', 'ee', 'ff']\n"
     ]
    }
   ],
   "source": [
    "# 데이터 정렬 sort 라이브러리를 사용할 수 있다.\n",
    "#items=[x for x in raw_input().split(',')]\n",
    "items=['aa',11,'ee',44,55,'ff','bb',22,'cc',33]\n",
    "# sort()한 후 별도로 저장할 필요 없슴.\n",
    "items.sort()\n",
    "print items\n",
    "#print ','.join(items)"
   ]
  },
  {
   "cell_type": "code",
   "execution_count": 1,
   "metadata": {
    "collapsed": false
   },
   "outputs": [
    {
     "name": "stdout",
     "output_type": "stream",
     "text": [
      "A: high=4 mid=2 low=0 idx=2\n",
      "2\n",
      "C: high=4 mid=2 low=3 idx=-1\n",
      "C: high=4 mid=3 low=4 idx=-1\n",
      "C: high=4 mid=4 low=5 idx=-1\n",
      "-1\n"
     ]
    }
   ],
   "source": [
    "import math\n",
    "def binarySearch(data, toFind):\n",
    "    low = 0\n",
    "    high = len(data)-1\n",
    "    index = -1\n",
    "    #high=4 low=0일 경우, mid=2이면 조건이 끝나지 않음.\n",
    "    #index값이 정해진 경우 while을 끝내도록 함.\n",
    "    while high>=low and index==-1:\n",
    "        #mid = int(math.floor((high+low)/2.0))\n",
    "        mid=int((high+low)/2)\n",
    "        if data[mid]==toFind:\n",
    "            index = mid\n",
    "            print \"A: high={} mid={} low={} idx={}\".format(high,mid,low,index)\n",
    "        elif data[mid]>toFind:\n",
    "            high = mid-1\n",
    "            print \"B: high={} mid={} low={} idx={}\".format(high,mid,low,index)\n",
    "        else:\n",
    "            low = mid+1\n",
    "            print \"C: high={} mid={} low={} idx={}\".format(high,mid,low,index)\n",
    "    return index\n",
    "\n",
    "data=[2,4,5,6,3]\n",
    "data.sort()\n",
    "print binarySearch(data,4)\n",
    "print binarySearch(data,7)"
   ]
  },
  {
   "cell_type": "markdown",
   "metadata": {},
   "source": [
    "### 무작위 수의 생성\n",
    "\n",
    "* 무작위 수는 통계의 기본개념.\n",
    "    * 1~100에서 수 하나를 고를 경우, 그 확률이 1/100이면 무작위라고 함.\n",
    "    * 처음 몇 번은 1/100이 아닐 수 있으나, 충분히 여러 번 하면 1/100로 접근\n",
    "* 무작위 수 0~100까지(randint(0,100) 100개 생성\n",
    "* 생성된 무작위 수가 중복될 수 있으므로, 중복없는 값만을 골라(set) 정렬(set)\n",
    "* 값이 정렬된 배열로 만들어, binarySearch"
   ]
  },
  {
   "cell_type": "code",
   "execution_count": 1,
   "metadata": {
    "collapsed": false
   },
   "outputs": [
    {
     "name": "stdout",
     "output_type": "stream",
     "text": [
      "2 3 4 5 6\n",
      "5 4 2 6 3\n"
     ]
    }
   ],
   "source": [
    "#set vs list\n",
    "for i in {5,4,2,6,3}:\n",
    "    print i,\n",
    "print\n",
    "for i in [5,4,2,6,3]:\n",
    "    print i,"
   ]
  },
  {
   "cell_type": "code",
   "execution_count": 2,
   "metadata": {
    "collapsed": false
   },
   "outputs": [
    {
     "name": "stdout",
     "output_type": "stream",
     "text": [
      "[93, 31, 35, 99, 30, 64, 50, 0, 68, 30, 31, 66, 72, 16, 96, 81, 41, 78, 99, 55, 94, 22, 79, 81, 24, 80, 8, 81, 50, 27, 4, 71, 35, 2, 7, 94, 74, 51, 43, 66, 11, 70, 82, 34, 30, 45, 1, 58, 88, 94, 77, 47, 39, 75, 30, 73, 69, 42, 26, 59, 62, 62, 50, 91, 100, 90, 36, 55, 59, 58, 56, 97, 88, 10, 81, 23, 91, 35, 78, 14, 39, 35, 50, 96, 73, 81, 18, 86, 63, 8, 60, 74, 43, 19, 4, 60, 28, 39, 70, 18]\n",
      "100\n",
      "sorted with unique values [0, 1, 2, 4, 7, 8, 10, 11, 14, 16, 18, 19, 22, 23, 24, 26, 27, 28, 30, 31, 34, 35, 36, 39, 41, 42, 43, 45, 47, 50, 51, 55, 56, 58, 59, 60, 62, 63, 64, 66, 68, 69, 70, 71, 72, 73, 74, 75, 77, 78, 79, 80, 81, 82, 86, 88, 90, 91, 93, 94, 96, 97, 99, 100]\n"
     ]
    }
   ],
   "source": [
    "import random\n",
    "data=list()\n",
    "for i in range(100):\n",
    "    n=random.randint(0,100)\n",
    "    data.append(n)\n",
    "print data\n",
    "print len(data)\n",
    "data=list(set(data))\n",
    "print \"sorted with unique values\",data"
   ]
  },
  {
   "cell_type": "code",
   "execution_count": 3,
   "metadata": {
    "collapsed": false
   },
   "outputs": [
    {
     "name": "stdout",
     "output_type": "stream",
     "text": [
      "B: high=30 mid=31 low=0 idx=-1\n",
      "B: high=14 mid=15 low=0 idx=-1\n",
      "B: high=6 mid=7 low=0 idx=-1\n",
      "A: high=6 mid=3 low=0 idx=3\n"
     ]
    },
    {
     "data": {
      "text/plain": [
       "3"
      ]
     },
     "execution_count": 3,
     "metadata": {},
     "output_type": "execute_result"
    }
   ],
   "source": [
    "binarySearch(data,4)"
   ]
  },
  {
   "cell_type": "markdown",
   "metadata": {},
   "source": [
    "### 학생의 프로그래밍\n",
    "\n",
    "* 아래 프로그램의 주의 2개\n",
    "    * index를 정의하지 않고 사용\n",
    "        * 없는 변수index에 middle값을 줌 (7째 줄)\n",
    "        * 앞 셀에서 사용한 변수를 완전히 삭제하고 하면 오류\n",
    "    * break는 흐름을 jump하게 만드니까!\n",
    "* break의 수정\n",
    "    * break를 사용하지 않을 경우 무한반복은 index 값이 정해져도, 조건이 true이므로 무한반복\n",
    "    * 예: high=4 low=0일 경우, 첫번째 if문에서 mid=2로 정해짐.\n",
    "    * 그래도 조건은 '참'이고, 무한반복.\n",
    "    * 조건에 mid를 찾은 경우, 즉 index값이 정해진 경우에는 while을 끝내도록 함.\n",
    "* 이를 수정하면?"
   ]
  },
  {
   "cell_type": "code",
   "execution_count": 70,
   "metadata": {
    "collapsed": false
   },
   "outputs": [],
   "source": [
    "del index"
   ]
  },
  {
   "cell_type": "code",
   "execution_count": 71,
   "metadata": {
    "collapsed": false
   },
   "outputs": [
    {
     "ename": "NameError",
     "evalue": "name 'index' is not defined",
     "output_type": "error",
     "traceback": [
      "\u001b[0;31m---------------------------------------------------------------------------\u001b[0m",
      "\u001b[0;31mNameError\u001b[0m                                 Traceback (most recent call last)",
      "\u001b[0;32m<ipython-input-71-b0ac622321e5>\u001b[0m in \u001b[0;36m<module>\u001b[0;34m()\u001b[0m\n\u001b[1;32m     11\u001b[0m     \u001b[0;32melse\u001b[0m\u001b[0;34m:\u001b[0m\u001b[0;34m\u001b[0m\u001b[0m\n\u001b[1;32m     12\u001b[0m         \u001b[0mlow\u001b[0m\u001b[0;34m=\u001b[0m\u001b[0mmiddle\u001b[0m\u001b[0;34m+\u001b[0m\u001b[0;36m1\u001b[0m\u001b[0;34m\u001b[0m\u001b[0m\n\u001b[0;32m---> 13\u001b[0;31m \u001b[0;32mprint\u001b[0m \u001b[0mindex\u001b[0m\u001b[0;34m\u001b[0m\u001b[0m\n\u001b[0m",
      "\u001b[0;31mNameError\u001b[0m: name 'index' is not defined"
     ]
    }
   ],
   "source": [
    "low=0\n",
    "high=len(data)-1\n",
    "key=4\n",
    "while(low<high):\n",
    "    middle=(low+high)/2\n",
    "    if (key==data[middle]):\n",
    "        index=middle\n",
    "        break\n",
    "    elif (data[middle]>key):\n",
    "        high=middle-1\n",
    "    else:\n",
    "        low=middle+1\n",
    "print index"
   ]
  },
  {
   "cell_type": "code",
   "execution_count": 67,
   "metadata": {
    "collapsed": false
   },
   "outputs": [
    {
     "name": "stdout",
     "output_type": "stream",
     "text": [
      "-1\n",
      "2\n"
     ]
    }
   ],
   "source": [
    "index=-1\n",
    "low=0\n",
    "high=len(data)-1\n",
    "key=4\n",
    "while(low<high) and index==-1:\n",
    "    middle=(low+high)/2\n",
    "    if (key==data[middle]):\n",
    "        index=middle\n",
    "        #break\n",
    "    elif (data[middle]>key):\n",
    "        high=middle-1\n",
    "    else:\n",
    "        low=middle+1\n",
    "print index"
   ]
  },
  {
   "cell_type": "markdown",
   "metadata": {},
   "source": [
    "### 성능비교\n",
    "\n",
    "* 함수에 프린트 문을 제외하고 실행"
   ]
  },
  {
   "cell_type": "code",
   "execution_count": 4,
   "metadata": {
    "collapsed": true
   },
   "outputs": [],
   "source": [
    "def binarySearch(data, toFind):\n",
    "    low = 0\n",
    "    high = len(data)-1\n",
    "    index = -1\n",
    "    #high=4 low=0일 경우, mid=2이면 조건이 끝나지 않음.\n",
    "    #index값이 정해진 경우 while을 끝내도록 함.\n",
    "    while high>=low and index==-1:\n",
    "        #mid = int(math.floor((high+low)/2.0))\n",
    "        mid=int((high+low)/2)\n",
    "        if data[mid]==toFind:\n",
    "            index = mid\n",
    "            #print \"A: high={} mid={} low={} idx={}\".format(high,mid,low,index)\n",
    "        elif data[mid]>toFind:\n",
    "            high = mid-1\n",
    "            #print \"B: high={} mid={} low={} idx={}\".format(high,mid,low,index)\n",
    "        else:\n",
    "            low = mid+1\n",
    "            #print \"C: high={} mid={} low={} idx={}\".format(high,mid,low,index)\n",
    "    return index"
   ]
  },
  {
   "cell_type": "code",
   "execution_count": 6,
   "metadata": {
    "collapsed": false
   },
   "outputs": [
    {
     "name": "stdout",
     "output_type": "stream",
     "text": [
      "The slowest run took 5.97 times longer than the fastest. This could mean that an intermediate result is being cached \n",
      "1000000 loops, best of 3: 1.23 µs per loop\n"
     ]
    }
   ],
   "source": [
    "%timeit binarySearch(data,7)"
   ]
  },
  {
   "cell_type": "markdown",
   "metadata": {},
   "source": [
    "## 문제 3-4: selection sort\n",
    "\n",
    "* 번호가 적힌 공이 일렬로 세워져 있다고 가정하고, 순서대로 정렬하는 문제\n",
    "* '정렬되어 있는 그룹'과 '정렬되어 있지 않은 그룹'으로 구분.\n",
    "    1. 공1번을 선택\n",
    "    2. 오른쪽으로 진행하면서 공2번과 비교해서 순서가 올바르지 않으면 순서를 바꿈.\n",
    "    3. 이를 끝까지 계속함. (왼쪽은 정렬, 오른쪽은 비정렬)\n",
    "    4. 다음 공2번을 선택하고 순서1로 가서 반복함.\n",
    "    5. 더 이상 순서를 바꿀 필요가 없을 때까지 계속 (즉, 비정렬그룹에 공이 남아있지 않을 때까지)\n",
    "* 입출력\n",
    "    * 입력: unordered data\n",
    "    * 출력: ordered data\n",
    "* 주의:\n",
    "    * 하나씩 오른쪽으로 비교. 왼쪽은 정렬, 오른쪽은 비정렬.\n",
    "    * 데이터 교환이 파이썬 방식\n",
    "    ```\n",
    "    a,b=b,a\n",
    "    ```\n",
    "\n",
    "* insertion sort와 반대."
   ]
  },
  {
   "cell_type": "code",
   "execution_count": 14,
   "metadata": {
    "collapsed": false
   },
   "outputs": [
    {
     "data": {
      "image/svg+xml": [
       "<svg height=\"327px\" style=\"width:330px;height:327px;\" version=\"1.1\" viewBox=\"0 0 330 327\" width=\"330px\" xmlns=\"http://www.w3.org/2000/svg\" xmlns:xlink=\"http://www.w3.org/1999/xlink\"><defs><filter height=\"300%\" id=\"f1\" width=\"300%\" x=\"-1\" y=\"-1\"><feGaussianBlur result=\"blurOut\" stdDeviation=\"2.0\"/><feColorMatrix in=\"blurOut\" result=\"blurOut2\" type=\"matrix\" values=\"0 0 0 0 0 0 0 0 0 0 0 0 0 0 0 0 0 0 .4 0\"/><feOffset dx=\"4.0\" dy=\"4.0\" in=\"blurOut2\" result=\"blurOut3\"/><feBlend in=\"SourceGraphic\" in2=\"blurOut3\" mode=\"normal\"/></filter></defs><g><ellipse cx=\"212\" cy=\"20\" fill=\"#000000\" filter=\"url(#f1)\" rx=\"10\" ry=\"10\" style=\"stroke: none; stroke-width: 1.0;\"/><polygon fill=\"#FEFECE\" filter=\"url(#f1)\" points=\"165.5,138,258.5,138,270.5,150,258.5,162,165.5,162,153.5,150,165.5,138\" style=\"stroke: #A80036; stroke-width: 1.5;\"/><text fill=\"#000000\" font-family=\"sans-serif\" font-size=\"11\" lengthAdjust=\"spacingAndGlyphs\" textLength=\"93\" x=\"165.5\" y=\"154.1572\">value[i] &gt; value[j]</text><rect fill=\"#FEFECE\" filter=\"url(#f1)\" height=\"34.1328\" rx=\"12.5\" ry=\"12.5\" style=\"stroke: #A80036; stroke-width: 1.5;\" width=\"167\" x=\"60\" y=\"172\"/><text fill=\"#000000\" font-family=\"sans-serif\" font-size=\"12\" lengthAdjust=\"spacingAndGlyphs\" textLength=\"147\" x=\"70\" y=\"193.6016\">swap value[i] and value[j]</text><polygon fill=\"#FEFECE\" filter=\"url(#f1)\" points=\"212,212.1328,224,224.1328,212,236.1328,200,224.1328,212,212.1328\" style=\"stroke: #A80036; stroke-width: 1.5;\"/><polygon fill=\"#FEFECE\" filter=\"url(#f1)\" points=\"183.5,94,240.5,94,252.5,106,240.5,118,183.5,118,171.5,106,183.5,94\" style=\"stroke: #A80036; stroke-width: 1.5;\"/><text fill=\"#000000\" font-family=\"sans-serif\" font-size=\"11\" lengthAdjust=\"spacingAndGlyphs\" textLength=\"57\" x=\"183.5\" y=\"110.1572\">j=i+1..end</text><polygon fill=\"#FEFECE\" filter=\"url(#f1)\" points=\"189.5,50,234.5,50,246.5,62,234.5,74,189.5,74,177.5,62,189.5,50\" style=\"stroke: #A80036; stroke-width: 1.5;\"/><text fill=\"#000000\" font-family=\"sans-serif\" font-size=\"11\" lengthAdjust=\"spacingAndGlyphs\" textLength=\"45\" x=\"189.5\" y=\"66.1572\">i=1..end</text><ellipse cx=\"212\" cy=\"310.1328\" fill=\"none\" filter=\"url(#f1)\" rx=\"10\" ry=\"10\" style=\"stroke: #000000; stroke-width: 1.0;\"/><ellipse cx=\"212.5\" cy=\"310.6328\" fill=\"#000000\" filter=\"url(#f1)\" rx=\"6\" ry=\"6\" style=\"stroke: none; stroke-width: 1.0;\"/><line style=\"stroke: #A80036; stroke-width: 1.5;\" x1=\"153.5\" x2=\"143.5\" y1=\"150\" y2=\"150\"/><line style=\"stroke: #A80036; stroke-width: 1.5;\" x1=\"143.5\" x2=\"143.5\" y1=\"150\" y2=\"172\"/><polygon fill=\"#A80036\" points=\"139.5,162,143.5,172,147.5,162,143.5,166\" style=\"stroke: #A80036; stroke-width: 1.0;\"/><line style=\"stroke: #A80036; stroke-width: 1.5;\" x1=\"270.5\" x2=\"280.5\" y1=\"150\" y2=\"150\"/><polygon fill=\"#A80036\" points=\"276.5,177.0664,280.5,187.0664,284.5,177.0664,280.5,181.0664\" style=\"stroke: #A80036; stroke-width: 1.5;\"/><line style=\"stroke: #A80036; stroke-width: 1.5;\" x1=\"280.5\" x2=\"280.5\" y1=\"150\" y2=\"224.1328\"/><line style=\"stroke: #A80036; stroke-width: 1.5;\" x1=\"280.5\" x2=\"224\" y1=\"224.1328\" y2=\"224.1328\"/><polygon fill=\"#A80036\" points=\"234,220.1328,224,224.1328,234,228.1328,230,224.1328\" style=\"stroke: #A80036; stroke-width: 1.0;\"/><line style=\"stroke: #A80036; stroke-width: 1.5;\" x1=\"143.5\" x2=\"143.5\" y1=\"206.1328\" y2=\"224.1328\"/><line style=\"stroke: #A80036; stroke-width: 1.5;\" x1=\"143.5\" x2=\"200\" y1=\"224.1328\" y2=\"224.1328\"/><polygon fill=\"#A80036\" points=\"190,220.1328,200,224.1328,190,228.1328,194,224.1328\" style=\"stroke: #A80036; stroke-width: 1.0;\"/><line style=\"stroke: #A80036; stroke-width: 1.5;\" x1=\"212\" x2=\"212\" y1=\"118\" y2=\"138\"/><polygon fill=\"#A80036\" points=\"208,128,212,138,216,128,212,132\" style=\"stroke: #A80036; stroke-width: 1.0;\"/><line style=\"stroke: #A80036; stroke-width: 1.5;\" x1=\"212\" x2=\"212\" y1=\"236.1328\" y2=\"246.1328\"/><line style=\"stroke: #A80036; stroke-width: 1.5;\" x1=\"212\" x2=\"317.5\" y1=\"246.1328\" y2=\"246.1328\"/><polygon fill=\"#A80036\" points=\"313.5,185.0664,317.5,175.0664,321.5,185.0664,317.5,181.0664\" style=\"stroke: #A80036; stroke-width: 1.5;\"/><line style=\"stroke: #A80036; stroke-width: 1.5;\" x1=\"317.5\" x2=\"317.5\" y1=\"106\" y2=\"246.1328\"/><line style=\"stroke: #A80036; stroke-width: 1.5;\" x1=\"317.5\" x2=\"252.5\" y1=\"106\" y2=\"106\"/><polygon fill=\"#A80036\" points=\"262.5,102,252.5,106,262.5,110,258.5,106\" style=\"stroke: #A80036; stroke-width: 1.0;\"/><line style=\"stroke: #A80036; stroke-width: 1.5;\" x1=\"171.5\" x2=\"38\" y1=\"106\" y2=\"106\"/><polygon fill=\"#A80036\" points=\"34,171.0664,38,181.0664,42,171.0664,38,175.0664\" style=\"stroke: #A80036; stroke-width: 1.5;\"/><line style=\"stroke: #A80036; stroke-width: 1.5;\" x1=\"38\" x2=\"38\" y1=\"106\" y2=\"258.1328\"/><line style=\"stroke: #A80036; stroke-width: 1.5;\" x1=\"38\" x2=\"329.5\" y1=\"258.1328\" y2=\"258.1328\"/><line style=\"stroke: #A80036; stroke-width: 1.5;\" x1=\"329.5\" x2=\"329.5\" y1=\"62\" y2=\"258.1328\"/><line style=\"stroke: #A80036; stroke-width: 1.5;\" x1=\"329.5\" x2=\"246.5\" y1=\"62\" y2=\"62\"/><polygon fill=\"#A80036\" points=\"256.5,58,246.5,62,256.5,66,252.5,62\" style=\"stroke: #A80036; stroke-width: 1.0;\"/><line style=\"stroke: #A80036; stroke-width: 1.5;\" x1=\"212\" x2=\"212\" y1=\"74\" y2=\"94\"/><polygon fill=\"#A80036\" points=\"208,84,212,94,216,84,212,88\" style=\"stroke: #A80036; stroke-width: 1.0;\"/><line style=\"stroke: #A80036; stroke-width: 1.5;\" x1=\"177.5\" x2=\"14\" y1=\"62\" y2=\"62\"/><polygon fill=\"#A80036\" points=\"10,159.0664,14,169.0664,18,159.0664,14,163.0664\" style=\"stroke: #A80036; stroke-width: 1.5;\"/><line style=\"stroke: #A80036; stroke-width: 1.5;\" x1=\"14\" x2=\"14\" y1=\"62\" y2=\"280.1328\"/><line style=\"stroke: #A80036; stroke-width: 1.5;\" x1=\"14\" x2=\"212\" y1=\"280.1328\" y2=\"280.1328\"/><line style=\"stroke: #A80036; stroke-width: 1.5;\" x1=\"212\" x2=\"212\" y1=\"280.1328\" y2=\"300.1328\"/><polygon fill=\"#A80036\" points=\"208,290.1328,212,300.1328,216,290.1328,212,294.1328\" style=\"stroke: #A80036; stroke-width: 1.0;\"/><line style=\"stroke: #A80036; stroke-width: 1.5;\" x1=\"212\" x2=\"212\" y1=\"30\" y2=\"50\"/><polygon fill=\"#A80036\" points=\"208,40,212,50,216,40,212,44\" style=\"stroke: #A80036; stroke-width: 1.0;\"/></g></svg>"
      ],
      "text/plain": [
       "<IPython.core.display.SVG object>"
      ]
     },
     "execution_count": 14,
     "metadata": {},
     "output_type": "execute_result"
    }
   ],
   "source": [
    "%%plantuml\n",
    "@startuml\n",
    "start\n",
    "while(i=1..end)\n",
    "while(j=i+1..end)\n",
    "if (value[i] > value[j])\n",
    ":swap value[i] and value[j];\n",
    "endif\n",
    "endwhile\n",
    "endwhile\n",
    "stop\n",
    "@enduml"
   ]
  },
  {
   "cell_type": "code",
   "execution_count": 15,
   "metadata": {
    "collapsed": false
   },
   "outputs": [
    {
     "name": "stdout",
     "output_type": "stream",
     "text": [
      "before sorting [5, 4, 2, 6, 3]\n",
      "for 0\n",
      "\tfor 1\n",
      "\t\tswapping 5 4 data:[5, 4, 2, 6, 3] -> [4, 5, 2, 6, 3]\n",
      "\tfor 2\n",
      "\t\tswapping 4 2 data:[4, 5, 2, 6, 3] -> [2, 5, 4, 6, 3]\n",
      "\tfor 3\n",
      "\tfor 4\n",
      "for 1\n",
      "\tfor 2\n",
      "\t\tswapping 5 4 data:[2, 5, 4, 6, 3] -> [2, 4, 5, 6, 3]\n",
      "\tfor 3\n",
      "\tfor 4\n",
      "\t\tswapping 4 3 data:[2, 4, 5, 6, 3] -> [2, 3, 5, 6, 4]\n",
      "for 2\n",
      "\tfor 3\n",
      "\tfor 4\n",
      "\t\tswapping 5 4 data:[2, 3, 5, 6, 4] -> [2, 3, 4, 6, 5]\n",
      "for 3\n",
      "\tfor 4\n",
      "\t\tswapping 6 5 data:[2, 3, 4, 6, 5] -> [2, 3, 4, 5, 6]\n",
      "for 4\n",
      "after sorting [2, 3, 4, 5, 6]\n"
     ]
    }
   ],
   "source": [
    "x=[5,4,2,6,3]\n",
    "print \"before sorting\",x\n",
    "xlen=len(x)\n",
    "for i in range(0,xlen):\n",
    "    print \"for {}\".format(i)\n",
    "    for j in range(i+1,xlen):\n",
    "        print \"\\tfor {}\".format(j)\n",
    "        if x[i] > x[j]:\n",
    "            print \"\\t\\tswapping {} {} data:{} ->\".format(x[i],x[j],x),\n",
    "            temp=x[i]\n",
    "            x[i]=x[j]\n",
    "            x[j]=temp\n",
    "            print \"{0}\".format(x)\n",
    "print \"after sorting\",x"
   ]
  },
  {
   "cell_type": "markdown",
   "metadata": {},
   "source": [
    "### swap의 문제\n",
    "\n",
    "* 함수 내의 값 변경은 지역의 문제\n",
    "* 배열은 지역에서 변경하면 그 밖에도 영향을 미친다??\n",
    "* 결과는 정렬이 되지 않음."
   ]
  },
  {
   "cell_type": "code",
   "execution_count": 29,
   "metadata": {
    "collapsed": false
   },
   "outputs": [
    {
     "name": "stdout",
     "output_type": "stream",
     "text": [
      "for 0\n",
      "\tfor 1\n",
      "\t\tswapping 5 <-> 4 \tdata:[5, 4, 2, 6, 3] -> [5, 4, 2, 6, 3]\n",
      "\tfor 2\n",
      "\t\tswapping 5 <-> 2 \tdata:[5, 4, 2, 6, 3] -> [5, 4, 2, 6, 3]\n",
      "\tfor 3\n",
      "\tfor 4\n",
      "\t\tswapping 5 <-> 3 \tdata:[5, 4, 2, 6, 3] -> [5, 4, 2, 6, 3]\n",
      "for 1\n",
      "\tfor 2\n",
      "\t\tswapping 4 <-> 2 \tdata:[5, 4, 2, 6, 3] -> [5, 4, 2, 6, 3]\n",
      "\tfor 3\n",
      "\tfor 4\n",
      "\t\tswapping 4 <-> 3 \tdata:[5, 4, 2, 6, 3] -> [5, 4, 2, 6, 3]\n",
      "for 2\n",
      "\tfor 3\n",
      "\tfor 4\n",
      "for 3\n",
      "\tfor 4\n",
      "\t\tswapping 6 <-> 3 \tdata:[5, 4, 2, 6, 3] -> [5, 4, 2, 6, 3]\n",
      "for 4\n",
      "[5, 4, 2, 6, 3]\n"
     ]
    }
   ],
   "source": [
    "def swap(x,y):\n",
    "    temp=x\n",
    "    x=y\n",
    "    y=temp\n",
    "def selectionSort(x):\n",
    "    xlen=len(x)\n",
    "    for i in range(0,xlen):\n",
    "        print \"for {}\".format(i)\n",
    "        for j in range(i+1,xlen):\n",
    "            print \"\\tfor {0}\".format(j)\n",
    "            if x[i] > x[j]:\n",
    "                print \"\\t\\tswapping {} <-> {} \\tdata:{} ->\".format(x[i],x[j],x),\n",
    "                swap(x[i],x[j])\n",
    "                print \"{}\".format(x)\n",
    "    return x\n",
    "data=[5,4,2,6,3]\n",
    "print selectionSort(data)"
   ]
  },
  {
   "cell_type": "markdown",
   "metadata": {},
   "source": [
    "### swap함수를 교체하고 실행"
   ]
  },
  {
   "cell_type": "code",
   "execution_count": 25,
   "metadata": {
    "collapsed": false
   },
   "outputs": [
    {
     "name": "stdout",
     "output_type": "stream",
     "text": [
      "for 0\n",
      "\tfor 1\n",
      "\t\tswapping 5 <-> 4 \tdata:[5, 4, 2, 6, 3] -> [4, 5, 2, 6, 3]\n",
      "\tfor 2\n",
      "\t\tswapping 4 <-> 2 \tdata:[4, 5, 2, 6, 3] -> [2, 5, 4, 6, 3]\n",
      "\tfor 3\n",
      "\tfor 4\n",
      "for 1\n",
      "\tfor 2\n",
      "\t\tswapping 5 <-> 4 \tdata:[2, 5, 4, 6, 3] -> [2, 4, 5, 6, 3]\n",
      "\tfor 3\n",
      "\tfor 4\n",
      "\t\tswapping 4 <-> 3 \tdata:[2, 4, 5, 6, 3] -> [2, 3, 5, 6, 4]\n",
      "for 2\n",
      "\tfor 3\n",
      "\tfor 4\n",
      "\t\tswapping 5 <-> 4 \tdata:[2, 3, 5, 6, 4] -> [2, 3, 4, 6, 5]\n",
      "for 3\n",
      "\tfor 4\n",
      "\t\tswapping 6 <-> 5 \tdata:[2, 3, 4, 6, 5] -> [2, 3, 4, 5, 6]\n",
      "for 4\n",
      "answer: [2, 3, 4, 5, 6]\n"
     ]
    }
   ],
   "source": [
    "def swap(aList,i,j):\n",
    "    temp=aList[i]\n",
    "    aList[i]=aList[j]\n",
    "    aList[j]=temp\n",
    "def selectionSort(x):\n",
    "    xlen=len(x)\n",
    "    for i in range(0,xlen):\n",
    "        print \"for {}\".format(i)\n",
    "        for j in range(i+1,xlen):\n",
    "            print \"\\tfor {0}\".format(j)\n",
    "            if x[i] > x[j]:\n",
    "                print \"\\t\\tswapping {} <-> {} \\tdata:{} ->\".format(x[i],x[j],x),\n",
    "                swap(x,i,j)\n",
    "                print \"{}\".format(x)\n",
    "    return x\n",
    "data=[5,4,2,6,3]\n",
    "sortedList=selectionSort(data)\n",
    "print \"answer:\",sortedList"
   ]
  },
  {
   "cell_type": "markdown",
   "metadata": {},
   "source": [
    "## 알고리즘-5: insertion sort\n",
    "\n",
    "* see wiki (for graphical flowchart)\n",
    "* 번호가 적힌 공이 일렬로 세워져 있다고 가정하고, 순서대로 정렬하는 문제\n",
    "* '정렬되어 있는 그룹'과 '정렬되어 있지 않은 그룹'으로 구분.\n",
    "    1. 공2번을 선택\n",
    "    2. 왼쪽으로 진행하면서 공1번과 비교해서 순서가 올바르지 않으면 순서를 바꿈.\n",
    "    3. 이를 끝까지 계속함. (왼쪽은 정렬, 오른쪽은 비정렬)\n",
    "    4. 다음 공3번을 선택하고 순서1로 가서 반복함.\n",
    "    5. 더 이상 순서를 바꿀 필요가 없을 때까지 계속 (즉, 비정렬그룹에 공이 남아있지 않을 때까지)\n",
    "* 입출력\n",
    "    * 입력: unordered data\n",
    "    * 출력: ordered data\n",
    "* 주의:\n",
    "    * 정렬할 공은 하나씩 오른쪽으로, 비교는 하나씩 왼쪽으로. 왼쪽은 정렬, 오른쪽은 비정렬.\n",
    "    * 데이터 교환이 파이썬 방식\n",
    "    ```\n",
    "    a,b=b,a\n",
    "    ```\n",
    "\n",
    "* 비정렬그룹에서 정렬된 그룹에 순서를 정해서 넣는다고 해서, insertion sort."
   ]
  },
  {
   "cell_type": "code",
   "execution_count": 16,
   "metadata": {
    "collapsed": false
   },
   "outputs": [
    {
     "data": {
      "image/svg+xml": [
       "<svg height=\"327px\" style=\"width:307px;height:327px;\" version=\"1.1\" viewBox=\"0 0 307 327\" width=\"307px\" xmlns=\"http://www.w3.org/2000/svg\" xmlns:xlink=\"http://www.w3.org/1999/xlink\"><defs><filter height=\"300%\" id=\"f1\" width=\"300%\" x=\"-1\" y=\"-1\"><feGaussianBlur result=\"blurOut\" stdDeviation=\"2.0\"/><feColorMatrix in=\"blurOut\" result=\"blurOut2\" type=\"matrix\" values=\"0 0 0 0 0 0 0 0 0 0 0 0 0 0 0 0 0 0 .4 0\"/><feOffset dx=\"4.0\" dy=\"4.0\" in=\"blurOut2\" result=\"blurOut3\"/><feBlend in=\"SourceGraphic\" in2=\"blurOut3\" mode=\"normal\"/></filter></defs><g><ellipse cx=\"197.5\" cy=\"20\" fill=\"#000000\" filter=\"url(#f1)\" rx=\"10\" ry=\"10\" style=\"stroke: none; stroke-width: 1.0;\"/><polygon fill=\"#FEFECE\" filter=\"url(#f1)\" points=\"159.5,138,235.5,138,247.5,150,235.5,162,159.5,162,147.5,150,159.5,138\" style=\"stroke: #A80036; stroke-width: 1.5;\"/><text fill=\"#000000\" font-family=\"sans-serif\" font-size=\"11\" lengthAdjust=\"spacingAndGlyphs\" textLength=\"76\" x=\"159.5\" y=\"154.1572\">list[j-1]&gt;list[j]</text><rect fill=\"#FEFECE\" filter=\"url(#f1)\" height=\"34.1328\" rx=\"12.5\" ry=\"12.5\" style=\"stroke: #A80036; stroke-width: 1.5;\" width=\"155\" x=\"60\" y=\"172\"/><text fill=\"#000000\" font-family=\"sans-serif\" font-size=\"12\" lengthAdjust=\"spacingAndGlyphs\" textLength=\"135\" x=\"70\" y=\"193.6016\">swap list[j-1] and list[j]</text><polygon fill=\"#FEFECE\" filter=\"url(#f1)\" points=\"197.5,212.1328,209.5,224.1328,197.5,236.1328,185.5,224.1328,197.5,212.1328\" style=\"stroke: #A80036; stroke-width: 1.5;\"/><polygon fill=\"#FEFECE\" filter=\"url(#f1)\" points=\"183.5,94,211.5,94,223.5,106,211.5,118,183.5,118,171.5,106,183.5,94\" style=\"stroke: #A80036; stroke-width: 1.5;\"/><text fill=\"#000000\" font-family=\"sans-serif\" font-size=\"11\" lengthAdjust=\"spacingAndGlyphs\" textLength=\"28\" x=\"183.5\" y=\"110.1572\">j=i..1</text><polygon fill=\"#FEFECE\" filter=\"url(#f1)\" points=\"175,50,220,50,232,62,220,74,175,74,163,62,175,50\" style=\"stroke: #A80036; stroke-width: 1.5;\"/><text fill=\"#000000\" font-family=\"sans-serif\" font-size=\"11\" lengthAdjust=\"spacingAndGlyphs\" textLength=\"45\" x=\"175\" y=\"66.1572\">i=2..end</text><ellipse cx=\"197.5\" cy=\"310.1328\" fill=\"none\" filter=\"url(#f1)\" rx=\"10\" ry=\"10\" style=\"stroke: #000000; stroke-width: 1.0;\"/><ellipse cx=\"198\" cy=\"310.6328\" fill=\"#000000\" filter=\"url(#f1)\" rx=\"6\" ry=\"6\" style=\"stroke: none; stroke-width: 1.0;\"/><line style=\"stroke: #A80036; stroke-width: 1.5;\" x1=\"147.5\" x2=\"137.5\" y1=\"150\" y2=\"150\"/><line style=\"stroke: #A80036; stroke-width: 1.5;\" x1=\"137.5\" x2=\"137.5\" y1=\"150\" y2=\"172\"/><polygon fill=\"#A80036\" points=\"133.5,162,137.5,172,141.5,162,137.5,166\" style=\"stroke: #A80036; stroke-width: 1.0;\"/><line style=\"stroke: #A80036; stroke-width: 1.5;\" x1=\"247.5\" x2=\"257.5\" y1=\"150\" y2=\"150\"/><polygon fill=\"#A80036\" points=\"253.5,177.0664,257.5,187.0664,261.5,177.0664,257.5,181.0664\" style=\"stroke: #A80036; stroke-width: 1.5;\"/><line style=\"stroke: #A80036; stroke-width: 1.5;\" x1=\"257.5\" x2=\"257.5\" y1=\"150\" y2=\"224.1328\"/><line style=\"stroke: #A80036; stroke-width: 1.5;\" x1=\"257.5\" x2=\"209.5\" y1=\"224.1328\" y2=\"224.1328\"/><polygon fill=\"#A80036\" points=\"219.5,220.1328,209.5,224.1328,219.5,228.1328,215.5,224.1328\" style=\"stroke: #A80036; stroke-width: 1.0;\"/><line style=\"stroke: #A80036; stroke-width: 1.5;\" x1=\"137.5\" x2=\"137.5\" y1=\"206.1328\" y2=\"224.1328\"/><line style=\"stroke: #A80036; stroke-width: 1.5;\" x1=\"137.5\" x2=\"185.5\" y1=\"224.1328\" y2=\"224.1328\"/><polygon fill=\"#A80036\" points=\"175.5,220.1328,185.5,224.1328,175.5,228.1328,179.5,224.1328\" style=\"stroke: #A80036; stroke-width: 1.0;\"/><line style=\"stroke: #A80036; stroke-width: 1.5;\" x1=\"197.5\" x2=\"197.5\" y1=\"118\" y2=\"138\"/><polygon fill=\"#A80036\" points=\"193.5,128,197.5,138,201.5,128,197.5,132\" style=\"stroke: #A80036; stroke-width: 1.0;\"/><line style=\"stroke: #A80036; stroke-width: 1.5;\" x1=\"197.5\" x2=\"197.5\" y1=\"236.1328\" y2=\"246.1328\"/><line style=\"stroke: #A80036; stroke-width: 1.5;\" x1=\"197.5\" x2=\"294.5\" y1=\"246.1328\" y2=\"246.1328\"/><polygon fill=\"#A80036\" points=\"290.5,185.0664,294.5,175.0664,298.5,185.0664,294.5,181.0664\" style=\"stroke: #A80036; stroke-width: 1.5;\"/><line style=\"stroke: #A80036; stroke-width: 1.5;\" x1=\"294.5\" x2=\"294.5\" y1=\"106\" y2=\"246.1328\"/><line style=\"stroke: #A80036; stroke-width: 1.5;\" x1=\"294.5\" x2=\"223.5\" y1=\"106\" y2=\"106\"/><polygon fill=\"#A80036\" points=\"233.5,102,223.5,106,233.5,110,229.5,106\" style=\"stroke: #A80036; stroke-width: 1.0;\"/><line style=\"stroke: #A80036; stroke-width: 1.5;\" x1=\"171.5\" x2=\"38\" y1=\"106\" y2=\"106\"/><polygon fill=\"#A80036\" points=\"34,171.0664,38,181.0664,42,171.0664,38,175.0664\" style=\"stroke: #A80036; stroke-width: 1.5;\"/><line style=\"stroke: #A80036; stroke-width: 1.5;\" x1=\"38\" x2=\"38\" y1=\"106\" y2=\"258.1328\"/><line style=\"stroke: #A80036; stroke-width: 1.5;\" x1=\"38\" x2=\"306.5\" y1=\"258.1328\" y2=\"258.1328\"/><line style=\"stroke: #A80036; stroke-width: 1.5;\" x1=\"306.5\" x2=\"306.5\" y1=\"62\" y2=\"258.1328\"/><line style=\"stroke: #A80036; stroke-width: 1.5;\" x1=\"306.5\" x2=\"232\" y1=\"62\" y2=\"62\"/><polygon fill=\"#A80036\" points=\"242,58,232,62,242,66,238,62\" style=\"stroke: #A80036; stroke-width: 1.0;\"/><line style=\"stroke: #A80036; stroke-width: 1.5;\" x1=\"197.5\" x2=\"197.5\" y1=\"74\" y2=\"94\"/><polygon fill=\"#A80036\" points=\"193.5,84,197.5,94,201.5,84,197.5,88\" style=\"stroke: #A80036; stroke-width: 1.0;\"/><line style=\"stroke: #A80036; stroke-width: 1.5;\" x1=\"163\" x2=\"14\" y1=\"62\" y2=\"62\"/><polygon fill=\"#A80036\" points=\"10,159.0664,14,169.0664,18,159.0664,14,163.0664\" style=\"stroke: #A80036; stroke-width: 1.5;\"/><line style=\"stroke: #A80036; stroke-width: 1.5;\" x1=\"14\" x2=\"14\" y1=\"62\" y2=\"280.1328\"/><line style=\"stroke: #A80036; stroke-width: 1.5;\" x1=\"14\" x2=\"197.5\" y1=\"280.1328\" y2=\"280.1328\"/><line style=\"stroke: #A80036; stroke-width: 1.5;\" x1=\"197.5\" x2=\"197.5\" y1=\"280.1328\" y2=\"300.1328\"/><polygon fill=\"#A80036\" points=\"193.5,290.1328,197.5,300.1328,201.5,290.1328,197.5,294.1328\" style=\"stroke: #A80036; stroke-width: 1.0;\"/><line style=\"stroke: #A80036; stroke-width: 1.5;\" x1=\"197.5\" x2=\"197.5\" y1=\"30\" y2=\"50\"/><polygon fill=\"#A80036\" points=\"193.5,40,197.5,50,201.5,40,197.5,44\" style=\"stroke: #A80036; stroke-width: 1.0;\"/></g></svg>"
      ],
      "text/plain": [
       "<IPython.core.display.SVG object>"
      ]
     },
     "execution_count": 16,
     "metadata": {},
     "output_type": "execute_result"
    }
   ],
   "source": [
    "%%plantuml\n",
    "@startuml\n",
    "start\n",
    "while(i=2..end)\n",
    "while(j=i..1)\n",
    "if (list[j-1]>list[j])\n",
    ":swap list[j-1] and list[j];\n",
    "endif\n",
    "endwhile\n",
    "endwhile\n",
    "stop\n",
    "@enduml"
   ]
  },
  {
   "cell_type": "code",
   "execution_count": 23,
   "metadata": {
    "collapsed": false
   },
   "outputs": [
    {
     "name": "stdout",
     "output_type": "stream",
     "text": [
      "for 1\n",
      "\tfor 1\n",
      "\t\tswapping 4 <-> 5\tdata[5, 4, 2, 6, 3] -> [4, 5, 2, 6, 3]\n",
      "for 2\n",
      "\tfor 2\n",
      "\t\tswapping 2 <-> 5\tdata[4, 5, 2, 6, 3] -> [4, 2, 5, 6, 3]\n",
      "\tfor 1\n",
      "\t\tswapping 2 <-> 4\tdata[4, 2, 5, 6, 3] -> [2, 4, 5, 6, 3]\n",
      "for 3\n",
      "\tfor 3\n",
      "\tfor 2\n",
      "\tfor 1\n",
      "for 4\n",
      "\tfor 4\n",
      "\t\tswapping 3 <-> 6\tdata[2, 4, 5, 6, 3] -> [2, 4, 5, 3, 6]\n",
      "\tfor 3\n",
      "\t\tswapping 3 <-> 5\tdata[2, 4, 5, 3, 6] -> [2, 4, 3, 5, 6]\n",
      "\tfor 2\n",
      "\t\tswapping 3 <-> 4\tdata[2, 4, 3, 5, 6] -> [2, 3, 4, 5, 6]\n",
      "\tfor 1\n",
      "[2, 3, 4, 5, 6]\n"
     ]
    }
   ],
   "source": [
    "def insertionSort1(data):\n",
    "    for i in range(1, len(data)):\n",
    "        print \"for {}\".format(i)\n",
    "        for j in range(i,0,-1):\n",
    "            print \"\\tfor {}\".format(j)\n",
    "            if data[j-1] > data[j]:\n",
    "                print \"\\t\\tswapping {} <-> {}\\tdata{} ->\".format(data[j],data[j-1],data),\n",
    "                data[j-1], data[j] = data[j], data[j-1]\n",
    "                print \"{}\".format(data)\n",
    "    return data\n",
    "x=[5,4,2,6,3]\n",
    "print insertionSort1(x)"
   ]
  },
  {
   "cell_type": "code",
   "execution_count": 24,
   "metadata": {
    "collapsed": false
   },
   "outputs": [
    {
     "name": "stdout",
     "output_type": "stream",
     "text": [
      "for 1\n",
      "\tswapping 4 <-> 5\tdata[5, 4, 2, 6, 3] -> [4, 5, 2, 6, 3]\n",
      "for 2\n",
      "\tswapping 2 <-> 5\tdata[4, 5, 2, 6, 3] -> [4, 2, 5, 6, 3]\n",
      "\tswapping 2 <-> 4\tdata[4, 2, 5, 6, 3] -> [2, 4, 5, 6, 3]\n",
      "for 3\n",
      "for 4\n",
      "\tswapping 3 <-> 6\tdata[2, 4, 5, 6, 3] -> [2, 4, 5, 3, 6]\n",
      "\tswapping 3 <-> 5\tdata[2, 4, 5, 3, 6] -> [2, 4, 3, 5, 6]\n",
      "\tswapping 3 <-> 4\tdata[2, 4, 3, 5, 6] -> [2, 3, 4, 5, 6]\n",
      "[2, 3, 4, 5, 6]\n"
     ]
    }
   ],
   "source": [
    "def insertionSort2(data):\n",
    "    for i in range(1, len(data)):\n",
    "        print \"for {}\".format(i)\n",
    "        j = i\n",
    "        while j > 0 and data[j] < data[j-1]:\n",
    "            print \"\\tswapping {} <-> {}\\tdata{} ->\".format(data[j],data[j-1],data),\n",
    "            data[j], data[j-1] = data[j-1], data[j]\n",
    "            print \"{}\".format(data)\n",
    "            j -= 1\n",
    "    return data\n",
    "x=[5,4,2,6,3]\n",
    "print insertionSort2(x)"
   ]
  },
  {
   "cell_type": "markdown",
   "metadata": {},
   "source": [
    "## 알고리즘-6: bubble sort\n",
    "\n",
    "* 번호가 적힌 공이 일렬로 세워져 있다고 가정하고, 순서대로 정렬하는 문제\n",
    "    1. 맨 왼쪽에 있는 공부터 시작해서,\n",
    "    2. 맨 왼쪽 공1번과 공2번을 비교해서 순서가 올바르지 않으면 순서를 바꿈.\n",
    "    3. 공2번과 공3번을 비교해서 순서가 올바르지 않으면 순서를 바꿈.\n",
    "    4. 이를 끝까지 계속함 (맨 오른쪽은 할 필요 없슴 - 그 다음 공이 없기 때문에)\n",
    "    5. 순서1로 가서 반복함.\n",
    "    6. 더 이상 순서를 바꿀 필요가 없을 때까지 계속\n",
    "* 입출력\n",
    "    * 입력: unordered data\n",
    "    * 출력: ordered data\n",
    "* 주의:\n",
    "    * 매 반복마다, 제일 큰(무거운) 번호가 맨 오른쪽으로 이동하기 때문에, 하나씩 반복을 생략함.\n",
    "    * 데이터 교환이 파이썬 방식\n",
    "    ```\n",
    "    a,b=b,a\n",
    "    ```\n",
    "\n",
    "* 무거운 것이 아래로 가고, 가벼운 것이 위로 가는 비유를 해서 bubble sort.\n"
   ]
  },
  {
   "cell_type": "code",
   "execution_count": 17,
   "metadata": {
    "collapsed": false
   },
   "outputs": [
    {
     "data": {
      "image/svg+xml": [
       "<svg height=\"327px\" style=\"width:312px;height:327px;\" version=\"1.1\" viewBox=\"0 0 312 327\" width=\"312px\" xmlns=\"http://www.w3.org/2000/svg\" xmlns:xlink=\"http://www.w3.org/1999/xlink\"><defs><filter height=\"300%\" id=\"f1\" width=\"300%\" x=\"-1\" y=\"-1\"><feGaussianBlur result=\"blurOut\" stdDeviation=\"2.0\"/><feColorMatrix in=\"blurOut\" result=\"blurOut2\" type=\"matrix\" values=\"0 0 0 0 0 0 0 0 0 0 0 0 0 0 0 0 0 0 .4 0\"/><feOffset dx=\"4.0\" dy=\"4.0\" in=\"blurOut2\" result=\"blurOut3\"/><feBlend in=\"SourceGraphic\" in2=\"blurOut3\" mode=\"normal\"/></filter></defs><g><ellipse cx=\"200.5\" cy=\"20\" fill=\"#000000\" filter=\"url(#f1)\" rx=\"10\" ry=\"10\" style=\"stroke: none; stroke-width: 1.0;\"/><polygon fill=\"#FEFECE\" filter=\"url(#f1)\" points=\"161,138,240,138,252,150,240,162,161,162,149,150,161,138\" style=\"stroke: #A80036; stroke-width: 1.5;\"/><text fill=\"#000000\" font-family=\"sans-serif\" font-size=\"11\" lengthAdjust=\"spacingAndGlyphs\" textLength=\"79\" x=\"161\" y=\"154.1572\">list[j]&gt;list[j+1]</text><rect fill=\"#FEFECE\" filter=\"url(#f1)\" height=\"34.1328\" rx=\"12.5\" ry=\"12.5\" style=\"stroke: #A80036; stroke-width: 1.5;\" width=\"158\" x=\"60\" y=\"172\"/><text fill=\"#000000\" font-family=\"sans-serif\" font-size=\"12\" lengthAdjust=\"spacingAndGlyphs\" textLength=\"138\" x=\"70\" y=\"193.6016\">swap list[j] and list[j+1]</text><polygon fill=\"#FEFECE\" filter=\"url(#f1)\" points=\"200.5,212.1328,212.5,224.1328,200.5,236.1328,188.5,224.1328,200.5,212.1328\" style=\"stroke: #A80036; stroke-width: 1.5;\"/><polygon fill=\"#FEFECE\" filter=\"url(#f1)\" points=\"163,94,238,94,250,106,238,118,163,118,151,106,163,94\" style=\"stroke: #A80036; stroke-width: 1.5;\"/><text fill=\"#000000\" font-family=\"sans-serif\" font-size=\"11\" lengthAdjust=\"spacingAndGlyphs\" textLength=\"75\" x=\"163\" y=\"110.1572\">j=1..(end-1-i)</text><polygon fill=\"#FEFECE\" filter=\"url(#f1)\" points=\"178,50,223,50,235,62,223,74,178,74,166,62,178,50\" style=\"stroke: #A80036; stroke-width: 1.5;\"/><text fill=\"#000000\" font-family=\"sans-serif\" font-size=\"11\" lengthAdjust=\"spacingAndGlyphs\" textLength=\"45\" x=\"178\" y=\"66.1572\">i=1..end</text><ellipse cx=\"200.5\" cy=\"310.1328\" fill=\"none\" filter=\"url(#f1)\" rx=\"10\" ry=\"10\" style=\"stroke: #000000; stroke-width: 1.0;\"/><ellipse cx=\"201\" cy=\"310.6328\" fill=\"#000000\" filter=\"url(#f1)\" rx=\"6\" ry=\"6\" style=\"stroke: none; stroke-width: 1.0;\"/><line style=\"stroke: #A80036; stroke-width: 1.5;\" x1=\"149\" x2=\"139\" y1=\"150\" y2=\"150\"/><line style=\"stroke: #A80036; stroke-width: 1.5;\" x1=\"139\" x2=\"139\" y1=\"150\" y2=\"172\"/><polygon fill=\"#A80036\" points=\"135,162,139,172,143,162,139,166\" style=\"stroke: #A80036; stroke-width: 1.0;\"/><line style=\"stroke: #A80036; stroke-width: 1.5;\" x1=\"252\" x2=\"262\" y1=\"150\" y2=\"150\"/><polygon fill=\"#A80036\" points=\"258,177.0664,262,187.0664,266,177.0664,262,181.0664\" style=\"stroke: #A80036; stroke-width: 1.5;\"/><line style=\"stroke: #A80036; stroke-width: 1.5;\" x1=\"262\" x2=\"262\" y1=\"150\" y2=\"224.1328\"/><line style=\"stroke: #A80036; stroke-width: 1.5;\" x1=\"262\" x2=\"212.5\" y1=\"224.1328\" y2=\"224.1328\"/><polygon fill=\"#A80036\" points=\"222.5,220.1328,212.5,224.1328,222.5,228.1328,218.5,224.1328\" style=\"stroke: #A80036; stroke-width: 1.0;\"/><line style=\"stroke: #A80036; stroke-width: 1.5;\" x1=\"139\" x2=\"139\" y1=\"206.1328\" y2=\"224.1328\"/><line style=\"stroke: #A80036; stroke-width: 1.5;\" x1=\"139\" x2=\"188.5\" y1=\"224.1328\" y2=\"224.1328\"/><polygon fill=\"#A80036\" points=\"178.5,220.1328,188.5,224.1328,178.5,228.1328,182.5,224.1328\" style=\"stroke: #A80036; stroke-width: 1.0;\"/><line style=\"stroke: #A80036; stroke-width: 1.5;\" x1=\"200.5\" x2=\"200.5\" y1=\"118\" y2=\"138\"/><polygon fill=\"#A80036\" points=\"196.5,128,200.5,138,204.5,128,200.5,132\" style=\"stroke: #A80036; stroke-width: 1.0;\"/><line style=\"stroke: #A80036; stroke-width: 1.5;\" x1=\"200.5\" x2=\"200.5\" y1=\"236.1328\" y2=\"246.1328\"/><line style=\"stroke: #A80036; stroke-width: 1.5;\" x1=\"200.5\" x2=\"299\" y1=\"246.1328\" y2=\"246.1328\"/><polygon fill=\"#A80036\" points=\"295,185.0664,299,175.0664,303,185.0664,299,181.0664\" style=\"stroke: #A80036; stroke-width: 1.5;\"/><line style=\"stroke: #A80036; stroke-width: 1.5;\" x1=\"299\" x2=\"299\" y1=\"106\" y2=\"246.1328\"/><line style=\"stroke: #A80036; stroke-width: 1.5;\" x1=\"299\" x2=\"250\" y1=\"106\" y2=\"106\"/><polygon fill=\"#A80036\" points=\"260,102,250,106,260,110,256,106\" style=\"stroke: #A80036; stroke-width: 1.0;\"/><line style=\"stroke: #A80036; stroke-width: 1.5;\" x1=\"151\" x2=\"38\" y1=\"106\" y2=\"106\"/><polygon fill=\"#A80036\" points=\"34,171.0664,38,181.0664,42,171.0664,38,175.0664\" style=\"stroke: #A80036; stroke-width: 1.5;\"/><line style=\"stroke: #A80036; stroke-width: 1.5;\" x1=\"38\" x2=\"38\" y1=\"106\" y2=\"258.1328\"/><line style=\"stroke: #A80036; stroke-width: 1.5;\" x1=\"38\" x2=\"311\" y1=\"258.1328\" y2=\"258.1328\"/><line style=\"stroke: #A80036; stroke-width: 1.5;\" x1=\"311\" x2=\"311\" y1=\"62\" y2=\"258.1328\"/><line style=\"stroke: #A80036; stroke-width: 1.5;\" x1=\"311\" x2=\"235\" y1=\"62\" y2=\"62\"/><polygon fill=\"#A80036\" points=\"245,58,235,62,245,66,241,62\" style=\"stroke: #A80036; stroke-width: 1.0;\"/><line style=\"stroke: #A80036; stroke-width: 1.5;\" x1=\"200.5\" x2=\"200.5\" y1=\"74\" y2=\"94\"/><polygon fill=\"#A80036\" points=\"196.5,84,200.5,94,204.5,84,200.5,88\" style=\"stroke: #A80036; stroke-width: 1.0;\"/><line style=\"stroke: #A80036; stroke-width: 1.5;\" x1=\"166\" x2=\"14\" y1=\"62\" y2=\"62\"/><polygon fill=\"#A80036\" points=\"10,159.0664,14,169.0664,18,159.0664,14,163.0664\" style=\"stroke: #A80036; stroke-width: 1.5;\"/><line style=\"stroke: #A80036; stroke-width: 1.5;\" x1=\"14\" x2=\"14\" y1=\"62\" y2=\"280.1328\"/><line style=\"stroke: #A80036; stroke-width: 1.5;\" x1=\"14\" x2=\"200.5\" y1=\"280.1328\" y2=\"280.1328\"/><line style=\"stroke: #A80036; stroke-width: 1.5;\" x1=\"200.5\" x2=\"200.5\" y1=\"280.1328\" y2=\"300.1328\"/><polygon fill=\"#A80036\" points=\"196.5,290.1328,200.5,300.1328,204.5,290.1328,200.5,294.1328\" style=\"stroke: #A80036; stroke-width: 1.0;\"/><line style=\"stroke: #A80036; stroke-width: 1.5;\" x1=\"200.5\" x2=\"200.5\" y1=\"30\" y2=\"50\"/><polygon fill=\"#A80036\" points=\"196.5,40,200.5,50,204.5,40,200.5,44\" style=\"stroke: #A80036; stroke-width: 1.0;\"/></g></svg>"
      ],
      "text/plain": [
       "<IPython.core.display.SVG object>"
      ]
     },
     "execution_count": 17,
     "metadata": {},
     "output_type": "execute_result"
    }
   ],
   "source": [
    "%%plantuml\n",
    "@startuml\n",
    "start\n",
    "while(i=1..end)\n",
    "while(j=1..(end-1-i))\n",
    "if (list[j]>list[j+1])\n",
    ":swap list[j] and list[j+1];\n",
    "endif\n",
    "endwhile\n",
    "endwhile\n",
    "stop\n",
    "@enduml"
   ]
  },
  {
   "cell_type": "code",
   "execution_count": 7,
   "metadata": {
    "collapsed": false
   },
   "outputs": [
    {
     "name": "stdout",
     "output_type": "stream",
     "text": [
      "for 0\n",
      "\tfor 0\n",
      "\t\tswapping 5 <-> 4\tdata[5, 4, 2, 6, 3] -> [4, 5, 2, 6, 3]\n",
      "\tfor 1\n",
      "\t\tswapping 5 <-> 2\tdata[4, 5, 2, 6, 3] -> [4, 2, 5, 6, 3]\n",
      "\tfor 2\n",
      "\tfor 3\n",
      "\t\tswapping 6 <-> 3\tdata[4, 2, 5, 6, 3] -> [4, 2, 5, 3, 6]\n",
      "for 1\n",
      "\tfor 0\n",
      "\t\tswapping 4 <-> 2\tdata[4, 2, 5, 3, 6] -> [2, 4, 5, 3, 6]\n",
      "\tfor 1\n",
      "\tfor 2\n",
      "\t\tswapping 5 <-> 3\tdata[2, 4, 5, 3, 6] -> [2, 4, 3, 5, 6]\n",
      "for 2\n",
      "\tfor 0\n",
      "\tfor 1\n",
      "\t\tswapping 4 <-> 3\tdata[2, 4, 3, 5, 6] -> [2, 3, 4, 5, 6]\n",
      "for 3\n",
      "\tfor 0\n",
      "for 4\n",
      "[2, 3, 4, 5, 6]\n"
     ]
    }
   ],
   "source": [
    "def bubbleSort(data):\n",
    "    for i in range(len(data)):\n",
    "        print \"for {}\".format(i)\n",
    "        for j in range(len(data)-1-i):\n",
    "            print \"\\tfor {}\".format(j)\n",
    "            if data[j] > data[j+1]:\n",
    "                print \"\\t\\tswapping {} <-> {}\\tdata{} ->\".format(data[j],data[j+1],data),\n",
    "                data[j], data[j+1] = data[j+1], data[j]\n",
    "                print \"{}\".format(data)\n",
    "    return data\n",
    "x=[5,4,2,6,3]\n",
    "print bubbleSort(x)"
   ]
  },
  {
   "cell_type": "code",
   "execution_count": 16,
   "metadata": {
    "collapsed": false
   },
   "outputs": [
    {
     "name": "stdout",
     "output_type": "stream",
     "text": [
      "[5, 4, 2, 6, 3]\n",
      "[5, 4, 2, 6]\n"
     ]
    }
   ],
   "source": [
    "x=[5,4,2,6,3]\n",
    "print x\n",
    "x.pop(4)\n",
    "print x"
   ]
  },
  {
   "cell_type": "markdown",
   "metadata": {},
   "source": [
    "## recursive\n",
    "\n",
    "자신을 이용해 자신을 정의하는 것\n",
    "Recursion means “defining something in terms of itself”"
   ]
  },
  {
   "cell_type": "code",
   "execution_count": null,
   "metadata": {
    "collapsed": true
   },
   "outputs": [],
   "source": []
  },
  {
   "cell_type": "code",
   "execution_count": 5,
   "metadata": {
    "collapsed": false
   },
   "outputs": [
    {
     "name": "stdout",
     "output_type": "stream",
     "text": [
      "\t5 \n",
      "\t4 \n",
      "\t3 \n",
      "\t2 \n",
      "\t1 \n",
      "if x 0\n",
      "120\n"
     ]
    }
   ],
   "source": [
    "# Level 2\n",
    "# recursive\n",
    "# answer: \n",
    "def fact(x):\n",
    "    if x==0:\n",
    "        return 1\n",
    "    print \"\\t{} \".format(x)\n",
    "    return x*fact(x-1)\n",
    "\n",
    "print fact(5)"
   ]
  },
  {
   "cell_type": "code",
   "execution_count": 13,
   "metadata": {
    "collapsed": false
   },
   "outputs": [
    {
     "name": "stdout",
     "output_type": "stream",
     "text": [
      "5050\n"
     ]
    }
   ],
   "source": [
    "def sum(x):\n",
    "    if x==0:\n",
    "        return 0\n",
    "    return x+sum(x-1)\n",
    "print sum(100)"
   ]
  },
  {
   "cell_type": "code",
   "execution_count": 10,
   "metadata": {
    "collapsed": false
   },
   "outputs": [
    {
     "name": "stdout",
     "output_type": "stream",
     "text": [
      "120\n"
     ]
    }
   ],
   "source": [
    "def fact(x):\n",
    "    fact=1\n",
    "    for i in range(1,x+1):\n",
    "        fact*=i\n",
    "    return fact\n",
    "print fact(5)"
   ]
  },
  {
   "cell_type": "markdown",
   "metadata": {},
   "source": [
    "## merge sort\n",
    "\n",
    "* Merge sort works by subdividing the the list into two sub-lists, sorting them using Merge sort and then merging them back up. As the recursive call is made to subdivide each list into a sublist, they will eventually reach the size of 1, which is technically a sorted list."
   ]
  },
  {
   "cell_type": "code",
   "execution_count": null,
   "metadata": {
    "collapsed": true
   },
   "outputs": [],
   "source": [
    "#1~10에서의 무작위 수 생성\n",
    "import random\n",
    "print int(random.random()*10)"
   ]
  },
  {
   "cell_type": "code",
   "execution_count": 12,
   "metadata": {
    "collapsed": false
   },
   "outputs": [
    {
     "name": "stdout",
     "output_type": "stream",
     "text": [
      "[2, 3, 4, 5, 6]\n"
     ]
    }
   ],
   "source": [
    "#import random\n",
    "\n",
    "#random_items = [random.randint(-50, 100) for c in range(32)]\n",
    "\n",
    "x=[5,4,2,6,3]\n",
    "def merge_sort(items):\n",
    "    \"\"\" Implementation of mergesort \"\"\"\n",
    "    if len(items) > 1:\n",
    "        mid = len(items) / 2        # Determine the midpoint and split\n",
    "        left = items[0:mid]\n",
    "        right = items[mid:]\n",
    "        merge_sort(left)            # Sort left list in-place\n",
    "        merge_sort(right)           # Sort right list in-place\n",
    "        l, r = 0, 0\n",
    "        for i in range(len(items)):     # Merging the left and right list\n",
    "\n",
    "            lval = left[l] if l < len(left) else None\n",
    "            rval = right[r] if r < len(right) else None\n",
    "\n",
    "            if (lval and rval and lval < rval) or rval is None:\n",
    "                items[i] = lval\n",
    "                l += 1\n",
    "            elif (lval and rval and lval >= rval) or lval is None:\n",
    "                items[i] = rval\n",
    "                r += 1\n",
    "            else:\n",
    "                raise Exception('Could not merge, sub arrays sizes do not match the main array')\n",
    "    return items\n",
    "print merge_sort(x)"
   ]
  },
  {
   "cell_type": "markdown",
   "metadata": {},
   "source": [
    "## 앍고리즘-7: sine, cos 그리기\n"
   ]
  },
  {
   "cell_type": "code",
   "execution_count": null,
   "metadata": {
    "collapsed": true
   },
   "outputs": [],
   "source": [
    "import math\n",
    "import turtle\n",
    "\n",
    "window=turtle.Screen()\n",
    "mySin=turtle.Turtle()\n",
    "myCos=turtle.Turtle()\n",
    "\n",
    "sinList=[]\n",
    "cosList=[]\n",
    "amp=100\n",
    "\n",
    "for x in range(0,1000,10):\n",
    "   sinList.append((x/10,amp*math.sin(math.radians(x))))\n",
    "   cosList.append((x/10,amp*math.cos(math.radians(x))))\n",
    "\n",
    "for x in range(0,len(sinList)):\n",
    "   myCos.setpos(cosList[x][0],cosList[x][1])\n",
    "   mySin.setpos(sinList[x][0],sinList[x][1])\n"
   ]
  },
  {
   "cell_type": "markdown",
   "metadata": {},
   "source": [
    "## 알고리즘-8: sierpinski"
   ]
  },
  {
   "cell_type": "code",
   "execution_count": null,
   "metadata": {
    "collapsed": true
   },
   "outputs": [],
   "source": [
    "import turtle\n",
    "def draw_sierpinski(length,depth):\n",
    "    if depth==0:\n",
    "        for i in range(0,3):\n",
    "            t.fd(length)\n",
    "            t.left(120)\n",
    "    else:\n",
    "        draw_sierpinski(length/2,depth-1)\n",
    "        t.fd(length/2)\n",
    "        draw_sierpinski(length/2,depth-1)\n",
    "        t.bk(length/2)\n",
    "        t.left(60)\n",
    "        t.fd(length/2)\n",
    "        t.right(60)\n",
    "        draw_sierpinski(length/2,depth-1)\n",
    "\n",
    "\n",
    "window = turtle.Screen()\n",
    "t = turtle.Turtle()\n",
    "draw_sierpinski(500,1)\n",
    "window.exitonclick()"
   ]
  },
  {
   "cell_type": "markdown",
   "metadata": {},
   "source": [
    "## 알고리즘-9: algorithmic 삼각형"
   ]
  },
  {
   "cell_type": "code",
   "execution_count": null,
   "metadata": {
    "collapsed": true
   },
   "outputs": [],
   "source": [
    "\n",
    "# triangle\n",
    "from turtle import color, begin_fill, forward, left, end_fill, done\n",
    "from math import acos, degrees\n",
    "\n",
    "def triangle_exists(a, b, c):\n",
    "    \"\"\"Return True iff there exists a triangle with sides a, b, c.\"\"\"\n",
    "    return a + b > c and b + c > a and c + a > b\n",
    "\n",
    "def triangle_angle(a, b, c):\n",
    "    \"\"\"Return the angle (in degrees) opposite the side of length a in the\n",
    "    triangle with sides a, b, c.\"\"\"\n",
    "    # See http://en.wikipedia.org/wiki/Law_of_cosines\n",
    "    return degrees(acos((b ** 2 + c ** 2 - a ** 2) / (2.0 * b * c)))\n",
    "\n",
    "def draw_triangle(a, b, c):\n",
    "    \"\"\"Draw a triangle with sides of lengths a, b, and c.\"\"\"\n",
    "    assert(triangle_exists(a, b, c))\n",
    "    color('black', 'yellow')\n",
    "    begin_fill()\n",
    "    forward(c)\n",
    "    left(180 - triangle_angle(b, c, a))\n",
    "    forward(a)\n",
    "    left(180 - triangle_angle(c, a, b))\n",
    "    forward(b)\n",
    "    end_fill()\n",
    "    done()\n",
    "\n",
    "draw_triangle(400, 350, 200)"
   ]
  }
 ],
 "metadata": {
  "kernelspec": {
   "display_name": "Python 2",
   "language": "python",
   "name": "python2"
  },
  "language_info": {
   "codemirror_mode": {
    "name": "ipython",
    "version": 2
   },
   "file_extension": ".py",
   "mimetype": "text/x-python",
   "name": "python",
   "nbconvert_exporter": "python",
   "pygments_lexer": "ipython2",
   "version": "2.7.10"
  }
 },
 "nbformat": 4,
 "nbformat_minor": 0
}
